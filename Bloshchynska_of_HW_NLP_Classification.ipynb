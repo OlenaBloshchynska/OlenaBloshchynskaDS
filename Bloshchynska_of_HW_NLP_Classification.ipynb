{
  "nbformat": 4,
  "nbformat_minor": 0,
  "metadata": {
    "colab": {
      "provenance": []
    },
    "kernelspec": {
      "name": "python3",
      "display_name": "Python 3"
    },
    "language_info": {
      "name": "python"
    }
  },
  "cells": [
    {
      "cell_type": "markdown",
      "source": [
        "# Домашнє завдання: Побудова класифікатора сентименту на основі набору даних Tweet Sentiment Extraction\n",
        "\n",
        "**Мета:** Провести аналіз набору даних, виконати векторизацію текстових даних за допомогою методів bag-of-words та TF-IDF, порівняти їх, побудувати класифікатор та провести аналіз помилок.\n",
        "\n",
        "**Набір даних:**\n",
        "Дані беремо з цього змагання на Kaggle: https://www.kaggle.com/competitions/tweet-sentiment-extraction/data?select=train.csv\n",
        "\n",
        "Оригінальне змагання має дещо іншу задачу, але ми будемо поки будувати саме класифікатор.\n",
        "\n",
        "### Завдання 1. Завантаження та ознайомлення з набором даних\n",
        "\n",
        "- Завантажте набір даних `train.csv` з посилання та ознайомтеся з його структурою.\n",
        "- Виведіть перші 5 рядків та основну статистику: кількість записів, типи колонок, кількість пропущених значень.\n",
        "- Видаліть записи, в яких є пропущені значення.\n",
        "\n"
      ],
      "metadata": {
        "id": "Zl1UHn4aRLMg"
      }
    },
    {
      "cell_type": "code",
      "source": [
        "from google.colab import drive\n",
        "drive.mount('/content/drive')"
      ],
      "metadata": {
        "id": "z9PAZcZgddHT",
        "colab": {
          "base_uri": "https://localhost:8080/"
        },
        "outputId": "1f9cc5a2-e5a1-4f4e-833d-6fc8c4987e24"
      },
      "execution_count": 1,
      "outputs": [
        {
          "output_type": "stream",
          "name": "stdout",
          "text": [
            "Drive already mounted at /content/drive; to attempt to forcibly remount, call drive.mount(\"/content/drive\", force_remount=True).\n"
          ]
        }
      ]
    },
    {
      "cell_type": "code",
      "source": [
        "import pandas as pd\n",
        "df = pd.read_csv('/content/drive/MyDrive/Colab Notebooks/train.csv')\n",
        "df.head()"
      ],
      "metadata": {
        "colab": {
          "base_uri": "https://localhost:8080/",
          "height": 206
        },
        "id": "s0WZeZrrizkd",
        "outputId": "3f3e8420-db79-40c2-8d5b-30943cd9ea17"
      },
      "execution_count": 5,
      "outputs": [
        {
          "output_type": "execute_result",
          "data": {
            "text/plain": [
              "       textID                                               text  \\\n",
              "0  cb774db0d1                I`d have responded, if I were going   \n",
              "1  549e992a42      Sooo SAD I will miss you here in San Diego!!!   \n",
              "2  088c60f138                          my boss is bullying me...   \n",
              "3  9642c003ef                     what interview! leave me alone   \n",
              "4  358bd9e861   Sons of ****, why couldn`t they put them on t...   \n",
              "\n",
              "                         selected_text sentiment  \n",
              "0  I`d have responded, if I were going   neutral  \n",
              "1                             Sooo SAD  negative  \n",
              "2                          bullying me  negative  \n",
              "3                       leave me alone  negative  \n",
              "4                        Sons of ****,  negative  "
            ],
            "text/html": [
              "\n",
              "  <div id=\"df-7b46b65c-c176-46a3-97b1-e90b65737a5d\" class=\"colab-df-container\">\n",
              "    <div>\n",
              "<style scoped>\n",
              "    .dataframe tbody tr th:only-of-type {\n",
              "        vertical-align: middle;\n",
              "    }\n",
              "\n",
              "    .dataframe tbody tr th {\n",
              "        vertical-align: top;\n",
              "    }\n",
              "\n",
              "    .dataframe thead th {\n",
              "        text-align: right;\n",
              "    }\n",
              "</style>\n",
              "<table border=\"1\" class=\"dataframe\">\n",
              "  <thead>\n",
              "    <tr style=\"text-align: right;\">\n",
              "      <th></th>\n",
              "      <th>textID</th>\n",
              "      <th>text</th>\n",
              "      <th>selected_text</th>\n",
              "      <th>sentiment</th>\n",
              "    </tr>\n",
              "  </thead>\n",
              "  <tbody>\n",
              "    <tr>\n",
              "      <th>0</th>\n",
              "      <td>cb774db0d1</td>\n",
              "      <td>I`d have responded, if I were going</td>\n",
              "      <td>I`d have responded, if I were going</td>\n",
              "      <td>neutral</td>\n",
              "    </tr>\n",
              "    <tr>\n",
              "      <th>1</th>\n",
              "      <td>549e992a42</td>\n",
              "      <td>Sooo SAD I will miss you here in San Diego!!!</td>\n",
              "      <td>Sooo SAD</td>\n",
              "      <td>negative</td>\n",
              "    </tr>\n",
              "    <tr>\n",
              "      <th>2</th>\n",
              "      <td>088c60f138</td>\n",
              "      <td>my boss is bullying me...</td>\n",
              "      <td>bullying me</td>\n",
              "      <td>negative</td>\n",
              "    </tr>\n",
              "    <tr>\n",
              "      <th>3</th>\n",
              "      <td>9642c003ef</td>\n",
              "      <td>what interview! leave me alone</td>\n",
              "      <td>leave me alone</td>\n",
              "      <td>negative</td>\n",
              "    </tr>\n",
              "    <tr>\n",
              "      <th>4</th>\n",
              "      <td>358bd9e861</td>\n",
              "      <td>Sons of ****, why couldn`t they put them on t...</td>\n",
              "      <td>Sons of ****,</td>\n",
              "      <td>negative</td>\n",
              "    </tr>\n",
              "  </tbody>\n",
              "</table>\n",
              "</div>\n",
              "    <div class=\"colab-df-buttons\">\n",
              "\n",
              "  <div class=\"colab-df-container\">\n",
              "    <button class=\"colab-df-convert\" onclick=\"convertToInteractive('df-7b46b65c-c176-46a3-97b1-e90b65737a5d')\"\n",
              "            title=\"Convert this dataframe to an interactive table.\"\n",
              "            style=\"display:none;\">\n",
              "\n",
              "  <svg xmlns=\"http://www.w3.org/2000/svg\" height=\"24px\" viewBox=\"0 -960 960 960\">\n",
              "    <path d=\"M120-120v-720h720v720H120Zm60-500h600v-160H180v160Zm220 220h160v-160H400v160Zm0 220h160v-160H400v160ZM180-400h160v-160H180v160Zm440 0h160v-160H620v160ZM180-180h160v-160H180v160Zm440 0h160v-160H620v160Z\"/>\n",
              "  </svg>\n",
              "    </button>\n",
              "\n",
              "  <style>\n",
              "    .colab-df-container {\n",
              "      display:flex;\n",
              "      gap: 12px;\n",
              "    }\n",
              "\n",
              "    .colab-df-convert {\n",
              "      background-color: #E8F0FE;\n",
              "      border: none;\n",
              "      border-radius: 50%;\n",
              "      cursor: pointer;\n",
              "      display: none;\n",
              "      fill: #1967D2;\n",
              "      height: 32px;\n",
              "      padding: 0 0 0 0;\n",
              "      width: 32px;\n",
              "    }\n",
              "\n",
              "    .colab-df-convert:hover {\n",
              "      background-color: #E2EBFA;\n",
              "      box-shadow: 0px 1px 2px rgba(60, 64, 67, 0.3), 0px 1px 3px 1px rgba(60, 64, 67, 0.15);\n",
              "      fill: #174EA6;\n",
              "    }\n",
              "\n",
              "    .colab-df-buttons div {\n",
              "      margin-bottom: 4px;\n",
              "    }\n",
              "\n",
              "    [theme=dark] .colab-df-convert {\n",
              "      background-color: #3B4455;\n",
              "      fill: #D2E3FC;\n",
              "    }\n",
              "\n",
              "    [theme=dark] .colab-df-convert:hover {\n",
              "      background-color: #434B5C;\n",
              "      box-shadow: 0px 1px 3px 1px rgba(0, 0, 0, 0.15);\n",
              "      filter: drop-shadow(0px 1px 2px rgba(0, 0, 0, 0.3));\n",
              "      fill: #FFFFFF;\n",
              "    }\n",
              "  </style>\n",
              "\n",
              "    <script>\n",
              "      const buttonEl =\n",
              "        document.querySelector('#df-7b46b65c-c176-46a3-97b1-e90b65737a5d button.colab-df-convert');\n",
              "      buttonEl.style.display =\n",
              "        google.colab.kernel.accessAllowed ? 'block' : 'none';\n",
              "\n",
              "      async function convertToInteractive(key) {\n",
              "        const element = document.querySelector('#df-7b46b65c-c176-46a3-97b1-e90b65737a5d');\n",
              "        const dataTable =\n",
              "          await google.colab.kernel.invokeFunction('convertToInteractive',\n",
              "                                                    [key], {});\n",
              "        if (!dataTable) return;\n",
              "\n",
              "        const docLinkHtml = 'Like what you see? Visit the ' +\n",
              "          '<a target=\"_blank\" href=https://colab.research.google.com/notebooks/data_table.ipynb>data table notebook</a>'\n",
              "          + ' to learn more about interactive tables.';\n",
              "        element.innerHTML = '';\n",
              "        dataTable['output_type'] = 'display_data';\n",
              "        await google.colab.output.renderOutput(dataTable, element);\n",
              "        const docLink = document.createElement('div');\n",
              "        docLink.innerHTML = docLinkHtml;\n",
              "        element.appendChild(docLink);\n",
              "      }\n",
              "    </script>\n",
              "  </div>\n",
              "\n",
              "\n",
              "<div id=\"df-ef2683d6-f408-44bd-8e05-aaf0814aaae6\">\n",
              "  <button class=\"colab-df-quickchart\" onclick=\"quickchart('df-ef2683d6-f408-44bd-8e05-aaf0814aaae6')\"\n",
              "            title=\"Suggest charts\"\n",
              "            style=\"display:none;\">\n",
              "\n",
              "<svg xmlns=\"http://www.w3.org/2000/svg\" height=\"24px\"viewBox=\"0 0 24 24\"\n",
              "     width=\"24px\">\n",
              "    <g>\n",
              "        <path d=\"M19 3H5c-1.1 0-2 .9-2 2v14c0 1.1.9 2 2 2h14c1.1 0 2-.9 2-2V5c0-1.1-.9-2-2-2zM9 17H7v-7h2v7zm4 0h-2V7h2v10zm4 0h-2v-4h2v4z\"/>\n",
              "    </g>\n",
              "</svg>\n",
              "  </button>\n",
              "\n",
              "<style>\n",
              "  .colab-df-quickchart {\n",
              "      --bg-color: #E8F0FE;\n",
              "      --fill-color: #1967D2;\n",
              "      --hover-bg-color: #E2EBFA;\n",
              "      --hover-fill-color: #174EA6;\n",
              "      --disabled-fill-color: #AAA;\n",
              "      --disabled-bg-color: #DDD;\n",
              "  }\n",
              "\n",
              "  [theme=dark] .colab-df-quickchart {\n",
              "      --bg-color: #3B4455;\n",
              "      --fill-color: #D2E3FC;\n",
              "      --hover-bg-color: #434B5C;\n",
              "      --hover-fill-color: #FFFFFF;\n",
              "      --disabled-bg-color: #3B4455;\n",
              "      --disabled-fill-color: #666;\n",
              "  }\n",
              "\n",
              "  .colab-df-quickchart {\n",
              "    background-color: var(--bg-color);\n",
              "    border: none;\n",
              "    border-radius: 50%;\n",
              "    cursor: pointer;\n",
              "    display: none;\n",
              "    fill: var(--fill-color);\n",
              "    height: 32px;\n",
              "    padding: 0;\n",
              "    width: 32px;\n",
              "  }\n",
              "\n",
              "  .colab-df-quickchart:hover {\n",
              "    background-color: var(--hover-bg-color);\n",
              "    box-shadow: 0 1px 2px rgba(60, 64, 67, 0.3), 0 1px 3px 1px rgba(60, 64, 67, 0.15);\n",
              "    fill: var(--button-hover-fill-color);\n",
              "  }\n",
              "\n",
              "  .colab-df-quickchart-complete:disabled,\n",
              "  .colab-df-quickchart-complete:disabled:hover {\n",
              "    background-color: var(--disabled-bg-color);\n",
              "    fill: var(--disabled-fill-color);\n",
              "    box-shadow: none;\n",
              "  }\n",
              "\n",
              "  .colab-df-spinner {\n",
              "    border: 2px solid var(--fill-color);\n",
              "    border-color: transparent;\n",
              "    border-bottom-color: var(--fill-color);\n",
              "    animation:\n",
              "      spin 1s steps(1) infinite;\n",
              "  }\n",
              "\n",
              "  @keyframes spin {\n",
              "    0% {\n",
              "      border-color: transparent;\n",
              "      border-bottom-color: var(--fill-color);\n",
              "      border-left-color: var(--fill-color);\n",
              "    }\n",
              "    20% {\n",
              "      border-color: transparent;\n",
              "      border-left-color: var(--fill-color);\n",
              "      border-top-color: var(--fill-color);\n",
              "    }\n",
              "    30% {\n",
              "      border-color: transparent;\n",
              "      border-left-color: var(--fill-color);\n",
              "      border-top-color: var(--fill-color);\n",
              "      border-right-color: var(--fill-color);\n",
              "    }\n",
              "    40% {\n",
              "      border-color: transparent;\n",
              "      border-right-color: var(--fill-color);\n",
              "      border-top-color: var(--fill-color);\n",
              "    }\n",
              "    60% {\n",
              "      border-color: transparent;\n",
              "      border-right-color: var(--fill-color);\n",
              "    }\n",
              "    80% {\n",
              "      border-color: transparent;\n",
              "      border-right-color: var(--fill-color);\n",
              "      border-bottom-color: var(--fill-color);\n",
              "    }\n",
              "    90% {\n",
              "      border-color: transparent;\n",
              "      border-bottom-color: var(--fill-color);\n",
              "    }\n",
              "  }\n",
              "</style>\n",
              "\n",
              "  <script>\n",
              "    async function quickchart(key) {\n",
              "      const quickchartButtonEl =\n",
              "        document.querySelector('#' + key + ' button');\n",
              "      quickchartButtonEl.disabled = true;  // To prevent multiple clicks.\n",
              "      quickchartButtonEl.classList.add('colab-df-spinner');\n",
              "      try {\n",
              "        const charts = await google.colab.kernel.invokeFunction(\n",
              "            'suggestCharts', [key], {});\n",
              "      } catch (error) {\n",
              "        console.error('Error during call to suggestCharts:', error);\n",
              "      }\n",
              "      quickchartButtonEl.classList.remove('colab-df-spinner');\n",
              "      quickchartButtonEl.classList.add('colab-df-quickchart-complete');\n",
              "    }\n",
              "    (() => {\n",
              "      let quickchartButtonEl =\n",
              "        document.querySelector('#df-ef2683d6-f408-44bd-8e05-aaf0814aaae6 button');\n",
              "      quickchartButtonEl.style.display =\n",
              "        google.colab.kernel.accessAllowed ? 'block' : 'none';\n",
              "    })();\n",
              "  </script>\n",
              "</div>\n",
              "\n",
              "    </div>\n",
              "  </div>\n"
            ],
            "application/vnd.google.colaboratory.intrinsic+json": {
              "type": "dataframe",
              "variable_name": "df",
              "summary": "{\n  \"name\": \"df\",\n  \"rows\": 27481,\n  \"fields\": [\n    {\n      \"column\": \"textID\",\n      \"properties\": {\n        \"dtype\": \"string\",\n        \"num_unique_values\": 27481,\n        \"samples\": [\n          \"a7f72a928a\",\n          \"ef42dee96c\",\n          \"07d17131b1\"\n        ],\n        \"semantic_type\": \"\",\n        \"description\": \"\"\n      }\n    },\n    {\n      \"column\": \"text\",\n      \"properties\": {\n        \"dtype\": \"string\",\n        \"num_unique_values\": 27480,\n        \"samples\": [\n          \" Enjoy! Family trumps everything\",\n          \" --of them kinda turns me off of it all.  And then I buy more of them and dig a deeper hole, etc. ;;\",\n          \"Clive it`s my birthday pat me  http://apps.facebook.com/dogbook/profile/view/6386106\"\n        ],\n        \"semantic_type\": \"\",\n        \"description\": \"\"\n      }\n    },\n    {\n      \"column\": \"selected_text\",\n      \"properties\": {\n        \"dtype\": \"string\",\n        \"num_unique_values\": 22463,\n        \"samples\": [\n          \"we win\",\n          \"YES!!! haahaaa.! break out the jellybeaniesss!\",\n          \"hay wats ur AIM? we should chat\"\n        ],\n        \"semantic_type\": \"\",\n        \"description\": \"\"\n      }\n    },\n    {\n      \"column\": \"sentiment\",\n      \"properties\": {\n        \"dtype\": \"category\",\n        \"num_unique_values\": 3,\n        \"samples\": [\n          \"neutral\",\n          \"negative\",\n          \"positive\"\n        ],\n        \"semantic_type\": \"\",\n        \"description\": \"\"\n      }\n    }\n  ]\n}"
            }
          },
          "metadata": {},
          "execution_count": 5
        }
      ]
    },
    {
      "cell_type": "code",
      "source": [
        "df.info()"
      ],
      "metadata": {
        "colab": {
          "base_uri": "https://localhost:8080/"
        },
        "id": "RddpEaZdkhQO",
        "outputId": "adb4fd56-9ba1-48e7-b8bd-f363dc35fdb9"
      },
      "execution_count": 13,
      "outputs": [
        {
          "output_type": "stream",
          "name": "stdout",
          "text": [
            "<class 'pandas.core.frame.DataFrame'>\n",
            "RangeIndex: 27481 entries, 0 to 27480\n",
            "Data columns (total 4 columns):\n",
            " #   Column         Non-Null Count  Dtype \n",
            "---  ------         --------------  ----- \n",
            " 0   textID         27481 non-null  object\n",
            " 1   text           27480 non-null  object\n",
            " 2   selected_text  27480 non-null  object\n",
            " 3   sentiment      27481 non-null  object\n",
            "dtypes: object(4)\n",
            "memory usage: 858.9+ KB\n"
          ]
        }
      ]
    },
    {
      "cell_type": "code",
      "source": [
        "df.describe()"
      ],
      "metadata": {
        "colab": {
          "base_uri": "https://localhost:8080/",
          "height": 174
        },
        "id": "s6MXtdSklAuK",
        "outputId": "13f6c387-c5fa-42f2-faf5-263c304cc5ee"
      },
      "execution_count": 14,
      "outputs": [
        {
          "output_type": "execute_result",
          "data": {
            "text/plain": [
              "            textID                                  text selected_text  \\\n",
              "count        27481                                 27480         27480   \n",
              "unique       27481                                 27480         22463   \n",
              "top     cb774db0d1   I`d have responded, if I were going          good   \n",
              "freq             1                                     1           199   \n",
              "\n",
              "       sentiment  \n",
              "count      27481  \n",
              "unique         3  \n",
              "top      neutral  \n",
              "freq       11118  "
            ],
            "text/html": [
              "\n",
              "  <div id=\"df-9161c4f5-b753-477b-9b5a-70fc2456fd50\" class=\"colab-df-container\">\n",
              "    <div>\n",
              "<style scoped>\n",
              "    .dataframe tbody tr th:only-of-type {\n",
              "        vertical-align: middle;\n",
              "    }\n",
              "\n",
              "    .dataframe tbody tr th {\n",
              "        vertical-align: top;\n",
              "    }\n",
              "\n",
              "    .dataframe thead th {\n",
              "        text-align: right;\n",
              "    }\n",
              "</style>\n",
              "<table border=\"1\" class=\"dataframe\">\n",
              "  <thead>\n",
              "    <tr style=\"text-align: right;\">\n",
              "      <th></th>\n",
              "      <th>textID</th>\n",
              "      <th>text</th>\n",
              "      <th>selected_text</th>\n",
              "      <th>sentiment</th>\n",
              "    </tr>\n",
              "  </thead>\n",
              "  <tbody>\n",
              "    <tr>\n",
              "      <th>count</th>\n",
              "      <td>27481</td>\n",
              "      <td>27480</td>\n",
              "      <td>27480</td>\n",
              "      <td>27481</td>\n",
              "    </tr>\n",
              "    <tr>\n",
              "      <th>unique</th>\n",
              "      <td>27481</td>\n",
              "      <td>27480</td>\n",
              "      <td>22463</td>\n",
              "      <td>3</td>\n",
              "    </tr>\n",
              "    <tr>\n",
              "      <th>top</th>\n",
              "      <td>cb774db0d1</td>\n",
              "      <td>I`d have responded, if I were going</td>\n",
              "      <td>good</td>\n",
              "      <td>neutral</td>\n",
              "    </tr>\n",
              "    <tr>\n",
              "      <th>freq</th>\n",
              "      <td>1</td>\n",
              "      <td>1</td>\n",
              "      <td>199</td>\n",
              "      <td>11118</td>\n",
              "    </tr>\n",
              "  </tbody>\n",
              "</table>\n",
              "</div>\n",
              "    <div class=\"colab-df-buttons\">\n",
              "\n",
              "  <div class=\"colab-df-container\">\n",
              "    <button class=\"colab-df-convert\" onclick=\"convertToInteractive('df-9161c4f5-b753-477b-9b5a-70fc2456fd50')\"\n",
              "            title=\"Convert this dataframe to an interactive table.\"\n",
              "            style=\"display:none;\">\n",
              "\n",
              "  <svg xmlns=\"http://www.w3.org/2000/svg\" height=\"24px\" viewBox=\"0 -960 960 960\">\n",
              "    <path d=\"M120-120v-720h720v720H120Zm60-500h600v-160H180v160Zm220 220h160v-160H400v160Zm0 220h160v-160H400v160ZM180-400h160v-160H180v160Zm440 0h160v-160H620v160ZM180-180h160v-160H180v160Zm440 0h160v-160H620v160Z\"/>\n",
              "  </svg>\n",
              "    </button>\n",
              "\n",
              "  <style>\n",
              "    .colab-df-container {\n",
              "      display:flex;\n",
              "      gap: 12px;\n",
              "    }\n",
              "\n",
              "    .colab-df-convert {\n",
              "      background-color: #E8F0FE;\n",
              "      border: none;\n",
              "      border-radius: 50%;\n",
              "      cursor: pointer;\n",
              "      display: none;\n",
              "      fill: #1967D2;\n",
              "      height: 32px;\n",
              "      padding: 0 0 0 0;\n",
              "      width: 32px;\n",
              "    }\n",
              "\n",
              "    .colab-df-convert:hover {\n",
              "      background-color: #E2EBFA;\n",
              "      box-shadow: 0px 1px 2px rgba(60, 64, 67, 0.3), 0px 1px 3px 1px rgba(60, 64, 67, 0.15);\n",
              "      fill: #174EA6;\n",
              "    }\n",
              "\n",
              "    .colab-df-buttons div {\n",
              "      margin-bottom: 4px;\n",
              "    }\n",
              "\n",
              "    [theme=dark] .colab-df-convert {\n",
              "      background-color: #3B4455;\n",
              "      fill: #D2E3FC;\n",
              "    }\n",
              "\n",
              "    [theme=dark] .colab-df-convert:hover {\n",
              "      background-color: #434B5C;\n",
              "      box-shadow: 0px 1px 3px 1px rgba(0, 0, 0, 0.15);\n",
              "      filter: drop-shadow(0px 1px 2px rgba(0, 0, 0, 0.3));\n",
              "      fill: #FFFFFF;\n",
              "    }\n",
              "  </style>\n",
              "\n",
              "    <script>\n",
              "      const buttonEl =\n",
              "        document.querySelector('#df-9161c4f5-b753-477b-9b5a-70fc2456fd50 button.colab-df-convert');\n",
              "      buttonEl.style.display =\n",
              "        google.colab.kernel.accessAllowed ? 'block' : 'none';\n",
              "\n",
              "      async function convertToInteractive(key) {\n",
              "        const element = document.querySelector('#df-9161c4f5-b753-477b-9b5a-70fc2456fd50');\n",
              "        const dataTable =\n",
              "          await google.colab.kernel.invokeFunction('convertToInteractive',\n",
              "                                                    [key], {});\n",
              "        if (!dataTable) return;\n",
              "\n",
              "        const docLinkHtml = 'Like what you see? Visit the ' +\n",
              "          '<a target=\"_blank\" href=https://colab.research.google.com/notebooks/data_table.ipynb>data table notebook</a>'\n",
              "          + ' to learn more about interactive tables.';\n",
              "        element.innerHTML = '';\n",
              "        dataTable['output_type'] = 'display_data';\n",
              "        await google.colab.output.renderOutput(dataTable, element);\n",
              "        const docLink = document.createElement('div');\n",
              "        docLink.innerHTML = docLinkHtml;\n",
              "        element.appendChild(docLink);\n",
              "      }\n",
              "    </script>\n",
              "  </div>\n",
              "\n",
              "\n",
              "<div id=\"df-d2a5284a-9e93-49f3-8825-4467588fd5c9\">\n",
              "  <button class=\"colab-df-quickchart\" onclick=\"quickchart('df-d2a5284a-9e93-49f3-8825-4467588fd5c9')\"\n",
              "            title=\"Suggest charts\"\n",
              "            style=\"display:none;\">\n",
              "\n",
              "<svg xmlns=\"http://www.w3.org/2000/svg\" height=\"24px\"viewBox=\"0 0 24 24\"\n",
              "     width=\"24px\">\n",
              "    <g>\n",
              "        <path d=\"M19 3H5c-1.1 0-2 .9-2 2v14c0 1.1.9 2 2 2h14c1.1 0 2-.9 2-2V5c0-1.1-.9-2-2-2zM9 17H7v-7h2v7zm4 0h-2V7h2v10zm4 0h-2v-4h2v4z\"/>\n",
              "    </g>\n",
              "</svg>\n",
              "  </button>\n",
              "\n",
              "<style>\n",
              "  .colab-df-quickchart {\n",
              "      --bg-color: #E8F0FE;\n",
              "      --fill-color: #1967D2;\n",
              "      --hover-bg-color: #E2EBFA;\n",
              "      --hover-fill-color: #174EA6;\n",
              "      --disabled-fill-color: #AAA;\n",
              "      --disabled-bg-color: #DDD;\n",
              "  }\n",
              "\n",
              "  [theme=dark] .colab-df-quickchart {\n",
              "      --bg-color: #3B4455;\n",
              "      --fill-color: #D2E3FC;\n",
              "      --hover-bg-color: #434B5C;\n",
              "      --hover-fill-color: #FFFFFF;\n",
              "      --disabled-bg-color: #3B4455;\n",
              "      --disabled-fill-color: #666;\n",
              "  }\n",
              "\n",
              "  .colab-df-quickchart {\n",
              "    background-color: var(--bg-color);\n",
              "    border: none;\n",
              "    border-radius: 50%;\n",
              "    cursor: pointer;\n",
              "    display: none;\n",
              "    fill: var(--fill-color);\n",
              "    height: 32px;\n",
              "    padding: 0;\n",
              "    width: 32px;\n",
              "  }\n",
              "\n",
              "  .colab-df-quickchart:hover {\n",
              "    background-color: var(--hover-bg-color);\n",
              "    box-shadow: 0 1px 2px rgba(60, 64, 67, 0.3), 0 1px 3px 1px rgba(60, 64, 67, 0.15);\n",
              "    fill: var(--button-hover-fill-color);\n",
              "  }\n",
              "\n",
              "  .colab-df-quickchart-complete:disabled,\n",
              "  .colab-df-quickchart-complete:disabled:hover {\n",
              "    background-color: var(--disabled-bg-color);\n",
              "    fill: var(--disabled-fill-color);\n",
              "    box-shadow: none;\n",
              "  }\n",
              "\n",
              "  .colab-df-spinner {\n",
              "    border: 2px solid var(--fill-color);\n",
              "    border-color: transparent;\n",
              "    border-bottom-color: var(--fill-color);\n",
              "    animation:\n",
              "      spin 1s steps(1) infinite;\n",
              "  }\n",
              "\n",
              "  @keyframes spin {\n",
              "    0% {\n",
              "      border-color: transparent;\n",
              "      border-bottom-color: var(--fill-color);\n",
              "      border-left-color: var(--fill-color);\n",
              "    }\n",
              "    20% {\n",
              "      border-color: transparent;\n",
              "      border-left-color: var(--fill-color);\n",
              "      border-top-color: var(--fill-color);\n",
              "    }\n",
              "    30% {\n",
              "      border-color: transparent;\n",
              "      border-left-color: var(--fill-color);\n",
              "      border-top-color: var(--fill-color);\n",
              "      border-right-color: var(--fill-color);\n",
              "    }\n",
              "    40% {\n",
              "      border-color: transparent;\n",
              "      border-right-color: var(--fill-color);\n",
              "      border-top-color: var(--fill-color);\n",
              "    }\n",
              "    60% {\n",
              "      border-color: transparent;\n",
              "      border-right-color: var(--fill-color);\n",
              "    }\n",
              "    80% {\n",
              "      border-color: transparent;\n",
              "      border-right-color: var(--fill-color);\n",
              "      border-bottom-color: var(--fill-color);\n",
              "    }\n",
              "    90% {\n",
              "      border-color: transparent;\n",
              "      border-bottom-color: var(--fill-color);\n",
              "    }\n",
              "  }\n",
              "</style>\n",
              "\n",
              "  <script>\n",
              "    async function quickchart(key) {\n",
              "      const quickchartButtonEl =\n",
              "        document.querySelector('#' + key + ' button');\n",
              "      quickchartButtonEl.disabled = true;  // To prevent multiple clicks.\n",
              "      quickchartButtonEl.classList.add('colab-df-spinner');\n",
              "      try {\n",
              "        const charts = await google.colab.kernel.invokeFunction(\n",
              "            'suggestCharts', [key], {});\n",
              "      } catch (error) {\n",
              "        console.error('Error during call to suggestCharts:', error);\n",
              "      }\n",
              "      quickchartButtonEl.classList.remove('colab-df-spinner');\n",
              "      quickchartButtonEl.classList.add('colab-df-quickchart-complete');\n",
              "    }\n",
              "    (() => {\n",
              "      let quickchartButtonEl =\n",
              "        document.querySelector('#df-d2a5284a-9e93-49f3-8825-4467588fd5c9 button');\n",
              "      quickchartButtonEl.style.display =\n",
              "        google.colab.kernel.accessAllowed ? 'block' : 'none';\n",
              "    })();\n",
              "  </script>\n",
              "</div>\n",
              "\n",
              "    </div>\n",
              "  </div>\n"
            ],
            "application/vnd.google.colaboratory.intrinsic+json": {
              "type": "dataframe",
              "summary": "{\n  \"name\": \"df\",\n  \"rows\": 4,\n  \"fields\": [\n    {\n      \"column\": \"textID\",\n      \"properties\": {\n        \"dtype\": \"string\",\n        \"num_unique_values\": 3,\n        \"samples\": [\n          \"27481\",\n          \"cb774db0d1\",\n          \"1\"\n        ],\n        \"semantic_type\": \"\",\n        \"description\": \"\"\n      }\n    },\n    {\n      \"column\": \"text\",\n      \"properties\": {\n        \"dtype\": \"string\",\n        \"num_unique_values\": 3,\n        \"samples\": [\n          \"27480\",\n          \" I`d have responded, if I were going\",\n          \"1\"\n        ],\n        \"semantic_type\": \"\",\n        \"description\": \"\"\n      }\n    },\n    {\n      \"column\": \"selected_text\",\n      \"properties\": {\n        \"dtype\": \"string\",\n        \"num_unique_values\": 4,\n        \"samples\": [\n          22463,\n          \"199\",\n          \"27480\"\n        ],\n        \"semantic_type\": \"\",\n        \"description\": \"\"\n      }\n    },\n    {\n      \"column\": \"sentiment\",\n      \"properties\": {\n        \"dtype\": \"string\",\n        \"num_unique_values\": 4,\n        \"samples\": [\n          3,\n          \"11118\",\n          \"27481\"\n        ],\n        \"semantic_type\": \"\",\n        \"description\": \"\"\n      }\n    }\n  ]\n}"
            }
          },
          "metadata": {},
          "execution_count": 14
        }
      ]
    },
    {
      "cell_type": "code",
      "source": [
        "df.isnull().sum()"
      ],
      "metadata": {
        "colab": {
          "base_uri": "https://localhost:8080/",
          "height": 209
        },
        "id": "xSqDJLGYlLA_",
        "outputId": "2166c8e2-85c0-41c1-f94f-988a824cb93e"
      },
      "execution_count": 15,
      "outputs": [
        {
          "output_type": "execute_result",
          "data": {
            "text/plain": [
              "textID           0\n",
              "text             1\n",
              "selected_text    1\n",
              "sentiment        0\n",
              "dtype: int64"
            ],
            "text/html": [
              "<div>\n",
              "<style scoped>\n",
              "    .dataframe tbody tr th:only-of-type {\n",
              "        vertical-align: middle;\n",
              "    }\n",
              "\n",
              "    .dataframe tbody tr th {\n",
              "        vertical-align: top;\n",
              "    }\n",
              "\n",
              "    .dataframe thead th {\n",
              "        text-align: right;\n",
              "    }\n",
              "</style>\n",
              "<table border=\"1\" class=\"dataframe\">\n",
              "  <thead>\n",
              "    <tr style=\"text-align: right;\">\n",
              "      <th></th>\n",
              "      <th>0</th>\n",
              "    </tr>\n",
              "  </thead>\n",
              "  <tbody>\n",
              "    <tr>\n",
              "      <th>textID</th>\n",
              "      <td>0</td>\n",
              "    </tr>\n",
              "    <tr>\n",
              "      <th>text</th>\n",
              "      <td>1</td>\n",
              "    </tr>\n",
              "    <tr>\n",
              "      <th>selected_text</th>\n",
              "      <td>1</td>\n",
              "    </tr>\n",
              "    <tr>\n",
              "      <th>sentiment</th>\n",
              "      <td>0</td>\n",
              "    </tr>\n",
              "  </tbody>\n",
              "</table>\n",
              "</div><br><label><b>dtype:</b> int64</label>"
            ]
          },
          "metadata": {},
          "execution_count": 15
        }
      ]
    },
    {
      "cell_type": "code",
      "source": [
        "df_cleaned = df.dropna()"
      ],
      "metadata": {
        "id": "ZxmFG0TFlP_d"
      },
      "execution_count": 16,
      "outputs": []
    },
    {
      "cell_type": "code",
      "source": [
        "df_cleaned.shape[0]"
      ],
      "metadata": {
        "colab": {
          "base_uri": "https://localhost:8080/"
        },
        "id": "8Jx9F4LTlSuq",
        "outputId": "19496f79-d958-4a46-c1e9-e4592cb1a68d"
      },
      "execution_count": 17,
      "outputs": [
        {
          "output_type": "execute_result",
          "data": {
            "text/plain": [
              "27480"
            ]
          },
          "metadata": {},
          "execution_count": 17
        }
      ]
    },
    {
      "cell_type": "markdown",
      "source": [
        "### Завдання 2. Exploratory Data Analysis\n",
        "\n",
        "- Проведіть аналіз кількості класів та розподілу міток. Класи знаходяться в колонці `sentiment`.\n",
        "- Візуалізуйте розподіл довжин текстів в символах та зробіть висновок про довжини постів: якої довжини постів найбільше, що бачите з розподілу?\n",
        "\n"
      ],
      "metadata": {
        "id": "BXox7UCZUU5J"
      }
    },
    {
      "cell_type": "code",
      "source": [
        "import matplotlib.pyplot as plt\n",
        "import seaborn as sns\n",
        "\n",
        "# Спочатку замінимо NaN значення на порожні рядки\n",
        "df['text'] = df['text'].fillna('')\n",
        "\n",
        "# Додамо колонку з довжиною текстів\n",
        "df['text_length'] = df['text'].apply(len)\n",
        "\n",
        "# Візуалізація розподілу довжин текстів\n",
        "plt.figure(figsize=(10, 6))\n",
        "sns.histplot(df['text_length'], bins=30, kde=True, color='blue')\n",
        "plt.title('Розподіл довжин текстів у символах', fontsize=15)\n",
        "plt.xlabel('Довжина тексту (у символах)')\n",
        "plt.ylabel('Кількість')\n",
        "plt.show()\n",
        "\n",
        "# Основна статистика по довжинах текстів\n",
        "print(\"\\nОсновна статистика по довжинах текстів:\")\n",
        "print(df['text_length'].describe())\n",
        "\n"
      ],
      "metadata": {
        "id": "aPm_wCjpde0s",
        "colab": {
          "base_uri": "https://localhost:8080/",
          "height": 765
        },
        "outputId": "5bc96082-97eb-4bfe-b25e-c597de3d1d41"
      },
      "execution_count": 19,
      "outputs": [
        {
          "output_type": "display_data",
          "data": {
            "text/plain": [
              "<Figure size 1000x600 with 1 Axes>"
            ],
            "image/png": "[encoded data removed]"
          },
          "metadata": {}
        },
        {
          "output_type": "stream",
          "name": "stdout",
          "text": [
            "\n",
            "Основна статистика по довжинах текстів:\n",
            "count    27481.000000\n",
            "mean        68.327535\n",
            "std         35.605608\n",
            "min          0.000000\n",
            "25%         39.000000\n",
            "50%         64.000000\n",
            "75%         97.000000\n",
            "max        141.000000\n",
            "Name: text_length, dtype: float64\n"
          ]
        }
      ]
    },
    {
      "cell_type": "markdown",
      "source": [
        "Найдовший текст містить 141 символ.\n",
        "Більшість постів мають коротку довжину — від 39 до 97 символів, з медіаною у 64 символи. Велика частина текстів є відносно короткими, але деякі пости можуть бути порожніми (довжина 0 символів), що потребує додаткового аналізу та обробки."
      ],
      "metadata": {
        "id": "J8W8390XmNia"
      }
    },
    {
      "cell_type": "markdown",
      "source": [
        "### Завдання 3. Попередня обробка текстових даних та векторизація з bag of words\n",
        "\n",
        "\n",
        "Наша задача тут отримати вектори методом bag of words колонки `text`, виконавши попередню обробку тексту.\n",
        "Попередня обробка має включати\n",
        "- видалення stopwords необхідної мови\n",
        "- токенізація (розбиття текстів на фрагменти по 1 слову)\n",
        "- стеммінг слів зі `SnowballStemmer`.\n",
        "- самостійно задайте кількість слів в словнику для `sklearn.feature_extraction.text.CountVectorizer`. Можливо для цього доведеться виконати додатковий аналіз.\n",
        "\n",
        "Ви також можете додати сюди додаткові методи очистки текстів, наприклад, видалення деяких символів чи груп символів, якщо в процесі роботи побачите, що хочете щось видалити.\n",
        "\n",
        "Напишіть код аби виконати це завдання. Перед цим рекомендую детально ознайомитись з тим, що робить обʼєкт `sklearn.feature_extraction.text.CountVectorizer` за замовченням.\n",
        "\n",
        "Це завдання можна виконати двома способами - один - максимально подібно до того, як ми це робили в лекції, другий - дещо інакше перегрупувавши етапи обробки тексту.\n",
        "\n",
        "\n"
      ],
      "metadata": {
        "id": "KfiU4hNDWncB"
      }
    },
    {
      "cell_type": "code",
      "source": [
        "import re\n",
        "import nltk\n",
        "from nltk.corpus import stopwords\n",
        "from nltk.stem import SnowballStemmer\n",
        "from sklearn.feature_extraction.text import CountVectorizer\n",
        "\n",
        "# Завантаження stopwords (припустимо, що мова текстів - англійська, для інших мов можна змінити)\n",
        "nltk.download('stopwords')\n",
        "stop_words = set(stopwords.words('english'))  # Якщо текст українською, змініть на 'ukrainian'\n",
        "\n",
        "# Ініціалізація стеммера\n",
        "stemmer = SnowballStemmer('english')  # Якщо текст українською, змініть на 'russian'\n",
        "\n",
        "# Функція для очищення тексту\n",
        "def preprocess_text(text):\n",
        "    # 1. Переведення тексту до нижнього регістру\n",
        "    text = text.lower()\n",
        "\n",
        "    # 2. Видалення небажаних символів, залишаємо лише букви і пробіли\n",
        "    text = re.sub(r'[^a-z\\s]', '', text)\n",
        "\n",
        "    # 3. Токенізація (розбиття на слова)\n",
        "    tokens = text.split()\n",
        "\n",
        "    # 4. Видалення стоп-слів\n",
        "    tokens = [word for word in tokens if word not in stop_words]\n",
        "\n",
        "    # 5. Стемминг\n",
        "    tokens = [stemmer.stem(word) for word in tokens]\n",
        "\n",
        "    # Об'єднання токенів назад в рядок\n",
        "    return ' '.join(tokens)\n",
        "\n",
        "# Застосовуємо попередню обробку до кожного тексту\n",
        "df['cleaned_text'] = df['text'].fillna('').apply(preprocess_text)\n",
        "\n",
        "# Перевіряємо очищені тексти\n",
        "print(df['cleaned_text'].head())"
      ],
      "metadata": {
        "id": "BRUG111tdhB0",
        "colab": {
          "base_uri": "https://localhost:8080/"
        },
        "outputId": "d7949d3e-c741-4394-b8a3-6bdd529bed53"
      },
      "execution_count": 20,
      "outputs": [
        {
          "output_type": "stream",
          "name": "stderr",
          "text": [
            "[nltk_data] Downloading package stopwords to /root/nltk_data...\n",
            "[nltk_data]   Unzipping corpora/stopwords.zip.\n"
          ]
        },
        {
          "output_type": "stream",
          "name": "stdout",
          "text": [
            "0                            id respond go\n",
            "1                  sooo sad miss san diego\n",
            "2                               boss bulli\n",
            "3                      interview leav alon\n",
            "4    son couldnt put releas alreadi bought\n",
            "Name: cleaned_text, dtype: object\n"
          ]
        }
      ]
    },
    {
      "cell_type": "code",
      "source": [
        "# Ініціалізуємо CountVectorizer\n",
        "vectorizer = CountVectorizer(max_features=5000)  # Задаємо розмір словника (5000 слів)\n",
        "\n",
        "# Застосовуємо векторизацію до очищених текстів\n",
        "X = vectorizer.fit_transform(df['cleaned_text'])\n",
        "\n",
        "# Виведемо перші 5 векторизованих текстів\n",
        "print(X.toarray()[:5])\n",
        "\n",
        "# Виводимо розміри матриці після векторизації\n",
        "print(f\"Форма матриці після векторизації: {X.shape}\")"
      ],
      "metadata": {
        "colab": {
          "base_uri": "https://localhost:8080/"
        },
        "id": "eQWm3FoKmn8C",
        "outputId": "38768cd9-312a-4660-dac8-fcf694227b5d"
      },
      "execution_count": 21,
      "outputs": [
        {
          "output_type": "stream",
          "name": "stdout",
          "text": [
            "[[0 0 0 ... 0 0 0]\n",
            " [0 0 0 ... 0 0 0]\n",
            " [0 0 0 ... 0 0 0]\n",
            " [0 0 0 ... 0 0 0]\n",
            " [0 0 0 ... 0 0 0]]\n",
            "Форма матриці після векторизації: (27481, 5000)\n"
          ]
        }
      ]
    },
    {
      "cell_type": "markdown",
      "source": [
        "### Завдання 4. Побудова класифікатора\n",
        "\n",
        "- Розділіть індекси даних на навчальний та тестовий набори в обраному співвівдношенні. Використовуючи отримані індекси сфомуйте набори для тренування класифікатора `X_train_bow, X_test_bow, y_train, y_test`.\n",
        "- Навчіть класифікатор (наприклад, Logistic Regression, Decision Tree або один з алгоритмів бустингу) на даних, векторизованих методом bag-of-words. Спробуйте кілька моделей і оберіть найбільш точну :)\n",
        "- Виведіть інформацію, яка дає можливість оцінити якість класифікації.\n",
        "- Оцініть якість фінальної класифікації: вона хороша чи не дуже?\n",
        "\n"
      ],
      "metadata": {
        "id": "v0RHDwO7OBIJ"
      }
    },
    {
      "cell_type": "code",
      "source": [
        "import pandas as pd\n",
        "from sklearn.model_selection import train_test_split\n",
        "from sklearn.linear_model import LogisticRegression\n",
        "from sklearn.tree import DecisionTreeClassifier\n",
        "from sklearn.ensemble import GradientBoostingClassifier\n",
        "from sklearn.metrics import accuracy_score, classification_report, confusion_matrix\n",
        "\n",
        "# Формуємо X та y (матрицю ознак і цільову змінну)\n",
        "X = X  # це результат векторизації з попереднього етапу (bag of words)\n",
        "y = df['sentiment']  # Цільова змінна - класи\n",
        "\n",
        "# Розділяємо дані на навчальну і тестову вибірки (80% тренування, 20% тест)\n",
        "X_train_bow, X_test_bow, y_train, y_test = train_test_split(X, y, test_size=0.2, random_state=42)\n",
        "\n",
        "# Спробуємо кілька моделей:\n",
        "# 1. Логістична регресія\n",
        "log_reg = LogisticRegression(max_iter=1000)\n",
        "log_reg.fit(X_train_bow, y_train)\n",
        "y_pred_log_reg = log_reg.predict(X_test_bow)\n",
        "\n",
        "# 2. Дерево рішень\n",
        "tree = DecisionTreeClassifier()\n",
        "tree.fit(X_train_bow, y_train)\n",
        "y_pred_tree = tree.predict(X_test_bow)\n",
        "\n",
        "# 3. Градієнтний бустинг\n",
        "gb_clf = GradientBoostingClassifier()\n",
        "gb_clf.fit(X_train_bow, y_train)\n",
        "y_pred_gb = gb_clf.predict(X_test_bow)\n",
        "\n",
        "# Оцінка якості класифікації для кожної моделі\n",
        "def evaluate_model(y_test, y_pred, model_name):\n",
        "    print(f\"--- {model_name} ---\")\n",
        "    print(f\"Точність (accuracy): {accuracy_score(y_test, y_pred):.4f}\")\n",
        "    print(\"Класифікаційний звіт:\")\n",
        "    print(classification_report(y_test, y_pred))\n",
        "    print(\"Матриця плутанини:\")\n",
        "    print(confusion_matrix(y_test, y_pred))\n",
        "    print(\"\\n\")\n",
        "\n",
        "# Оцінюємо кожну модель\n",
        "evaluate_model(y_test, y_pred_log_reg, \"Логістична регресія\")\n",
        "evaluate_model(y_test, y_pred_tree, \"Дерево рішень\")\n",
        "evaluate_model(y_test, y_pred_gb, \"Градієнтний бустинг\")"
      ],
      "metadata": {
        "id": "NVdpanFFdkyo",
        "colab": {
          "base_uri": "https://localhost:8080/"
        },
        "outputId": "b9075950-f54f-4a75-feb8-8d25921ecf2b"
      },
      "execution_count": 22,
      "outputs": [
        {
          "output_type": "stream",
          "name": "stdout",
          "text": [
            "--- Логістична регресія ---\n",
            "Точність (accuracy): 0.6822\n",
            "Класифікаційний звіт:\n",
            "              precision    recall  f1-score   support\n",
            "\n",
            "    negative       0.70      0.62      0.66      1562\n",
            "     neutral       0.63      0.70      0.67      2230\n",
            "    positive       0.74      0.71      0.72      1705\n",
            "\n",
            "    accuracy                           0.68      5497\n",
            "   macro avg       0.69      0.68      0.68      5497\n",
            "weighted avg       0.69      0.68      0.68      5497\n",
            "\n",
            "Матриця плутанини:\n",
            "[[ 971  481  110]\n",
            " [ 348 1570  312]\n",
            " [  68  428 1209]]\n",
            "\n",
            "\n",
            "--- Дерево рішень ---\n",
            "Точність (accuracy): 0.6427\n",
            "Класифікаційний звіт:\n",
            "              precision    recall  f1-score   support\n",
            "\n",
            "    negative       0.60      0.65      0.62      1562\n",
            "     neutral       0.65      0.58      0.61      2230\n",
            "    positive       0.68      0.71      0.69      1705\n",
            "\n",
            "    accuracy                           0.64      5497\n",
            "   macro avg       0.64      0.65      0.64      5497\n",
            "weighted avg       0.64      0.64      0.64      5497\n",
            "\n",
            "Матриця плутанини:\n",
            "[[1017  380  165]\n",
            " [ 517 1304  409]\n",
            " [ 159  334 1212]]\n",
            "\n",
            "\n",
            "--- Градієнтний бустинг ---\n",
            "Точність (accuracy): 0.6562\n",
            "Класифікаційний звіт:\n",
            "              precision    recall  f1-score   support\n",
            "\n",
            "    negative       0.78      0.44      0.56      1562\n",
            "     neutral       0.57      0.83      0.68      2230\n",
            "    positive       0.77      0.63      0.70      1705\n",
            "\n",
            "    accuracy                           0.66      5497\n",
            "   macro avg       0.71      0.63      0.64      5497\n",
            "weighted avg       0.69      0.66      0.65      5497\n",
            "\n",
            "Матриця плутанини:\n",
            "[[ 685  783   94]\n",
            " [ 160 1843  227]\n",
            " [  33  593 1079]]\n",
            "\n",
            "\n"
          ]
        }
      ]
    },
    {
      "cell_type": "markdown",
      "source": [
        "Найкраща модель - логістична регресія, яка показує найвищу загальну точність і найбільш збалансовані результати по всіх класах.\n",
        "\n",
        "Градієнтний бустинг добре справляється з нейтральними постами, але має проблеми з класифікацією негативних. Дерево рішень показує найнижчу точність серед усіх моделей.\n",
        "\n",
        "Логістична регресія є найбільш ефективною моделлю для цього набору даних, але для підвищення точності можна спробувати додаткові методи обробки даних або використати інші моделі."
      ],
      "metadata": {
        "id": "VvxbgoX7nlYi"
      }
    },
    {
      "cell_type": "markdown",
      "source": [
        "### Завдання 5. Аналіз впливовості слів в отриманого класифікатора\n",
        "\n",
        "- Для обраної вами моделі проведіть аналіз важливості слів (ознак): які слова (токени) найбільше впливають для визначення сентименту? Чи це логічно на ваш погляд, що саме ці символи впливають найбільше/найменще?\n"
      ],
      "metadata": {
        "id": "53hZa4bKP5Cx"
      }
    },
    {
      "cell_type": "code",
      "source": [
        "import numpy as np\n",
        "\n",
        "# Отримуємо слова (токени) з векторизатора\n",
        "words = vectorizer.get_feature_names_out()\n",
        "\n",
        "# Отримуємо коефіцієнти логістичної регресії\n",
        "coefficients = log_reg.coef_\n",
        "\n",
        "# Для кожного класу (negative, neutral, positive) виведемо найвпливовіші слова\n",
        "def most_influential_words(class_index, top_n=10):\n",
        "    # Сортуємо слова за величиною коефіцієнтів\n",
        "    top_positive_indices = np.argsort(coefficients[class_index])[::-1][:top_n]\n",
        "    top_negative_indices = np.argsort(coefficients[class_index])[:top_n]\n",
        "\n",
        "    print(f\"\\nНайвпливовіші слова для класу {class_index} (positive):\")\n",
        "    for i in top_positive_indices:\n",
        "        print(f\"{words[i]}: {coefficients[class_index][i]:.4f}\")\n",
        "\n",
        "    print(f\"\\nНайвпливовіші слова для класу {class_index} (negative):\")\n",
        "    for i in top_negative_indices:\n",
        "        print(f\"{words[i]}: {coefficients[class_index][i]:.4f}\")\n",
        "\n",
        "# Аналіз впливу слів для кожного класу\n",
        "print(\"Клас: Негативні пости\")\n",
        "most_influential_words(0)\n",
        "\n",
        "print(\"\\nКлас: Нейтральні пости\")\n",
        "most_influential_words(1)\n",
        "\n",
        "print(\"\\nКлас: Позитивні пости\")\n",
        "most_influential_words(2)"
      ],
      "metadata": {
        "id": "z0YBHvG4dmKb",
        "colab": {
          "base_uri": "https://localhost:8080/"
        },
        "outputId": "39f88f80-b747-49b9-d61b-c1bc8edfb190"
      },
      "execution_count": 23,
      "outputs": [
        {
          "output_type": "stream",
          "name": "stdout",
          "text": [
            "Клас: Негативні пости\n",
            "\n",
            "Найвпливовіші слова для класу 0 (positive):\n",
            "sad: 2.7597\n",
            "suck: 2.4685\n",
            "hate: 2.3798\n",
            "bore: 2.1409\n",
            "sorri: 2.1325\n",
            "exhaust: 2.1195\n",
            "fail: 2.0855\n",
            "hurt: 2.0587\n",
            "worst: 2.0546\n",
            "miss: 2.0539\n",
            "\n",
            "Найвпливовіші слова для класу 0 (negative):\n",
            "awesom: -2.3716\n",
            "glad: -2.2506\n",
            "thank: -2.1833\n",
            "love: -2.1763\n",
            "cute: -1.9144\n",
            "beauti: -1.8637\n",
            "excit: -1.8179\n",
            "congrat: -1.7650\n",
            "amaz: -1.6996\n",
            "welcom: -1.6738\n",
            "\n",
            "Клас: Нейтральні пости\n",
            "\n",
            "Найвпливовіші слова для класу 1 (positive):\n",
            "otherwis: 1.4478\n",
            "gent: 1.2825\n",
            "cassi: 1.2526\n",
            "parvo: 1.2275\n",
            "logic: 1.2137\n",
            "how: 1.2042\n",
            "innoc: 1.1798\n",
            "jst: 1.1745\n",
            "plz: 1.1655\n",
            "grade: 1.1223\n",
            "\n",
            "Найвпливовіші слова для класу 1 (negative):\n",
            "thrill: -1.3987\n",
            "congratul: -1.3694\n",
            "beyond: -1.3581\n",
            "wtf: -1.2662\n",
            "sober: -1.2494\n",
            "delici: -1.2469\n",
            "product: -1.2332\n",
            "blast: -1.2169\n",
            "nut: -1.1789\n",
            "spirit: -1.1734\n",
            "\n",
            "Клас: Позитивні пости\n",
            "\n",
            "Найвпливовіші слова для класу 2 (positive):\n",
            "awesom: 2.7277\n",
            "thank: 2.6134\n",
            "cute: 2.4677\n",
            "love: 2.3624\n",
            "amaz: 2.2939\n",
            "excit: 2.2938\n",
            "glad: 2.2293\n",
            "gorgeous: 2.1180\n",
            "nice: 2.1032\n",
            "enjoy: 2.0664\n",
            "\n",
            "Найвпливовіші слова для класу 2 (negative):\n",
            "sad: -2.7974\n",
            "shame: -2.3389\n",
            "tire: -2.2619\n",
            "sorri: -2.2344\n",
            "suck: -2.2099\n",
            "hate: -2.1673\n",
            "bore: -1.9640\n",
            "jealous: -1.9305\n",
            "exhaust: -1.9148\n",
            "miss: -1.8665\n"
          ]
        }
      ]
    },
    {
      "cell_type": "markdown",
      "source": [
        " Виявлені слова і їх вплив на різні класи відповідають очікуванням. Для негативних постів переважають негативні слова, для позитивних — позитивні. Це підтверджує адекватність моделі в контексті виявлення сентименту.\n",
        "\n",
        "Слова, які мають великий негативний вплив в контексті позитивних постів, можуть використовуватися в іронічному чи саркастичному стилі. Це також може бути причиною зниженої точності класифікації в певних випадках.\n",
        "\n",
        "Якщо модель демонструє проблеми з контекстом, можливо, варто доопрацювати процес очищення даних або спробувати інші підходи для виявлення і обробки іронії та сарказму."
      ],
      "metadata": {
        "id": "wLWvCRvJoLIp"
      }
    },
    {
      "cell_type": "markdown",
      "source": [
        "### Завдання 6. Векторизація текстів з допомогою TF-IDF. Тренування класифікатора, аналіз точності і впливовості слів.\n",
        "\n",
        "- Проведіть векторизацію текстів з векторизатором TfidfVectorizer. Реалізуйте векторизацію так, аби препроцесинг включав всі ті самі кроки, що і в випадку використання векторизації Bag of Words.\n",
        "\n",
        "- Натренуйте той самий класифікатор на TF-IDF векторах, виконавши розбивку набору даних на train, test так, аби в трейні були всі ті самі записи, що і були в попередньому завданні (це важливо для порівняння результатів).\n",
        "\n",
        "- Проаналізуйте якість класифікації вивівши потрібні для цього метрики. Чи стала якість класифікації кращою?\n",
        "\n",
        "- Які токени найбільше впливають на результат при тренуваннні класифікатора з TF-IDF векторами? Порівняйте з найважливішими токенами при Bag of Words векторизації. Яку векторизацію ви б обрали для фінальної імплементації рішення? Обґрунтуйте свій вибір.\n",
        "\n"
      ],
      "metadata": {
        "id": "FvJlvr9JRhzq"
      }
    },
    {
      "cell_type": "code",
      "source": [
        "from sklearn.feature_extraction.text import TfidfVectorizer\n",
        "\n",
        "# Функція для попередньої обробки текстів\n",
        "def preprocess_text(text):\n",
        "    text = text.lower()  # Перетворюємо на нижній регістр\n",
        "    text = re.sub(r'\\d+', '', text)  # Видаляємо цифри\n",
        "    text = re.sub(r'[^\\w\\s]', '', text)  # Видаляємо пунктуацію\n",
        "    text = ' '.join([stemmer.stem(word) for word in text.split() if word not in stop_words])  # Токенізація і стеммінг\n",
        "    return text\n",
        "\n",
        "# Ініціалізація TF-IDF векторизатора\n",
        "tfidf_vectorizer = TfidfVectorizer(preprocessor=preprocess_text, max_features=5000)  # Обмежуємо словник до 5000 слів\n",
        "\n",
        "# Трансформація тексту в TF-IDF вектори\n",
        "X_tfidf = tfidf_vectorizer.fit_transform(df['text'])\n",
        "\n",
        "# Розділення даних на навчальні та тестові\n",
        "X_train_tfidf, X_test_tfidf, y_train, y_test = train_test_split(X_tfidf, df['sentiment'], test_size=0.3, random_state=42)\n",
        "\n",
        "# Навчання класифікатора на TF-IDF векторах (наприклад, логістична регресія)\n",
        "log_reg_tfidf = LogisticRegression(max_iter=1000, random_state=42)\n",
        "log_reg_tfidf.fit(X_train_tfidf, y_train)\n",
        "\n",
        "# Оцінка якості класифікації\n",
        "y_pred_tfidf = log_reg_tfidf.predict(X_test_tfidf)\n",
        "\n",
        "# Виведення метрик якості\n",
        "from sklearn.metrics import classification_report, accuracy_score, confusion_matrix\n",
        "\n",
        "print(f\"Точність (accuracy) на TF-IDF векторах: {accuracy_score(y_test, y_pred_tfidf):.4f}\")\n",
        "print(\"\\nКласифікаційний звіт:\")\n",
        "print(classification_report(y_test, y_pred_tfidf, target_names=['negative', 'neutral', 'positive']))\n",
        "print(\"\\nМатриця плутанини:\")\n",
        "print(confusion_matrix(y_test, y_pred_tfidf))"
      ],
      "metadata": {
        "id": "huUPpVhMdodx",
        "colab": {
          "base_uri": "https://localhost:8080/"
        },
        "outputId": "5d20f65b-5abf-416d-869d-58e39e70e291"
      },
      "execution_count": 24,
      "outputs": [
        {
          "output_type": "stream",
          "name": "stdout",
          "text": [
            "Точність (accuracy) на TF-IDF векторах: 0.6907\n",
            "\n",
            "Класифікаційний звіт:\n",
            "              precision    recall  f1-score   support\n",
            "\n",
            "    negative       0.73      0.59      0.66      2338\n",
            "     neutral       0.63      0.76      0.69      3371\n",
            "    positive       0.77      0.69      0.73      2536\n",
            "\n",
            "    accuracy                           0.69      8245\n",
            "   macro avg       0.71      0.68      0.69      8245\n",
            "weighted avg       0.70      0.69      0.69      8245\n",
            "\n",
            "\n",
            "Матриця плутанини:\n",
            "[[1387  804  147]\n",
            " [ 436 2546  389]\n",
            " [  72  702 1762]]\n"
          ]
        }
      ]
    },
    {
      "cell_type": "code",
      "source": [
        "# Отримання слів (токенів) з TF-IDF векторизатора\n",
        "tfidf_words = tfidf_vectorizer.get_feature_names_out()\n",
        "\n",
        "# Отримання коефіцієнтів логістичної регресії для TF-IDF\n",
        "tfidf_coefficients = log_reg_tfidf.coef_\n",
        "\n",
        "# Функція для виведення найвпливовіших слів\n",
        "def most_influential_words_tfidf(class_index, top_n=10):\n",
        "    top_positive_indices = np.argsort(tfidf_coefficients[class_index])[::-1][:top_n]\n",
        "    top_negative_indices = np.argsort(tfidf_coefficients[class_index])[:top_n]\n",
        "\n",
        "    print(f\"\\nНайвпливовіші слова для класу {class_index} (positive) на TF-IDF:\")\n",
        "    for i in top_positive_indices:\n",
        "        print(f\"{tfidf_words[i]}: {tfidf_coefficients[class_index][i]:.4f}\")\n",
        "\n",
        "    print(f\"\\nНайвпливовіші слова для класу {class_index} (negative) на TF-IDF:\")\n",
        "    for i in top_negative_indices:\n",
        "        print(f\"{tfidf_words[i]}: {tfidf_coefficients[class_index][i]:.4f}\")\n",
        "\n",
        "# Аналіз впливу слів для кожного класу на TF-IDF\n",
        "print(\"Клас: Негативні пости\")\n",
        "most_influential_words_tfidf(0)\n",
        "\n",
        "print(\"\\nКлас: Нейтральні пости\")\n",
        "most_influential_words_tfidf(1)\n",
        "\n",
        "print(\"\\nКлас: Позитивні пости\")\n",
        "most_influential_words_tfidf(2)"
      ],
      "metadata": {
        "colab": {
          "base_uri": "https://localhost:8080/"
        },
        "id": "asn5bceMocXz",
        "outputId": "c7944296-9f1b-4055-bd5c-1d3813146277"
      },
      "execution_count": 25,
      "outputs": [
        {
          "output_type": "stream",
          "name": "stdout",
          "text": [
            "Клас: Негативні пости\n",
            "\n",
            "Найвпливовіші слова для класу 0 (positive) на TF-IDF:\n",
            "sad: 5.1308\n",
            "miss: 4.6610\n",
            "suck: 4.2986\n",
            "hate: 4.2412\n",
            "sorri: 3.9541\n",
            "bore: 3.5242\n",
            "fail: 3.3984\n",
            "hurt: 3.3855\n",
            "tire: 3.1819\n",
            "stupid: 3.1057\n",
            "\n",
            "Найвпливовіші слова для класу 0 (negative) на TF-IDF:\n",
            "love: -4.7751\n",
            "thank: -3.9126\n",
            "awesom: -3.1861\n",
            "glad: -2.8059\n",
            "hope: -2.7788\n",
            "great: -2.5799\n",
            "excit: -2.4547\n",
            "better: -2.2535\n",
            "nice: -2.1875\n",
            "cute: -2.1341\n",
            "\n",
            "Клас: Нейтральні пости\n",
            "\n",
            "Найвпливовіші слова для класу 1 (positive) на TF-IDF:\n",
            "how: 1.5045\n",
            "dm: 1.3743\n",
            "sent: 1.1811\n",
            "moro: 1.0128\n",
            "tho: 0.9985\n",
            "logic: 0.9749\n",
            "grade: 0.9720\n",
            "pub: 0.9706\n",
            "workin: 0.9491\n",
            "england: 0.9261\n",
            "\n",
            "Найвпливовіші слова для класу 1 (negative) на TF-IDF:\n",
            "happi: -2.4667\n",
            "nice: -2.2577\n",
            "good: -2.2081\n",
            "great: -2.0271\n",
            "fail: -1.9856\n",
            "thank: -1.9291\n",
            "awesom: -1.8628\n",
            "stupid: -1.8002\n",
            "fun: -1.7599\n",
            "enjoy: -1.7425\n",
            "\n",
            "Клас: Позитивні пости\n",
            "\n",
            "Найвпливовіші слова для класу 2 (positive) на TF-IDF:\n",
            "love: 6.2617\n",
            "thank: 5.8417\n",
            "awesom: 5.0489\n",
            "great: 4.6070\n",
            "happi: 4.5108\n",
            "nice: 4.4452\n",
            "good: 4.2286\n",
            "excit: 4.0129\n",
            "amaz: 3.8383\n",
            "enjoy: 3.7494\n",
            "\n",
            "Найвпливовіші слова для класу 2 (negative) на TF-IDF:\n",
            "miss: -3.7532\n",
            "sad: -3.6244\n",
            "tire: -3.1529\n",
            "hate: -3.0772\n",
            "sorri: -3.0549\n",
            "suck: -3.0435\n",
            "bore: -2.4546\n",
            "poor: -2.1108\n",
            "bad: -2.0399\n",
            "shame: -1.9927\n"
          ]
        }
      ]
    },
    {
      "cell_type": "markdown",
      "source": [
        "**Якість класифікації**\n",
        "Результати класифікації з використанням TF-IDF векторів показують деякі покращення в порівнянні з класифікацією на основі Bag of Words:\n",
        "\n",
        "1) Точність на TF-IDF векторах склала 0.6907, що є покращенням порівняно з точністю на Bag of Words векторах (0.6822).\n",
        "\n",
        "2)Класифікаційний звіт\n",
        "\n",
        "2.1) Negative - зросла precision (0.73 проти 0.70), але recall трохи знизився (0.59 проти 0.62). Це може вказувати на те, що модель стає більш точна у визначенні негативних постів, але можливо пропускає частину таких постів.\n",
        "\n",
        "2.2) Neutral - зросла як precision (0.63 проти 0.63), так і recall (0.76 проти 0.70). Це свідчить про покращення якості класифікації нейтральних постів.\n",
        "\n",
        "2.3) Positive - precision підвищилася (0.77 проти 0.74), а recall дещо знизився (0.69 проти 0.71). Це може свідчити про те, що модель краще ідентифікує позитивні пости, але може пропускати частину з них.\n",
        "\n",
        "3. Матриця плутанини: Досліджуючи матрицю плутанини, можна побачити, що TF-IDF допоміг зменшити кількість помилок класифікації в деяких класах, зокрема в класі \"Neutral\", де зменшилася кількість помилок.\n",
        "\n",
        "\n",
        "**Важливість слів**\n",
        "Аналіз важливих слів показав значні відмінності між TF-IDF та Bag of Words:\n",
        "\n",
        "1) Негативні пости:\n",
        "\n",
        "1.1) TF-IDF - важливими словами є sad, miss, suck, hate, що відображає часті негативні терміни.\n",
        "\n",
        "1.2) Bag of Words - sad, suck, hate також є важливими, але в TF-IDF ці слова мають вищу вагу, що підкреслює їхню значущість у негативному контексті.\n",
        "Нейтральні пости:\n",
        "\n",
        "1.3) TF-IDF - важливими словами є how, dm, sent, що можуть вказувати на специфічні терміни, що часто зустрічаються в нейтральних контекстах.\n",
        "Bag of Words: Важливі слова мають інші терміни, такі як thrill, congratul, які менше впливають на класифікацію.\n",
        "\n",
        "2) Позитивні пости:\n",
        "\n",
        "2.1) TF-IDF - важливі слова включають love, thank, awesom, що відображає позитивний контекст.\n",
        "2.2) Bag of Words - love, thank, awesom також важливі, але TF-IDF підкреслює їх значимість більш явно.\n",
        "\n",
        "**3. Вибір векторизації для фінальної імплементації**\n",
        "\n",
        "TF-IDF - зазвичай забезпечує кращу точність, оскільки враховує частоту терміна в документі та в усьому корпусі, що допомагає краще виділити важливі терміни. Результати показують покращення в точності та класифікаційних метриках, а також у визначенні важливих слів.\n",
        "\n",
        "Bag of Words - простий і швидший метод, але може пропускати важливу інформацію про терміни, які мають різну частоту у різних документах.\n",
        "\n",
        "Але TF-IDF є кращим вибором для фінальної реалізації рішення. Це обґрунтовано покращенням якості класифікації та кращим відображенням важливих термінів, що робить модель більш чутливою до важливих слів у текстах."
      ],
      "metadata": {
        "id": "qMCUzx4do5Yu"
      }
    },
    {
      "cell_type": "markdown",
      "source": [
        "### Завдання 7. Аналіз помилок класифікації з векторизацією TF-IDF.\n",
        "\n",
        "- Проаналізуйте, на яких екземплярах помиляється класифікатор при векторизації TF-IDF.\n",
        "- На основі аналізу запропонуйте 3 шляхи поліпшення якості класифікації."
      ],
      "metadata": {
        "id": "3zsp9KftOqyS"
      }
    },
    {
      "cell_type": "markdown",
      "source": [
        "Аналіз помилок\n",
        "Для аналізу помилок класифікації на векторизованих даних TF-IDF спочатку потрібно ідентифікувати помилкові класифікації. Це включає ті записи, які класифікатор помилково відніс до іншого класу.\n",
        "\n",
        "Можна використати матрицю плутанини для візуалізації помилок і проаналізувати, які класи мають найбільше переплутаних прогнозів.\n",
        "Можна переглянути деякі приклади помилок, щоб зрозуміти, чому класифікатор помиляється (наприклад, перегляд текстів, які були неправильно класифіковані).\n",
        "Можна також переглянути слова або фрази, що часто зустрічаються в помилкових класифікаціях, для виявлення загальних патернів або проблем.\n",
        "\n",
        "Шляхи поліпшення якості класифікації - розширення списку стоп-слів. Можливо, деякі слова, які не несуть суттєвої інформації для класифікації, не були включені в стоп-слова. Додавання таких слів може допомогти зменшити шум у даних.\n",
        "Можна також включити видалення специфічних символів, емодзі або уривків, які можуть впливати на точність моделі.\n",
        "\n",
        "Можливе також використання біграм або триграм поряд з одиночними словами, що може допомогти захопити контекстні взаємозв'язки слів, що може покращити класифікацію. Наприклад, фрази типу \"not good\" або \"very happy\" можуть бути важливими.\n",
        "\n",
        "Можна розглянути використання методів векторизації на основі вбудовування слів, таких як Word2Vec або GloVe, які можуть краще захопити семантичний контекст.\n",
        "Оптимізація моделі:\n",
        "\n",
        "Можна налаштувати гіперпараметри класифікатора, такі як регулювання або максимальна глибина дерева для моделей, може допомогти покращити точність класифікації.\n",
        "\n",
        "Можна спробувати інші класифікатори, такі як випадкові ліси, градієнтний бустинг, або навіть ансамблеві методи, щоб знайти ту, яка найкраще підходить для наших даних.\n",
        "\n",
        "В залежності від специфіки текстів, можливо, є сенс адаптувати модель до конкретних характеристик даних."
      ],
      "metadata": {
        "id": "iYGKkQVPqWTq"
      }
    },
    {
      "cell_type": "code",
      "source": [
        "from sklearn.model_selection import train_test_split\n",
        "\n",
        "# Припустимо, що 'df' - це ваш DataFrame, а 'text' і 'sentiment' - це відповідні стовпці\n",
        "X = df['text']\n",
        "y = df['sentiment']\n",
        "\n",
        "# Розділити дані на навчальний і тестовий набори\n",
        "X_train, X_test, y_train, y_test = train_test_split(X, y, test_size=0.2, random_state=42)"
      ],
      "metadata": {
        "id": "Edn7wTYirM3O"
      },
      "execution_count": 28,
      "outputs": []
    },
    {
      "cell_type": "code",
      "source": [
        "from sklearn.feature_extraction.text import TfidfVectorizer\n",
        "\n",
        "# Тренування TF-IDF векторизатора\n",
        "tfidf_vectorizer = TfidfVectorizer(stop_words='english', max_features=10000)\n",
        "X_train_tfidf = tfidf_vectorizer.fit_transform(X_train)\n",
        "X_test_tfidf = tfidf_vectorizer.transform(X_test)"
      ],
      "metadata": {
        "id": "hy9UWz1KreSj"
      },
      "execution_count": 29,
      "outputs": []
    },
    {
      "cell_type": "code",
      "source": [
        "from sklearn.linear_model import LogisticRegression\n",
        "\n",
        "# Тренування моделі\n",
        "model = LogisticRegression(max_iter=1000)\n",
        "model.fit(X_train_tfidf, y_train)\n",
        "\n",
        "# Отримання прогнозів\n",
        "y_pred = model.predict(X_test_tfidf)"
      ],
      "metadata": {
        "id": "J7uoJ2RVrhEV"
      },
      "execution_count": 30,
      "outputs": []
    },
    {
      "cell_type": "code",
      "source": [
        "import pandas as pd\n",
        "import numpy as np\n",
        "\n",
        "# Перевірте типи даних\n",
        "print(\"Type of y_test:\", type(y_test))\n",
        "print(\"Type of y_pred:\", type(y_pred))\n",
        "\n",
        "# Перевірте унікальні значення\n",
        "print(\"Unique values in y_test:\", np.unique(y_test))\n",
        "print(\"Unique values in y_pred:\", np.unique(y_pred))\n",
        "\n",
        "# Конвертуйте в числові мітки, якщо це потрібно\n",
        "y_test = pd.Series(y_test).astype('category').cat.codes\n",
        "y_pred = pd.Series(y_pred).astype('category').cat.codes\n",
        "\n",
        "# Перевірте унікальні значення після конвертації\n",
        "print(\"Unique values in y_test after conversion:\", np.unique(y_test))\n",
        "print(\"Unique values in y_pred after conversion:\", np.unique(y_pred))\n",
        "\n",
        "# Тепер побудуйте матрицю плутанини\n",
        "from sklearn.metrics import confusion_matrix\n",
        "import matplotlib.pyplot as plt\n",
        "import seaborn as sns\n",
        "\n",
        "cm = confusion_matrix(y_test, y_pred, labels=[0, 1, 2])\n",
        "plt.figure(figsize=(10, 7))\n",
        "sns.heatmap(cm, annot=True, fmt='d', cmap='Blues', xticklabels=['negative', 'neutral', 'positive'], yticklabels=['negative', 'neutral', 'positive'])\n",
        "plt.xlabel('Predicted Label')\n",
        "plt.ylabel('True Label')\n",
        "plt.title('Confusion Matrix (TF-IDF)')\n",
        "plt.show()"
      ],
      "metadata": {
        "colab": {
          "base_uri": "https://localhost:8080/",
          "height": 750
        },
        "id": "NjHOg_-4ru7Z",
        "outputId": "500de7c6-15de-4462-d8a1-19fc402b5fa7"
      },
      "execution_count": 32,
      "outputs": [
        {
          "output_type": "stream",
          "name": "stdout",
          "text": [
            "Type of y_test: <class 'pandas.core.series.Series'>\n",
            "Type of y_pred: <class 'numpy.ndarray'>\n",
            "Unique values in y_test: ['negative' 'neutral' 'positive']\n",
            "Unique values in y_pred: ['negative' 'neutral' 'positive']\n",
            "Unique values in y_test after conversion: [0 1 2]\n",
            "Unique values in y_pred after conversion: [0 1 2]\n"
          ]
        },
        {
          "output_type": "display_data",
          "data": {
            "text/plain": [
              "<Figure size 1000x700 with 2 Axes>"
            ],
            "image/png": "[encoded data removed]"
          },
          "metadata": {}
        }
      ]
    },
    {
      "cell_type": "markdown",
      "source": [
        "І на фінал кернел для натхнення і ознайомлення з рішенням оригінальної задачі. Багато цікавих візуалізацій і аналізу є тут, а також тут розвʼязується саме проблема named entitty recognition і можна ознайомитись як це робиться - вона дещо складніша по своїй суті ніж класифікація, подумайте, чому:\n",
        "\n",
        "https://www.kaggle.com/code/tanulsingh077/twitter-sentiment-extaction-analysis-eda-and-model"
      ],
      "metadata": {
        "id": "lFi4VWwjRS3h"
      }
    },
    {
      "cell_type": "code",
      "source": [
        "# Отримання важливих слів для кожного класу\n",
        "feature_names = tfidf_vectorizer.get_feature_names_out()\n",
        "coef = model.coef_\n",
        "\n",
        "for i, class_name in enumerate(['negative', 'neutral', 'positive']):\n",
        "    top_indices = np.argsort(coef[i])[-10:]  # топ-10 слів\n",
        "    bottom_indices = np.argsort(coef[i])[:10]  # найменш важливі топ-10 слів\n",
        "\n",
        "    top_words = [feature_names[j] for j in top_indices]\n",
        "    top_scores = coef[i][top_indices]\n",
        "\n",
        "    bottom_words = [feature_names[j] for j in bottom_indices]\n",
        "    bottom_scores = coef[i][bottom_indices]\n",
        "\n",
        "    plt.figure(figsize=(10, 6))\n",
        "    plt.barh(top_words, top_scores, color='green', label='Important')\n",
        "    plt.barh(bottom_words, bottom_scores, color='red', label='Less Important')\n",
        "    plt.xlabel('TF-IDF Score')\n",
        "    plt.title(f'Important Words for Class {class_name} (TF-IDF)')\n",
        "    plt.legend()\n",
        "    plt.show()"
      ],
      "metadata": {
        "colab": {
          "base_uri": "https://localhost:8080/",
          "height": 1000
        },
        "id": "2zjPZXRZsRTR",
        "outputId": "dc12f16d-0110-4ae9-f785-62fa7256caee"
      },
      "execution_count": 38,
      "outputs": [
        {
          "output_type": "display_data",
          "data": {
            "text/plain": [
              "<Figure size 1000x600 with 1 Axes>"
            ],
            "image/png": "[encoded data removed]"
          },
          "metadata": {}
        },
        {
          "output_type": "display_data",
          "data": {
            "text/plain": [
              "<Figure size 1000x600 with 1 Axes>"
            ],
            "image/png": "[encoded data removed]"
          },
          "metadata": {}
        },
        {
          "output_type": "display_data",
          "data": {
            "text/plain": [
              "<Figure size 1000x600 with 1 Axes>"
            ],
            "image/png": "[encoded data removed]"
          },
          "metadata": {}
        }
      ]
    },
    {
      "cell_type": "markdown",
      "source": [
        "Візуалізації наведені вище дають нам більше розуміння щодо класифікації слів і подальшої їх обробки."
      ],
      "metadata": {
        "id": "gXquf3Rdskko"
      }
    }
  ]
}