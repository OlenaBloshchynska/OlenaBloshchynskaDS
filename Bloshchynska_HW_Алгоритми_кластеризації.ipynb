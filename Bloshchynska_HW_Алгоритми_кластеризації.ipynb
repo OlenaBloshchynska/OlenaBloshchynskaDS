{
  "nbformat": 4,
  "nbformat_minor": 0,
  "metadata": {
    "colab": {
      "provenance": []
    },
    "kernelspec": {
      "name": "python3",
      "display_name": "Python 3"
    },
    "language_info": {
      "name": "python"
    }
  },
  "cells": [
    {
      "cell_type": "markdown",
      "source": [
        "### Домашнє завдання: Кластеризація в Аналізі Персоналій Клієнтів\n",
        "\n",
        "#### Контекст\n",
        "В цьому ДЗ ми скористаємось алгоритмами кластеризації для задачі аналізу портретів клієнтів (Customer Personality Analysis).\n",
        "\n",
        "Customer Personality Analysis - це аналіз різних сегментів клієнтів компанії. Цей аналіз дозволяє бізнесу краще розуміти своїх клієнтів і полегшує процес адаптації продуктів під конкретні потреби, поведінку та інтереси різних типів клієнтів.\n",
        "\n",
        "Аналіз портретів клієнтів допомагає бізнесу змінювати свій продукт на основі цільової аудиторії, розділеної на різні сегменти. Наприклад, замість того, щоб витрачати гроші на маркетинг нового продукту для всіх клієнтів у базі даних компанії, бізнес може проаналізувати, який сегмент клієнтів найімовірніше придбає продукт, і потім зосередити маркетингові зусилля лише на цьому сегменті.\n",
        "\n",
        "#### Завдання\n",
        "На основі наданих даних в файлі `marketing_campaign.csv` потрібно виконати кластеризацію, щоб виявити сегменти клієнтів.\n",
        "\n",
        "#### Вхідні дані\n",
        "Вам надано набір даних з такими атрибутами:\n",
        "\n",
        "**Характеристики користувачів:**\n",
        "- `ID`: Унікальний ідентифікатор клієнта\n",
        "- `Year_Birth`: Рік народження клієнта\n",
        "- `Education`: Рівень освіти клієнта\n",
        "- `Marital_Status`: Сімейний стан клієнта\n",
        "- `Income`: Річний дохід домогосподарства клієнта\n",
        "- `Kidhome`: Кількість дітей у домогосподарстві клієнта\n",
        "- `Teenhome`: Кількість підлітків у домогосподарстві клієнта\n",
        "- `Dt_Customer`: Дата реєстрації клієнта у компанії\n",
        "- `Recency`: Кількість днів з моменту останньої покупки клієнта\n",
        "- `Complain`: 1, якщо клієнт скаржився за останні 2 роки, 0 - якщо ні\n",
        "\n",
        "**Продукти:**\n",
        "- `MntWines`: Сума, витрачена на вино за останні 2 роки\n",
        "- `MntFruits`: Сума, витрачена на фрукти за останні 2 роки\n",
        "- `MntMeatProducts`: Сума, витрачена на м'ясні продукти за останні 2 роки\n",
        "- `MntFishProducts`: Сума, витрачена на рибні продукти за останні 2 роки\n",
        "- `MntSweetProducts`: Сума, витрачена на солодощі за останні 2 роки\n",
        "- `MntGoldProds`: Сума, витрачена на золото за останні 2 роки\n",
        "\n",
        "**Акції:**\n",
        "- `NumDealsPurchases`: Кількість покупок, зроблених з використанням знижок\n",
        "- `AcceptedCmp1`: 1, якщо клієнт прийняв пропозицію у першій кампанії, 0 - якщо ні\n",
        "- `AcceptedCmp2`: 1, якщо клієнт прийняв пропозицію у другій кампанії, 0 - якщо ні\n",
        "- `AcceptedCmp3`: 1, якщо клієнт прийняв пропозицію у третій кампанії, 0 - якщо ні\n",
        "- `AcceptedCmp4`: 1, якщо клієнт прийняв пропозицію у четвертій кампанії, 0 - якщо ні\n",
        "- `AcceptedCmp5`: 1, якщо клієнт прийняв пропозицію у п'ятій кампанії, 0 - якщо ні\n",
        "- `Response`: 1, якщо клієнт прийняв пропозицію в останній кампанії, 0 - якщо ні\n",
        "\n",
        "**Взаємодія з компанією:**\n",
        "- `NumWebPurchases`: Кількість покупок, зроблених через вебсайт компанії\n",
        "- `NumCatalogPurchases`: Кількість покупок, зроблених за каталогом\n",
        "- `NumStorePurchases`: Кількість покупок, зроблених безпосередньо у магазинах\n",
        "- `NumWebVisitsMonth`: Кількість відвідувань вебсайту компанії за останній місяць\n"
      ],
      "metadata": {
        "id": "1VPFj5IQXeLe"
      }
    },
    {
      "cell_type": "markdown",
      "source": [
        "**Завдання 1**. Завантажте дані з `marketing_campaign.csv` в Pandas dataframe і виведіть основну інформацію про дані: скільки всього рядків і колонок, які типи даних мають колонки, скільки пропущених значень."
      ],
      "metadata": {
        "id": "rxo9AlJyYr1h"
      }
    },
    {
      "cell_type": "code",
      "source": [
        "import pandas as pd\n",
        "train_df = pd.read_csv('/content/drive/MyDrive/Colab Notebooks/marketing_campaign.csv')"
      ],
      "metadata": {
        "id": "IOFEKYRhvvNR"
      },
      "execution_count": 5,
      "outputs": []
    },
    {
      "cell_type": "code",
      "source": [
        "# Виводимо основну інформацію про дані\n",
        "print(\"Кількість рядків і колонок:\", train_df.shape)\n",
        "print(\"\\nТипи даних кожної колонки:\\n\", train_df.dtypes)\n",
        "print(\"\\nКількість пропущених значень у кожній колонці:\\n\", train_df.isnull().sum())"
      ],
      "metadata": {
        "colab": {
          "base_uri": "https://localhost:8080/"
        },
        "id": "2R3E2GjCDqLo",
        "outputId": "d84a5360-5c80-4d06-d390-c1a2f0e61906"
      },
      "execution_count": 6,
      "outputs": [
        {
          "output_type": "stream",
          "name": "stdout",
          "text": [
            "Кількість рядків і колонок: (2240, 29)\n",
            "\n",
            "Типи даних кожної колонки:\n",
            " ID                       int64\n",
            "Year_Birth               int64\n",
            "Education               object\n",
            "Marital_Status          object\n",
            "Income                 float64\n",
            "Kidhome                  int64\n",
            "Teenhome                 int64\n",
            "Dt_Customer             object\n",
            "Recency                  int64\n",
            "MntWines                 int64\n",
            "MntFruits                int64\n",
            "MntMeatProducts          int64\n",
            "MntFishProducts          int64\n",
            "MntSweetProducts         int64\n",
            "MntGoldProds             int64\n",
            "NumDealsPurchases        int64\n",
            "NumWebPurchases          int64\n",
            "NumCatalogPurchases      int64\n",
            "NumStorePurchases        int64\n",
            "NumWebVisitsMonth        int64\n",
            "AcceptedCmp3             int64\n",
            "AcceptedCmp4             int64\n",
            "AcceptedCmp5             int64\n",
            "AcceptedCmp1             int64\n",
            "AcceptedCmp2             int64\n",
            "Complain                 int64\n",
            "Z_CostContact            int64\n",
            "Z_Revenue                int64\n",
            "Response                 int64\n",
            "dtype: object\n",
            "\n",
            "Кількість пропущених значень у кожній колонці:\n",
            " ID                      0\n",
            "Year_Birth              0\n",
            "Education               0\n",
            "Marital_Status          0\n",
            "Income                 24\n",
            "Kidhome                 0\n",
            "Teenhome                0\n",
            "Dt_Customer             0\n",
            "Recency                 0\n",
            "MntWines                0\n",
            "MntFruits               0\n",
            "MntMeatProducts         0\n",
            "MntFishProducts         0\n",
            "MntSweetProducts        0\n",
            "MntGoldProds            0\n",
            "NumDealsPurchases       0\n",
            "NumWebPurchases         0\n",
            "NumCatalogPurchases     0\n",
            "NumStorePurchases       0\n",
            "NumWebVisitsMonth       0\n",
            "AcceptedCmp3            0\n",
            "AcceptedCmp4            0\n",
            "AcceptedCmp5            0\n",
            "AcceptedCmp1            0\n",
            "AcceptedCmp2            0\n",
            "Complain                0\n",
            "Z_CostContact           0\n",
            "Z_Revenue               0\n",
            "Response                0\n",
            "dtype: int64\n"
          ]
        }
      ]
    },
    {
      "cell_type": "code",
      "source": [
        "train_df.head()"
      ],
      "metadata": {
        "colab": {
          "base_uri": "https://localhost:8080/",
          "height": 255
        },
        "id": "GZFlM3GpEJ-q",
        "outputId": "fac178bd-5cf3-4ef5-cd9b-0c43eb82cb1d"
      },
      "execution_count": 7,
      "outputs": [
        {
          "output_type": "execute_result",
          "data": {
            "text/plain": [
              "     ID  Year_Birth   Education Marital_Status   Income  Kidhome  Teenhome  \\\n",
              "0  5524        1957  Graduation         Single  58138.0        0         0   \n",
              "1  2174        1954  Graduation         Single  46344.0        1         1   \n",
              "2  4141        1965  Graduation       Together  71613.0        0         0   \n",
              "3  6182        1984  Graduation       Together  26646.0        1         0   \n",
              "4  5324        1981         PhD        Married  58293.0        1         0   \n",
              "\n",
              "  Dt_Customer  Recency  MntWines  ...  NumWebVisitsMonth  AcceptedCmp3  \\\n",
              "0  04/09/2012       58       635  ...                  7             0   \n",
              "1  08/03/2014       38        11  ...                  5             0   \n",
              "2  21/08/2013       26       426  ...                  4             0   \n",
              "3  10/02/2014       26        11  ...                  6             0   \n",
              "4  19/01/2014       94       173  ...                  5             0   \n",
              "\n",
              "   AcceptedCmp4  AcceptedCmp5  AcceptedCmp1  AcceptedCmp2  Complain  \\\n",
              "0             0             0             0             0         0   \n",
              "1             0             0             0             0         0   \n",
              "2             0             0             0             0         0   \n",
              "3             0             0             0             0         0   \n",
              "4             0             0             0             0         0   \n",
              "\n",
              "   Z_CostContact  Z_Revenue  Response  \n",
              "0              3         11         1  \n",
              "1              3         11         0  \n",
              "2              3         11         0  \n",
              "3              3         11         0  \n",
              "4              3         11         0  \n",
              "\n",
              "[5 rows x 29 columns]"
            ],
            "text/html": [
              "\n",
              "  <div id=\"df-3314df3a-3a97-4f3f-8a3e-560b047b863e\" class=\"colab-df-container\">\n",
              "    <div>\n",
              "<style scoped>\n",
              "    .dataframe tbody tr th:only-of-type {\n",
              "        vertical-align: middle;\n",
              "    }\n",
              "\n",
              "    .dataframe tbody tr th {\n",
              "        vertical-align: top;\n",
              "    }\n",
              "\n",
              "    .dataframe thead th {\n",
              "        text-align: right;\n",
              "    }\n",
              "</style>\n",
              "<table border=\"1\" class=\"dataframe\">\n",
              "  <thead>\n",
              "    <tr style=\"text-align: right;\">\n",
              "      <th></th>\n",
              "      <th>ID</th>\n",
              "      <th>Year_Birth</th>\n",
              "      <th>Education</th>\n",
              "      <th>Marital_Status</th>\n",
              "      <th>Income</th>\n",
              "      <th>Kidhome</th>\n",
              "      <th>Teenhome</th>\n",
              "      <th>Dt_Customer</th>\n",
              "      <th>Recency</th>\n",
              "      <th>MntWines</th>\n",
              "      <th>...</th>\n",
              "      <th>NumWebVisitsMonth</th>\n",
              "      <th>AcceptedCmp3</th>\n",
              "      <th>AcceptedCmp4</th>\n",
              "      <th>AcceptedCmp5</th>\n",
              "      <th>AcceptedCmp1</th>\n",
              "      <th>AcceptedCmp2</th>\n",
              "      <th>Complain</th>\n",
              "      <th>Z_CostContact</th>\n",
              "      <th>Z_Revenue</th>\n",
              "      <th>Response</th>\n",
              "    </tr>\n",
              "  </thead>\n",
              "  <tbody>\n",
              "    <tr>\n",
              "      <th>0</th>\n",
              "      <td>5524</td>\n",
              "      <td>1957</td>\n",
              "      <td>Graduation</td>\n",
              "      <td>Single</td>\n",
              "      <td>58138.0</td>\n",
              "      <td>0</td>\n",
              "      <td>0</td>\n",
              "      <td>04/09/2012</td>\n",
              "      <td>58</td>\n",
              "      <td>635</td>\n",
              "      <td>...</td>\n",
              "      <td>7</td>\n",
              "      <td>0</td>\n",
              "      <td>0</td>\n",
              "      <td>0</td>\n",
              "      <td>0</td>\n",
              "      <td>0</td>\n",
              "      <td>0</td>\n",
              "      <td>3</td>\n",
              "      <td>11</td>\n",
              "      <td>1</td>\n",
              "    </tr>\n",
              "    <tr>\n",
              "      <th>1</th>\n",
              "      <td>2174</td>\n",
              "      <td>1954</td>\n",
              "      <td>Graduation</td>\n",
              "      <td>Single</td>\n",
              "      <td>46344.0</td>\n",
              "      <td>1</td>\n",
              "      <td>1</td>\n",
              "      <td>08/03/2014</td>\n",
              "      <td>38</td>\n",
              "      <td>11</td>\n",
              "      <td>...</td>\n",
              "      <td>5</td>\n",
              "      <td>0</td>\n",
              "      <td>0</td>\n",
              "      <td>0</td>\n",
              "      <td>0</td>\n",
              "      <td>0</td>\n",
              "      <td>0</td>\n",
              "      <td>3</td>\n",
              "      <td>11</td>\n",
              "      <td>0</td>\n",
              "    </tr>\n",
              "    <tr>\n",
              "      <th>2</th>\n",
              "      <td>4141</td>\n",
              "      <td>1965</td>\n",
              "      <td>Graduation</td>\n",
              "      <td>Together</td>\n",
              "      <td>71613.0</td>\n",
              "      <td>0</td>\n",
              "      <td>0</td>\n",
              "      <td>21/08/2013</td>\n",
              "      <td>26</td>\n",
              "      <td>426</td>\n",
              "      <td>...</td>\n",
              "      <td>4</td>\n",
              "      <td>0</td>\n",
              "      <td>0</td>\n",
              "      <td>0</td>\n",
              "      <td>0</td>\n",
              "      <td>0</td>\n",
              "      <td>0</td>\n",
              "      <td>3</td>\n",
              "      <td>11</td>\n",
              "      <td>0</td>\n",
              "    </tr>\n",
              "    <tr>\n",
              "      <th>3</th>\n",
              "      <td>6182</td>\n",
              "      <td>1984</td>\n",
              "      <td>Graduation</td>\n",
              "      <td>Together</td>\n",
              "      <td>26646.0</td>\n",
              "      <td>1</td>\n",
              "      <td>0</td>\n",
              "      <td>10/02/2014</td>\n",
              "      <td>26</td>\n",
              "      <td>11</td>\n",
              "      <td>...</td>\n",
              "      <td>6</td>\n",
              "      <td>0</td>\n",
              "      <td>0</td>\n",
              "      <td>0</td>\n",
              "      <td>0</td>\n",
              "      <td>0</td>\n",
              "      <td>0</td>\n",
              "      <td>3</td>\n",
              "      <td>11</td>\n",
              "      <td>0</td>\n",
              "    </tr>\n",
              "    <tr>\n",
              "      <th>4</th>\n",
              "      <td>5324</td>\n",
              "      <td>1981</td>\n",
              "      <td>PhD</td>\n",
              "      <td>Married</td>\n",
              "      <td>58293.0</td>\n",
              "      <td>1</td>\n",
              "      <td>0</td>\n",
              "      <td>19/01/2014</td>\n",
              "      <td>94</td>\n",
              "      <td>173</td>\n",
              "      <td>...</td>\n",
              "      <td>5</td>\n",
              "      <td>0</td>\n",
              "      <td>0</td>\n",
              "      <td>0</td>\n",
              "      <td>0</td>\n",
              "      <td>0</td>\n",
              "      <td>0</td>\n",
              "      <td>3</td>\n",
              "      <td>11</td>\n",
              "      <td>0</td>\n",
              "    </tr>\n",
              "  </tbody>\n",
              "</table>\n",
              "<p>5 rows × 29 columns</p>\n",
              "</div>\n",
              "    <div class=\"colab-df-buttons\">\n",
              "\n",
              "  <div class=\"colab-df-container\">\n",
              "    <button class=\"colab-df-convert\" onclick=\"convertToInteractive('df-3314df3a-3a97-4f3f-8a3e-560b047b863e')\"\n",
              "            title=\"Convert this dataframe to an interactive table.\"\n",
              "            style=\"display:none;\">\n",
              "\n",
              "  <svg xmlns=\"http://www.w3.org/2000/svg\" height=\"24px\" viewBox=\"0 -960 960 960\">\n",
              "    <path d=\"M120-120v-720h720v720H120Zm60-500h600v-160H180v160Zm220 220h160v-160H400v160Zm0 220h160v-160H400v160ZM180-400h160v-160H180v160Zm440 0h160v-160H620v160ZM180-180h160v-160H180v160Zm440 0h160v-160H620v160Z\"/>\n",
              "  </svg>\n",
              "    </button>\n",
              "\n",
              "  <style>\n",
              "    .colab-df-container {\n",
              "      display:flex;\n",
              "      gap: 12px;\n",
              "    }\n",
              "\n",
              "    .colab-df-convert {\n",
              "      background-color: #E8F0FE;\n",
              "      border: none;\n",
              "      border-radius: 50%;\n",
              "      cursor: pointer;\n",
              "      display: none;\n",
              "      fill: #1967D2;\n",
              "      height: 32px;\n",
              "      padding: 0 0 0 0;\n",
              "      width: 32px;\n",
              "    }\n",
              "\n",
              "    .colab-df-convert:hover {\n",
              "      background-color: #E2EBFA;\n",
              "      box-shadow: 0px 1px 2px rgba(60, 64, 67, 0.3), 0px 1px 3px 1px rgba(60, 64, 67, 0.15);\n",
              "      fill: #174EA6;\n",
              "    }\n",
              "\n",
              "    .colab-df-buttons div {\n",
              "      margin-bottom: 4px;\n",
              "    }\n",
              "\n",
              "    [theme=dark] .colab-df-convert {\n",
              "      background-color: #3B4455;\n",
              "      fill: #D2E3FC;\n",
              "    }\n",
              "\n",
              "    [theme=dark] .colab-df-convert:hover {\n",
              "      background-color: #434B5C;\n",
              "      box-shadow: 0px 1px 3px 1px rgba(0, 0, 0, 0.15);\n",
              "      filter: drop-shadow(0px 1px 2px rgba(0, 0, 0, 0.3));\n",
              "      fill: #FFFFFF;\n",
              "    }\n",
              "  </style>\n",
              "\n",
              "    <script>\n",
              "      const buttonEl =\n",
              "        document.querySelector('#df-3314df3a-3a97-4f3f-8a3e-560b047b863e button.colab-df-convert');\n",
              "      buttonEl.style.display =\n",
              "        google.colab.kernel.accessAllowed ? 'block' : 'none';\n",
              "\n",
              "      async function convertToInteractive(key) {\n",
              "        const element = document.querySelector('#df-3314df3a-3a97-4f3f-8a3e-560b047b863e');\n",
              "        const dataTable =\n",
              "          await google.colab.kernel.invokeFunction('convertToInteractive',\n",
              "                                                    [key], {});\n",
              "        if (!dataTable) return;\n",
              "\n",
              "        const docLinkHtml = 'Like what you see? Visit the ' +\n",
              "          '<a target=\"_blank\" href=https://colab.research.google.com/notebooks/data_table.ipynb>data table notebook</a>'\n",
              "          + ' to learn more about interactive tables.';\n",
              "        element.innerHTML = '';\n",
              "        dataTable['output_type'] = 'display_data';\n",
              "        await google.colab.output.renderOutput(dataTable, element);\n",
              "        const docLink = document.createElement('div');\n",
              "        docLink.innerHTML = docLinkHtml;\n",
              "        element.appendChild(docLink);\n",
              "      }\n",
              "    </script>\n",
              "  </div>\n",
              "\n",
              "\n",
              "<div id=\"df-f5c07937-8bb7-4390-9291-97659faf773a\">\n",
              "  <button class=\"colab-df-quickchart\" onclick=\"quickchart('df-f5c07937-8bb7-4390-9291-97659faf773a')\"\n",
              "            title=\"Suggest charts\"\n",
              "            style=\"display:none;\">\n",
              "\n",
              "<svg xmlns=\"http://www.w3.org/2000/svg\" height=\"24px\"viewBox=\"0 0 24 24\"\n",
              "     width=\"24px\">\n",
              "    <g>\n",
              "        <path d=\"M19 3H5c-1.1 0-2 .9-2 2v14c0 1.1.9 2 2 2h14c1.1 0 2-.9 2-2V5c0-1.1-.9-2-2-2zM9 17H7v-7h2v7zm4 0h-2V7h2v10zm4 0h-2v-4h2v4z\"/>\n",
              "    </g>\n",
              "</svg>\n",
              "  </button>\n",
              "\n",
              "<style>\n",
              "  .colab-df-quickchart {\n",
              "      --bg-color: #E8F0FE;\n",
              "      --fill-color: #1967D2;\n",
              "      --hover-bg-color: #E2EBFA;\n",
              "      --hover-fill-color: #174EA6;\n",
              "      --disabled-fill-color: #AAA;\n",
              "      --disabled-bg-color: #DDD;\n",
              "  }\n",
              "\n",
              "  [theme=dark] .colab-df-quickchart {\n",
              "      --bg-color: #3B4455;\n",
              "      --fill-color: #D2E3FC;\n",
              "      --hover-bg-color: #434B5C;\n",
              "      --hover-fill-color: #FFFFFF;\n",
              "      --disabled-bg-color: #3B4455;\n",
              "      --disabled-fill-color: #666;\n",
              "  }\n",
              "\n",
              "  .colab-df-quickchart {\n",
              "    background-color: var(--bg-color);\n",
              "    border: none;\n",
              "    border-radius: 50%;\n",
              "    cursor: pointer;\n",
              "    display: none;\n",
              "    fill: var(--fill-color);\n",
              "    height: 32px;\n",
              "    padding: 0;\n",
              "    width: 32px;\n",
              "  }\n",
              "\n",
              "  .colab-df-quickchart:hover {\n",
              "    background-color: var(--hover-bg-color);\n",
              "    box-shadow: 0 1px 2px rgba(60, 64, 67, 0.3), 0 1px 3px 1px rgba(60, 64, 67, 0.15);\n",
              "    fill: var(--button-hover-fill-color);\n",
              "  }\n",
              "\n",
              "  .colab-df-quickchart-complete:disabled,\n",
              "  .colab-df-quickchart-complete:disabled:hover {\n",
              "    background-color: var(--disabled-bg-color);\n",
              "    fill: var(--disabled-fill-color);\n",
              "    box-shadow: none;\n",
              "  }\n",
              "\n",
              "  .colab-df-spinner {\n",
              "    border: 2px solid var(--fill-color);\n",
              "    border-color: transparent;\n",
              "    border-bottom-color: var(--fill-color);\n",
              "    animation:\n",
              "      spin 1s steps(1) infinite;\n",
              "  }\n",
              "\n",
              "  @keyframes spin {\n",
              "    0% {\n",
              "      border-color: transparent;\n",
              "      border-bottom-color: var(--fill-color);\n",
              "      border-left-color: var(--fill-color);\n",
              "    }\n",
              "    20% {\n",
              "      border-color: transparent;\n",
              "      border-left-color: var(--fill-color);\n",
              "      border-top-color: var(--fill-color);\n",
              "    }\n",
              "    30% {\n",
              "      border-color: transparent;\n",
              "      border-left-color: var(--fill-color);\n",
              "      border-top-color: var(--fill-color);\n",
              "      border-right-color: var(--fill-color);\n",
              "    }\n",
              "    40% {\n",
              "      border-color: transparent;\n",
              "      border-right-color: var(--fill-color);\n",
              "      border-top-color: var(--fill-color);\n",
              "    }\n",
              "    60% {\n",
              "      border-color: transparent;\n",
              "      border-right-color: var(--fill-color);\n",
              "    }\n",
              "    80% {\n",
              "      border-color: transparent;\n",
              "      border-right-color: var(--fill-color);\n",
              "      border-bottom-color: var(--fill-color);\n",
              "    }\n",
              "    90% {\n",
              "      border-color: transparent;\n",
              "      border-bottom-color: var(--fill-color);\n",
              "    }\n",
              "  }\n",
              "</style>\n",
              "\n",
              "  <script>\n",
              "    async function quickchart(key) {\n",
              "      const quickchartButtonEl =\n",
              "        document.querySelector('#' + key + ' button');\n",
              "      quickchartButtonEl.disabled = true;  // To prevent multiple clicks.\n",
              "      quickchartButtonEl.classList.add('colab-df-spinner');\n",
              "      try {\n",
              "        const charts = await google.colab.kernel.invokeFunction(\n",
              "            'suggestCharts', [key], {});\n",
              "      } catch (error) {\n",
              "        console.error('Error during call to suggestCharts:', error);\n",
              "      }\n",
              "      quickchartButtonEl.classList.remove('colab-df-spinner');\n",
              "      quickchartButtonEl.classList.add('colab-df-quickchart-complete');\n",
              "    }\n",
              "    (() => {\n",
              "      let quickchartButtonEl =\n",
              "        document.querySelector('#df-f5c07937-8bb7-4390-9291-97659faf773a button');\n",
              "      quickchartButtonEl.style.display =\n",
              "        google.colab.kernel.accessAllowed ? 'block' : 'none';\n",
              "    })();\n",
              "  </script>\n",
              "</div>\n",
              "\n",
              "    </div>\n",
              "  </div>\n"
            ],
            "application/vnd.google.colaboratory.intrinsic+json": {
              "type": "dataframe",
              "variable_name": "train_df"
            }
          },
          "metadata": {},
          "execution_count": 7
        }
      ]
    },
    {
      "cell_type": "markdown",
      "source": [
        "**Завдання 2.** Заповніть пропущені значення з врахуванням того завдання (кластеризація), яке ми виконуємо. Поясніть свій вибір заповнення пропущених значень."
      ],
      "metadata": {
        "id": "bxikhv1PaMv6"
      }
    },
    {
      "cell_type": "code",
      "source": [
        "# Заповнення пропущених значень медіаною\n",
        "median_income = train_df['Income'].median()\n",
        "train_df['Income'].fillna(median_income, inplace=True)\n",
        "\n",
        "# Перевірка результатів\n",
        "print(\"Кількість пропущених значень у колонці 'Income' після заповнення:\", train_df['Income'].isnull().sum())"
      ],
      "metadata": {
        "id": "PNKBBwPivwcJ",
        "colab": {
          "base_uri": "https://localhost:8080/"
        },
        "outputId": "c873cbf0-31b3-473a-f0dc-5365432d7345"
      },
      "execution_count": 8,
      "outputs": [
        {
          "output_type": "stream",
          "name": "stdout",
          "text": [
            "Кількість пропущених значень у колонці 'Income' після заповнення: 0\n"
          ]
        }
      ]
    },
    {
      "cell_type": "markdown",
      "source": [
        "Заповнення пропущених значень медіаною краще для випадків з асиметричним розподілом доходів або наявністю викидів, що часто трапляється у маркетингових даних."
      ],
      "metadata": {
        "id": "Clg71pYLGSo0"
      }
    },
    {
      "cell_type": "markdown",
      "source": [
        "**Завдання 3.** У нас є декілька колонок з категоріальними значеннями та одна колонка з датою. Як би ви обробили ці колонки для того, аби передати їх в алгоритм кластеризації?\n",
        "\n",
        "Реалізуйте обробку категоріальних колонок і колонки з датою та перетворіть їх на ознаки, корисні для кластеризації з вашого погляду."
      ],
      "metadata": {
        "id": "HndFo_IMZSbk"
      }
    },
    {
      "cell_type": "code",
      "source": [
        "from sklearn.preprocessing import LabelEncoder\n",
        "\n",
        "# Label Encoding для категоріальних колонок\n",
        "le = LabelEncoder()\n",
        "train_df['Education'] = le.fit_transform(train_df['Education'])\n",
        "train_df['Marital_Status'] = le.fit_transform(train_df['Marital_Status'])"
      ],
      "metadata": {
        "id": "YU3E1WGnvyHd"
      },
      "execution_count": 9,
      "outputs": []
    },
    {
      "cell_type": "code",
      "source": [
        "# Перетворення колонки з датою в формат datetime з врахуванням формату дати\n",
        "train_df['Dt_Customer'] = pd.to_datetime(train_df['Dt_Customer'], dayfirst=True, errors='coerce')\n",
        "\n",
        "# Перевірка, чи все правильно конвертувалось\n",
        "print(train_df['Dt_Customer'].head())\n",
        "\n",
        "# Додавання нової ознаки - рік приєднання\n",
        "train_df['Year_Customer'] = train_df['Dt_Customer'].dt.year\n",
        "\n",
        "# Додавання нової ознаки - кількість днів з моменту приєднання\n",
        "current_date = pd.to_datetime('today')\n",
        "train_df['Days_Customer'] = (current_date - train_df['Dt_Customer']).dt.days\n",
        "\n",
        "# Видалення оригінальної колонки дати\n",
        "train_df.drop(columns=['Dt_Customer'], inplace=True)"
      ],
      "metadata": {
        "colab": {
          "base_uri": "https://localhost:8080/"
        },
        "id": "UUSZliPkG0kH",
        "outputId": "58db1281-6627-48d3-ed26-628ae45ca184"
      },
      "execution_count": 11,
      "outputs": [
        {
          "output_type": "stream",
          "name": "stdout",
          "text": [
            "0   2012-09-04\n",
            "1   2014-03-08\n",
            "2   2013-08-21\n",
            "3   2014-02-10\n",
            "4   2014-01-19\n",
            "Name: Dt_Customer, dtype: datetime64[ns]\n"
          ]
        }
      ]
    },
    {
      "cell_type": "code",
      "source": [
        "train_df.head()"
      ],
      "metadata": {
        "colab": {
          "base_uri": "https://localhost:8080/",
          "height": 255
        },
        "id": "-vg0_zTLHNLB",
        "outputId": "2219bc1e-1dc6-4e3d-9436-33863167ea7a"
      },
      "execution_count": 12,
      "outputs": [
        {
          "output_type": "execute_result",
          "data": {
            "text/plain": [
              "     ID  Year_Birth  Education  Marital_Status   Income  Kidhome  Teenhome  \\\n",
              "0  5524        1957          2               4  58138.0        0         0   \n",
              "1  2174        1954          2               4  46344.0        1         1   \n",
              "2  4141        1965          2               5  71613.0        0         0   \n",
              "3  6182        1984          2               5  26646.0        1         0   \n",
              "4  5324        1981          4               3  58293.0        1         0   \n",
              "\n",
              "   Recency  MntWines  MntFruits  ...  AcceptedCmp4  AcceptedCmp5  \\\n",
              "0       58       635         88  ...             0             0   \n",
              "1       38        11          1  ...             0             0   \n",
              "2       26       426         49  ...             0             0   \n",
              "3       26        11          4  ...             0             0   \n",
              "4       94       173         43  ...             0             0   \n",
              "\n",
              "   AcceptedCmp1  AcceptedCmp2  Complain  Z_CostContact  Z_Revenue  Response  \\\n",
              "0             0             0         0              3         11         1   \n",
              "1             0             0         0              3         11         0   \n",
              "2             0             0         0              3         11         0   \n",
              "3             0             0         0              3         11         0   \n",
              "4             0             0         0              3         11         0   \n",
              "\n",
              "   Year_Customer  Days_Customer  \n",
              "0           2012           4381  \n",
              "1           2014           3831  \n",
              "2           2013           4030  \n",
              "3           2014           3857  \n",
              "4           2014           3879  \n",
              "\n",
              "[5 rows x 30 columns]"
            ],
            "text/html": [
              "\n",
              "  <div id=\"df-88ebc6de-888b-4aac-bf27-271de59b792c\" class=\"colab-df-container\">\n",
              "    <div>\n",
              "<style scoped>\n",
              "    .dataframe tbody tr th:only-of-type {\n",
              "        vertical-align: middle;\n",
              "    }\n",
              "\n",
              "    .dataframe tbody tr th {\n",
              "        vertical-align: top;\n",
              "    }\n",
              "\n",
              "    .dataframe thead th {\n",
              "        text-align: right;\n",
              "    }\n",
              "</style>\n",
              "<table border=\"1\" class=\"dataframe\">\n",
              "  <thead>\n",
              "    <tr style=\"text-align: right;\">\n",
              "      <th></th>\n",
              "      <th>ID</th>\n",
              "      <th>Year_Birth</th>\n",
              "      <th>Education</th>\n",
              "      <th>Marital_Status</th>\n",
              "      <th>Income</th>\n",
              "      <th>Kidhome</th>\n",
              "      <th>Teenhome</th>\n",
              "      <th>Recency</th>\n",
              "      <th>MntWines</th>\n",
              "      <th>MntFruits</th>\n",
              "      <th>...</th>\n",
              "      <th>AcceptedCmp4</th>\n",
              "      <th>AcceptedCmp5</th>\n",
              "      <th>AcceptedCmp1</th>\n",
              "      <th>AcceptedCmp2</th>\n",
              "      <th>Complain</th>\n",
              "      <th>Z_CostContact</th>\n",
              "      <th>Z_Revenue</th>\n",
              "      <th>Response</th>\n",
              "      <th>Year_Customer</th>\n",
              "      <th>Days_Customer</th>\n",
              "    </tr>\n",
              "  </thead>\n",
              "  <tbody>\n",
              "    <tr>\n",
              "      <th>0</th>\n",
              "      <td>5524</td>\n",
              "      <td>1957</td>\n",
              "      <td>2</td>\n",
              "      <td>4</td>\n",
              "      <td>58138.0</td>\n",
              "      <td>0</td>\n",
              "      <td>0</td>\n",
              "      <td>58</td>\n",
              "      <td>635</td>\n",
              "      <td>88</td>\n",
              "      <td>...</td>\n",
              "      <td>0</td>\n",
              "      <td>0</td>\n",
              "      <td>0</td>\n",
              "      <td>0</td>\n",
              "      <td>0</td>\n",
              "      <td>3</td>\n",
              "      <td>11</td>\n",
              "      <td>1</td>\n",
              "      <td>2012</td>\n",
              "      <td>4381</td>\n",
              "    </tr>\n",
              "    <tr>\n",
              "      <th>1</th>\n",
              "      <td>2174</td>\n",
              "      <td>1954</td>\n",
              "      <td>2</td>\n",
              "      <td>4</td>\n",
              "      <td>46344.0</td>\n",
              "      <td>1</td>\n",
              "      <td>1</td>\n",
              "      <td>38</td>\n",
              "      <td>11</td>\n",
              "      <td>1</td>\n",
              "      <td>...</td>\n",
              "      <td>0</td>\n",
              "      <td>0</td>\n",
              "      <td>0</td>\n",
              "      <td>0</td>\n",
              "      <td>0</td>\n",
              "      <td>3</td>\n",
              "      <td>11</td>\n",
              "      <td>0</td>\n",
              "      <td>2014</td>\n",
              "      <td>3831</td>\n",
              "    </tr>\n",
              "    <tr>\n",
              "      <th>2</th>\n",
              "      <td>4141</td>\n",
              "      <td>1965</td>\n",
              "      <td>2</td>\n",
              "      <td>5</td>\n",
              "      <td>71613.0</td>\n",
              "      <td>0</td>\n",
              "      <td>0</td>\n",
              "      <td>26</td>\n",
              "      <td>426</td>\n",
              "      <td>49</td>\n",
              "      <td>...</td>\n",
              "      <td>0</td>\n",
              "      <td>0</td>\n",
              "      <td>0</td>\n",
              "      <td>0</td>\n",
              "      <td>0</td>\n",
              "      <td>3</td>\n",
              "      <td>11</td>\n",
              "      <td>0</td>\n",
              "      <td>2013</td>\n",
              "      <td>4030</td>\n",
              "    </tr>\n",
              "    <tr>\n",
              "      <th>3</th>\n",
              "      <td>6182</td>\n",
              "      <td>1984</td>\n",
              "      <td>2</td>\n",
              "      <td>5</td>\n",
              "      <td>26646.0</td>\n",
              "      <td>1</td>\n",
              "      <td>0</td>\n",
              "      <td>26</td>\n",
              "      <td>11</td>\n",
              "      <td>4</td>\n",
              "      <td>...</td>\n",
              "      <td>0</td>\n",
              "      <td>0</td>\n",
              "      <td>0</td>\n",
              "      <td>0</td>\n",
              "      <td>0</td>\n",
              "      <td>3</td>\n",
              "      <td>11</td>\n",
              "      <td>0</td>\n",
              "      <td>2014</td>\n",
              "      <td>3857</td>\n",
              "    </tr>\n",
              "    <tr>\n",
              "      <th>4</th>\n",
              "      <td>5324</td>\n",
              "      <td>1981</td>\n",
              "      <td>4</td>\n",
              "      <td>3</td>\n",
              "      <td>58293.0</td>\n",
              "      <td>1</td>\n",
              "      <td>0</td>\n",
              "      <td>94</td>\n",
              "      <td>173</td>\n",
              "      <td>43</td>\n",
              "      <td>...</td>\n",
              "      <td>0</td>\n",
              "      <td>0</td>\n",
              "      <td>0</td>\n",
              "      <td>0</td>\n",
              "      <td>0</td>\n",
              "      <td>3</td>\n",
              "      <td>11</td>\n",
              "      <td>0</td>\n",
              "      <td>2014</td>\n",
              "      <td>3879</td>\n",
              "    </tr>\n",
              "  </tbody>\n",
              "</table>\n",
              "<p>5 rows × 30 columns</p>\n",
              "</div>\n",
              "    <div class=\"colab-df-buttons\">\n",
              "\n",
              "  <div class=\"colab-df-container\">\n",
              "    <button class=\"colab-df-convert\" onclick=\"convertToInteractive('df-88ebc6de-888b-4aac-bf27-271de59b792c')\"\n",
              "            title=\"Convert this dataframe to an interactive table.\"\n",
              "            style=\"display:none;\">\n",
              "\n",
              "  <svg xmlns=\"http://www.w3.org/2000/svg\" height=\"24px\" viewBox=\"0 -960 960 960\">\n",
              "    <path d=\"M120-120v-720h720v720H120Zm60-500h600v-160H180v160Zm220 220h160v-160H400v160Zm0 220h160v-160H400v160ZM180-400h160v-160H180v160Zm440 0h160v-160H620v160ZM180-180h160v-160H180v160Zm440 0h160v-160H620v160Z\"/>\n",
              "  </svg>\n",
              "    </button>\n",
              "\n",
              "  <style>\n",
              "    .colab-df-container {\n",
              "      display:flex;\n",
              "      gap: 12px;\n",
              "    }\n",
              "\n",
              "    .colab-df-convert {\n",
              "      background-color: #E8F0FE;\n",
              "      border: none;\n",
              "      border-radius: 50%;\n",
              "      cursor: pointer;\n",
              "      display: none;\n",
              "      fill: #1967D2;\n",
              "      height: 32px;\n",
              "      padding: 0 0 0 0;\n",
              "      width: 32px;\n",
              "    }\n",
              "\n",
              "    .colab-df-convert:hover {\n",
              "      background-color: #E2EBFA;\n",
              "      box-shadow: 0px 1px 2px rgba(60, 64, 67, 0.3), 0px 1px 3px 1px rgba(60, 64, 67, 0.15);\n",
              "      fill: #174EA6;\n",
              "    }\n",
              "\n",
              "    .colab-df-buttons div {\n",
              "      margin-bottom: 4px;\n",
              "    }\n",
              "\n",
              "    [theme=dark] .colab-df-convert {\n",
              "      background-color: #3B4455;\n",
              "      fill: #D2E3FC;\n",
              "    }\n",
              "\n",
              "    [theme=dark] .colab-df-convert:hover {\n",
              "      background-color: #434B5C;\n",
              "      box-shadow: 0px 1px 3px 1px rgba(0, 0, 0, 0.15);\n",
              "      filter: drop-shadow(0px 1px 2px rgba(0, 0, 0, 0.3));\n",
              "      fill: #FFFFFF;\n",
              "    }\n",
              "  </style>\n",
              "\n",
              "    <script>\n",
              "      const buttonEl =\n",
              "        document.querySelector('#df-88ebc6de-888b-4aac-bf27-271de59b792c button.colab-df-convert');\n",
              "      buttonEl.style.display =\n",
              "        google.colab.kernel.accessAllowed ? 'block' : 'none';\n",
              "\n",
              "      async function convertToInteractive(key) {\n",
              "        const element = document.querySelector('#df-88ebc6de-888b-4aac-bf27-271de59b792c');\n",
              "        const dataTable =\n",
              "          await google.colab.kernel.invokeFunction('convertToInteractive',\n",
              "                                                    [key], {});\n",
              "        if (!dataTable) return;\n",
              "\n",
              "        const docLinkHtml = 'Like what you see? Visit the ' +\n",
              "          '<a target=\"_blank\" href=https://colab.research.google.com/notebooks/data_table.ipynb>data table notebook</a>'\n",
              "          + ' to learn more about interactive tables.';\n",
              "        element.innerHTML = '';\n",
              "        dataTable['output_type'] = 'display_data';\n",
              "        await google.colab.output.renderOutput(dataTable, element);\n",
              "        const docLink = document.createElement('div');\n",
              "        docLink.innerHTML = docLinkHtml;\n",
              "        element.appendChild(docLink);\n",
              "      }\n",
              "    </script>\n",
              "  </div>\n",
              "\n",
              "\n",
              "<div id=\"df-2a23eb6c-79ba-4921-bb4a-febe12f0e033\">\n",
              "  <button class=\"colab-df-quickchart\" onclick=\"quickchart('df-2a23eb6c-79ba-4921-bb4a-febe12f0e033')\"\n",
              "            title=\"Suggest charts\"\n",
              "            style=\"display:none;\">\n",
              "\n",
              "<svg xmlns=\"http://www.w3.org/2000/svg\" height=\"24px\"viewBox=\"0 0 24 24\"\n",
              "     width=\"24px\">\n",
              "    <g>\n",
              "        <path d=\"M19 3H5c-1.1 0-2 .9-2 2v14c0 1.1.9 2 2 2h14c1.1 0 2-.9 2-2V5c0-1.1-.9-2-2-2zM9 17H7v-7h2v7zm4 0h-2V7h2v10zm4 0h-2v-4h2v4z\"/>\n",
              "    </g>\n",
              "</svg>\n",
              "  </button>\n",
              "\n",
              "<style>\n",
              "  .colab-df-quickchart {\n",
              "      --bg-color: #E8F0FE;\n",
              "      --fill-color: #1967D2;\n",
              "      --hover-bg-color: #E2EBFA;\n",
              "      --hover-fill-color: #174EA6;\n",
              "      --disabled-fill-color: #AAA;\n",
              "      --disabled-bg-color: #DDD;\n",
              "  }\n",
              "\n",
              "  [theme=dark] .colab-df-quickchart {\n",
              "      --bg-color: #3B4455;\n",
              "      --fill-color: #D2E3FC;\n",
              "      --hover-bg-color: #434B5C;\n",
              "      --hover-fill-color: #FFFFFF;\n",
              "      --disabled-bg-color: #3B4455;\n",
              "      --disabled-fill-color: #666;\n",
              "  }\n",
              "\n",
              "  .colab-df-quickchart {\n",
              "    background-color: var(--bg-color);\n",
              "    border: none;\n",
              "    border-radius: 50%;\n",
              "    cursor: pointer;\n",
              "    display: none;\n",
              "    fill: var(--fill-color);\n",
              "    height: 32px;\n",
              "    padding: 0;\n",
              "    width: 32px;\n",
              "  }\n",
              "\n",
              "  .colab-df-quickchart:hover {\n",
              "    background-color: var(--hover-bg-color);\n",
              "    box-shadow: 0 1px 2px rgba(60, 64, 67, 0.3), 0 1px 3px 1px rgba(60, 64, 67, 0.15);\n",
              "    fill: var(--button-hover-fill-color);\n",
              "  }\n",
              "\n",
              "  .colab-df-quickchart-complete:disabled,\n",
              "  .colab-df-quickchart-complete:disabled:hover {\n",
              "    background-color: var(--disabled-bg-color);\n",
              "    fill: var(--disabled-fill-color);\n",
              "    box-shadow: none;\n",
              "  }\n",
              "\n",
              "  .colab-df-spinner {\n",
              "    border: 2px solid var(--fill-color);\n",
              "    border-color: transparent;\n",
              "    border-bottom-color: var(--fill-color);\n",
              "    animation:\n",
              "      spin 1s steps(1) infinite;\n",
              "  }\n",
              "\n",
              "  @keyframes spin {\n",
              "    0% {\n",
              "      border-color: transparent;\n",
              "      border-bottom-color: var(--fill-color);\n",
              "      border-left-color: var(--fill-color);\n",
              "    }\n",
              "    20% {\n",
              "      border-color: transparent;\n",
              "      border-left-color: var(--fill-color);\n",
              "      border-top-color: var(--fill-color);\n",
              "    }\n",
              "    30% {\n",
              "      border-color: transparent;\n",
              "      border-left-color: var(--fill-color);\n",
              "      border-top-color: var(--fill-color);\n",
              "      border-right-color: var(--fill-color);\n",
              "    }\n",
              "    40% {\n",
              "      border-color: transparent;\n",
              "      border-right-color: var(--fill-color);\n",
              "      border-top-color: var(--fill-color);\n",
              "    }\n",
              "    60% {\n",
              "      border-color: transparent;\n",
              "      border-right-color: var(--fill-color);\n",
              "    }\n",
              "    80% {\n",
              "      border-color: transparent;\n",
              "      border-right-color: var(--fill-color);\n",
              "      border-bottom-color: var(--fill-color);\n",
              "    }\n",
              "    90% {\n",
              "      border-color: transparent;\n",
              "      border-bottom-color: var(--fill-color);\n",
              "    }\n",
              "  }\n",
              "</style>\n",
              "\n",
              "  <script>\n",
              "    async function quickchart(key) {\n",
              "      const quickchartButtonEl =\n",
              "        document.querySelector('#' + key + ' button');\n",
              "      quickchartButtonEl.disabled = true;  // To prevent multiple clicks.\n",
              "      quickchartButtonEl.classList.add('colab-df-spinner');\n",
              "      try {\n",
              "        const charts = await google.colab.kernel.invokeFunction(\n",
              "            'suggestCharts', [key], {});\n",
              "      } catch (error) {\n",
              "        console.error('Error during call to suggestCharts:', error);\n",
              "      }\n",
              "      quickchartButtonEl.classList.remove('colab-df-spinner');\n",
              "      quickchartButtonEl.classList.add('colab-df-quickchart-complete');\n",
              "    }\n",
              "    (() => {\n",
              "      let quickchartButtonEl =\n",
              "        document.querySelector('#df-2a23eb6c-79ba-4921-bb4a-febe12f0e033 button');\n",
              "      quickchartButtonEl.style.display =\n",
              "        google.colab.kernel.accessAllowed ? 'block' : 'none';\n",
              "    })();\n",
              "  </script>\n",
              "</div>\n",
              "\n",
              "    </div>\n",
              "  </div>\n"
            ],
            "application/vnd.google.colaboratory.intrinsic+json": {
              "type": "dataframe",
              "variable_name": "train_df"
            }
          },
          "metadata": {},
          "execution_count": 12
        }
      ]
    },
    {
      "cell_type": "markdown",
      "source": [
        "**Завдання 4**.\n",
        "1. Запишіть в змінну X ті дані, які будете кластеризувати.\n",
        "2. Побудуйте кластеризацію з KMeans на 3 кластери.\n",
        "3. Обчисліть метрику силуету для цієї кластеризації."
      ],
      "metadata": {
        "id": "YYe1YDbdfreS"
      }
    },
    {
      "cell_type": "code",
      "source": [
        "# Збережемо дані для кластеризації у змінну X (усі числові колонки)\n",
        "X = train_df.copy()\n",
        "\n",
        "# Перевірка підготовлених даних\n",
        "print(X.head())"
      ],
      "metadata": {
        "id": "OE6DI9qpvzfp",
        "colab": {
          "base_uri": "https://localhost:8080/"
        },
        "outputId": "c87b4dae-965b-4a8a-a3e1-62a9d0f2bd79"
      },
      "execution_count": 13,
      "outputs": [
        {
          "output_type": "stream",
          "name": "stdout",
          "text": [
            "     ID  Year_Birth  Education  Marital_Status   Income  Kidhome  Teenhome  \\\n",
            "0  5524        1957          2               4  58138.0        0         0   \n",
            "1  2174        1954          2               4  46344.0        1         1   \n",
            "2  4141        1965          2               5  71613.0        0         0   \n",
            "3  6182        1984          2               5  26646.0        1         0   \n",
            "4  5324        1981          4               3  58293.0        1         0   \n",
            "\n",
            "   Recency  MntWines  MntFruits  ...  AcceptedCmp4  AcceptedCmp5  \\\n",
            "0       58       635         88  ...             0             0   \n",
            "1       38        11          1  ...             0             0   \n",
            "2       26       426         49  ...             0             0   \n",
            "3       26        11          4  ...             0             0   \n",
            "4       94       173         43  ...             0             0   \n",
            "\n",
            "   AcceptedCmp1  AcceptedCmp2  Complain  Z_CostContact  Z_Revenue  Response  \\\n",
            "0             0             0         0              3         11         1   \n",
            "1             0             0         0              3         11         0   \n",
            "2             0             0         0              3         11         0   \n",
            "3             0             0         0              3         11         0   \n",
            "4             0             0         0              3         11         0   \n",
            "\n",
            "   Year_Customer  Days_Customer  \n",
            "0           2012           4381  \n",
            "1           2014           3831  \n",
            "2           2013           4030  \n",
            "3           2014           3857  \n",
            "4           2014           3879  \n",
            "\n",
            "[5 rows x 30 columns]\n"
          ]
        }
      ]
    },
    {
      "cell_type": "code",
      "source": [
        "from sklearn.cluster import KMeans\n",
        "from sklearn.preprocessing import StandardScaler\n",
        "\n",
        "# Стандартизація даних\n",
        "scaler = StandardScaler()\n",
        "X_scaled = scaler.fit_transform(X)\n",
        "\n",
        "# Створення моделі KMeans з 3 кластерами\n",
        "kmeans = KMeans(n_clusters=3, random_state=42)\n",
        "kmeans.fit(X_scaled)\n",
        "\n",
        "# Отримання міток кластерів\n",
        "labels = kmeans.labels_\n",
        "\n",
        "# Додавання міток кластерів до DataFrame (необов'язково)\n",
        "train_df['Cluster'] = labels"
      ],
      "metadata": {
        "colab": {
          "base_uri": "https://localhost:8080/"
        },
        "id": "Xl1nMq93Hd0q",
        "outputId": "8bcec911-f0e1-49c5-ea24-8cf63ed4bd86"
      },
      "execution_count": 14,
      "outputs": [
        {
          "output_type": "stream",
          "name": "stderr",
          "text": [
            "/usr/local/lib/python3.10/dist-packages/sklearn/cluster/_kmeans.py:1416: FutureWarning: The default value of `n_init` will change from 10 to 'auto' in 1.4. Set the value of `n_init` explicitly to suppress the warning\n",
            "  super()._check_params_vs_input(X, default_n_init=10)\n"
          ]
        }
      ]
    },
    {
      "cell_type": "code",
      "source": [
        "from sklearn.metrics import silhouette_score\n",
        "\n",
        "# Обчислення метрики силуету\n",
        "silhouette_avg = silhouette_score(X_scaled, labels)\n",
        "\n",
        "print(f\"Середня метрика силуету для кластеризації: {silhouette_avg:.4f}\")"
      ],
      "metadata": {
        "colab": {
          "base_uri": "https://localhost:8080/"
        },
        "id": "dfhMtIFTHjyo",
        "outputId": "b2fb1617-06f1-4c2f-d313-4b6d9cdc5286"
      },
      "execution_count": 15,
      "outputs": [
        {
          "output_type": "stream",
          "name": "stdout",
          "text": [
            "Середня метрика силуету для кластеризації: 0.1464\n"
          ]
        }
      ]
    },
    {
      "cell_type": "markdown",
      "source": [
        "**Завдання 5.** Візуалізуйте знайдені кластери разом з наявними даними та проаналізуйте кластери. У нас ознак більше, ніж 2 або 3, тож, тут треба подумати, які саме ознаки варто використати для візуалізації аби вони були інформативними. Рекомендую точно звернути увагу на харакетиристики про дохід користувачів і те, як вони взаємодять з магазинок (кількість покупок і тд).\n",
        "\n",
        "Для візуалізації зручно може бути використати `plotly.express.scatter_3d` для 3D графіку розсіювання, але тут можна скористатись будь-яким зрозумілим і зручним для вас методом візуалізації. Опишіть свої спостереження, чи кластери мають сенс?"
      ],
      "metadata": {
        "id": "tQdwr_c-fa4j"
      }
    },
    {
      "cell_type": "code",
      "source": [
        "import plotly.express as px\n",
        "\n",
        "# Створення 3D графіку розсіювання\n",
        "fig = px.scatter_3d(train_df,\n",
        "                    x='Income',\n",
        "                    y='NumStorePurchases',\n",
        "                    z='NumWebPurchases',\n",
        "                    color='Cluster',  # Відображення кластерів за кольором\n",
        "                    symbol='Cluster',  # Додатково використаємо різні символи для кластерів\n",
        "                    title='3D візуалізація кластерів',\n",
        "                    labels={'Income':'Дохід', 'NumStorePurchases':'Покупки в магазині', 'NumWebPurchases':'Покупки онлайн'}\n",
        "                   )\n",
        "\n",
        "# Відображення графіку\n",
        "fig.show()"
      ],
      "metadata": {
        "id": "0P38ZcYrv1vt",
        "colab": {
          "base_uri": "https://localhost:8080/",
          "height": 542
        },
        "outputId": "7f002f03-94d8-4702-ac8b-2a993a671fa2"
      },
      "execution_count": 16,
      "outputs": [
        {
          "output_type": "display_data",
          "data": {
            "text/html": [
              "<html>\n",
              "<head><meta charset=\"utf-8\" /></head>\n",
              "<body>\n",
              "    <div>            <script src=\"https://cdnjs.cloudflare.com/ajax/libs/mathjax/2.7.5/MathJax.js?config=TeX-AMS-MML_SVG\"></script><script type=\"text/javascript\">if (window.MathJax && window.MathJax.Hub && window.MathJax.Hub.Config) {window.MathJax.Hub.Config({SVG: {font: \"STIX-Web\"}});}</script>                <script type=\"text/javascript\">window.PlotlyConfig = {MathJaxConfig: 'local'};</script>\n",
              "        <script charset=\"utf-8\" src=\"https://cdn.plot.ly/plotly-2.24.1.min.js\"></script>                <div id=\"97988acd-0645-4ca5-ad9a-8406accb29f3\" class=\"plotly-graph-div\" style=\"height:525px; width:100%;\"></div>            <script type=\"text/javascript\">                                    window.PLOTLYENV=window.PLOTLYENV || {};                                    if (document.getElementById(\"97988acd-0645-4ca5-ad9a-8406accb29f3\")) {                    Plotly.newPlot(                        \"97988acd-0645-4ca5-ad9a-8406accb29f3\",                        [{\"hovertemplate\":\"Cluster=%{marker.color}\\u003cbr\\u003e\\u0414\\u043e\\u0445\\u0456\\u0434=%{x}\\u003cbr\\u003e\\u041f\\u043e\\u043a\\u0443\\u043f\\u043a\\u0438 \\u0432 \\u043c\\u0430\\u0433\\u0430\\u0437\\u0438\\u043d\\u0456=%{y}\\u003cbr\\u003e\\u041f\\u043e\\u043a\\u0443\\u043f\\u043a\\u0438 \\u043e\\u043d\\u043b\\u0430\\u0439\\u043d=%{z}\\u003cextra\\u003e\\u003c\\u002fextra\\u003e\",\"legendgroup\":\"2\",\"marker\":{\"color\":[2,2,2,2,2,2,2,2,2,2,2,2,2,2,2,2,2,2,2,2,2,2,2,2,2,2,2,2,2,2,2,2,2,2,2,2,2,2,2,2,2,2,2,2,2,2,2,2,2,2,2,2,2,2,2,2,2,2,2,2,2,2,2,2,2,2,2,2,2,2,2,2,2,2,2,2,2,2,2,2,2,2,2,2,2,2,2,2,2,2,2,2,2,2,2,2,2,2,2,2,2,2,2,2,2,2,2,2,2,2,2,2,2,2,2,2,2,2,2,2,2,2,2,2,2,2,2,2,2,2,2,2,2,2,2,2,2,2,2,2,2,2,2,2,2,2,2,2,2,2,2,2,2,2,2,2,2,2,2,2,2,2,2,2,2,2,2,2,2,2,2,2,2,2,2,2,2,2,2,2,2,2,2,2,2,2,2,2,2,2,2,2,2,2,2,2,2,2,2,2,2,2,2,2,2,2,2,2,2,2,2,2,2,2,2,2,2,2,2,2,2,2,2,2,2,2,2,2,2,2,2,2,2,2,2,2,2,2,2,2,2,2,2,2,2,2,2,2,2,2,2,2,2,2,2,2,2,2,2,2,2,2,2,2,2,2,2,2,2,2,2,2,2,2,2,2,2,2,2,2,2,2,2,2,2,2,2,2,2,2,2,2,2,2,2,2,2,2,2,2,2,2,2,2,2,2,2,2,2,2,2,2,2,2,2,2,2,2,2,2,2,2,2,2,2,2,2,2,2,2,2,2,2,2,2,2,2,2,2,2,2,2,2,2,2,2,2,2,2,2,2,2,2,2,2,2,2,2,2,2,2,2,2,2,2,2,2,2,2,2,2,2,2,2,2,2,2,2,2,2,2,2,2,2,2,2,2,2,2,2,2,2,2,2,2,2,2,2,2,2,2,2,2,2,2,2,2,2,2,2,2,2,2,2,2,2,2,2,2,2,2,2,2,2,2,2,2,2,2,2,2,2,2,2,2,2,2,2,2,2,2,2,2,2,2,2,2,2,2,2,2,2,2,2,2,2,2,2,2,2,2,2,2,2,2,2,2,2,2,2,2,2,2,2,2,2,2,2,2,2,2,2,2,2,2,2,2,2,2,2,2,2,2,2,2,2,2,2,2,2,2,2,2,2,2,2,2,2,2,2,2,2,2,2,2,2,2,2,2,2,2,2,2,2,2,2,2,2,2,2,2,2,2,2,2,2,2,2,2,2,2,2,2,2,2],\"coloraxis\":\"coloraxis\",\"symbol\":\"circle\"},\"mode\":\"markers\",\"name\":\"2\",\"scene\":\"scene\",\"showlegend\":true,\"x\":[58138.0,63033.0,82800.0,2447.0,84618.0,68657.0,48948.0,80011.0,79941.0,79143.0,82582.0,82384.0,70287.0,75777.0,70666.0,88194.0,66991.0,75251.0,75825.0,81361.0,79593.0,51381.5,78497.0,85693.0,65846.0,87195.0,89058.0,77298.0,86037.0,90765.0,101970.0,71488.0,79607.0,73448.0,62981.0,92859.0,86111.0,69372.0,80317.0,157243.0,62551.0,66951.0,80427.0,83837.0,78497.0,74068.0,66973.0,80067.0,86718.0,75922.0,102160.0,77972.0,70951.0,83790.0,72460.0,79930.0,81975.0,73455.0,64961.0,73687.0,80134.0,67546.0,102692.0,80124.0,72940.0,69267.0,60714.0,77882.0,69867.0,75278.0,79946.0,82497.0,68627.0,80950.0,77457.0,51381.5,70893.0,62187.0,75693.0,83003.0,83532.0,68655.0,82623.0,84835.0,71952.0,69759.0,72099.0,68462.0,78618.0,79530.0,72025.0,90300.0,74293.0,68682.0,75276.0,75865.0,80134.0,91065.0,82584.0,93027.0,92910.0,75433.0,61314.0,84865.0,81246.0,89572.0,66664.0,70165.0,80124.0,66582.0,75261.0,61456.0,83151.0,78825.0,78952.0,76005.0,65665.0,81217.0,60152.0,89120.0,81169.0,71367.0,80184.0,73454.0,70503.0,77863.0,61839.0,72679.0,76982.0,84169.0,85620.0,81698.0,79908.0,87771.0,81741.0,62466.0,79800.0,92163.0,69882.0,72906.0,81168.0,72298.0,72635.0,84196.0,65488.0,62466.0,83917.0,84574.0,76140.0,77632.0,105471.0,98777.0,58330.0,70337.0,65295.0,68743.0,65777.0,86857.0,160803.0,77845.0,69476.0,61209.0,78468.0,90247.0,71952.0,76618.0,87305.0,72190.0,80395.0,75012.0,89891.0,89694.0,72025.0,67432.0,82224.0,83844.0,71163.0,63564.0,83443.0,58330.0,80952.0,75507.0,63855.0,78285.0,75127.0,74985.0,67430.0,78939.0,74250.0,72258.0,71466.0,62847.0,82017.0,73926.0,82716.0,48192.0,72504.0,73170.0,91820.0,76412.0,87771.0,78353.0,80995.0,81702.0,82504.0,81205.0,61618.0,82347.0,85710.0,70123.0,61346.0,80812.0,86424.0,86857.0,82072.0,68092.0,76630.0,48948.0,64090.0,78331.0,81320.0,66825.0,85072.0,86429.0,78420.0,75114.0,95529.0,62820.0,84169.0,74637.0,72354.0,83033.0,77583.0,74116.0,74293.0,68397.0,79632.0,75127.0,71796.0,82025.0,94384.0,70647.0,92955.0,84219.0,80573.0,83715.0,82576.0,80763.0,82170.0,75759.0,79689.0,85683.0,64449.0,75437.0,95169.0,83844.0,77568.0,70924.0,74538.0,91700.0,68695.0,79593.0,76081.0,77037.0,70924.0,69098.0,70596.0,72228.0,67605.0,42000.0,83528.0,67023.0,88347.0,87171.0,66294.0,79456.0,75345.0,84460.0,71691.0,85844.0,71367.0,80910.0,83829.0,76045.0,76773.0,81698.0,98777.0,63998.0,85606.0,72903.0,85696.0,63285.0,83145.0,56715.0,79410.0,80685.0,77142.0,81657.0,74214.0,90638.0,78579.0,78075.0,59184.0,66636.0,84618.0,74918.0,68682.0,77297.0,84906.0,76624.0,66000.0,69969.0,77766.0,74190.0,76653.0,90687.0,73450.0,83829.0,85485.0,71847.0,78687.0,49118.0,83151.0,78569.0,94384.0,71626.0,81051.0,65169.0,64857.0,74805.0,81843.0,77382.0,71604.0,71434.0,90842.0,88097.0,71853.0,85696.0,76542.0,70515.0,69109.0,80695.0,75154.0,92344.0,75507.0,80134.0,80589.0,65704.0,92533.0,78427.0,82657.0,78041.0,70038.0,77343.0,73892.0,68695.0,93790.0,83844.0,94871.0,64857.0,75484.0,79419.0,76998.0,87679.0,65492.0,68487.0,63206.0,78931.0,84219.0,79529.0,87188.0,69930.0,82032.0,74004.0,67786.0,65819.0,76800.0,76081.0,79865.0,82800.0,90638.0,81574.0,78093.0,82460.0,81361.0,75794.0,74268.0,76445.0,90226.0,68655.0,64509.0,55434.0,66664.0,69755.0,75774.0,58684.0,57136.0,82014.0,157146.0,72066.0,77766.0,86610.0,80141.0,72635.0,69016.0,70440.0,78789.0,81217.0,61787.0,86580.0,73705.0,64813.0,83512.0,77520.0,80398.0,92491.0,90273.0,82571.0,71107.0,82427.0,77437.0,70321.0,81795.0,80360.0,77981.0,71853.0,70596.0,85431.0,65370.0,77298.0,82122.0,75774.0,78416.0,75702.0,90369.0,63159.0,79734.0,63207.0,72071.0,72282.0,62568.0,52513.0,78394.0,80739.0,80336.0,84953.0,68148.0,86836.0,83257.0,72159.0,64260.0,82733.0,70116.0,70886.0,69109.0,82326.0,69932.0,72905.0,70643.0,86979.0,67546.0,88420.0,69719.0,90933.0,62820.0,92556.0,80573.0,77870.0,70932.0,91249.0,77598.0,70617.0,64849.0,75903.0,73356.0,72570.0,70792.0,63211.0,83891.0,80872.0,72335.0,76842.0,96843.0,71670.0,74485.0,77226.0,72643.0,85738.0,32632.0,94642.0,72968.0,91712.0,94472.0,96547.0,79205.0,63684.0,71964.0,96876.0,68281.0,61416.0,49767.0,65308.0,76467.0,81044.0,71128.0,70038.0,71866.0,42000.0,69520.0,64713.0,68487.0,51381.5,87000.0,79823.0,79244.0,80144.0,81929.0,78128.0,82332.0,72217.0,84906.0,82333.0,72309.0,65487.0,78499.0,69209.0,74859.0,72071.0,91172.0,90000.0,65706.0,60934.0,79174.0,81380.0,84117.0,65487.0,89616.0,82347.0,73807.0,88325.0,80617.0,82032.0,75777.0,51381.5,666666.0],\"y\":[4,8,12,0,10,9,5,5,9,13,7,13,10,11,4,10,6,5,9,13,7,8,12,11,6,5,4,11,11,5,13,7,6,9,13,12,10,6,10,0,4,7,8,5,12,9,12,6,5,9,10,9,9,6,7,8,4,10,4,9,6,5,13,8,6,5,10,5,8,13,5,9,6,9,10,12,10,5,6,8,4,11,4,6,8,5,10,8,10,11,8,8,6,10,9,10,11,9,8,5,13,10,12,9,7,9,6,11,8,9,5,13,4,13,12,13,8,11,12,7,9,7,10,6,9,10,4,5,4,6,4,13,7,4,7,12,5,5,9,9,7,6,6,7,6,12,7,11,6,6,13,9,13,12,13,13,6,10,1,12,4,4,10,7,8,5,8,4,12,11,8,4,13,4,5,11,12,7,5,13,11,6,13,10,5,7,12,6,4,5,10,4,7,12,13,12,6,6,12,8,4,11,4,12,7,7,8,10,10,4,10,5,12,10,13,10,11,5,4,7,10,6,10,7,8,5,7,6,6,9,6,10,9,10,6,5,9,5,4,6,5,13,9,10,13,13,12,6,7,9,13,10,12,10,4,11,8,7,5,5,7,7,4,12,7,9,12,8,6,11,8,13,9,11,5,4,6,4,5,7,7,8,6,11,11,5,9,11,9,8,9,13,11,4,5,10,8,8,5,10,4,5,12,9,10,6,10,9,12,7,5,6,11,11,11,8,11,6,6,9,8,10,10,4,5,8,12,13,10,10,12,12,5,7,13,8,6,9,10,4,7,5,6,5,6,6,5,10,11,10,10,9,8,9,8,7,12,11,4,10,6,4,8,10,13,13,6,13,10,9,6,12,7,4,6,10,7,4,5,12,10,8,5,6,13,12,5,13,12,11,9,13,6,12,8,12,7,12,0,6,11,6,10,6,13,7,5,11,6,5,8,10,10,7,12,12,7,13,13,12,13,13,7,5,7,6,12,7,13,11,13,8,10,13,6,8,6,6,8,9,5,9,5,9,13,4,6,6,12,10,4,7,12,4,7,6,11,9,4,5,5,8,5,4,6,13,13,5,12,6,13,7,6,9,5,12,10,7,10,10,8,7,10,6,12,12,7,11,8,9,8,11,5,8,4,8,5,9,13,10,8,12,5,10,12,8,10,11,5,7,13,11,7,7,7,8,10,6,12,8,12,10,8,6,4,6,11,8,7,5,12,11,7,10,6,6,12,10,11,9,8,7,11,1,3],\"z\":[8,3,7,0,6,3,7,8,2,6,4,3,5,3,7,11,4,7,5,3,5,2,5,9,6,3,5,6,6,4,6,3,3,7,4,5,5,10,3,0,6,3,11,9,5,4,8,4,5,4,7,4,3,8,3,3,6,6,6,3,5,4,6,3,3,3,7,3,3,6,5,2,2,6,2,6,6,4,11,7,4,4,2,4,8,4,3,3,4,4,4,5,5,4,9,3,2,7,3,7,6,2,5,2,4,7,5,3,3,2,5,6,5,5,2,3,5,3,6,5,5,4,6,2,2,4,4,4,8,7,3,3,5,5,6,6,5,5,3,3,6,4,6,8,3,6,6,9,5,4,9,4,6,2,3,11,2,5,0,3,4,5,10,3,8,3,5,5,6,3,11,4,4,8,6,4,3,10,6,6,8,8,7,6,2,3,11,8,2,6,4,3,5,6,6,2,5,5,5,5,5,10,8,7,3,5,3,7,6,5,5,4,6,5,3,2,3,7,6,10,4,4,3,7,3,3,7,3,7,6,2,11,4,4,5,6,6,2,9,3,5,4,6,3,4,2,2,5,5,9,4,2,5,8,4,4,10,6,8,8,4,5,4,7,6,7,3,6,2,5,4,3,4,6,4,5,5,9,4,6,4,3,4,4,2,8,4,7,6,7,4,6,5,7,3,6,4,3,8,3,5,3,6,3,6,5,4,5,5,5,1,4,11,4,4,6,7,4,6,6,4,9,5,4,5,5,5,10,7,4,5,5,8,7,4,6,2,4,4,6,6,5,6,5,8,5,5,2,6,3,7,4,4,3,3,4,6,4,8,7,7,4,11,7,4,9,4,2,3,4,10,4,4,4,3,5,4,4,5,7,3,4,4,5,3,7,4,2,4,4,6,5,5,3,7,5,7,3,0,4,11,5,7,6,8,5,4,3,8,4,9,7,4,8,5,7,5,6,7,3,4,6,4,4,7,2,3,2,2,6,3,7,7,10,4,3,4,2,5,5,5,9,4,3,2,3,4,6,5,4,4,8,2,5,6,5,7,3,5,5,4,4,2,4,3,3,4,5,6,7,7,3,9,6,5,4,3,3,4,4,10,1,6,5,6,6,3,3,4,5,5,9,5,7,6,8,5,7,2,10,5,7,2,5,2,4,6,5,9,5,9,5,4,6,4,3,4,8,5,3,5,4,5,3,11,5,6,5,4,4,11,6,5,4,7,3,7,7,5,6,4,4,3,0,3],\"type\":\"scatter3d\"},{\"hovertemplate\":\"Cluster=%{marker.color}\\u003cbr\\u003e\\u0414\\u043e\\u0445\\u0456\\u0434=%{x}\\u003cbr\\u003e\\u041f\\u043e\\u043a\\u0443\\u043f\\u043a\\u0438 \\u0432 \\u043c\\u0430\\u0433\\u0430\\u0437\\u0438\\u043d\\u0456=%{y}\\u003cbr\\u003e\\u041f\\u043e\\u043a\\u0443\\u043f\\u043a\\u0438 \\u043e\\u043d\\u043b\\u0430\\u0439\\u043d=%{z}\\u003cextra\\u003e\\u003c\\u002fextra\\u003e\",\"legendgroup\":\"0\",\"marker\":{\"color\":[0,0,0,0,0,0,0,0,0,0,0,0,0,0,0,0,0,0,0,0,0,0,0,0,0,0,0,0,0,0,0,0,0,0,0,0,0,0,0,0,0,0,0,0,0,0,0,0,0,0,0,0,0,0,0,0,0,0,0,0,0,0,0,0,0,0,0,0,0,0,0,0,0,0,0,0,0,0,0,0,0,0,0,0,0,0,0,0,0,0,0,0,0,0,0,0,0,0,0,0,0,0,0,0,0,0,0,0,0,0,0,0,0,0,0,0,0,0,0,0,0,0,0,0,0,0,0,0,0,0,0,0,0,0,0,0,0,0,0,0,0,0,0,0,0,0,0,0,0,0,0,0,0,0,0,0,0,0,0,0,0,0,0,0,0,0,0,0,0,0,0,0,0,0,0,0,0,0,0,0,0,0,0,0,0,0,0,0,0,0,0,0,0,0,0,0,0,0,0,0,0,0,0,0,0,0,0,0,0,0,0,0,0,0,0,0,0,0,0,0,0,0,0,0,0,0,0,0,0,0,0,0,0,0,0,0,0,0,0,0,0,0,0,0,0,0,0,0,0,0,0,0,0,0,0,0,0,0,0,0,0,0,0,0,0,0,0,0,0,0,0,0,0,0,0,0,0,0,0,0,0,0,0,0,0,0,0,0,0,0,0,0,0,0,0,0,0,0,0,0,0,0,0,0,0,0,0,0,0,0,0,0,0,0,0,0,0,0,0,0,0,0,0,0,0,0,0,0,0,0,0,0,0,0,0,0,0,0,0,0,0,0,0,0,0,0,0,0,0,0,0,0,0,0,0,0,0,0,0,0,0,0,0,0,0,0,0,0,0,0,0,0,0,0,0,0,0,0,0,0,0,0,0,0,0,0,0,0,0,0,0,0,0,0,0,0,0,0,0,0,0,0,0,0,0,0,0,0,0,0,0,0,0,0,0,0,0,0,0,0,0,0,0,0,0,0,0,0,0,0,0,0,0,0,0,0,0,0,0,0,0,0,0,0,0,0,0,0,0,0,0,0,0,0,0,0,0,0,0,0,0,0,0,0,0,0,0,0,0,0,0,0,0,0,0,0,0,0,0,0,0,0,0,0,0,0,0,0,0,0,0,0,0,0,0,0,0,0,0,0,0,0,0,0,0,0,0,0,0,0,0,0,0,0,0,0,0,0,0,0,0,0,0,0,0,0,0,0,0,0,0,0,0,0,0,0,0,0,0,0,0,0,0,0,0,0,0,0,0,0,0,0,0,0,0,0,0,0,0,0,0,0,0,0,0,0,0,0,0,0,0,0,0,0,0,0,0,0,0,0,0,0,0,0,0,0,0,0,0,0,0,0,0,0,0,0,0,0,0,0,0,0,0,0,0,0,0,0,0,0,0,0,0,0,0,0,0,0,0,0,0,0,0,0,0,0,0,0,0,0,0,0,0,0,0,0,0,0,0,0,0,0,0,0,0,0,0,0,0,0,0,0,0,0,0,0,0,0,0,0,0,0,0,0,0,0,0,0,0,0,0,0,0,0,0,0,0,0,0,0,0,0,0,0,0,0,0,0,0,0,0,0,0,0,0,0,0,0,0,0,0,0,0,0,0,0,0,0,0,0,0,0,0,0,0,0,0,0,0,0,0,0,0,0,0,0,0,0,0,0,0,0,0,0,0,0,0,0,0,0,0,0,0,0,0,0,0,0,0,0,0,0,0,0,0,0,0,0,0,0,0,0,0,0,0,0,0,0,0,0,0,0,0,0,0,0,0,0,0,0,0,0,0,0,0,0,0,0,0,0,0,0,0,0,0,0,0,0,0,0,0,0,0,0,0,0,0,0,0,0,0,0,0,0,0,0,0,0,0,0,0,0,0,0,0,0,0,0,0,0,0,0,0,0,0,0,0,0,0,0,0,0,0,0,0,0,0,0,0,0,0,0,0,0,0,0,0,0,0,0,0,0,0,0,0,0,0,0,0,0,0,0,0,0,0,0,0,0,0,0,0,0,0,0,0,0,0,0,0,0,0,0,0,0,0,0,0,0,0,0,0,0,0,0,0,0,0,0,0,0,0,0,0,0,0,0,0,0,0,0,0,0,0,0,0,0,0,0,0,0,0,0,0,0,0,0,0,0,0,0,0,0,0,0,0,0,0,0,0,0,0,0,0,0,0,0,0,0,0,0,0,0,0,0,0,0,0,0,0,0,0,0,0,0,0,0,0,0,0,0,0,0,0,0,0,0,0,0,0,0,0,0,0,0,0,0,0,0,0,0,0,0,0,0,0,0,0,0,0,0,0,0,0,0,0,0,0,0,0,0,0,0,0,0,0,0,0,0,0,0,0,0,0,0,0,0,0,0,0,0,0,0,0,0,0,0,0,0,0,0,0,0,0,0,0,0,0,0],\"coloraxis\":\"coloraxis\",\"symbol\":\"diamond\"},\"mode\":\"markers\",\"name\":\"0\",\"scene\":\"scene\",\"showlegend\":true,\"x\":[46344.0,26646.0,58293.0,33454.0,30351.0,5648.0,51381.5,7500.0,59354.0,17323.0,41850.0,33812.0,37040.0,18589.0,53359.0,38360.0,10979.0,38620.0,40548.0,49389.0,23718.0,42429.0,20559.0,21994.0,51381.5,7500.0,7500.0,41728.0,51381.5,35790.0,27938.0,51381.5,25721.0,32474.0,51381.5,28332.0,40246.0,26326.0,29760.0,26304.0,23559.0,38620.0,29440.0,36138.0,54178.0,51381.5,42394.0,23626.0,30096.0,51813.0,47823.0,34554.0,24594.0,49096.0,38557.0,50785.0,30753.0,21918.0,32557.0,19510.0,30992.0,54348.0,41551.0,9548.0,33762.0,35860.0,36921.0,41883.0,23957.0,38547.0,35688.0,49605.0,34176.0,60199.0,55375.0,30523.0,23228.0,43482.0,52332.0,26091.0,33456.0,28718.0,50447.0,53537.0,52074.0,38853.0,38285.0,51650.0,16248.0,30477.0,28249.0,25271.0,32303.0,45759.0,24882.0,36640.0,38872.0,51148.0,31353.0,46854.0,40637.0,18890.0,29604.0,44794.0,41443.0,52195.0,45204.0,30732.0,42011.0,34320.0,38590.0,15033.0,22212.0,23661.0,7500.0,60182.0,22804.0,31686.0,31160.0,29938.0,26490.0,30899.0,18701.0,40737.0,15287.0,44159.0,37717.0,38179.0,38097.0,22070.0,31788.0,61905.0,29315.0,33378.0,24480.0,44319.0,30631.0,32414.0,38361.0,16626.0,29672.0,35388.0,42386.0,35246.0,46377.0,39747.0,23976.0,27038.0,42670.0,12571.0,22574.0,54198.0,28839.0,40321.0,66503.0,30833.0,34421.0,47025.0,14849.0,27255.0,54432.0,29999.0,24072.0,33996.0,35178.0,22010.0,30675.0,41411.0,27190.0,44300.0,30372.0,33181.0,38643.0,50737.0,28442.0,37717.0,31615.0,35684.0,48178.0,29548.0,38578.0,46098.0,22585.0,30279.0,30822.0,33581.0,19986.0,35688.0,36143.0,10245.0,38823.0,62499.0,51012.0,43824.0,15345.0,23442.0,14515.0,31395.0,42373.0,30507.0,48006.0,27213.0,65808.0,30351.0,23616.0,46923.0,19789.0,37401.0,30096.0,18492.0,48686.0,10404.0,30015.0,50943.0,32011.0,7500.0,28691.0,56223.0,18100.0,30279.0,20130.0,23295.0,42618.0,24027.0,36230.0,70829.0,42207.0,50300.0,50520.0,33183.0,31880.0,37406.0,38415.0,20518.0,41644.0,38961.0,37760.0,32233.0,43057.0,14045.0,28457.0,46310.0,55563.0,27203.0,48330.0,24279.0,50943.0,34935.0,39665.0,36443.0,26095.0,30630.0,42691.0,25545.0,32880.0,50353.0,65316.0,28567.0,44931.0,22944.0,25315.0,43638.0,42710.0,24683.0,47850.0,19514.0,27159.0,39548.0,21474.0,22419.0,15315.0,33039.0,52157.0,29298.0,47691.0,38200.0,38443.0,38593.0,36959.0,51287.0,13260.0,47472.0,54603.0,47821.0,27450.0,39453.0,26850.0,24221.0,39684.0,33178.0,17459.0,23910.0,42169.0,26224.0,31089.0,30081.0,49618.0,21888.0,42429.0,26150.0,30801.0,26877.0,45006.0,18978.0,22574.0,45837.0,35791.0,162397.0,54162.0,31632.0,36975.0,13624.0,34487.0,28769.0,32218.0,46102.0,46463.0,55282.0,29103.0,50616.0,153924.0,61278.0,26490.0,46734.0,19986.0,25965.0,14661.0,18690.0,45068.0,21063.0,29187.0,54690.0,26751.0,36145.0,41039.0,38946.0,13084.0,47570.0,61923.0,34824.0,26518.0,71427.0,41335.0,35682.0,35178.0,25252.0,33249.0,50272.0,25851.0,45160.0,18988.0,7500.0,44794.0,56962.0,35946.0,17487.0,34941.0,48767.0,38702.0,17003.0,33697.0,40662.0,38829.0,35523.0,31626.0,48726.0,46891.0,33622.0,6835.0,41452.0,40760.0,51124.0,36283.0,20587.0,30467.0,31590.0,20425.0,17144.0,16813.0,51267.0,46524.0,19329.0,46984.0,34838.0,56850.0,26872.0,21359.0,30772.0,25804.0,22063.0,22419.0,37859.0,16529.0,55412.0,25130.0,35441.0,49494.0,45889.0,34026.0,34176.0,19419.0,49980.0,15072.0,30843.0,38576.0,37758.0,23228.0,44602.0,7500.0,38683.0,49514.0,19485.0,30545.0,21675.0,42395.0,39922.0,17117.0,24762.0,35797.0,36627.0,51111.0,46231.0,42243.0,31814.0,26868.0,37087.0,21846.0,54137.0,57100.0,45684.0,47889.0,45921.0,35641.0,46015.0,39858.0,34469.0,46107.0,25443.0,32892.0,14906.0,68274.0,39771.0,27922.0,52190.0,44051.0,42767.0,46106.0,16927.0,59041.0,41021.0,40233.0,50183.0,33471.0,34596.0,40706.0,15716.0,56962.0,35704.0,46779.0,4861.0,33462.0,35340.0,24884.0,64587.0,34824.0,26091.0,22434.0,19514.0,36736.0,49187.0,30168.0,34053.0,38196.0,54165.0,32300.0,20180.0,34961.0,28440.0,33564.0,17345.0,28647.0,15038.0,32173.0,31056.0,28071.0,37334.0,46423.0,37126.0,38998.0,8028.0,34728.0,33168.0,33585.0,28764.0,25959.0,27100.0,53312.0,35860.0,16860.0,22304.0,32892.0,39722.0,26907.0,50014.0,41014.0,36715.0,40479.0,24163.0,43776.0,39190.0,38578.0,57236.0,27590.0,38508.0,53187.0,30023.0,50870.0,15315.0,66480.0,54466.0,16269.0,33569.0,36262.0,22634.0,31605.0,52034.0,48526.0,46931.0,16581.0,25930.0,42693.0,49669.0,36778.0,10979.0,37155.0,21282.0,33419.0,21255.0,42162.0,26576.0,7500.0,54197.0,23091.0,44375.0,40344.0,48985.0,35322.0,14421.0,20130.0,23724.0,47353.0,33444.0,28510.0,43140.0,15056.0,26954.0,22327.0,44393.0,31497.0,45894.0,58401.0,62307.0,43641.0,46891.0,54809.0,51412.0,15287.0,18351.0,40451.0,36317.0,42160.0,33629.0,34377.0,8940.0,26228.0,40211.0,33438.0,22518.0,38452.0,44421.0,38197.0,41986.0,28427.0,37395.0,55249.0,28691.0,44213.0,25707.0,59062.0,27683.0,1730.0,7500.0,40521.0,20427.0,39356.0,35860.0,31454.0,47139.0,19656.0,45579.0,38808.0,23748.0,37368.0,40800.0,37633.0,33986.0,46831.0,15759.0,22804.0,43050.0,42997.0,48918.0,60033.0,34043.0,7500.0,157733.0,23148.0,44267.0,59060.0,27238.0,46094.0,40321.0,37235.0,37774.0,18393.0,24711.0,45503.0,6560.0,27244.0,35876.0,40049.0,39660.0,18929.0,24367.0,33249.0,26887.0,18227.0,69139.0,38136.0,33316.0,17256.0,37971.0,41335.0,67267.0,57338.0,50523.0,35791.0,21355.0,46390.0,54342.0,51381.5,51381.5,20895.0,51381.5,26907.0,44964.0,53761.0,22682.0,38887.0,41658.0,29791.0,39996.0,26759.0,37716.0,36947.0,36957.0,43142.0,34412.0,22634.0,51315.0,36026.0,24639.0,34578.0,54132.0,18690.0,28164.0,34596.0,43269.0,38741.0,27100.0,31163.0,34853.0,31086.0,20491.0,42523.0,39922.0,33402.0,36408.0,21645.0,51876.0,46053.0,40304.0,43300.0,26290.0,46015.0,16531.0,28072.0,41145.0,23162.0,34380.0,34704.0,39898.0,59892.0,41020.0,19414.0,19107.0,49854.0,42873.0,35765.0,32952.0,31163.0,46098.0,20981.0,51766.0,33039.0,37787.0,27242.0,37697.0,37401.0,3502.0,28087.0,19740.0,46098.0,23331.0,23331.0,9255.0,31928.0,51411.0,42386.0,30390.0,30983.0,37284.0,57530.0,37054.0,31859.0,27215.0,39922.0,24645.0,44322.0,38998.0,27161.0,45203.0,34935.0,34633.0,45903.0,35860.0,40442.0,61482.0,34968.0,31497.0,13724.0,52569.0,17144.0,36108.0,36663.0,44512.0,27116.0,54072.0,12393.0,33955.0,31353.0,28359.0,57100.0,69139.0,51717.0,18793.0,54414.0,54549.0,19444.0,36301.0,42731.0,52854.0,22775.0,44078.0,30560.0,35924.0,24594.0,39228.0,56551.0,22448.0,34213.0,25358.0,35544.0,34916.0,43602.0,33996.0,41473.0,36732.0,37929.0,20193.0,27573.0,15862.0,49544.0,33228.0,38232.0,22554.0,23536.0,42231.0,18169.0,24336.0,18222.0,42033.0,41437.0,38452.0,18358.0,9722.0,38175.0,54222.0,41154.0,18746.0,22108.0,44392.0,17688.0,38513.0,16653.0,23529.0,46910.0,18690.0,37244.0,42403.0,55761.0,37292.0,45576.0,28389.0,31859.0,30372.0,16014.0,41120.0,39763.0,38725.0,13533.0,21955.0,36802.0,28249.0,47808.0,25509.0,51012.0,42664.0,29760.0,28973.0,39435.0,20194.0,42473.0,34600.0,46904.0,36075.0,34026.0,48918.0,37697.0,34074.0,28520.0,36273.0,59385.0,44689.0,18701.0,37758.0,21840.0,32583.0,44635.0,33316.0,25293.0,22669.0,29236.0,44911.0,48186.0,54809.0,41580.0,32313.0,27071.0,4023.0,30093.0,25008.0,22280.0,58217.0,21024.0,11448.0,32889.0,34738.0,30538.0,26642.0,44503.0,49638.0,23830.0,30396.0,50616.0,30298.0,52413.0,44155.0,42081.0,31158.0,49160.0,24882.0,45759.0,22148.0,73395.0,29819.0,33235.0,35701.0,31535.0,18929.0,36038.0,20180.0,34230.0,31878.0,22701.0,61917.0,21059.0,29543.0,34984.0,34242.0,25410.0,28320.0,23763.0,34529.0,36065.0,39898.0,51141.0,29478.0,56551.0,44359.0,40887.0,48877.0,39062.0,34600.0,54690.0,38236.0,36781.0,31385.0,24570.0,25509.0,58646.0,21994.0,57113.0,51373.0,23477.0,39791.0,13672.0,32644.0,67506.0,24206.0,28420.0,22979.0,33279.0,46423.0,30368.0,39146.0,37284.0,36790.0,27943.0,22263.0,30261.0,28587.0,43815.0,48195.0,32765.0,29672.0,23272.0,7500.0,17649.0,40059.0,38680.0,29009.0,45057.0,43020.0,53154.0,32871.0,36927.0,48794.0,23478.0,38361.0,51381.5,42554.0,42192.0,31761.0,34350.0,25293.0,27889.0,22123.0,51381.5,51381.5,27803.0,30828.0,34109.0,22390.0,71322.0,48699.0,54252.0,53204.0,14796.0,14188.0,20425.0,58646.0,34587.0,43018.0,27733.0,25818.0,37509.0,25176.0,43586.0,50116.0,33590.0,30992.0,156924.0,16005.0,40590.0,20587.0,62637.0,29435.0,19346.0,35788.0,36997.0,23539.0,29732.0,41275.0,63516.0,42769.0,49572.0,17148.0,40590.0,30560.0,32146.0,41713.0,34176.0,59686.0,62994.0,15253.0,31560.0,41967.0,38946.0,26067.0,42523.0,26487.0,53233.0,25224.0,40851.0,27469.0,8820.0,43322.0,37085.0,16185.0,18929.0,35893.0,32144.0,14918.0,45146.0,38054.0,5305.0,36807.0,28427.0,22775.0,40101.0,7500.0,33562.0,24434.0,11012.0,26816.0,34421.0,52869.0],\"y\":[2,4,6,4,2,0,2,3,5,3,3,3,5,3,4,4,3,3,4,3,2,3,3,3,4,3,3,2,4,3,4,3,2,2,3,4,2,3,4,2,3,3,4,4,5,2,3,3,3,3,3,3,3,4,3,3,3,3,3,3,3,4,5,3,2,2,3,3,3,2,4,4,4,3,6,2,4,4,6,3,3,3,3,3,2,3,3,4,3,3,3,2,4,3,2,2,3,6,2,3,3,2,3,3,5,2,4,4,4,2,2,3,4,3,3,2,2,3,3,3,5,3,4,2,2,6,2,3,2,2,4,4,4,4,4,3,2,3,3,3,3,3,3,3,3,4,3,3,4,3,3,6,3,3,6,3,2,2,4,3,3,4,2,3,2,3,3,4,2,3,3,2,3,4,4,2,3,3,4,2,3,2,2,3,3,2,3,4,2,2,3,6,4,4,2,3,3,3,5,4,3,4,5,2,3,7,3,3,3,2,2,4,4,3,4,3,3,5,3,3,3,2,4,3,4,8,5,8,3,3,2,2,3,2,3,2,3,2,5,3,4,5,3,2,3,3,3,4,3,3,3,3,6,3,3,6,5,3,3,3,3,4,3,4,4,2,3,3,2,2,4,4,5,2,2,2,3,3,3,3,3,4,4,3,3,3,4,3,2,3,2,3,3,3,4,3,3,2,3,3,3,6,7,3,3,5,3,1,3,2,3,3,3,4,3,2,6,6,3,4,0,4,5,3,3,3,3,2,2,3,3,5,2,3,5,6,3,2,4,2,3,8,4,3,2,2,3,5,3,2,3,2,3,5,3,2,3,3,4,4,2,3,2,3,2,4,4,4,1,2,3,3,3,2,2,3,3,4,3,5,5,3,3,4,3,2,3,2,3,3,2,3,3,3,3,3,5,3,3,4,3,5,3,2,3,3,3,4,3,6,4,2,3,3,4,4,3,2,3,3,3,4,3,3,2,8,3,4,6,2,3,6,4,3,4,4,4,3,3,3,5,3,3,3,4,2,2,4,4,3,5,6,4,2,4,4,5,4,2,0,3,3,3,4,2,3,3,2,2,5,4,3,4,7,3,4,3,3,3,2,2,2,3,3,5,4,4,2,3,0,2,4,4,2,2,3,5,2,3,2,3,3,3,8,2,4,3,3,2,4,3,4,2,5,6,3,3,4,7,2,3,2,3,2,4,5,4,3,3,2,3,6,3,3,4,2,4,4,3,2,2,6,3,6,5,3,4,2,3,3,6,2,4,5,3,2,3,4,4,3,2,4,4,4,5,4,2,3,2,4,4,4,2,3,2,2,4,2,3,4,3,4,3,3,4,3,5,3,3,4,0,2,2,2,2,2,3,2,3,4,4,3,2,3,3,3,2,2,2,4,2,4,5,2,3,1,3,4,7,3,3,3,2,3,3,3,4,1,2,3,3,3,4,2,3,3,2,5,2,4,2,3,4,5,5,4,3,2,3,4,3,2,3,3,3,3,3,4,3,2,3,2,3,3,4,2,2,3,2,5,3,4,2,3,2,4,2,2,3,3,3,3,2,2,4,4,3,2,3,8,4,3,4,4,3,3,3,3,3,3,3,4,3,4,3,3,5,4,4,3,3,2,2,4,4,3,3,3,3,0,2,3,2,3,5,2,4,3,3,3,3,3,4,3,2,4,4,2,3,3,3,3,4,2,3,2,4,6,5,4,2,4,4,4,3,3,3,2,3,5,2,2,7,5,4,4,5,4,2,3,5,4,2,3,3,3,3,3,4,3,2,3,3,3,2,3,3,4,5,4,4,3,8,3,3,4,3,3,2,2,3,2,3,3,4,3,4,5,4,3,3,4,2,5,3,2,3,2,2,3,3,5,3,2,3,3,4,3,2,4,3,3,3,3,3,3,4,3,4,5,2,3,4,5,4,4,3,4,3,3,2,3,4,2,4,3,3,2,3,4,2,2,3,4,4,5,3,4,3,0,3,3,2,4,4,2,3,3,4,3,3,3,3,2,4,3,7,2,4,3,6,2,3,3,6,3,3,3,2,4,3,4,2,4,3,4,3,2,3,3,4,3,3,3,3,4,4,3,4,4,3,4,3,5,5,4,2,2,4,3,4,3,5,3,4,4,3,6,6,3,2,2,3,4,3,4,3,2,3,3,3,4,3,5,4,3,3,3,3,3,3,3,3,4,4,3,3,3,3,3,3,3,3,4,3,2,2,3,3,4,4,4,3,2,7,3,5,3,3,4,3,4,3,2,3,2,4,2,4,4,2,3,0,2,3,2,5,2,3,3,4,4,2,3,7,4,3,3,3,3,4,4,3,6,4,3,3,3,6,3,4,3,3,3,2,3,3,4,3,2,4,5,3,3,2,3,0,2,3,2,6,2,4,2,2,3,2,4],\"z\":[1,2,5,4,3,1,1,2,6,1,3,2,4,2,5,2,3,2,2,2,3,1,2,0,1,2,3,2,2,2,1,2,1,1,3,2,1,0,3,1,3,2,1,3,2,1,1,3,2,2,2,2,1,4,3,2,1,2,2,1,1,2,5,1,2,1,2,4,2,1,4,2,3,0,1,1,3,2,3,2,1,2,3,2,2,2,0,4,2,1,2,1,1,2,1,2,3,5,1,5,1,0,1,2,8,1,1,4,3,1,1,1,2,1,3,1,2,1,2,1,3,1,2,1,1,4,1,3,3,2,3,4,2,2,3,2,3,1,3,3,0,1,3,3,2,5,3,3,4,3,2,3,2,3,4,1,1,1,2,1,1,3,1,1,1,2,1,2,1,1,2,1,2,2,2,1,2,1,5,1,3,3,1,1,1,1,0,4,0,1,2,3,4,3,1,1,2,2,2,5,1,2,5,3,3,5,2,2,2,1,1,1,1,1,2,2,1,2,0,1,1,1,5,2,2,4,4,2,3,4,1,1,1,1,1,2,2,6,4,1,4,6,2,1,1,4,1,2,4,3,1,2,5,2,1,4,3,2,2,3,3,4,4,2,3,3,1,1,3,3,2,2,3,1,1,1,1,4,2,4,3,2,4,1,2,2,2,1,2,1,3,2,1,2,3,1,3,5,1,1,1,3,3,1,2,6,1,0,1,2,1,2,3,4,2,1,3,3,1,1,0,3,3,3,0,2,1,1,1,2,1,3,1,4,8,3,1,2,2,1,2,8,4,1,1,1,2,4,2,1,1,4,2,6,0,1,3,2,3,2,1,2,3,3,2,3,2,2,0,1,2,1,1,1,1,1,2,3,2,3,1,4,1,2,1,1,2,1,2,2,3,1,1,2,2,1,6,1,2,3,4,3,3,1,1,1,2,6,0,4,6,1,2,4,3,3,3,3,2,0,2,6,2,2,1,4,4,4,3,1,2,2,3,1,2,1,1,1,3,2,4,2,2,2,3,3,1,3,2,2,2,3,3,1,3,3,6,2,0,0,2,2,0,1,1,2,2,3,1,1,6,3,2,2,1,2,3,2,1,2,2,2,1,1,5,3,2,1,2,0,1,2,2,1,1,1,5,1,1,1,3,2,1,4,1,7,0,1,1,2,3,2,1,7,4,2,2,2,4,1,3,1,3,2,2,4,2,1,0,1,1,5,3,3,2,2,2,2,3,1,1,1,2,4,4,1,2,1,1,2,2,1,2,4,2,1,1,1,3,1,1,4,2,2,2,3,1,2,1,3,2,3,2,3,1,2,2,2,3,5,1,3,2,1,2,1,2,1,2,6,0,3,0,1,1,1,2,2,2,4,5,2,1,3,1,1,1,1,2,2,1,1,2,2,2,1,2,5,3,3,1,3,1,7,3,3,3,1,2,3,1,7,1,1,2,1,0,4,3,2,2,1,4,3,4,2,1,2,4,3,1,1,2,1,1,1,4,2,1,1,2,1,2,4,3,3,1,5,2,2,2,2,1,1,1,2,1,1,2,1,1,2,1,0,1,3,2,1,3,2,3,2,4,2,1,3,1,0,1,4,1,3,2,3,1,1,6,6,2,2,1,3,3,4,2,3,2,2,2,0,2,1,3,3,5,1,3,0,3,2,4,0,1,1,1,2,3,1,3,2,1,3,2,1,2,1,3,3,3,3,2,2,3,7,1,1,2,2,2,5,1,1,3,4,3,2,3,5,4,3,4,2,1,2,1,1,1,0,2,2,3,1,2,5,3,1,2,1,4,1,5,1,5,2,3,2,0,1,1,1,2,1,1,3,3,3,3,3,1,3,2,4,1,6,2,1,2,1,1,1,4,6,3,1,1,2,1,2,5,1,2,2,1,2,3,3,4,1,3,5,3,2,2,5,5,2,2,1,2,3,1,3,3,1,2,1,1,1,2,2,1,4,4,4,4,2,2,4,2,0,2,1,1,2,2,1,2,1,9,2,2,1,1,1,4,1,7,1,6,2,3,1,2,1,4,3,3,1,1,1,3,2,1,1,1,2,3,3,1,0,1,1,1,2,3,3,3,1,2,2,3,3,1,5,3,3,2,1,4,3,2,0,4,3,3,3,1,7,4,1,1,3,0,2,2,4,0,2,2,1,0,2,2,4,2,0,1,2,3,6,2,2,2,4,3,1,3,1,3,3,3,2,2,3,1,1,1,2,2,4,3,1,0,1,4,1,4,1,1,2,2,2,1,2,2,0,3,1,3,1,1,1,0,2,3,1,2,3,1,2,2,2,2,3,4,1,2,3,3,1,2,3,1,4,6,1,2,1,3,3,1,2,1,1,1,0,3,3,3,2,1,3,2,1,1,2,1,1,2,1,6,3,2,2,3,0,1,3],\"type\":\"scatter3d\"},{\"hovertemplate\":\"Cluster=%{marker.color}\\u003cbr\\u003e\\u0414\\u043e\\u0445\\u0456\\u0434=%{x}\\u003cbr\\u003e\\u041f\\u043e\\u043a\\u0443\\u043f\\u043a\\u0438 \\u0432 \\u043c\\u0430\\u0433\\u0430\\u0437\\u0438\\u043d\\u0456=%{y}\\u003cbr\\u003e\\u041f\\u043e\\u043a\\u0443\\u043f\\u043a\\u0438 \\u043e\\u043d\\u043b\\u0430\\u0439\\u043d=%{z}\\u003cextra\\u003e\\u003c\\u002fextra\\u003e\",\"legendgroup\":\"1\",\"marker\":{\"color\":[1,1,1,1,1,1,1,1,1,1,1,1,1,1,1,1,1,1,1,1,1,1,1,1,1,1,1,1,1,1,1,1,1,1,1,1,1,1,1,1,1,1,1,1,1,1,1,1,1,1,1,1,1,1,1,1,1,1,1,1,1,1,1,1,1,1,1,1,1,1,1,1,1,1,1,1,1,1,1,1,1,1,1,1,1,1,1,1,1,1,1,1,1,1,1,1,1,1,1,1,1,1,1,1,1,1,1,1,1,1,1,1,1,1,1,1,1,1,1,1,1,1,1,1,1,1,1,1,1,1,1,1,1,1,1,1,1,1,1,1,1,1,1,1,1,1,1,1,1,1,1,1,1,1,1,1,1,1,1,1,1,1,1,1,1,1,1,1,1,1,1,1,1,1,1,1,1,1,1,1,1,1,1,1,1,1,1,1,1,1,1,1,1,1,1,1,1,1,1,1,1,1,1,1,1,1,1,1,1,1,1,1,1,1,1,1,1,1,1,1,1,1,1,1,1,1,1,1,1,1,1,1,1,1,1,1,1,1,1,1,1,1,1,1,1,1,1,1,1,1,1,1,1,1,1,1,1,1,1,1,1,1,1,1,1,1,1,1,1,1,1,1,1,1,1,1,1,1,1,1,1,1,1,1,1,1,1,1,1,1,1,1,1,1,1,1,1,1,1,1,1,1,1,1,1,1,1,1,1,1,1,1,1,1,1,1,1,1,1,1,1,1,1,1,1,1,1,1,1,1,1,1,1,1,1,1,1,1,1,1,1,1,1,1,1,1,1,1,1,1,1,1,1,1,1,1,1,1,1,1,1,1,1,1,1,1,1,1,1,1,1,1,1,1,1,1,1,1,1,1,1,1,1,1,1,1,1,1,1,1,1,1,1,1,1,1,1,1,1,1,1,1,1,1,1,1,1,1,1,1,1,1,1,1,1,1,1,1,1,1,1,1,1,1,1,1,1,1,1,1,1,1,1,1,1,1,1,1,1,1,1,1,1,1,1,1,1,1,1,1,1,1,1,1,1,1,1,1,1,1,1,1,1,1,1,1,1,1,1,1,1,1,1,1,1,1,1,1,1,1,1,1,1,1,1,1,1,1,1,1,1,1,1,1,1,1,1,1,1,1,1,1,1,1,1,1,1,1,1,1,1,1,1,1,1,1,1,1,1,1,1,1,1,1,1,1,1,1,1,1,1,1,1,1,1,1,1,1,1,1,1,1,1,1,1,1,1,1,1,1,1,1,1,1,1,1,1,1,1,1,1,1,1,1,1,1,1,1,1,1,1,1,1,1,1,1,1,1,1,1,1,1,1,1,1,1,1,1,1,1,1,1,1,1,1,1,1,1,1,1,1,1,1,1,1,1,1,1,1,1,1,1,1,1,1,1,1,1,1,1,1,1,1,1,1,1,1,1,1,1,1,1,1,1,1,1,1],\"coloraxis\":\"coloraxis\",\"symbol\":\"square\"},\"mode\":\"markers\",\"name\":\"1\",\"scene\":\"scene\",\"showlegend\":true,\"x\":[71613.0,62513.0,55635.0,37760.0,76995.0,58607.0,65324.0,40689.0,51381.5,46610.0,67353.0,72550.0,65486.0,66373.0,55954.0,66653.0,61823.0,67680.0,69096.0,74854.0,65031.0,60631.0,56046.0,50388.0,51381.5,47916.0,50150.0,52413.0,68126.0,57288.0,43974.0,36550.0,56129.0,51381.5,77376.0,62998.0,61331.0,51381.5,65104.0,68352.0,59809.0,59354.0,65747.0,46344.0,61010.0,49967.0,70356.0,74165.0,66835.0,61286.0,69661.0,69142.0,63693.0,48721.0,64497.0,46097.0,44377.0,46014.0,44551.0,69508.0,77622.0,63887.0,51369.0,51537.0,37070.0,62745.0,79761.0,61074.0,75027.0,65176.0,75702.0,63342.0,45989.0,69674.0,43776.0,66313.0,63841.0,51369.0,37760.0,65640.0,50898.0,35416.0,55951.0,57912.0,58821.0,64100.0,51381.5,64795.0,64325.0,40464.0,66334.0,62204.0,55212.0,59292.0,71113.0,60000.0,65073.0,46681.0,62187.0,51479.0,54803.0,52614.0,63810.0,66426.0,27421.0,43795.0,63381.0,83664.0,70777.0,55521.0,50437.0,53858.0,66465.0,75072.0,49505.0,42387.0,67309.0,75236.0,67272.0,51529.0,55707.0,57959.0,56796.0,65991.0,38988.0,60597.0,53790.0,49269.0,56937.0,62503.0,55842.0,62010.0,41124.0,65104.0,60093.0,58308.0,55614.0,59432.0,78642.0,67911.0,65275.0,64355.0,53653.0,61250.0,48920.0,44124.0,49154.0,47682.0,57954.0,47352.0,57247.0,54058.0,60504.0,43462.0,54880.0,71499.0,48799.0,66565.0,44989.0,64413.0,61996.0,45207.0,40689.0,61794.0,53863.0,59973.0,62807.0,61467.0,48240.0,30522.0,54456.0,70971.0,69084.0,56181.0,63120.0,73691.0,63381.0,62859.0,45906.0,78710.0,66886.0,67445.0,49431.0,73059.0,56253.0,59304.0,59247.0,66731.0,77353.0,52614.0,81300.0,68118.0,66476.0,50611.0,42315.0,45938.0,78901.0,71022.0,43185.0,66375.0,55250.0,58398.0,58710.0,74806.0,59111.0,53593.0,66373.0,45072.0,70545.0,62882.0,64108.0,51518.0,62220.0,58512.0,79146.0,62058.0,72063.0,42720.0,42564.0,43783.0,40780.0,45183.0,70421.0,60161.0,61872.0,49681.0,55267.0,59666.0,52750.0,65968.0,22507.0,65685.0,57091.0,93404.0,48789.0,56575.0,71391.0,56628.0,40049.0,55284.0,49166.0,65324.0,46374.0,60474.0,55357.0,57906.0,43456.0,53172.0,62450.0,42835.0,51195.0,51390.0,55260.0,58917.0,52278.0,73113.0,42607.0,24401.0,64950.0,67536.0,55239.0,60554.0,64831.0,56067.0,51563.0,57937.0,67893.0,59754.0,53700.0,54237.0,52597.0,54753.0,44010.0,59052.0,53103.0,63693.0,65352.0,42021.0,52845.0,46086.0,78028.0,56337.0,36930.0,36130.0,65569.0,59412.0,64504.0,56320.0,68316.0,47703.0,61180.0,35196.0,44529.0,42557.0,62845.0,65196.0,65526.0,64176.0,70713.0,59925.0,46610.0,54233.0,61825.0,79803.0,56775.0,54210.0,65463.0,71819.0,47025.0,70566.0,46734.0,39552.0,86358.0,67381.0,49678.0,56129.0,54450.0,57744.0,57513.0,68142.0,46049.0,57304.0,54450.0,59594.0,62710.0,66726.0,54386.0,48070.0,54959.0,62000.0,67369.0,63841.0,70091.0,58113.0,50965.0,42213.0,65748.0,77044.0,56721.0,61559.0,75032.0,61284.0,54730.0,64722.0,65106.0,67433.0,74716.0,68118.0,55158.0,62972.0,53378.0,55956.0,64191.0,57183.0,66303.0,46149.0,39767.0,26997.0,57091.0,52531.0,57811.0,60894.0,50200.0,59868.0,65695.0,45143.0,47009.0,46692.0,72828.0,48752.0,51948.0,50127.0,43263.0,62845.0,50150.0,62061.0,69627.0,62159.0,58554.0,53034.0,52203.0,59601.0,47025.0,50611.0,56242.0,48904.0,56243.0,57420.0,51381.5,63915.0,63841.0,51039.0,60544.0,65685.0,36864.0,44511.0,47352.0,67087.0,57045.0,69389.0,57537.0,63810.0,31907.0,70844.0,60544.0,52852.0,69401.0,32727.0,38410.0,64866.0,57957.0,49476.0,50725.0,67419.0,65148.0,57072.0,60474.0,62807.0,70379.0,64014.0,60585.0,57867.0,53374.0,71706.0,53253.0,42014.0,54108.0,49667.0,57136.0,46772.0,53977.0,73538.0,55759.0,58597.0,57036.0,53083.0,69283.0,71969.0,59235.0,74881.0,51983.0,66033.0,63943.0,67445.0,47175.0,70179.0,49681.0,47958.0,63972.0,75315.0,55517.0,75283.0,42014.0,38201.0,60482.0,45143.0,48432.0,53843.0,70638.0,71855.0,51250.0,60432.0,65526.0,52973.0,50664.0,47111.0,41003.0,73059.0,46681.0,59821.0,50002.0,64140.0,56386.0,58494.0,36634.0,62670.0,50334.0,50729.0,64892.0,63246.0,69084.0,49413.0,56534.0,58350.0,49090.0,62335.0,61064.0,55012.0,58656.0,52117.0,35196.0,60230.0,55424.0,42586.0,74881.0,75342.0,70044.0,79146.0,54984.0,58086.0,66835.0,69901.0,63342.0,44989.0,51569.0,62905.0,59481.0,72117.0,67131.0,42586.0,64590.0,71232.0,49094.0,60839.0,62535.0,63404.0,37070.0,53977.0,7144.0,46757.0,58582.0,50387.0,63967.0,54111.0,54693.0,47743.0,62972.0,57333.0,65735.0,57705.0,74290.0,54006.0,69063.0,61825.0,60208.0,60200.0,33051.0,69702.0,70300.0,62772.0,76532.0,61671.0,113734.0,59292.0,45688.0,60491.0,67384.0,52278.0,57107.0,80982.0,55212.0,62694.0,67472.0,54998.0,54356.0,56939.0,61798.0,46998.0,70053.0,64474.0,55686.0,40794.0,4428.0,53201.0,58116.0,56559.0,41638.0,68805.0,65814.0,34445.0,77027.0,71322.0,49912.0,68117.0,67225.0,55914.0,60905.0,75330.0,60689.0,83273.0,37150.0,55801.0,76320.0,70179.0,59462.0,51381.5,67445.0,67046.0,77610.0,54591.0,51381.5,51651.0,56796.0,53367.0,49912.0,76068.0,67911.0,72967.0,48150.0,58275.0,44953.0,45736.0,66476.0,69805.0,53230.0,61286.0,65220.0,58692.0,65333.0,58482.0,60896.0,47320.0,69263.0,71965.0,65210.0,48432.0,52914.0,44325.0,67716.0,76234.0,73803.0,55593.0,50501.0,57731.0,48432.0,61014.0,41769.0,58025.0,57642.0,58554.0,63777.0,57967.0,44802.0,61223.0,64014.0,56981.0,69245.0],\"y\":[10,10,7,6,9,9,9,5,0,6,12,12,10,10,6,12,10,8,10,5,13,8,8,6,8,6,7,12,5,8,6,5,10,7,10,5,6,7,7,9,6,7,6,5,11,5,9,10,13,8,12,7,9,5,9,6,5,8,5,11,11,12,4,11,8,11,11,8,6,6,11,5,7,10,4,12,9,4,6,8,12,5,11,12,9,6,10,12,5,8,5,12,11,8,9,5,5,4,10,6,9,8,12,10,6,4,13,12,12,6,8,6,12,8,8,7,9,13,12,5,9,11,7,10,6,8,8,12,9,11,8,7,4,7,10,3,6,11,4,11,13,12,12,12,5,5,8,8,6,5,7,8,8,5,11,13,7,9,5,5,8,6,5,10,7,7,12,10,13,9,7,5,13,7,9,8,13,6,4,12,7,12,5,13,9,10,9,6,8,8,5,4,11,7,4,6,5,11,6,5,10,8,9,5,8,6,10,4,7,6,11,10,5,8,8,7,12,7,4,8,5,7,7,8,9,7,6,8,9,7,4,9,7,7,7,7,12,5,6,8,3,9,7,12,11,8,8,8,4,4,5,5,5,6,10,7,7,6,10,11,11,9,5,7,10,9,9,6,8,5,8,11,6,7,7,9,8,6,6,8,9,4,4,4,10,8,4,9,10,8,6,5,11,4,10,11,8,8,8,9,6,5,8,5,10,7,9,5,6,9,5,5,6,9,4,10,8,4,13,7,9,10,8,7,12,4,10,6,4,13,10,9,10,8,5,7,10,11,5,10,9,8,8,11,13,13,5,4,5,3,6,4,13,7,11,7,7,5,5,10,11,8,5,12,10,5,8,5,13,5,4,6,6,10,7,7,11,10,6,7,11,7,5,7,11,4,8,6,6,12,9,4,5,9,4,8,5,8,9,12,8,12,6,5,5,5,5,5,9,7,8,5,8,8,7,13,12,12,13,5,9,9,9,7,5,6,9,5,10,5,12,9,8,9,13,5,13,9,12,12,10,7,6,12,4,13,7,5,10,12,6,5,6,5,7,5,6,3,10,11,4,5,8,9,6,10,8,13,4,7,7,6,7,6,5,13,6,7,12,12,13,5,7,12,9,13,11,9,13,4,5,6,9,6,12,10,5,8,6,7,13,10,5,5,7,8,8,9,12,6,10,10,6,12,8,4,8,12,1,7,9,8,12,6,13,6,3,9,6,6,10,7,5,8,7,11,8,10,13,11,7,6,0,8,8,7,5,10,8,11,11,7,7,9,8,10,9,5,10,10,5,5,0,5,8,8,3,7,10,8,6,13,7,4,11,8,7,12,10,9,6,6,4,13,12,4,12,4,4,8,5,5,7,8,7,4,11,8,4,7,13,6,10,11,12,8,7,4,8,9,4,8,7,5,8,6,3,7,13,11,6,3,4,6,6,4,7,10,6,6,6,8,12,4,5,13,10],\"z\":[8,6,7,4,11,2,6,7,27,4,5,5,4,4,8,4,8,7,5,2,10,9,10,6,7,7,5,6,7,8,6,9,6,6,6,5,11,6,3,8,3,4,8,7,8,6,10,5,6,7,7,8,11,4,11,3,5,7,4,11,6,9,8,2,5,7,5,11,9,9,4,8,3,10,5,6,9,8,4,5,6,7,3,8,9,8,2,3,10,8,9,4,4,3,6,11,5,4,6,6,6,2,4,3,4,7,4,2,5,6,7,4,11,5,10,8,9,8,6,9,3,4,8,9,5,2,7,7,8,8,7,6,7,3,7,2,9,5,4,6,4,4,10,5,6,6,4,4,8,6,2,4,6,4,6,8,3,4,5,5,6,3,7,4,7,3,5,5,6,1,6,11,7,4,8,6,4,9,5,7,7,9,7,9,7,7,5,4,6,2,10,8,5,4,1,8,9,5,9,2,7,5,11,5,11,7,4,6,4,7,6,3,7,3,8,6,5,7,6,7,7,4,10,11,4,7,3,3,5,5,10,9,7,3,6,7,6,7,3,7,5,6,7,10,6,4,5,2,5,6,9,5,8,4,10,3,3,6,11,11,7,8,6,7,4,4,3,5,5,5,6,5,10,7,10,11,4,10,8,3,6,8,5,3,6,4,11,5,10,6,5,6,6,6,3,7,4,8,5,9,6,11,4,4,5,4,6,3,11,6,6,6,5,2,6,6,9,9,9,10,5,7,9,8,4,8,3,8,9,6,7,9,5,9,10,5,2,7,4,4,5,11,4,8,8,6,7,8,7,7,9,7,5,9,3,5,7,4,9,7,7,10,7,11,5,6,3,6,6,6,5,5,5,3,5,10,8,6,8,6,8,2,6,4,8,7,4,5,4,6,9,6,5,9,5,8,6,7,4,7,4,4,6,6,5,10,4,7,5,7,4,2,8,9,6,7,10,5,6,8,7,7,4,9,4,7,8,5,5,11,5,10,10,7,6,5,7,3,11,9,9,8,6,9,4,7,7,6,5,5,11,6,7,5,7,6,7,8,4,5,10,7,4,9,8,3,6,9,4,11,8,2,9,6,5,5,7,6,6,6,7,4,10,8,7,3,8,8,7,5,6,6,7,4,9,5,7,8,6,11,6,7,8,5,7,7,3,9,9,4,9,11,6,2,3,6,5,5,23,4,9,6,4,5,6,4,7,8,6,8,10,8,5,4,8,6,9,7,5,5,9,10,27,3,3,6,7,10,4,11,4,9,4,4,11,3,4,5,8,8,6,6,25,6,3,4,5,3,8,11,8,8,10,11,7,11,3,10,4,4,4,7,6,7,9,4,9,4,4,6,6,6,8,5,10,2,6,7,5,8,7,7,6,6,5,7,8,8,9,7,9,5,9,6,9,7,7,8,7,8,9,6,5,8,7,9,8,3,7,8,11,4,9,9,8,2,6],\"type\":\"scatter3d\"}],                        {\"template\":{\"data\":{\"histogram2dcontour\":[{\"type\":\"histogram2dcontour\",\"colorbar\":{\"outlinewidth\":0,\"ticks\":\"\"},\"colorscale\":[[0.0,\"#0d0887\"],[0.1111111111111111,\"#46039f\"],[0.2222222222222222,\"#7201a8\"],[0.3333333333333333,\"#9c179e\"],[0.4444444444444444,\"#bd3786\"],[0.5555555555555556,\"#d8576b\"],[0.6666666666666666,\"#ed7953\"],[0.7777777777777778,\"#fb9f3a\"],[0.8888888888888888,\"#fdca26\"],[1.0,\"#f0f921\"]]}],\"choropleth\":[{\"type\":\"choropleth\",\"colorbar\":{\"outlinewidth\":0,\"ticks\":\"\"}}],\"histogram2d\":[{\"type\":\"histogram2d\",\"colorbar\":{\"outlinewidth\":0,\"ticks\":\"\"},\"colorscale\":[[0.0,\"#0d0887\"],[0.1111111111111111,\"#46039f\"],[0.2222222222222222,\"#7201a8\"],[0.3333333333333333,\"#9c179e\"],[0.4444444444444444,\"#bd3786\"],[0.5555555555555556,\"#d8576b\"],[0.6666666666666666,\"#ed7953\"],[0.7777777777777778,\"#fb9f3a\"],[0.8888888888888888,\"#fdca26\"],[1.0,\"#f0f921\"]]}],\"heatmap\":[{\"type\":\"heatmap\",\"colorbar\":{\"outlinewidth\":0,\"ticks\":\"\"},\"colorscale\":[[0.0,\"#0d0887\"],[0.1111111111111111,\"#46039f\"],[0.2222222222222222,\"#7201a8\"],[0.3333333333333333,\"#9c179e\"],[0.4444444444444444,\"#bd3786\"],[0.5555555555555556,\"#d8576b\"],[0.6666666666666666,\"#ed7953\"],[0.7777777777777778,\"#fb9f3a\"],[0.8888888888888888,\"#fdca26\"],[1.0,\"#f0f921\"]]}],\"heatmapgl\":[{\"type\":\"heatmapgl\",\"colorbar\":{\"outlinewidth\":0,\"ticks\":\"\"},\"colorscale\":[[0.0,\"#0d0887\"],[0.1111111111111111,\"#46039f\"],[0.2222222222222222,\"#7201a8\"],[0.3333333333333333,\"#9c179e\"],[0.4444444444444444,\"#bd3786\"],[0.5555555555555556,\"#d8576b\"],[0.6666666666666666,\"#ed7953\"],[0.7777777777777778,\"#fb9f3a\"],[0.8888888888888888,\"#fdca26\"],[1.0,\"#f0f921\"]]}],\"contourcarpet\":[{\"type\":\"contourcarpet\",\"colorbar\":{\"outlinewidth\":0,\"ticks\":\"\"}}],\"contour\":[{\"type\":\"contour\",\"colorbar\":{\"outlinewidth\":0,\"ticks\":\"\"},\"colorscale\":[[0.0,\"#0d0887\"],[0.1111111111111111,\"#46039f\"],[0.2222222222222222,\"#7201a8\"],[0.3333333333333333,\"#9c179e\"],[0.4444444444444444,\"#bd3786\"],[0.5555555555555556,\"#d8576b\"],[0.6666666666666666,\"#ed7953\"],[0.7777777777777778,\"#fb9f3a\"],[0.8888888888888888,\"#fdca26\"],[1.0,\"#f0f921\"]]}],\"surface\":[{\"type\":\"surface\",\"colorbar\":{\"outlinewidth\":0,\"ticks\":\"\"},\"colorscale\":[[0.0,\"#0d0887\"],[0.1111111111111111,\"#46039f\"],[0.2222222222222222,\"#7201a8\"],[0.3333333333333333,\"#9c179e\"],[0.4444444444444444,\"#bd3786\"],[0.5555555555555556,\"#d8576b\"],[0.6666666666666666,\"#ed7953\"],[0.7777777777777778,\"#fb9f3a\"],[0.8888888888888888,\"#fdca26\"],[1.0,\"#f0f921\"]]}],\"mesh3d\":[{\"type\":\"mesh3d\",\"colorbar\":{\"outlinewidth\":0,\"ticks\":\"\"}}],\"scatter\":[{\"fillpattern\":{\"fillmode\":\"overlay\",\"size\":10,\"solidity\":0.2},\"type\":\"scatter\"}],\"parcoords\":[{\"type\":\"parcoords\",\"line\":{\"colorbar\":{\"outlinewidth\":0,\"ticks\":\"\"}}}],\"scatterpolargl\":[{\"type\":\"scatterpolargl\",\"marker\":{\"colorbar\":{\"outlinewidth\":0,\"ticks\":\"\"}}}],\"bar\":[{\"error_x\":{\"color\":\"#2a3f5f\"},\"error_y\":{\"color\":\"#2a3f5f\"},\"marker\":{\"line\":{\"color\":\"#E5ECF6\",\"width\":0.5},\"pattern\":{\"fillmode\":\"overlay\",\"size\":10,\"solidity\":0.2}},\"type\":\"bar\"}],\"scattergeo\":[{\"type\":\"scattergeo\",\"marker\":{\"colorbar\":{\"outlinewidth\":0,\"ticks\":\"\"}}}],\"scatterpolar\":[{\"type\":\"scatterpolar\",\"marker\":{\"colorbar\":{\"outlinewidth\":0,\"ticks\":\"\"}}}],\"histogram\":[{\"marker\":{\"pattern\":{\"fillmode\":\"overlay\",\"size\":10,\"solidity\":0.2}},\"type\":\"histogram\"}],\"scattergl\":[{\"type\":\"scattergl\",\"marker\":{\"colorbar\":{\"outlinewidth\":0,\"ticks\":\"\"}}}],\"scatter3d\":[{\"type\":\"scatter3d\",\"line\":{\"colorbar\":{\"outlinewidth\":0,\"ticks\":\"\"}},\"marker\":{\"colorbar\":{\"outlinewidth\":0,\"ticks\":\"\"}}}],\"scattermapbox\":[{\"type\":\"scattermapbox\",\"marker\":{\"colorbar\":{\"outlinewidth\":0,\"ticks\":\"\"}}}],\"scatterternary\":[{\"type\":\"scatterternary\",\"marker\":{\"colorbar\":{\"outlinewidth\":0,\"ticks\":\"\"}}}],\"scattercarpet\":[{\"type\":\"scattercarpet\",\"marker\":{\"colorbar\":{\"outlinewidth\":0,\"ticks\":\"\"}}}],\"carpet\":[{\"aaxis\":{\"endlinecolor\":\"#2a3f5f\",\"gridcolor\":\"white\",\"linecolor\":\"white\",\"minorgridcolor\":\"white\",\"startlinecolor\":\"#2a3f5f\"},\"baxis\":{\"endlinecolor\":\"#2a3f5f\",\"gridcolor\":\"white\",\"linecolor\":\"white\",\"minorgridcolor\":\"white\",\"startlinecolor\":\"#2a3f5f\"},\"type\":\"carpet\"}],\"table\":[{\"cells\":{\"fill\":{\"color\":\"#EBF0F8\"},\"line\":{\"color\":\"white\"}},\"header\":{\"fill\":{\"color\":\"#C8D4E3\"},\"line\":{\"color\":\"white\"}},\"type\":\"table\"}],\"barpolar\":[{\"marker\":{\"line\":{\"color\":\"#E5ECF6\",\"width\":0.5},\"pattern\":{\"fillmode\":\"overlay\",\"size\":10,\"solidity\":0.2}},\"type\":\"barpolar\"}],\"pie\":[{\"automargin\":true,\"type\":\"pie\"}]},\"layout\":{\"autotypenumbers\":\"strict\",\"colorway\":[\"#636efa\",\"#EF553B\",\"#00cc96\",\"#ab63fa\",\"#FFA15A\",\"#19d3f3\",\"#FF6692\",\"#B6E880\",\"#FF97FF\",\"#FECB52\"],\"font\":{\"color\":\"#2a3f5f\"},\"hovermode\":\"closest\",\"hoverlabel\":{\"align\":\"left\"},\"paper_bgcolor\":\"white\",\"plot_bgcolor\":\"#E5ECF6\",\"polar\":{\"bgcolor\":\"#E5ECF6\",\"angularaxis\":{\"gridcolor\":\"white\",\"linecolor\":\"white\",\"ticks\":\"\"},\"radialaxis\":{\"gridcolor\":\"white\",\"linecolor\":\"white\",\"ticks\":\"\"}},\"ternary\":{\"bgcolor\":\"#E5ECF6\",\"aaxis\":{\"gridcolor\":\"white\",\"linecolor\":\"white\",\"ticks\":\"\"},\"baxis\":{\"gridcolor\":\"white\",\"linecolor\":\"white\",\"ticks\":\"\"},\"caxis\":{\"gridcolor\":\"white\",\"linecolor\":\"white\",\"ticks\":\"\"}},\"coloraxis\":{\"colorbar\":{\"outlinewidth\":0,\"ticks\":\"\"}},\"colorscale\":{\"sequential\":[[0.0,\"#0d0887\"],[0.1111111111111111,\"#46039f\"],[0.2222222222222222,\"#7201a8\"],[0.3333333333333333,\"#9c179e\"],[0.4444444444444444,\"#bd3786\"],[0.5555555555555556,\"#d8576b\"],[0.6666666666666666,\"#ed7953\"],[0.7777777777777778,\"#fb9f3a\"],[0.8888888888888888,\"#fdca26\"],[1.0,\"#f0f921\"]],\"sequentialminus\":[[0.0,\"#0d0887\"],[0.1111111111111111,\"#46039f\"],[0.2222222222222222,\"#7201a8\"],[0.3333333333333333,\"#9c179e\"],[0.4444444444444444,\"#bd3786\"],[0.5555555555555556,\"#d8576b\"],[0.6666666666666666,\"#ed7953\"],[0.7777777777777778,\"#fb9f3a\"],[0.8888888888888888,\"#fdca26\"],[1.0,\"#f0f921\"]],\"diverging\":[[0,\"#8e0152\"],[0.1,\"#c51b7d\"],[0.2,\"#de77ae\"],[0.3,\"#f1b6da\"],[0.4,\"#fde0ef\"],[0.5,\"#f7f7f7\"],[0.6,\"#e6f5d0\"],[0.7,\"#b8e186\"],[0.8,\"#7fbc41\"],[0.9,\"#4d9221\"],[1,\"#276419\"]]},\"xaxis\":{\"gridcolor\":\"white\",\"linecolor\":\"white\",\"ticks\":\"\",\"title\":{\"standoff\":15},\"zerolinecolor\":\"white\",\"automargin\":true,\"zerolinewidth\":2},\"yaxis\":{\"gridcolor\":\"white\",\"linecolor\":\"white\",\"ticks\":\"\",\"title\":{\"standoff\":15},\"zerolinecolor\":\"white\",\"automargin\":true,\"zerolinewidth\":2},\"scene\":{\"xaxis\":{\"backgroundcolor\":\"#E5ECF6\",\"gridcolor\":\"white\",\"linecolor\":\"white\",\"showbackground\":true,\"ticks\":\"\",\"zerolinecolor\":\"white\",\"gridwidth\":2},\"yaxis\":{\"backgroundcolor\":\"#E5ECF6\",\"gridcolor\":\"white\",\"linecolor\":\"white\",\"showbackground\":true,\"ticks\":\"\",\"zerolinecolor\":\"white\",\"gridwidth\":2},\"zaxis\":{\"backgroundcolor\":\"#E5ECF6\",\"gridcolor\":\"white\",\"linecolor\":\"white\",\"showbackground\":true,\"ticks\":\"\",\"zerolinecolor\":\"white\",\"gridwidth\":2}},\"shapedefaults\":{\"line\":{\"color\":\"#2a3f5f\"}},\"annotationdefaults\":{\"arrowcolor\":\"#2a3f5f\",\"arrowhead\":0,\"arrowwidth\":1},\"geo\":{\"bgcolor\":\"white\",\"landcolor\":\"#E5ECF6\",\"subunitcolor\":\"white\",\"showland\":true,\"showlakes\":true,\"lakecolor\":\"white\"},\"title\":{\"x\":0.05},\"mapbox\":{\"style\":\"light\"}}},\"scene\":{\"domain\":{\"x\":[0.0,1.0],\"y\":[0.0,1.0]},\"xaxis\":{\"title\":{\"text\":\"\\u0414\\u043e\\u0445\\u0456\\u0434\"}},\"yaxis\":{\"title\":{\"text\":\"\\u041f\\u043e\\u043a\\u0443\\u043f\\u043a\\u0438 \\u0432 \\u043c\\u0430\\u0433\\u0430\\u0437\\u0438\\u043d\\u0456\"}},\"zaxis\":{\"title\":{\"text\":\"\\u041f\\u043e\\u043a\\u0443\\u043f\\u043a\\u0438 \\u043e\\u043d\\u043b\\u0430\\u0439\\u043d\"}}},\"coloraxis\":{\"colorbar\":{\"title\":{\"text\":\"Cluster\"}},\"colorscale\":[[0.0,\"#0d0887\"],[0.1111111111111111,\"#46039f\"],[0.2222222222222222,\"#7201a8\"],[0.3333333333333333,\"#9c179e\"],[0.4444444444444444,\"#bd3786\"],[0.5555555555555556,\"#d8576b\"],[0.6666666666666666,\"#ed7953\"],[0.7777777777777778,\"#fb9f3a\"],[0.8888888888888888,\"#fdca26\"],[1.0,\"#f0f921\"]]},\"legend\":{\"title\":{\"text\":\"Cluster\"},\"tracegroupgap\":0},\"title\":{\"text\":\"3D \\u0432\\u0456\\u0437\\u0443\\u0430\\u043b\\u0456\\u0437\\u0430\\u0446\\u0456\\u044f \\u043a\\u043b\\u0430\\u0441\\u0442\\u0435\\u0440\\u0456\\u0432\"}},                        {\"responsive\": true}                    ).then(function(){\n",
              "                            \n",
              "var gd = document.getElementById('97988acd-0645-4ca5-ad9a-8406accb29f3');\n",
              "var x = new MutationObserver(function (mutations, observer) {{\n",
              "        var display = window.getComputedStyle(gd).display;\n",
              "        if (!display || display === 'none') {{\n",
              "            console.log([gd, 'removed!']);\n",
              "            Plotly.purge(gd);\n",
              "            observer.disconnect();\n",
              "        }}\n",
              "}});\n",
              "\n",
              "// Listen for the removal of the full notebook cells\n",
              "var notebookContainer = gd.closest('#notebook-container');\n",
              "if (notebookContainer) {{\n",
              "    x.observe(notebookContainer, {childList: true});\n",
              "}}\n",
              "\n",
              "// Listen for the clearing of the current output cell\n",
              "var outputEl = gd.closest('.output');\n",
              "if (outputEl) {{\n",
              "    x.observe(outputEl, {childList: true});\n",
              "}}\n",
              "\n",
              "                        })                };                            </script>        </div>\n",
              "</body>\n",
              "</html>"
            ]
          },
          "metadata": {}
        }
      ]
    },
    {
      "cell_type": "markdown",
      "source": [
        "**Завдання 6**. Масштабуйте дані і побудуйте знову кластеризацію KMeans на 3 кластери і обчисліть метрику силуету. Опишіть порівняння з експериментом без масштабування значень."
      ],
      "metadata": {
        "id": "Jcbmkz1Yrnas"
      }
    },
    {
      "cell_type": "code",
      "source": [
        "from sklearn.preprocessing import StandardScaler\n",
        "\n",
        "# Масштабування даних\n",
        "scaler = StandardScaler()\n",
        "X_scaled = scaler.fit_transform(X)"
      ],
      "metadata": {
        "id": "D3N23uMtv42c"
      },
      "execution_count": 17,
      "outputs": []
    },
    {
      "cell_type": "code",
      "source": [
        "from sklearn.cluster import KMeans\n",
        "\n",
        "# Створення моделі KMeans з 3 кластерами\n",
        "kmeans_scaled = KMeans(n_clusters=3, random_state=42)\n",
        "kmeans_scaled.fit(X_scaled)\n",
        "\n",
        "# Отримання міток кластерів\n",
        "labels_scaled = kmeans_scaled.labels_"
      ],
      "metadata": {
        "colab": {
          "base_uri": "https://localhost:8080/"
        },
        "id": "taHFSDDKIStv",
        "outputId": "34dc3b44-8f64-4b73-dfb5-1cd5ad407b53"
      },
      "execution_count": 18,
      "outputs": [
        {
          "output_type": "stream",
          "name": "stderr",
          "text": [
            "/usr/local/lib/python3.10/dist-packages/sklearn/cluster/_kmeans.py:1416: FutureWarning:\n",
            "\n",
            "The default value of `n_init` will change from 10 to 'auto' in 1.4. Set the value of `n_init` explicitly to suppress the warning\n",
            "\n"
          ]
        }
      ]
    },
    {
      "cell_type": "code",
      "source": [
        "from sklearn.metrics import silhouette_score\n",
        "\n",
        "# Обчислення метрики силуету для масштабованих даних\n",
        "silhouette_avg_scaled = silhouette_score(X_scaled, labels_scaled)\n",
        "\n",
        "print(f\"Середня метрика силуету для кластеризації з масштабуванням: {silhouette_avg_scaled:.4f}\")"
      ],
      "metadata": {
        "colab": {
          "base_uri": "https://localhost:8080/"
        },
        "id": "rmcJTQNfIW89",
        "outputId": "9fac19bf-8c95-40f8-9c77-3f93c39c11fa"
      },
      "execution_count": 19,
      "outputs": [
        {
          "output_type": "stream",
          "name": "stdout",
          "text": [
            "Середня метрика силуету для кластеризації з масштабуванням: 0.1464\n"
          ]
        }
      ]
    },
    {
      "cell_type": "markdown",
      "source": [
        "Середня метрика силуету для кластеризації з та без масштабування - 0.1464, що в даному кейсі свідчить про те, що масшабування не є покращенням."
      ],
      "metadata": {
        "id": "8E3dWQtLIkyw"
      }
    },
    {
      "cell_type": "markdown",
      "source": [
        "**Завдання 7.** З візуалізацій на попередньому кроці ви могли побачити якісь викиди в даних. Опрацюйте викиди (можна видалити ці рядки або придумати інший спосіб)."
      ],
      "metadata": {
        "id": "_DvQ5DGphigM"
      }
    },
    {
      "cell_type": "code",
      "source": [
        "import numpy as np\n",
        "\n",
        "# Функція для виявлення викидів за допомогою межквартильного розмаху\n",
        "def detect_outliers_iqr(data):\n",
        "    Q1 = np.percentile(data, 25)\n",
        "    Q3 = np.percentile(data, 75)\n",
        "    IQR = Q3 - Q1\n",
        "    lower_bound = Q1 - 1.5 * IQR\n",
        "    upper_bound = Q3 + 1.5 * IQR\n",
        "    return data[(data < lower_bound) | (data > upper_bound)]\n",
        "\n",
        "# Виявлення викидів у кількох важливих колонках\n",
        "income_outliers = detect_outliers_iqr(train_df['Income'])\n",
        "store_purchases_outliers = detect_outliers_iqr(train_df['NumStorePurchases'])\n",
        "web_purchases_outliers = detect_outliers_iqr(train_df['NumWebPurchases'])\n",
        "\n",
        "# Об'єднання індексів рядків з викидами\n",
        "outlier_indices = set(income_outliers.index).union(store_purchases_outliers.index).union(web_purchases_outliers.index)\n",
        "\n",
        "# Видалення рядків з викидами\n",
        "train_df_cleaned = train_df.drop(index=outlier_indices)\n",
        "\n",
        "print(f\"Кількість рядків після видалення викидів: {train_df_cleaned.shape[0]}\")"
      ],
      "metadata": {
        "id": "r9YlHhoJv5_n",
        "colab": {
          "base_uri": "https://localhost:8080/"
        },
        "outputId": "2de433e0-dba0-4fa7-df7f-91c348a81aab"
      },
      "execution_count": 20,
      "outputs": [
        {
          "output_type": "stream",
          "name": "stdout",
          "text": [
            "Кількість рядків після видалення викидів: 2228\n"
          ]
        }
      ]
    },
    {
      "cell_type": "code",
      "source": [
        "# Масштабування оновлених даних\n",
        "X_cleaned = train_df_cleaned.drop(columns=['Cluster'])  # Видаляємо колонку з попередніми кластерами\n",
        "X_cleaned_scaled = scaler.fit_transform(X_cleaned)\n",
        "\n",
        "# Кластеризація після видалення викидів\n",
        "kmeans_cleaned = KMeans(n_clusters=3, random_state=42)\n",
        "kmeans_cleaned.fit(X_cleaned_scaled)\n",
        "\n",
        "# Отримання міток кластерів\n",
        "labels_cleaned = kmeans_cleaned.labels_\n",
        "\n",
        "# Обчислення метрики силуету після видалення викидів\n",
        "silhouette_avg_cleaned = silhouette_score(X_cleaned_scaled, labels_cleaned)\n",
        "\n",
        "print(f\"Середня метрика силуету після видалення викидів: {silhouette_avg_cleaned:.4f}\")"
      ],
      "metadata": {
        "colab": {
          "base_uri": "https://localhost:8080/"
        },
        "id": "936qJLelJAFM",
        "outputId": "1671b3c7-b46c-4758-fa70-231574ed66d4"
      },
      "execution_count": 21,
      "outputs": [
        {
          "output_type": "stream",
          "name": "stderr",
          "text": [
            "/usr/local/lib/python3.10/dist-packages/sklearn/cluster/_kmeans.py:1416: FutureWarning:\n",
            "\n",
            "The default value of `n_init` will change from 10 to 'auto' in 1.4. Set the value of `n_init` explicitly to suppress the warning\n",
            "\n"
          ]
        },
        {
          "output_type": "stream",
          "name": "stdout",
          "text": [
            "Середня метрика силуету після видалення викидів: 0.1497\n"
          ]
        }
      ]
    },
    {
      "cell_type": "markdown",
      "source": [
        "Середня метрика силуету після видалення викидів (0.1497) трохи підвищилася порівняно з до видалення (0.1464). Це може вказувати на деякі покращення, але різниця є досить незначною."
      ],
      "metadata": {
        "id": "Ln-vw74EJRg7"
      }
    },
    {
      "cell_type": "markdown",
      "source": [
        "**Завдання 8.** Виконайте Elbow method для пошуку оптимальної кількості кластерів та натренуйте KMeans з тою кількістю кластерів, яку Elbow method показав як оптимальну. Обчисліть метрику силуету. Візуалізуйте кластери. З яким набором даних (масштабованим чи ні) тут працювати - ваш вибір, можна зробити експеримент з обома."
      ],
      "metadata": {
        "id": "KKwONE0bg6Ms"
      }
    },
    {
      "cell_type": "code",
      "source": [
        "import matplotlib.pyplot as plt\n",
        "from sklearn.cluster import KMeans\n",
        "\n",
        "# Функція для виконання Elbow Method\n",
        "def elbow_method(X):\n",
        "    wss = []\n",
        "    k_range = range(1, 11)  # Від 1 до 10 кластерів\n",
        "    for k in k_range:\n",
        "        kmeans = KMeans(n_clusters=k, random_state=42)\n",
        "        kmeans.fit(X)\n",
        "        wss.append(kmeans.inertia_)\n",
        "\n",
        "    plt.figure(figsize=(10, 6))\n",
        "    plt.plot(k_range, wss, marker='o')\n",
        "    plt.xlabel('Number of Clusters')\n",
        "    plt.ylabel('WSS')\n",
        "    plt.title('Elbow Method for Optimal Number of Clusters')\n",
        "    plt.grid(True)\n",
        "    plt.show()\n",
        "\n",
        "# Виконання Elbow Method на масштабованих даних\n",
        "elbow_method(X_scaled)"
      ],
      "metadata": {
        "id": "6spgXhWnv7w4",
        "colab": {
          "base_uri": "https://localhost:8080/",
          "height": 1000
        },
        "outputId": "71ced1a9-b783-4224-daa1-b4987a783703"
      },
      "execution_count": 22,
      "outputs": [
        {
          "output_type": "stream",
          "name": "stderr",
          "text": [
            "/usr/local/lib/python3.10/dist-packages/sklearn/cluster/_kmeans.py:1416: FutureWarning:\n",
            "\n",
            "The default value of `n_init` will change from 10 to 'auto' in 1.4. Set the value of `n_init` explicitly to suppress the warning\n",
            "\n",
            "/usr/local/lib/python3.10/dist-packages/sklearn/cluster/_kmeans.py:1416: FutureWarning:\n",
            "\n",
            "The default value of `n_init` will change from 10 to 'auto' in 1.4. Set the value of `n_init` explicitly to suppress the warning\n",
            "\n",
            "/usr/local/lib/python3.10/dist-packages/sklearn/cluster/_kmeans.py:1416: FutureWarning:\n",
            "\n",
            "The default value of `n_init` will change from 10 to 'auto' in 1.4. Set the value of `n_init` explicitly to suppress the warning\n",
            "\n",
            "/usr/local/lib/python3.10/dist-packages/sklearn/cluster/_kmeans.py:1416: FutureWarning:\n",
            "\n",
            "The default value of `n_init` will change from 10 to 'auto' in 1.4. Set the value of `n_init` explicitly to suppress the warning\n",
            "\n",
            "/usr/local/lib/python3.10/dist-packages/sklearn/cluster/_kmeans.py:1416: FutureWarning:\n",
            "\n",
            "The default value of `n_init` will change from 10 to 'auto' in 1.4. Set the value of `n_init` explicitly to suppress the warning\n",
            "\n",
            "/usr/local/lib/python3.10/dist-packages/sklearn/cluster/_kmeans.py:1416: FutureWarning:\n",
            "\n",
            "The default value of `n_init` will change from 10 to 'auto' in 1.4. Set the value of `n_init` explicitly to suppress the warning\n",
            "\n",
            "/usr/local/lib/python3.10/dist-packages/sklearn/cluster/_kmeans.py:1416: FutureWarning:\n",
            "\n",
            "The default value of `n_init` will change from 10 to 'auto' in 1.4. Set the value of `n_init` explicitly to suppress the warning\n",
            "\n",
            "/usr/local/lib/python3.10/dist-packages/sklearn/cluster/_kmeans.py:1416: FutureWarning:\n",
            "\n",
            "The default value of `n_init` will change from 10 to 'auto' in 1.4. Set the value of `n_init` explicitly to suppress the warning\n",
            "\n",
            "/usr/local/lib/python3.10/dist-packages/sklearn/cluster/_kmeans.py:1416: FutureWarning:\n",
            "\n",
            "The default value of `n_init` will change from 10 to 'auto' in 1.4. Set the value of `n_init` explicitly to suppress the warning\n",
            "\n",
            "/usr/local/lib/python3.10/dist-packages/sklearn/cluster/_kmeans.py:1416: FutureWarning:\n",
            "\n",
            "The default value of `n_init` will change from 10 to 'auto' in 1.4. Set the value of `n_init` explicitly to suppress the warning\n",
            "\n"
          ]
        },
        {
          "output_type": "display_data",
          "data": {
            "text/plain": [
              "<Figure size 1000x600 with 1 Axes>"
            ],
            "image/png": "[encoded data removed]"
          },
          "metadata": {}
        }
      ]
    },
    {
      "cell_type": "code",
      "source": [
        "optimal_clusters = 3\n",
        "\n",
        "# Кластеризація з KMeans\n",
        "kmeans_optimal = KMeans(n_clusters=optimal_clusters, random_state=42)\n",
        "kmeans_optimal.fit(X_scaled)\n",
        "\n",
        "# Отримання міток кластерів\n",
        "labels_optimal_scaled = kmeans_optimal.labels_\n",
        "\n",
        "# Обчислення метрики силуету\n",
        "silhouette_avg_optimal_scaled = silhouette_score(X_scaled, labels_optimal_scaled)\n",
        "\n",
        "print(f\"Середня метрика силуету для масштабованих даних з {optimal_clusters} кластерами: {silhouette_avg_optimal_scaled:.4f}\")"
      ],
      "metadata": {
        "colab": {
          "base_uri": "https://localhost:8080/"
        },
        "id": "x0netWzKJjz3",
        "outputId": "fc6d81c4-b9aa-4181-a44b-a7af6dfda00e"
      },
      "execution_count": 23,
      "outputs": [
        {
          "output_type": "stream",
          "name": "stdout",
          "text": [
            "Середня метрика силуету для масштабованих даних з 3 кластерами: 0.1464\n"
          ]
        },
        {
          "output_type": "stream",
          "name": "stderr",
          "text": [
            "/usr/local/lib/python3.10/dist-packages/sklearn/cluster/_kmeans.py:1416: FutureWarning:\n",
            "\n",
            "The default value of `n_init` will change from 10 to 'auto' in 1.4. Set the value of `n_init` explicitly to suppress the warning\n",
            "\n"
          ]
        }
      ]
    },
    {
      "cell_type": "code",
      "source": [
        "# Кластеризація з KMeans для немасштабованих даних\n",
        "kmeans_optimal_raw = KMeans(n_clusters=optimal_clusters, random_state=42)\n",
        "kmeans_optimal_raw.fit(X)\n",
        "\n",
        "# Отримання міток кластерів\n",
        "labels_optimal_raw = kmeans_optimal_raw.labels_\n",
        "\n",
        "# Обчислення метрики силуету для немасштабованих даних\n",
        "silhouette_avg_optimal_raw = silhouette_score(X, labels_optimal_raw)\n",
        "\n",
        "print(f\"Середня метрика силуету для немасштабованих даних з {optimal_clusters} кластерами: {silhouette_avg_optimal_raw:.4f}\")\n"
      ],
      "metadata": {
        "colab": {
          "base_uri": "https://localhost:8080/"
        },
        "id": "9ZFjiI8RKfvC",
        "outputId": "75523c9a-c0e7-490f-ed37-317f6efb96f2"
      },
      "execution_count": 24,
      "outputs": [
        {
          "output_type": "stream",
          "name": "stdout",
          "text": [
            "Середня метрика силуету для немасштабованих даних з 3 кластерами: 0.5690\n"
          ]
        },
        {
          "output_type": "stream",
          "name": "stderr",
          "text": [
            "/usr/local/lib/python3.10/dist-packages/sklearn/cluster/_kmeans.py:1416: FutureWarning:\n",
            "\n",
            "The default value of `n_init` will change from 10 to 'auto' in 1.4. Set the value of `n_init` explicitly to suppress the warning\n",
            "\n"
          ]
        }
      ]
    },
    {
      "cell_type": "code",
      "source": [
        "import plotly.express as px\n",
        "\n",
        "# Додавання міток кластерів до DataFrame\n",
        "train_df['Cluster'] = labels_optimal_scaled\n",
        "\n",
        "# Візуалізація 3D графіку\n",
        "fig_scaled = px.scatter_3d(train_df,\n",
        "                          x='Income',\n",
        "                          y='NumStorePurchases',\n",
        "                          z='NumWebPurchases',\n",
        "                          color='Cluster',\n",
        "                          title='3D візуалізація кластерів (масштабовані дані)',\n",
        "                          labels={'Income':'Дохід', 'NumStorePurchases':'Покупки в магазині', 'NumWebPurchases':'Покупки онлайн'}\n",
        "                         )\n",
        "\n",
        "fig_scaled.show()"
      ],
      "metadata": {
        "colab": {
          "base_uri": "https://localhost:8080/",
          "height": 542
        },
        "id": "jZlHjh1bKjYc",
        "outputId": "21930284-f11f-40f0-e4b5-97390decc814"
      },
      "execution_count": 25,
      "outputs": [
        {
          "output_type": "display_data",
          "data": {
            "text/html": [
              "<html>\n",
              "<head><meta charset=\"utf-8\" /></head>\n",
              "<body>\n",
              "    <div>            <script src=\"https://cdnjs.cloudflare.com/ajax/libs/mathjax/2.7.5/MathJax.js?config=TeX-AMS-MML_SVG\"></script><script type=\"text/javascript\">if (window.MathJax && window.MathJax.Hub && window.MathJax.Hub.Config) {window.MathJax.Hub.Config({SVG: {font: \"STIX-Web\"}});}</script>                <script type=\"text/javascript\">window.PlotlyConfig = {MathJaxConfig: 'local'};</script>\n",
              "        <script charset=\"utf-8\" src=\"https://cdn.plot.ly/plotly-2.24.1.min.js\"></script>                <div id=\"f27cbaeb-0d1b-47d0-8c46-a19ed4a4ad09\" class=\"plotly-graph-div\" style=\"height:525px; width:100%;\"></div>            <script type=\"text/javascript\">                                    window.PLOTLYENV=window.PLOTLYENV || {};                                    if (document.getElementById(\"f27cbaeb-0d1b-47d0-8c46-a19ed4a4ad09\")) {                    Plotly.newPlot(                        \"f27cbaeb-0d1b-47d0-8c46-a19ed4a4ad09\",                        [{\"hovertemplate\":\"\\u0414\\u043e\\u0445\\u0456\\u0434=%{x}\\u003cbr\\u003e\\u041f\\u043e\\u043a\\u0443\\u043f\\u043a\\u0438 \\u0432 \\u043c\\u0430\\u0433\\u0430\\u0437\\u0438\\u043d\\u0456=%{y}\\u003cbr\\u003e\\u041f\\u043e\\u043a\\u0443\\u043f\\u043a\\u0438 \\u043e\\u043d\\u043b\\u0430\\u0439\\u043d=%{z}\\u003cbr\\u003eCluster=%{marker.color}\\u003cextra\\u003e\\u003c\\u002fextra\\u003e\",\"legendgroup\":\"\",\"marker\":{\"color\":[2,0,1,0,0,1,1,0,0,0,0,0,2,0,0,2,0,1,1,0,0,2,1,1,1,0,0,1,0,2,0,0,0,1,2,0,1,0,0,2,2,0,0,0,0,2,0,0,0,1,1,2,0,2,1,2,2,0,0,1,2,1,1,1,2,0,0,2,1,1,2,0,1,1,0,0,2,2,0,1,0,0,0,0,2,0,0,1,2,0,1,0,2,0,0,0,1,0,2,1,0,0,2,2,2,0,0,1,0,2,2,1,1,2,1,0,2,1,0,0,1,0,0,0,2,2,2,0,1,1,1,1,2,1,0,2,0,0,0,0,2,1,2,1,0,1,0,0,0,0,1,1,1,0,1,2,1,0,0,2,0,1,0,1,2,0,2,0,2,0,0,0,0,0,0,2,2,0,0,2,0,0,1,0,0,0,0,1,2,0,0,2,0,0,0,0,1,2,2,0,1,2,1,2,0,0,0,1,0,1,1,2,1,1,2,0,0,2,1,1,0,2,1,0,1,0,1,1,2,0,1,2,0,0,1,0,0,1,0,0,2,2,0,2,1,0,2,1,2,1,0,0,2,0,1,0,1,1,0,0,0,1,0,0,1,0,2,0,2,0,2,0,0,0,0,1,2,2,2,1,0,1,1,1,0,0,2,1,2,1,0,0,2,0,0,1,0,0,2,1,0,1,0,0,0,2,0,2,1,0,0,0,2,2,0,0,0,0,0,1,1,0,0,1,1,2,0,0,0,0,0,0,1,0,0,1,2,0,2,2,2,0,1,1,0,2,0,2,0,0,1,2,2,2,1,0,0,2,1,1,2,1,0,0,1,1,2,0,2,1,0,0,0,1,0,0,0,0,1,0,0,0,1,0,0,0,1,1,0,1,2,0,2,0,1,2,0,0,0,0,0,2,0,0,1,0,0,0,0,1,0,1,1,0,1,2,0,2,2,1,0,0,0,2,2,0,2,2,0,2,2,1,1,1,0,0,1,1,0,0,0,0,0,0,0,0,0,2,0,1,1,1,0,0,1,1,2,0,0,2,1,2,0,2,0,2,2,0,1,1,2,0,1,0,0,1,0,1,1,1,0,0,0,0,2,2,1,1,0,0,2,0,2,1,1,1,0,1,1,1,0,0,0,1,0,1,2,2,0,1,0,2,1,2,1,2,0,0,2,2,0,2,0,2,0,0,2,0,2,1,1,2,1,0,0,1,0,2,1,0,0,0,0,2,1,0,2,0,0,0,0,0,1,0,2,1,1,2,0,2,0,2,1,2,1,0,1,0,0,0,1,0,0,1,0,1,0,0,0,0,1,1,0,0,0,0,2,1,1,0,0,2,2,0,1,0,0,0,0,0,0,1,2,1,0,0,0,0,0,2,0,0,0,0,1,0,0,0,0,1,1,0,2,0,2,0,2,1,0,0,1,2,2,0,2,0,2,1,1,1,1,2,1,1,2,0,2,0,1,1,2,0,1,0,1,0,0,0,1,0,1,0,2,0,0,0,0,0,0,0,1,1,1,1,1,0,1,2,0,2,1,2,0,0,2,1,2,2,2,2,1,2,1,0,0,0,0,0,1,2,1,0,1,2,0,2,0,1,1,0,0,1,0,1,0,2,2,0,1,0,1,1,0,2,0,0,2,2,0,2,0,1,1,1,2,2,2,1,0,1,1,0,0,0,2,2,0,2,0,2,2,1,2,2,2,2,1,1,0,0,0,1,2,0,2,0,2,2,0,1,1,2,1,0,0,0,0,2,0,2,2,0,0,0,0,0,0,1,1,1,2,2,0,0,0,1,1,1,2,0,1,0,0,2,2,1,0,1,1,2,0,0,2,1,2,1,0,1,1,0,2,0,1,0,2,2,1,0,2,0,0,1,1,0,0,1,0,2,0,1,0,1,0,0,2,2,2,1,0,0,1,1,2,0,1,1,0,1,0,2,0,0,0,0,0,1,1,0,1,0,2,1,0,0,2,2,1,0,2,0,0,0,0,0,2,2,0,0,1,2,0,1,2,0,2,1,2,2,0,0,2,0,2,0,1,2,2,0,0,0,2,2,1,0,2,2,1,2,1,2,0,2,0,0,2,1,2,2,2,2,2,0,1,0,2,0,2,1,1,1,1,1,2,2,0,1,1,0,0,1,0,0,0,0,0,0,1,1,0,1,2,1,0,0,0,1,2,0,0,1,2,0,0,1,2,2,2,0,0,1,0,0,0,1,2,1,2,2,2,0,2,0,1,2,0,0,2,0,1,1,1,2,1,0,1,1,1,2,0,0,2,0,0,0,0,1,2,0,0,0,0,0,1,0,0,1,0,0,0,1,2,2,2,0,2,0,0,0,0,1,1,0,0,2,0,0,0,2,1,1,2,0,2,0,0,2,1,0,2,2,1,1,2,0,1,0,2,1,0,2,0,1,1,0,1,2,2,0,0,0,2,0,2,0,2,1,0,2,0,2,2,0,2,0,0,1,1,2,0,1,2,1,0,0,0,2,0,0,1,0,2,2,0,2,0,1,0,0,0,1,1,0,0,0,1,1,1,0,0,2,1,0,0,2,2,0,0,2,0,1,1,0,0,0,2,0,0,1,1,0,1,1,0,2,0,0,1,2,2,1,0,1,1,2,0,1,0,0,2,2,0,0,2,1,0,0,0,1,0,2,1,0,1,0,0,0,0,1,0,0,2,1,0,0,0,1,0,1,2,2,0,1,0,0,2,1,2,0,0,0,1,1,1,2,1,0,1,0,2,0,0,0,2,0,0,1,1,0,1,0,0,0,0,0,0,1,0,2,0,0,0,0,2,2,0,0,0,0,0,1,2,1,2,1,1,1,1,2,0,2,0,2,2,0,0,2,1,0,0,2,1,1,0,1,0,1,0,0,2,1,2,2,0,1,1,0,1,0,2,1,0,0,0,0,0,0,0,1,2,0,0,2,0,0,2,1,1,2,2,1,1,2,1,2,0,0,1,0,0,0,2,1,2,0,0,1,0,0,0,2,0,1,2,2,2,1,2,0,0,0,1,1,1,0,0,0,0,1,1,2,2,2,0,0,2,1,0,1,2,0,1,0,1,1,1,2,1,0,0,0,0,0,0,1,1,1,1,0,1,1,0,0,0,0,0,2,0,0,0,2,0,0,0,0,0,1,0,0,1,1,1,1,0,1,1,0,1,1,1,0,1,2,0,2,0,1,0,0,0,0,0,2,1,0,0,0,0,0,0,1,0,0,2,0,1,0,1,0,0,0,0,0,0,2,2,0,2,1,2,1,0,2,2,0,1,2,0,0,2,1,1,1,0,0,0,1,1,2,0,1,0,0,0,2,1,0,2,0,0,1,1,1,0,0,2,1,2,1,2,0,1,0,2,1,0,2,0,1,1,2,1,0,1,1,1,2,1,1,2,1,2,0,1,2,0,0,1,0,0,0,2,2,0,0,0,1,2,0,2,0,1,1,1,0,0,0,0,2,1,1,0,1,2,0,1,0,0,0,1,0,0,2,1,2,1,0,1,0,0,1,0,1,0,2,0,1,1,1,1,1,2,0,2,0,1,1,0,2,0,1,0,2,2,0,2,0,0,0,0,2,0,2,0,1,0,1,0,0,2,0,1,2,1,0,0,0,1,1,1,1,2,0,2,0,0,2,0,0,0,1,0,0,2,1,0,0,1,1,0,0,1,0,0,0,1,1,1,2,0,0,0,1,1,0,2,0,1,2,2,0,0,2,0,2,0,0,1,1,1,2,1,0,1,0,0,0,1,0,1,2,0,2,2,2,2,0,0,0,0,0,2,0,0,0,1,0,2,1,1,2,1,2,0,0,0,1,0,2,0,2,1,0,0,1,0,0,1,1,2,0,2,2,0,2,0,1,1,0,0,1,0,2,2,2,0,0,1,0,1,2,0,0,0,2,1,1,1,2,1,0,0,0,0,2,1,2,0,1,1,2,1,1,0,1,0,0,0,0,0,2,1,0,1,1,0,1,0,2,0,0,0,0,2,2,0,1,0,0,0,2,0,0,1,1,0,0,1,0,1,2,0,0,2,0,0,0,1,0,1,2,2,2,0,1,0,1,1,0,2,2,0,1,2,2,2,0,1,2,1,0,2,0,0,1,2,0,1,2,2,0,0,0,1,0,0,0,2,1,1,1,0,2,0,2,1,2,0,0,1,0,2,0,2,2,2,1,0,0,2,1,1,0,1,2,2,1,0,0,0,2,0,2,0,1,0,0,1,2,1,1,2,0,0,1,0,0,0,2,1,0,2,2,0,1,2,0,0,2,1,1,0,0,0,0,1,2,1,0,0,0,2,1,2,2,1,1,0,0,0,0,0,2,2,2,1,0,1,2,2,1,0,1,0,0,2,0,1,1,0,0,2,0,0,2,0,2,2,2,0,0,0,1,2,2,1,2,0,1,2,0,1,2,0,0,0,2,1,2,2,2,1,0,0,1,0,1,2,0,0,0,0,0,2,0,1,0,0,0,0,1,2,0,2,2,0,2,2,1,0,0,0,0,0,0,0,0,2,1,1,1,2,0,2,1,2,0,0,0,0,0,0,0,0,1,1,0,0,0,1,0,1,1,0,1,0,1,1,1,0,2,2,1,0,0,1,0,0,2,2,2,0,1,1,0,0,0,2,1,1,1,0,0,2,0,1,1,0,1,0,0,1,2,0,2,2,2,0,0,0,0,0,1,1,2,2,1,2,2,0,0,1,0,0,2,1,0,2,0,2,1,0,1,0,2,0,0,0,1,1,2,1,1,0,0,1,1,0,1,2,0,0,0,0,1,0,2,1,2,1,0,0,2,0,0,2,1,0,0,0,0,0,0,0,0,1,2,0,0,0,0,0,2,0,0,0,0,0,0,1,0,1,0,1,2,0,0,2,2,2,0,1,2,2,1,1,2,2,1,1,0,0,1,0,0,0,1,1,2,2,0,2,0,0,2,1,0,0,1,1,0,0,1,1,2,0,0,1,0,0,0,1,2,0,2,0,0,0,2,0,0,1,2,0,0,1,1,1,1,2,0,0,1,0,2,0,1,1,1,1,0],\"coloraxis\":\"coloraxis\",\"symbol\":\"circle\"},\"mode\":\"markers\",\"name\":\"\",\"scene\":\"scene\",\"showlegend\":false,\"x\":[58138.0,46344.0,71613.0,26646.0,58293.0,62513.0,55635.0,33454.0,30351.0,5648.0,51381.5,7500.0,63033.0,59354.0,17323.0,82800.0,41850.0,37760.0,76995.0,33812.0,37040.0,2447.0,58607.0,65324.0,40689.0,18589.0,53359.0,51381.5,38360.0,84618.0,10979.0,38620.0,40548.0,46610.0,68657.0,49389.0,67353.0,23718.0,42429.0,48948.0,80011.0,20559.0,21994.0,51381.5,7500.0,79941.0,7500.0,41728.0,51381.5,72550.0,65486.0,79143.0,35790.0,82582.0,66373.0,82384.0,70287.0,27938.0,51381.5,55954.0,75777.0,66653.0,61823.0,67680.0,70666.0,25721.0,32474.0,88194.0,69096.0,74854.0,66991.0,51381.5,65031.0,60631.0,28332.0,40246.0,75251.0,75825.0,26326.0,56046.0,29760.0,26304.0,23559.0,38620.0,81361.0,29440.0,36138.0,50388.0,79593.0,54178.0,51381.5,51381.5,51381.5,42394.0,23626.0,30096.0,47916.0,51813.0,78497.0,50150.0,47823.0,34554.0,85693.0,65846.0,87195.0,24594.0,49096.0,52413.0,38557.0,89058.0,77298.0,68126.0,57288.0,86037.0,43974.0,50785.0,90765.0,36550.0,30753.0,21918.0,56129.0,32557.0,19510.0,30992.0,101970.0,71488.0,79607.0,54348.0,51381.5,77376.0,62998.0,61331.0,73448.0,51381.5,41551.0,62981.0,9548.0,33762.0,35860.0,36921.0,92859.0,65104.0,86111.0,68352.0,41883.0,59809.0,23957.0,38547.0,35688.0,49605.0,59354.0,65747.0,46344.0,34176.0,61010.0,69372.0,49967.0,60199.0,55375.0,80317.0,30523.0,70356.0,23228.0,74165.0,157243.0,43482.0,62551.0,52332.0,66951.0,26091.0,33456.0,28718.0,50447.0,53537.0,52074.0,80427.0,83837.0,38853.0,38285.0,78497.0,51650.0,16248.0,66835.0,30477.0,28249.0,25271.0,32303.0,61286.0,74068.0,45759.0,24882.0,66973.0,36640.0,38872.0,51148.0,31353.0,69661.0,80067.0,86718.0,46854.0,69142.0,75922.0,63693.0,102160.0,40637.0,18890.0,29604.0,48721.0,44794.0,64497.0,46097.0,77972.0,44377.0,46014.0,70951.0,41443.0,52195.0,83790.0,44551.0,69508.0,45204.0,72460.0,77622.0,30732.0,63887.0,42011.0,51369.0,51537.0,79930.0,34320.0,37070.0,81975.0,38590.0,15033.0,62745.0,22212.0,23661.0,79761.0,7500.0,60182.0,73455.0,64961.0,22804.0,73687.0,61074.0,31686.0,80134.0,75027.0,67546.0,65176.0,31160.0,29938.0,102692.0,26490.0,75702.0,30899.0,63342.0,45989.0,18701.0,40737.0,15287.0,69674.0,44159.0,37717.0,43776.0,38179.0,80124.0,38097.0,72940.0,22070.0,69267.0,31788.0,61905.0,29315.0,33378.0,66313.0,60714.0,77882.0,69867.0,63841.0,24480.0,51369.0,37760.0,65640.0,44319.0,30631.0,75278.0,50898.0,79946.0,35416.0,32414.0,38361.0,82497.0,16626.0,29672.0,55951.0,35388.0,42386.0,68627.0,57912.0,35246.0,58821.0,46377.0,39747.0,23976.0,80950.0,27038.0,77457.0,64100.0,42670.0,12571.0,22574.0,51381.5,70893.0,54198.0,28839.0,40321.0,66503.0,30833.0,51381.5,64795.0,34421.0,47025.0,64325.0,40464.0,62187.0,14849.0,27255.0,54432.0,29999.0,24072.0,33996.0,66334.0,35178.0,22010.0,62204.0,75693.0,30675.0,83003.0,83532.0,68655.0,41411.0,55212.0,59292.0,27190.0,82623.0,44300.0,84835.0,30372.0,33181.0,71113.0,71952.0,69759.0,72099.0,60000.0,38643.0,50737.0,68462.0,65073.0,46681.0,78618.0,62187.0,28442.0,37717.0,51479.0,54803.0,79530.0,31615.0,72025.0,52614.0,35684.0,48178.0,29548.0,63810.0,38578.0,46098.0,22585.0,30279.0,66426.0,30822.0,33581.0,19986.0,27421.0,35688.0,36143.0,10245.0,43795.0,63381.0,38823.0,83664.0,90300.0,62499.0,74293.0,51012.0,70777.0,68682.0,43824.0,15345.0,23442.0,14515.0,31395.0,75276.0,42373.0,30507.0,55521.0,48006.0,27213.0,65808.0,30351.0,50437.0,23616.0,53858.0,66465.0,46923.0,75072.0,75865.0,19789.0,80134.0,91065.0,49505.0,37401.0,30096.0,18492.0,82584.0,93027.0,48686.0,92910.0,75433.0,10404.0,61314.0,84865.0,42387.0,67309.0,75236.0,30015.0,50943.0,67272.0,51529.0,32011.0,7500.0,28691.0,56223.0,18100.0,30279.0,20130.0,23295.0,42618.0,81246.0,24027.0,55707.0,57959.0,56796.0,36230.0,70829.0,65991.0,38988.0,89572.0,42207.0,50300.0,66664.0,60597.0,70165.0,50520.0,80124.0,33183.0,66582.0,75261.0,31880.0,53790.0,49269.0,61456.0,37406.0,56937.0,38415.0,20518.0,62503.0,41644.0,55842.0,62010.0,41124.0,38961.0,37760.0,32233.0,43057.0,83151.0,78825.0,65104.0,60093.0,14045.0,28457.0,78952.0,46310.0,76005.0,58308.0,55614.0,59432.0,55563.0,78642.0,67911.0,65275.0,27203.0,48330.0,24279.0,64355.0,50943.0,53653.0,65665.0,81217.0,34935.0,61250.0,39665.0,60152.0,48920.0,89120.0,44124.0,81169.0,36443.0,26095.0,71367.0,80184.0,30630.0,73454.0,42691.0,70503.0,25545.0,32880.0,77863.0,50353.0,61839.0,49154.0,47682.0,72679.0,57954.0,65316.0,28567.0,47352.0,44931.0,76982.0,57247.0,22944.0,25315.0,43638.0,42710.0,84169.0,54058.0,24683.0,85620.0,47850.0,19514.0,27159.0,39548.0,21474.0,60504.0,22419.0,81698.0,43462.0,54880.0,79908.0,15315.0,87771.0,33039.0,81741.0,71499.0,62466.0,48799.0,52157.0,66565.0,29298.0,47691.0,38200.0,44989.0,38443.0,38593.0,64413.0,36959.0,61996.0,51287.0,13260.0,47472.0,54603.0,45207.0,40689.0,47821.0,27450.0,39453.0,26850.0,79800.0,61794.0,53863.0,24221.0,39684.0,92163.0,69882.0,33178.0,59973.0,17459.0,23910.0,42169.0,26224.0,31089.0,30081.0,62807.0,72906.0,61467.0,49618.0,21888.0,42429.0,26150.0,30801.0,81168.0,26877.0,45006.0,18978.0,22574.0,48240.0,45837.0,35791.0,162397.0,54162.0,30522.0,54456.0,31632.0,72298.0,36975.0,72635.0,13624.0,84196.0,70971.0,34487.0,28769.0,69084.0,65488.0,62466.0,32218.0,83917.0,46102.0,84574.0,56181.0,63120.0,73691.0,63381.0,76140.0,62859.0,45906.0,77632.0,46463.0,105471.0,55282.0,78710.0,66886.0,98777.0,29103.0,67445.0,50616.0,49431.0,153924.0,61278.0,26490.0,73059.0,46734.0,56253.0,19986.0,58330.0,25965.0,14661.0,18690.0,45068.0,21063.0,29187.0,54690.0,59304.0,59247.0,66731.0,77353.0,52614.0,26751.0,81300.0,70337.0,36145.0,65295.0,68118.0,68743.0,41039.0,38946.0,65777.0,66476.0,86857.0,160803.0,77845.0,69476.0,50611.0,61209.0,42315.0,13084.0,47570.0,61923.0,34824.0,26518.0,45938.0,78468.0,78901.0,71427.0,71022.0,90247.0,41335.0,71952.0,35682.0,43185.0,66375.0,35178.0,25252.0,55250.0,33249.0,58398.0,50272.0,76618.0,87305.0,25851.0,58710.0,45160.0,74806.0,59111.0,18988.0,72190.0,7500.0,44794.0,80395.0,75012.0,56962.0,89891.0,35946.0,53593.0,66373.0,45072.0,89694.0,72025.0,67432.0,70545.0,17487.0,62882.0,64108.0,34941.0,48767.0,38702.0,82224.0,83844.0,17003.0,71163.0,33697.0,63564.0,83443.0,51518.0,58330.0,80952.0,75507.0,63855.0,62220.0,58512.0,40662.0,38829.0,35523.0,79146.0,78285.0,31626.0,75127.0,48726.0,74985.0,67430.0,46891.0,62058.0,72063.0,78939.0,42720.0,33622.0,6835.0,41452.0,40760.0,74250.0,51124.0,72258.0,71466.0,36283.0,20587.0,30467.0,31590.0,20425.0,17144.0,42564.0,43783.0,40780.0,62847.0,82017.0,16813.0,51267.0,46524.0,45183.0,70421.0,60161.0,73926.0,19329.0,61872.0,46984.0,34838.0,82716.0,48192.0,49681.0,56850.0,55267.0,59666.0,72504.0,26872.0,21359.0,73170.0,52750.0,91820.0,65968.0,30772.0,22507.0,65685.0,25804.0,76412.0,22063.0,57091.0,22419.0,87771.0,78353.0,93404.0,37859.0,80995.0,16529.0,55412.0,48789.0,56575.0,25130.0,35441.0,71391.0,49494.0,81702.0,45889.0,56628.0,34026.0,40049.0,34176.0,19419.0,82504.0,81205.0,61618.0,55284.0,49980.0,15072.0,49166.0,65324.0,82347.0,30843.0,46374.0,60474.0,38576.0,55357.0,37758.0,85710.0,23228.0,44602.0,7500.0,38683.0,49514.0,57906.0,43456.0,19485.0,53172.0,30545.0,70123.0,62450.0,21675.0,42395.0,61346.0,80812.0,42835.0,39922.0,86424.0,17117.0,24762.0,35797.0,36627.0,51111.0,86857.0,82072.0,46231.0,42243.0,51195.0,68092.0,31814.0,51390.0,76630.0,26868.0,48948.0,55260.0,64090.0,78331.0,37087.0,21846.0,81320.0,54137.0,66825.0,57100.0,58917.0,85072.0,86429.0,45684.0,47889.0,45921.0,78420.0,75114.0,52278.0,35641.0,95529.0,62820.0,73113.0,84169.0,42607.0,74637.0,46015.0,72354.0,39858.0,34469.0,83033.0,24401.0,77583.0,74116.0,74293.0,68397.0,79632.0,46107.0,64950.0,25443.0,75127.0,32892.0,71796.0,67536.0,55239.0,60554.0,64831.0,56067.0,82025.0,94384.0,14906.0,51563.0,57937.0,68274.0,39771.0,67893.0,27922.0,52190.0,44051.0,42767.0,46106.0,16927.0,59754.0,53700.0,59041.0,54237.0,70647.0,52597.0,41021.0,40233.0,50183.0,54753.0,92955.0,33471.0,34596.0,44010.0,84219.0,40706.0,15716.0,59052.0,80573.0,83715.0,82576.0,56962.0,35704.0,53103.0,46779.0,4861.0,33462.0,63693.0,80763.0,65352.0,82170.0,75759.0,79689.0,35340.0,85683.0,24884.0,42021.0,64449.0,64587.0,34824.0,75437.0,26091.0,52845.0,46086.0,78028.0,95169.0,56337.0,22434.0,36930.0,36130.0,65569.0,83844.0,19514.0,36736.0,77568.0,49187.0,30168.0,34053.0,38196.0,59412.0,70924.0,54165.0,32300.0,20180.0,34961.0,28440.0,64504.0,33564.0,17345.0,56320.0,28647.0,15038.0,32173.0,68316.0,74538.0,91700.0,68695.0,31056.0,79593.0,28071.0,37334.0,46423.0,37126.0,47703.0,61180.0,38998.0,8028.0,76081.0,34728.0,33168.0,33585.0,77037.0,35196.0,44529.0,70924.0,28764.0,69098.0,25959.0,27100.0,70596.0,42557.0,53312.0,72228.0,67605.0,62845.0,65196.0,42000.0,35860.0,65526.0,16860.0,83528.0,64176.0,22304.0,67023.0,32892.0,70713.0,59925.0,39722.0,46610.0,88347.0,87171.0,26907.0,50014.0,41014.0,66294.0,36715.0,79456.0,40479.0,75345.0,54233.0,24163.0,84460.0,43776.0,71691.0,85844.0,39190.0,71367.0,38578.0,57236.0,61825.0,79803.0,80910.0,27590.0,56775.0,83829.0,54210.0,38508.0,53187.0,30023.0,76045.0,50870.0,15315.0,65463.0,66480.0,76773.0,81698.0,54466.0,98777.0,16269.0,71819.0,33569.0,36262.0,22634.0,47025.0,70566.0,31605.0,52034.0,48526.0,46734.0,39552.0,86358.0,46931.0,16581.0,63998.0,67381.0,25930.0,42693.0,85606.0,72903.0,49669.0,36778.0,85696.0,10979.0,49678.0,56129.0,37155.0,21282.0,33419.0,63285.0,21255.0,42162.0,54450.0,57744.0,26576.0,57513.0,68142.0,7500.0,83145.0,54197.0,23091.0,46049.0,56715.0,79410.0,57304.0,44375.0,54450.0,59594.0,80685.0,40344.0,62710.0,48985.0,35322.0,77142.0,81657.0,14421.0,20130.0,74214.0,66726.0,23724.0,47353.0,33444.0,54386.0,28510.0,90638.0,48070.0,43140.0,54959.0,15056.0,26954.0,22327.0,44393.0,62000.0,31497.0,45894.0,78579.0,67369.0,58401.0,62307.0,43641.0,63841.0,46891.0,70091.0,78075.0,59184.0,54809.0,58113.0,51412.0,15287.0,66636.0,50965.0,84618.0,18351.0,40451.0,36317.0,42213.0,65748.0,77044.0,74918.0,56721.0,42160.0,61559.0,33629.0,68682.0,34377.0,8940.0,26228.0,77297.0,40211.0,33438.0,75032.0,61284.0,22518.0,54730.0,38452.0,44421.0,38197.0,41986.0,28427.0,37395.0,64722.0,55249.0,84906.0,28691.0,44213.0,25707.0,59062.0,76624.0,66000.0,27683.0,1730.0,7500.0,40521.0,20427.0,65106.0,69969.0,67433.0,77766.0,74716.0,68118.0,55158.0,62972.0,74190.0,39356.0,76653.0,35860.0,90687.0,73450.0,31454.0,47139.0,83829.0,53378.0,19656.0,45579.0,85485.0,55956.0,64191.0,38808.0,57183.0,23748.0,66303.0,37368.0,40800.0,71847.0,46149.0,78687.0,49118.0,37633.0,39767.0,26997.0,33986.0,57091.0,46831.0,83151.0,52531.0,15759.0,22804.0,43050.0,42997.0,48918.0,60033.0,34043.0,57811.0,78569.0,7500.0,157733.0,94384.0,23148.0,44267.0,71626.0,60894.0,50200.0,81051.0,65169.0,59868.0,65695.0,64857.0,45143.0,74805.0,59060.0,27238.0,47009.0,46094.0,40321.0,37235.0,81843.0,46692.0,77382.0,37774.0,18393.0,72828.0,24711.0,45503.0,6560.0,71604.0,27244.0,48752.0,71434.0,90842.0,88097.0,51948.0,71853.0,35876.0,40049.0,39660.0,50127.0,43263.0,62845.0,18929.0,24367.0,33249.0,26887.0,50150.0,62061.0,85696.0,76542.0,70515.0,18227.0,69139.0,69109.0,69627.0,38136.0,62159.0,80695.0,33316.0,58554.0,17256.0,53034.0,52203.0,59601.0,75154.0,47025.0,37971.0,41335.0,67267.0,57338.0,50523.0,35791.0,50611.0,56242.0,48904.0,56243.0,21355.0,57420.0,51381.5,46390.0,54342.0,51381.5,51381.5,20895.0,92344.0,51381.5,26907.0,44964.0,75507.0,53761.0,22682.0,38887.0,41658.0,29791.0,63915.0,39996.0,26759.0,63841.0,51039.0,60544.0,65685.0,37716.0,36864.0,44511.0,36947.0,47352.0,67087.0,57045.0,36957.0,69389.0,80134.0,43142.0,80589.0,34412.0,57537.0,22634.0,51315.0,36026.0,24639.0,34578.0,65704.0,63810.0,54132.0,18690.0,28164.0,34596.0,43269.0,38741.0,31907.0,27100.0,31163.0,92533.0,34853.0,70844.0,31086.0,60544.0,20491.0,42523.0,39922.0,33402.0,36408.0,21645.0,78427.0,82657.0,51876.0,78041.0,52852.0,70038.0,69401.0,46053.0,77343.0,73892.0,40304.0,32727.0,68695.0,43300.0,26290.0,93790.0,38410.0,64866.0,57957.0,46015.0,16531.0,28072.0,49476.0,50725.0,83844.0,41145.0,67419.0,23162.0,34380.0,34704.0,94871.0,65148.0,39898.0,64857.0,59892.0,41020.0,57072.0,60474.0,62807.0,19414.0,19107.0,75484.0,70379.0,79419.0,64014.0,76998.0,49854.0,60585.0,42873.0,87679.0,57867.0,35765.0,65492.0,32952.0,53374.0,71706.0,68487.0,53253.0,31163.0,42014.0,54108.0,49667.0,63206.0,57136.0,46772.0,78931.0,53977.0,84219.0,46098.0,73538.0,79529.0,20981.0,51766.0,55759.0,33039.0,37787.0,27242.0,87188.0,69930.0,37697.0,37401.0,3502.0,58597.0,82032.0,28087.0,74004.0,19740.0,57036.0,53083.0,69283.0,46098.0,23331.0,23331.0,9255.0,67786.0,71969.0,59235.0,31928.0,74881.0,65819.0,51411.0,51983.0,42386.0,30390.0,30983.0,66033.0,37284.0,57530.0,76800.0,63943.0,76081.0,67445.0,37054.0,47175.0,31859.0,27215.0,70179.0,39922.0,49681.0,24645.0,79865.0,44322.0,47958.0,63972.0,75315.0,55517.0,75283.0,82800.0,38998.0,90638.0,27161.0,42014.0,38201.0,45203.0,81574.0,34935.0,60482.0,34633.0,78093.0,82460.0,45903.0,81361.0,35860.0,40442.0,61482.0,34968.0,75794.0,31497.0,74268.0,13724.0,45143.0,52569.0,48432.0,17144.0,36108.0,76445.0,36663.0,53843.0,90226.0,70638.0,44512.0,27116.0,54072.0,71855.0,51250.0,60432.0,65526.0,68655.0,12393.0,64509.0,33955.0,31353.0,55434.0,28359.0,57100.0,69139.0,52973.0,51717.0,18793.0,66664.0,50664.0,54414.0,54549.0,47111.0,41003.0,19444.0,36301.0,73059.0,42731.0,52854.0,22775.0,46681.0,59821.0,50002.0,69755.0,44078.0,30560.0,35924.0,64140.0,56386.0,24594.0,75774.0,39228.0,58494.0,58684.0,57136.0,56551.0,22448.0,82014.0,34213.0,157146.0,25358.0,35544.0,36634.0,62670.0,50334.0,72066.0,50729.0,34916.0,64892.0,43602.0,33996.0,41473.0,63246.0,36732.0,69084.0,77766.0,37929.0,86610.0,80141.0,72635.0,69016.0,20193.0,27573.0,15862.0,49544.0,33228.0,70440.0,38232.0,22554.0,23536.0,49413.0,42231.0,78789.0,56534.0,58350.0,81217.0,49090.0,61787.0,18169.0,24336.0,18222.0,62335.0,42033.0,86580.0,41437.0,73705.0,61064.0,38452.0,18358.0,55012.0,9722.0,38175.0,58656.0,52117.0,64813.0,54222.0,83512.0,77520.0,41154.0,80398.0,18746.0,35196.0,60230.0,22108.0,44392.0,55424.0,17688.0,92491.0,90273.0,82571.0,38513.0,16653.0,42586.0,23529.0,74881.0,71107.0,46910.0,18690.0,37244.0,82427.0,75342.0,70044.0,79146.0,77437.0,54984.0,42403.0,55761.0,37292.0,45576.0,70321.0,58086.0,81795.0,28389.0,66835.0,69901.0,80360.0,63342.0,44989.0,31859.0,51569.0,30372.0,16014.0,41120.0,39763.0,38725.0,77981.0,62905.0,13533.0,59481.0,72117.0,21955.0,67131.0,36802.0,71853.0,28249.0,47808.0,25509.0,51012.0,70596.0,85431.0,42664.0,42586.0,29760.0,28973.0,39435.0,65370.0,20194.0,42473.0,64590.0,71232.0,34600.0,46904.0,49094.0,36075.0,60839.0,77298.0,34026.0,48918.0,82122.0,37697.0,34074.0,28520.0,62535.0,36273.0,63404.0,75774.0,78416.0,75702.0,59385.0,37070.0,44689.0,53977.0,7144.0,18701.0,90369.0,63159.0,37758.0,46757.0,79734.0,63207.0,72071.0,21840.0,58582.0,72282.0,50387.0,32583.0,62568.0,44635.0,33316.0,63967.0,52513.0,25293.0,54111.0,78394.0,80739.0,22669.0,29236.0,44911.0,54693.0,48186.0,54809.0,41580.0,80336.0,47743.0,62972.0,57333.0,32313.0,84953.0,27071.0,68148.0,65735.0,86836.0,4023.0,30093.0,57705.0,25008.0,83257.0,22280.0,72159.0,64260.0,82733.0,74290.0,58217.0,21024.0,70116.0,54006.0,69063.0,11448.0,61825.0,70886.0,69109.0,60208.0,32889.0,34738.0,30538.0,82326.0,26642.0,69932.0,44503.0,60200.0,49638.0,23830.0,33051.0,72905.0,69702.0,70300.0,70643.0,30396.0,50616.0,62772.0,30298.0,52413.0,44155.0,86979.0,76532.0,42081.0,67546.0,88420.0,31158.0,61671.0,69719.0,49160.0,24882.0,90933.0,113734.0,59292.0,45759.0,22148.0,73395.0,29819.0,45688.0,62820.0,60491.0,33235.0,35701.0,31535.0,92556.0,67384.0,80573.0,77870.0,52278.0,57107.0,18929.0,36038.0,20180.0,34230.0,31878.0,70932.0,91249.0,77598.0,80982.0,22701.0,55212.0,70617.0,64849.0,62694.0,61917.0,67472.0,21059.0,29543.0,75903.0,34984.0,54998.0,54356.0,34242.0,25410.0,73356.0,28320.0,23763.0,72570.0,34529.0,70792.0,63211.0,83891.0,36065.0,39898.0,51141.0,56939.0,80872.0,72335.0,61798.0,76842.0,29478.0,46998.0,96843.0,56551.0,70053.0,71670.0,44359.0,40887.0,48877.0,74485.0,64474.0,77226.0,72643.0,85738.0,55686.0,39062.0,34600.0,40794.0,54690.0,4428.0,32632.0,38236.0,36781.0,31385.0,24570.0,25509.0,94642.0,58646.0,53201.0,21994.0,57113.0,51373.0,23477.0,58116.0,72968.0,39791.0,91712.0,94472.0,13672.0,96547.0,79205.0,56559.0,32644.0,67506.0,24206.0,28420.0,22979.0,33279.0,46423.0,30368.0,63684.0,41638.0,68805.0,65814.0,71964.0,39146.0,96876.0,34445.0,68281.0,37284.0,36790.0,27943.0,22263.0,30261.0,28587.0,43815.0,48195.0,77027.0,71322.0,32765.0,29672.0,23272.0,49912.0,7500.0,68117.0,67225.0,17649.0,55914.0,40059.0,60905.0,75330.0,60689.0,38680.0,61416.0,49767.0,83273.0,29009.0,45057.0,37150.0,43020.0,53154.0,65308.0,76467.0,81044.0,32871.0,55801.0,76320.0,36927.0,48794.0,23478.0,71128.0,70179.0,59462.0,51381.5,38361.0,51381.5,70038.0,42554.0,67445.0,67046.0,42192.0,77610.0,31761.0,34350.0,54591.0,71866.0,25293.0,42000.0,69520.0,64713.0,27889.0,22123.0,51381.5,51381.5,27803.0,51381.5,51651.0,68487.0,51381.5,56796.0,87000.0,79823.0,30828.0,34109.0,53367.0,22390.0,71322.0,79244.0,49912.0,48699.0,80144.0,54252.0,81929.0,76068.0,53204.0,67911.0,14796.0,78128.0,14188.0,20425.0,58646.0,72967.0,48150.0,82332.0,58275.0,44953.0,34587.0,43018.0,45736.0,66476.0,27733.0,69805.0,72217.0,25818.0,37509.0,25176.0,43586.0,53230.0,50116.0,84906.0,61286.0,82333.0,65220.0,33590.0,30992.0,72309.0,156924.0,16005.0,65487.0,58692.0,40590.0,20587.0,62637.0,29435.0,19346.0,35788.0,36997.0,23539.0,65333.0,78499.0,29732.0,41275.0,63516.0,42769.0,49572.0,69209.0,17148.0,40590.0,30560.0,32146.0,41713.0,34176.0,58482.0,59686.0,60896.0,62994.0,47320.0,74859.0,15253.0,31560.0,72071.0,91172.0,90000.0,41967.0,69263.0,65706.0,60934.0,71965.0,65210.0,79174.0,81380.0,48432.0,52914.0,38946.0,26067.0,44325.0,42523.0,26487.0,53233.0,67716.0,76234.0,84117.0,65487.0,25224.0,89616.0,40851.0,27469.0,82347.0,73803.0,8820.0,43322.0,55593.0,50501.0,37085.0,16185.0,57731.0,48432.0,73807.0,18929.0,35893.0,61014.0,32144.0,14918.0,45146.0,41769.0,88325.0,38054.0,80617.0,5305.0,36807.0,28427.0,82032.0,22775.0,40101.0,58025.0,75777.0,7500.0,33562.0,57642.0,58554.0,63777.0,57967.0,51381.5,24434.0,11012.0,44802.0,26816.0,666666.0,34421.0,61223.0,64014.0,56981.0,69245.0,52869.0],\"y\":[4,2,10,4,6,10,7,4,2,0,2,3,8,5,3,12,3,6,9,3,5,0,9,9,5,3,4,0,4,10,3,3,4,6,9,3,12,2,3,5,5,3,3,4,3,9,3,2,4,12,10,13,3,7,10,13,10,4,3,6,11,12,10,8,4,2,2,10,10,5,6,3,13,8,4,2,5,9,3,8,4,2,3,3,13,4,4,6,7,5,8,2,8,3,3,3,6,3,12,7,3,3,11,6,5,3,4,12,3,4,11,5,8,11,6,3,5,5,3,3,10,3,3,3,13,7,6,4,7,10,5,6,9,7,5,13,3,2,2,3,12,7,10,9,3,6,3,2,4,4,7,6,5,4,11,6,5,3,6,10,2,9,4,10,0,4,4,6,7,3,3,3,3,3,2,8,5,3,3,12,4,3,13,3,3,2,4,8,9,3,2,12,2,3,6,2,12,6,5,3,7,9,9,10,3,2,3,5,3,9,6,9,5,8,9,5,2,6,5,11,4,7,11,4,12,4,4,11,8,2,8,4,2,3,11,4,3,11,3,2,10,4,2,9,8,3,6,6,5,6,3,3,13,5,11,3,5,7,4,2,2,10,6,2,4,3,8,2,6,2,5,4,4,4,4,12,10,5,8,9,4,4,6,8,3,2,13,12,5,5,3,3,9,3,3,11,3,3,6,12,3,9,3,4,3,9,3,10,6,4,3,3,12,10,6,3,3,6,3,10,12,2,2,5,8,5,4,3,3,4,2,3,5,2,3,12,6,3,8,4,11,4,11,8,2,4,3,6,3,2,9,8,5,10,5,3,4,8,5,4,10,10,4,2,6,9,11,3,8,8,3,4,2,12,3,2,2,3,10,3,2,3,6,4,2,2,4,13,3,12,8,6,6,4,12,10,4,2,3,3,3,9,5,4,6,3,4,5,2,8,3,6,12,7,8,10,3,11,9,8,3,3,2,8,5,2,13,10,4,12,9,7,9,13,4,3,12,5,4,3,3,5,3,3,3,2,4,7,3,9,11,7,4,8,10,6,9,5,8,6,8,11,3,8,3,9,5,2,8,12,13,2,9,3,2,11,3,8,7,4,2,3,2,5,4,13,7,10,3,4,12,5,13,3,6,11,3,4,11,13,2,3,3,12,3,12,8,11,4,12,3,12,5,7,5,9,3,3,7,10,3,6,6,9,3,3,10,6,4,8,8,5,6,5,3,5,3,4,7,3,3,4,3,6,8,4,4,4,2,3,3,2,8,2,13,5,11,7,4,4,4,7,13,12,7,5,9,2,2,2,5,3,3,5,3,8,3,3,4,4,6,5,3,3,3,4,5,10,7,3,2,5,9,3,7,2,3,3,3,4,3,12,9,10,3,2,3,3,3,7,6,7,3,3,13,5,3,1,3,9,7,2,6,3,6,3,7,5,3,4,13,6,12,3,7,2,11,7,9,8,13,6,6,4,6,6,13,6,12,7,9,3,12,4,5,0,4,5,13,3,9,3,13,3,3,2,2,3,3,5,10,9,6,8,8,2,5,12,3,13,4,13,5,6,6,11,10,1,12,4,7,4,4,3,2,4,2,3,6,10,5,8,11,7,4,8,3,6,5,2,2,10,3,8,5,5,8,3,9,2,5,8,3,4,2,3,12,11,5,8,3,6,10,4,4,13,4,7,2,6,11,3,3,4,5,11,4,12,2,7,5,10,13,11,6,13,5,8,3,2,3,8,10,2,5,4,7,12,4,7,12,6,7,4,1,2,3,4,3,5,10,3,2,2,3,3,4,4,8,5,4,7,3,5,5,7,7,8,12,3,9,3,4,13,12,7,3,6,8,6,2,3,6,9,12,7,2,4,9,3,8,3,7,2,4,11,7,3,4,3,3,7,7,3,3,12,5,12,3,5,3,6,4,3,7,7,8,8,5,3,3,9,10,2,7,12,3,11,3,10,3,4,3,6,4,8,8,2,8,3,4,4,3,4,10,5,4,4,12,3,2,3,3,3,10,13,4,3,5,10,3,5,11,2,5,5,4,7,8,3,10,4,6,6,6,10,7,2,3,6,8,5,10,4,7,6,7,6,7,9,3,6,4,4,10,6,9,10,6,5,9,4,10,3,5,3,4,11,11,9,5,7,6,5,3,10,9,5,3,9,3,3,4,2,2,4,6,8,4,5,13,8,3,5,6,11,9,4,2,6,10,4,4,7,13,13,12,5,4,7,2,0,3,9,6,8,7,9,13,3,10,3,6,12,4,2,10,3,6,8,9,4,4,3,4,4,10,11,2,2,8,5,4,3,4,8,7,7,3,4,3,3,4,3,2,9,2,2,3,10,5,5,7,3,7,5,4,4,2,8,6,3,0,4,2,4,4,12,5,11,7,2,9,2,3,12,4,5,8,6,10,11,11,2,8,3,8,8,2,13,3,8,9,3,6,9,11,3,8,2,5,4,4,3,6,5,3,4,2,5,7,4,7,3,4,8,5,8,2,10,6,7,5,6,3,11,3,4,9,7,11,5,2,9,3,5,2,3,2,6,9,4,5,4,5,5,6,3,3,11,9,2,3,9,8,6,3,9,3,4,10,4,2,4,13,4,3,8,4,2,13,7,2,11,6,3,9,4,5,10,6,8,7,10,5,12,3,4,8,8,2,3,5,4,3,6,2,10,4,10,6,5,4,3,2,3,4,13,4,3,4,10,2,4,4,9,4,10,5,12,5,8,4,2,9,5,10,3,2,4,7,10,11,6,5,4,10,4,10,2,3,2,9,2,4,9,8,2,8,3,4,3,4,3,3,11,4,12,3,5,3,3,7,5,4,0,2,2,2,13,6,13,11,5,4,5,3,11,2,11,2,8,11,3,2,6,6,3,4,6,4,13,4,7,3,11,2,3,9,7,8,10,3,7,5,3,5,2,10,10,2,2,4,2,4,5,2,11,4,3,1,5,3,4,8,8,5,12,13,12,10,10,5,10,7,3,8,3,3,2,12,5,12,3,3,13,3,4,1,5,2,5,7,13,8,4,6,3,3,3,6,6,10,4,2,3,3,7,7,9,10,4,2,5,7,11,2,10,5,4,6,2,7,11,7,6,5,3,4,5,5,4,3,7,11,4,8,2,6,6,3,4,3,2,3,5,3,3,3,6,3,4,3,2,3,12,2,3,9,4,5,9,3,4,8,4,5,8,9,2,12,6,2,5,3,8,2,5,3,4,2,10,12,3,2,4,2,2,3,6,3,3,11,3,5,2,5,2,4,4,3,2,3,10,10,8,9,5,8,5,4,9,8,3,5,7,4,4,12,9,7,8,3,3,3,5,8,11,3,8,3,3,3,4,7,4,10,3,4,13,12,12,3,3,6,13,4,5,8,5,9,4,10,9,4,13,3,9,7,13,5,3,6,9,5,6,10,5,13,12,10,2,9,9,2,4,8,4,3,3,6,12,3,3,0,9,7,2,4,3,13,5,13,2,3,5,2,6,9,12,4,12,10,3,10,3,3,3,7,3,4,7,6,4,12,3,4,2,4,13,4,7,2,5,3,5,10,12,6,5,12,3,10,3,6,5,3,8,4,7,2,5,6,3,13,2,4,6,5,12,4,5,2,5,4,6,4,4,13,3,3,12,10,3,3,2,11,4,5,8,11,3,9,5,2,13,2,7,5,9,4,4,6,6,5,4,10,8,2,3,13,5,4,2,4,7,7,12,3,3,3,6,7,3,8,3,6,12,7,4,3,12,2,0,3,3,5,13,6,6,7,3,12,2,3,3,12,4,13,11,5,6,10,6,13,4,4,3,8,3,7,3,4,3,5,3,5,7,12,11,9,6,2,2,3,13,2,5,3,8,11,3,4,9,3,4,13,4,10,5,10,7,4,12,3,5,6,3,4,9,2,12,7,13,5,3,6,2,12,13,3,2,2,12,10,5,8,13,6,3,3,5,3,13,7,7,2,13,10,5,5,5,3,7,3,4,3,2,4,7,8,3,8,9,3,12,3,6,3,3,3,4,12,7,3,6,4,5,2,13,3,4,10,10,5,4,6,4,12,11,3,4,13,3,3,2,8,3,4,8,10,13,4,8,2,12,1,4,6,8,3,7,6,6,8,3,9,9,8,2,5,3,4,12,9,2,6,5,9,2,3,4,13,4,5,3,13,6,3,9,4,4,3,6,6,6,0,3,6,3,12,2,10,4,7,10,4,4,12,7,5,2,8,4,7,7,3,3,4,6,3,11,3,11,3,3,8,9,10,13,4,2,4,11,3,7,2,5,7,4,5,8,3,6,5,6,2,4,0,8,3,3,6,3,8,6,7,3,3,2,13,5,13,5,10,8,4,3,4,2,4,12,6,13,11,3,11,7,6,7,4,7,3,2,9,3,9,8,3,4,5,3,3,12,3,10,7,10,3,4,4,10,10,8,9,7,3,5,10,4,10,6,4,3,4,12,10,12,7,11,5,3,5,5,5,0,8,4,2,2,4,3,9,4,5,3,5,3,4,8,8,4,11,5,3,8,4,8,6,6,3,2,2,3,4,3,8,3,7,10,5,4,9,8,13,3,2,3,3,3,4,3,5,6,13,4,3,3,7,3,4,11,3,8,3,7,12,10,3,10,8,9,3,3,6,4,4,12,5,10,3,6,4,3,3,3,12,13,12,4,3,3,8,3,12,4,3,4,4,3,8,10,2,11,5,7,2,3,3,4,4,5,5,13,11,7,7,7,4,3,8,2,7,7,7,3,8,5,10,4,3,11,3,6,4,3,4,8,4,12,7,13,3,2,6,10,3,11,8,2,4,2,4,12,4,12,8,10,7,2,3,8,0,2,6,4,3,2,5,2,3,3,4,4,8,4,2,3,7,4,3,6,3,3,3,4,4,3,9,6,4,4,8,11,3,3,8,7,5,3,7,12,11,5,8,7,10,6,3,6,3,7,4,3,3,13,11,6,6,3,12,2,3,10,6,3,4,3,4,3,2,6,6,11,4,5,4,3,3,2,7,9,3,8,0,2,3,7,2,6,10,11,2,4,6,6,6,8,1,2,2,12,3,3,2,4,5,13,10,4],\"z\":[8,1,8,2,5,6,7,4,3,1,1,2,3,6,1,7,3,4,11,2,4,0,2,6,7,2,5,27,2,6,3,2,2,4,3,2,5,3,1,7,8,2,0,1,2,2,3,2,2,5,4,6,2,4,4,3,5,1,2,8,3,4,8,7,7,1,1,11,5,2,4,3,10,9,2,1,7,5,0,10,3,1,3,2,3,1,3,6,5,2,7,1,2,1,3,2,7,2,5,5,2,2,9,6,3,1,4,6,3,5,6,7,8,6,6,2,4,9,1,2,6,2,1,1,6,3,3,2,6,6,5,11,7,6,5,4,1,2,1,2,5,3,5,8,4,3,2,1,4,2,4,8,7,3,8,10,6,0,1,3,1,10,3,5,0,2,6,3,3,2,1,2,3,2,2,11,9,2,0,5,4,2,6,1,2,1,1,7,4,2,1,8,2,3,5,1,7,4,5,5,8,4,11,7,1,0,1,4,2,11,3,4,5,7,3,8,1,8,4,11,1,3,6,4,9,3,8,2,3,1,5,6,1,1,7,2,1,5,3,1,6,6,2,3,11,1,5,9,4,9,2,1,6,3,4,1,8,3,2,1,1,10,4,1,5,3,3,3,3,2,3,3,4,2,2,6,7,3,3,9,3,8,4,5,2,3,6,6,5,7,1,3,2,3,0,3,1,3,2,8,3,9,2,5,3,6,3,2,8,4,3,2,6,6,3,2,3,4,1,2,3,1,1,10,8,4,2,1,1,3,1,1,9,1,2,4,11,1,7,4,4,2,4,3,1,2,1,4,2,1,6,8,4,3,11,2,2,3,5,4,4,6,2,1,6,6,4,2,4,2,1,5,1,4,3,3,1,1,3,1,1,0,4,4,0,1,7,4,2,2,5,3,5,4,5,4,3,1,1,2,2,9,2,5,6,1,2,5,3,7,3,4,11,5,5,3,2,2,7,10,2,2,1,3,7,1,6,2,1,5,2,8,9,8,1,1,6,9,2,2,1,2,0,1,1,1,5,4,2,3,4,8,2,4,9,5,7,4,2,5,2,3,3,3,4,2,5,1,7,7,6,1,8,1,1,8,1,7,6,7,2,2,6,4,5,5,3,7,1,4,2,6,3,2,9,5,2,4,6,4,1,1,4,4,1,10,5,3,2,5,4,6,6,5,6,5,3,1,4,6,2,2,5,2,2,1,4,4,4,4,4,4,8,3,2,6,2,8,2,3,3,4,4,7,4,2,3,3,3,1,1,3,6,3,3,4,6,5,2,5,2,6,8,6,3,3,4,1,1,1,5,1,4,5,2,6,4,3,2,4,3,7,1,2,2,2,5,4,7,1,2,5,3,1,3,3,2,1,2,3,1,5,3,5,3,5,1,1,1,6,3,3,1,2,6,6,1,0,1,1,6,2,4,1,6,2,8,11,3,4,7,3,6,2,6,1,9,4,8,6,4,5,9,5,4,3,9,3,7,7,4,1,9,1,7,0,3,3,9,3,7,0,6,2,1,1,1,2,1,3,7,5,4,6,2,1,10,2,4,3,8,11,8,3,2,5,5,0,3,4,4,5,1,1,2,2,1,2,8,10,9,8,5,3,4,8,1,9,2,1,1,7,2,5,4,3,5,2,11,1,5,11,1,5,4,2,6,3,6,11,0,7,4,6,4,4,8,4,1,7,6,3,2,3,6,4,2,3,1,10,6,3,6,8,8,7,7,3,2,3,3,8,6,2,2,3,3,11,2,6,5,8,7,2,0,1,2,2,1,6,4,1,1,1,1,2,3,6,7,7,3,5,2,3,1,4,10,11,6,4,4,1,2,6,2,7,1,3,3,5,1,2,5,5,5,5,1,10,9,2,5,2,7,3,5,10,3,1,8,1,2,6,7,2,1,6,6,7,1,7,2,3,3,4,3,5,3,7,3,3,5,6,7,1,7,10,1,6,1,6,2,6,0,4,6,4,5,1,2,2,5,5,4,3,5,4,6,3,6,3,3,2,0,2,5,3,6,2,9,2,2,5,3,1,7,8,6,10,4,4,4,4,4,3,4,3,7,1,2,2,3,3,10,3,7,3,3,7,3,6,1,2,2,1,11,6,4,4,5,6,6,1,11,1,2,3,9,11,7,8,6,7,3,5,2,4,4,4,2,3,2,2,3,3,1,3,5,5,2,5,4,6,2,2,3,5,6,3,1,10,3,3,3,7,4,2,2,6,2,10,0,0,2,11,5,4,5,9,4,2,2,0,10,5,1,1,8,2,8,3,6,4,8,2,5,3,6,4,3,1,10,1,6,3,2,4,6,2,1,2,3,2,11,1,2,5,2,2,1,10,8,8,4,1,5,5,3,2,1,6,5,2,0,4,1,2,2,7,6,6,6,1,7,1,1,3,6,5,6,2,3,7,5,1,4,1,4,8,1,3,3,5,9,2,6,4,6,1,4,1,4,7,5,0,5,11,1,9,1,4,6,2,4,3,2,4,4,3,1,5,4,4,7,4,2,4,2,2,6,4,2,8,1,4,3,3,1,3,2,11,6,2,4,2,6,6,5,1,0,7,2,1,1,6,7,5,3,4,3,6,6,2,2,2,6,2,3,9,9,1,9,10,1,5,1,2,5,7,3,7,4,9,8,6,4,4,1,2,4,3,1,1,8,8,2,2,1,3,2,3,8,4,9,2,1,1,1,6,3,1,5,7,1,4,2,9,2,5,3,6,2,9,3,1,3,10,6,2,1,3,5,2,7,5,4,2,4,3,4,2,3,1,5,2,2,5,11,2,4,3,5,1,3,2,1,8,2,5,1,2,1,2,5,1,6,0,3,0,1,8,4,6,11,7,8,7,7,4,1,4,1,6,7,2,2,4,9,2,4,6,7,5,5,9,2,3,1,3,6,5,4,9,1,7,4,1,9,1,5,7,1,2,2,1,1,2,2,7,4,2,1,5,2,5,5,10,7,5,10,11,5,7,6,4,3,3,3,1,3,1,5,6,5,7,3,6,3,3,1,8,2,6,7,4,6,5,2,3,1,7,5,5,3,1,1,2,1,5,10,4,4,6,0,4,6,8,3,6,5,2,8,2,6,8,2,6,6,1,4,3,4,2,1,4,8,7,4,2,5,4,4,3,1,1,2,5,1,1,1,8,4,2,1,1,2,6,1,2,9,6,5,9,4,5,8,3,6,7,4,3,7,5,1,5,5,4,2,2,2,2,1,2,4,1,1,2,1,1,2,6,1,1,6,2,6,1,5,0,1,3,2,1,3,3,7,2,4,10,4,4,3,3,3,2,7,4,4,2,6,5,7,4,1,3,1,2,8,4,0,9,1,4,1,8,6,3,7,2,3,7,10,5,1,1,7,6,4,8,11,6,7,6,7,7,2,4,2,4,9,9,4,1,7,8,5,4,5,11,2,5,3,3,10,4,3,4,10,2,3,2,10,4,2,2,0,7,4,2,4,1,6,5,7,3,3,5,1,3,3,11,3,9,5,0,9,3,2,4,8,0,1,4,6,4,9,1,4,1,2,7,3,7,1,5,3,6,5,5,11,6,7,2,3,1,7,5,3,4,2,7,1,4,5,2,3,1,3,3,3,7,3,4,2,6,2,7,3,7,2,1,8,4,4,1,2,2,5,10,7,4,4,2,6,5,1,5,1,3,4,9,3,2,5,8,3,5,3,6,4,3,9,4,2,1,4,11,8,3,2,1,1,2,9,1,7,0,6,5,7,2,2,3,3,0,1,2,5,5,7,4,6,5,6,3,1,2,6,1,7,11,4,5,7,6,8,1,5,1,5,2,5,3,2,0,4,1,4,10,8,3,7,8,1,1,2,3,1,4,1,9,8,3,3,8,3,3,7,5,7,3,4,8,1,5,3,6,6,2,4,7,1,7,5,6,6,2,4,1,9,7,2,1,1,3,5,7,8,4,6,1,4,6,3,6,11,4,1,6,7,4,8,5,1,7,2,1,2,5,1,7,7,2,3,9,2,9,1,2,2,3,3,4,3,2,1,4,3,5,3,2,2,2,9,11,5,5,6,2,2,6,2,1,3,2,3,1,3,3,6,7,7,10,3,5,1,5,23,2,4,3,1,4,4,2,5,1,9,5,6,1,5,2,2,4,9,1,5,4,3,4,4,4,6,4,2,2,2,4,7,8,4,3,2,4,6,6,0,2,8,1,5,1,4,4,8,10,2,2,2,8,5,1,4,5,6,8,2,1,9,5,2,7,2,6,1,1,9,3,7,5,5,1,4,5,1,7,1,5,9,6,4,4,2,10,2,3,1,4,27,3,2,1,4,3,3,3,6,3,1,1,3,7,4,5,10,4,1,3,2,1,1,6,7,7,11,1,4,3,9,9,2,4,3,3,6,1,4,11,0,1,5,1,1,4,2,3,3,4,3,3,3,3,4,10,4,1,1,5,6,2,8,5,2,3,3,6,8,6,3,3,6,1,5,6,3,25,4,3,2,1,4,3,5,2,6,0,4,3,3,3,5,3,9,5,1,7,6,4,7,4,1,1,3,0,2,2,8,5,3,8,5,4,7,11,2,0,2,2,1,0,2,2,4,8,8,2,0,1,10,2,11,7,3,11,6,3,10,4,2,10,5,4,2,2,4,4,3,7,2,5,1,7,6,3,1,3,2,7,9,4,3,3,4,2,9,4,2,4,3,1,6,6,1,5,9,5,1,2,2,4,3,6,6,9,5,8,4,6,1,0,5,1,4,4,10,1,3,4,4,2,1,6,1,8,2,2,2,7,5,5,8,7,1,2,7,6,2,6,3,0,3,1,3,5,1,5,7,4,8,1,1,5,0,2,3,8,3,1,2,3,1,2,2,2,9,11,2,3,4,1,2,5,3,3,1,2,3,1,7,4,9,6,5,6,1,2,5,4,4,1,9,11,6,6,9,5,4,7,7,3,3,8,1,2,1,7,8,7,3,1,7,1,0,7,9,3,3,6,5,3,2,8,7,5,1,3,9,2,1,1,8,6,2,4,1,1,2,4,1,6,3,3,3,2,7,8,11,4,0,2,3,9,0,3,1,9,8,2,6,3],\"type\":\"scatter3d\"}],                        {\"template\":{\"data\":{\"histogram2dcontour\":[{\"type\":\"histogram2dcontour\",\"colorbar\":{\"outlinewidth\":0,\"ticks\":\"\"},\"colorscale\":[[0.0,\"#0d0887\"],[0.1111111111111111,\"#46039f\"],[0.2222222222222222,\"#7201a8\"],[0.3333333333333333,\"#9c179e\"],[0.4444444444444444,\"#bd3786\"],[0.5555555555555556,\"#d8576b\"],[0.6666666666666666,\"#ed7953\"],[0.7777777777777778,\"#fb9f3a\"],[0.8888888888888888,\"#fdca26\"],[1.0,\"#f0f921\"]]}],\"choropleth\":[{\"type\":\"choropleth\",\"colorbar\":{\"outlinewidth\":0,\"ticks\":\"\"}}],\"histogram2d\":[{\"type\":\"histogram2d\",\"colorbar\":{\"outlinewidth\":0,\"ticks\":\"\"},\"colorscale\":[[0.0,\"#0d0887\"],[0.1111111111111111,\"#46039f\"],[0.2222222222222222,\"#7201a8\"],[0.3333333333333333,\"#9c179e\"],[0.4444444444444444,\"#bd3786\"],[0.5555555555555556,\"#d8576b\"],[0.6666666666666666,\"#ed7953\"],[0.7777777777777778,\"#fb9f3a\"],[0.8888888888888888,\"#fdca26\"],[1.0,\"#f0f921\"]]}],\"heatmap\":[{\"type\":\"heatmap\",\"colorbar\":{\"outlinewidth\":0,\"ticks\":\"\"},\"colorscale\":[[0.0,\"#0d0887\"],[0.1111111111111111,\"#46039f\"],[0.2222222222222222,\"#7201a8\"],[0.3333333333333333,\"#9c179e\"],[0.4444444444444444,\"#bd3786\"],[0.5555555555555556,\"#d8576b\"],[0.6666666666666666,\"#ed7953\"],[0.7777777777777778,\"#fb9f3a\"],[0.8888888888888888,\"#fdca26\"],[1.0,\"#f0f921\"]]}],\"heatmapgl\":[{\"type\":\"heatmapgl\",\"colorbar\":{\"outlinewidth\":0,\"ticks\":\"\"},\"colorscale\":[[0.0,\"#0d0887\"],[0.1111111111111111,\"#46039f\"],[0.2222222222222222,\"#7201a8\"],[0.3333333333333333,\"#9c179e\"],[0.4444444444444444,\"#bd3786\"],[0.5555555555555556,\"#d8576b\"],[0.6666666666666666,\"#ed7953\"],[0.7777777777777778,\"#fb9f3a\"],[0.8888888888888888,\"#fdca26\"],[1.0,\"#f0f921\"]]}],\"contourcarpet\":[{\"type\":\"contourcarpet\",\"colorbar\":{\"outlinewidth\":0,\"ticks\":\"\"}}],\"contour\":[{\"type\":\"contour\",\"colorbar\":{\"outlinewidth\":0,\"ticks\":\"\"},\"colorscale\":[[0.0,\"#0d0887\"],[0.1111111111111111,\"#46039f\"],[0.2222222222222222,\"#7201a8\"],[0.3333333333333333,\"#9c179e\"],[0.4444444444444444,\"#bd3786\"],[0.5555555555555556,\"#d8576b\"],[0.6666666666666666,\"#ed7953\"],[0.7777777777777778,\"#fb9f3a\"],[0.8888888888888888,\"#fdca26\"],[1.0,\"#f0f921\"]]}],\"surface\":[{\"type\":\"surface\",\"colorbar\":{\"outlinewidth\":0,\"ticks\":\"\"},\"colorscale\":[[0.0,\"#0d0887\"],[0.1111111111111111,\"#46039f\"],[0.2222222222222222,\"#7201a8\"],[0.3333333333333333,\"#9c179e\"],[0.4444444444444444,\"#bd3786\"],[0.5555555555555556,\"#d8576b\"],[0.6666666666666666,\"#ed7953\"],[0.7777777777777778,\"#fb9f3a\"],[0.8888888888888888,\"#fdca26\"],[1.0,\"#f0f921\"]]}],\"mesh3d\":[{\"type\":\"mesh3d\",\"colorbar\":{\"outlinewidth\":0,\"ticks\":\"\"}}],\"scatter\":[{\"fillpattern\":{\"fillmode\":\"overlay\",\"size\":10,\"solidity\":0.2},\"type\":\"scatter\"}],\"parcoords\":[{\"type\":\"parcoords\",\"line\":{\"colorbar\":{\"outlinewidth\":0,\"ticks\":\"\"}}}],\"scatterpolargl\":[{\"type\":\"scatterpolargl\",\"marker\":{\"colorbar\":{\"outlinewidth\":0,\"ticks\":\"\"}}}],\"bar\":[{\"error_x\":{\"color\":\"#2a3f5f\"},\"error_y\":{\"color\":\"#2a3f5f\"},\"marker\":{\"line\":{\"color\":\"#E5ECF6\",\"width\":0.5},\"pattern\":{\"fillmode\":\"overlay\",\"size\":10,\"solidity\":0.2}},\"type\":\"bar\"}],\"scattergeo\":[{\"type\":\"scattergeo\",\"marker\":{\"colorbar\":{\"outlinewidth\":0,\"ticks\":\"\"}}}],\"scatterpolar\":[{\"type\":\"scatterpolar\",\"marker\":{\"colorbar\":{\"outlinewidth\":0,\"ticks\":\"\"}}}],\"histogram\":[{\"marker\":{\"pattern\":{\"fillmode\":\"overlay\",\"size\":10,\"solidity\":0.2}},\"type\":\"histogram\"}],\"scattergl\":[{\"type\":\"scattergl\",\"marker\":{\"colorbar\":{\"outlinewidth\":0,\"ticks\":\"\"}}}],\"scatter3d\":[{\"type\":\"scatter3d\",\"line\":{\"colorbar\":{\"outlinewidth\":0,\"ticks\":\"\"}},\"marker\":{\"colorbar\":{\"outlinewidth\":0,\"ticks\":\"\"}}}],\"scattermapbox\":[{\"type\":\"scattermapbox\",\"marker\":{\"colorbar\":{\"outlinewidth\":0,\"ticks\":\"\"}}}],\"scatterternary\":[{\"type\":\"scatterternary\",\"marker\":{\"colorbar\":{\"outlinewidth\":0,\"ticks\":\"\"}}}],\"scattercarpet\":[{\"type\":\"scattercarpet\",\"marker\":{\"colorbar\":{\"outlinewidth\":0,\"ticks\":\"\"}}}],\"carpet\":[{\"aaxis\":{\"endlinecolor\":\"#2a3f5f\",\"gridcolor\":\"white\",\"linecolor\":\"white\",\"minorgridcolor\":\"white\",\"startlinecolor\":\"#2a3f5f\"},\"baxis\":{\"endlinecolor\":\"#2a3f5f\",\"gridcolor\":\"white\",\"linecolor\":\"white\",\"minorgridcolor\":\"white\",\"startlinecolor\":\"#2a3f5f\"},\"type\":\"carpet\"}],\"table\":[{\"cells\":{\"fill\":{\"color\":\"#EBF0F8\"},\"line\":{\"color\":\"white\"}},\"header\":{\"fill\":{\"color\":\"#C8D4E3\"},\"line\":{\"color\":\"white\"}},\"type\":\"table\"}],\"barpolar\":[{\"marker\":{\"line\":{\"color\":\"#E5ECF6\",\"width\":0.5},\"pattern\":{\"fillmode\":\"overlay\",\"size\":10,\"solidity\":0.2}},\"type\":\"barpolar\"}],\"pie\":[{\"automargin\":true,\"type\":\"pie\"}]},\"layout\":{\"autotypenumbers\":\"strict\",\"colorway\":[\"#636efa\",\"#EF553B\",\"#00cc96\",\"#ab63fa\",\"#FFA15A\",\"#19d3f3\",\"#FF6692\",\"#B6E880\",\"#FF97FF\",\"#FECB52\"],\"font\":{\"color\":\"#2a3f5f\"},\"hovermode\":\"closest\",\"hoverlabel\":{\"align\":\"left\"},\"paper_bgcolor\":\"white\",\"plot_bgcolor\":\"#E5ECF6\",\"polar\":{\"bgcolor\":\"#E5ECF6\",\"angularaxis\":{\"gridcolor\":\"white\",\"linecolor\":\"white\",\"ticks\":\"\"},\"radialaxis\":{\"gridcolor\":\"white\",\"linecolor\":\"white\",\"ticks\":\"\"}},\"ternary\":{\"bgcolor\":\"#E5ECF6\",\"aaxis\":{\"gridcolor\":\"white\",\"linecolor\":\"white\",\"ticks\":\"\"},\"baxis\":{\"gridcolor\":\"white\",\"linecolor\":\"white\",\"ticks\":\"\"},\"caxis\":{\"gridcolor\":\"white\",\"linecolor\":\"white\",\"ticks\":\"\"}},\"coloraxis\":{\"colorbar\":{\"outlinewidth\":0,\"ticks\":\"\"}},\"colorscale\":{\"sequential\":[[0.0,\"#0d0887\"],[0.1111111111111111,\"#46039f\"],[0.2222222222222222,\"#7201a8\"],[0.3333333333333333,\"#9c179e\"],[0.4444444444444444,\"#bd3786\"],[0.5555555555555556,\"#d8576b\"],[0.6666666666666666,\"#ed7953\"],[0.7777777777777778,\"#fb9f3a\"],[0.8888888888888888,\"#fdca26\"],[1.0,\"#f0f921\"]],\"sequentialminus\":[[0.0,\"#0d0887\"],[0.1111111111111111,\"#46039f\"],[0.2222222222222222,\"#7201a8\"],[0.3333333333333333,\"#9c179e\"],[0.4444444444444444,\"#bd3786\"],[0.5555555555555556,\"#d8576b\"],[0.6666666666666666,\"#ed7953\"],[0.7777777777777778,\"#fb9f3a\"],[0.8888888888888888,\"#fdca26\"],[1.0,\"#f0f921\"]],\"diverging\":[[0,\"#8e0152\"],[0.1,\"#c51b7d\"],[0.2,\"#de77ae\"],[0.3,\"#f1b6da\"],[0.4,\"#fde0ef\"],[0.5,\"#f7f7f7\"],[0.6,\"#e6f5d0\"],[0.7,\"#b8e186\"],[0.8,\"#7fbc41\"],[0.9,\"#4d9221\"],[1,\"#276419\"]]},\"xaxis\":{\"gridcolor\":\"white\",\"linecolor\":\"white\",\"ticks\":\"\",\"title\":{\"standoff\":15},\"zerolinecolor\":\"white\",\"automargin\":true,\"zerolinewidth\":2},\"yaxis\":{\"gridcolor\":\"white\",\"linecolor\":\"white\",\"ticks\":\"\",\"title\":{\"standoff\":15},\"zerolinecolor\":\"white\",\"automargin\":true,\"zerolinewidth\":2},\"scene\":{\"xaxis\":{\"backgroundcolor\":\"#E5ECF6\",\"gridcolor\":\"white\",\"linecolor\":\"white\",\"showbackground\":true,\"ticks\":\"\",\"zerolinecolor\":\"white\",\"gridwidth\":2},\"yaxis\":{\"backgroundcolor\":\"#E5ECF6\",\"gridcolor\":\"white\",\"linecolor\":\"white\",\"showbackground\":true,\"ticks\":\"\",\"zerolinecolor\":\"white\",\"gridwidth\":2},\"zaxis\":{\"backgroundcolor\":\"#E5ECF6\",\"gridcolor\":\"white\",\"linecolor\":\"white\",\"showbackground\":true,\"ticks\":\"\",\"zerolinecolor\":\"white\",\"gridwidth\":2}},\"shapedefaults\":{\"line\":{\"color\":\"#2a3f5f\"}},\"annotationdefaults\":{\"arrowcolor\":\"#2a3f5f\",\"arrowhead\":0,\"arrowwidth\":1},\"geo\":{\"bgcolor\":\"white\",\"landcolor\":\"#E5ECF6\",\"subunitcolor\":\"white\",\"showland\":true,\"showlakes\":true,\"lakecolor\":\"white\"},\"title\":{\"x\":0.05},\"mapbox\":{\"style\":\"light\"}}},\"scene\":{\"domain\":{\"x\":[0.0,1.0],\"y\":[0.0,1.0]},\"xaxis\":{\"title\":{\"text\":\"\\u0414\\u043e\\u0445\\u0456\\u0434\"}},\"yaxis\":{\"title\":{\"text\":\"\\u041f\\u043e\\u043a\\u0443\\u043f\\u043a\\u0438 \\u0432 \\u043c\\u0430\\u0433\\u0430\\u0437\\u0438\\u043d\\u0456\"}},\"zaxis\":{\"title\":{\"text\":\"\\u041f\\u043e\\u043a\\u0443\\u043f\\u043a\\u0438 \\u043e\\u043d\\u043b\\u0430\\u0439\\u043d\"}}},\"coloraxis\":{\"colorbar\":{\"title\":{\"text\":\"Cluster\"}},\"colorscale\":[[0.0,\"#0d0887\"],[0.1111111111111111,\"#46039f\"],[0.2222222222222222,\"#7201a8\"],[0.3333333333333333,\"#9c179e\"],[0.4444444444444444,\"#bd3786\"],[0.5555555555555556,\"#d8576b\"],[0.6666666666666666,\"#ed7953\"],[0.7777777777777778,\"#fb9f3a\"],[0.8888888888888888,\"#fdca26\"],[1.0,\"#f0f921\"]]},\"legend\":{\"tracegroupgap\":0},\"title\":{\"text\":\"3D \\u0432\\u0456\\u0437\\u0443\\u0430\\u043b\\u0456\\u0437\\u0430\\u0446\\u0456\\u044f \\u043a\\u043b\\u0430\\u0441\\u0442\\u0435\\u0440\\u0456\\u0432 (\\u043c\\u0430\\u0441\\u0448\\u0442\\u0430\\u0431\\u043e\\u0432\\u0430\\u043d\\u0456 \\u0434\\u0430\\u043d\\u0456)\"}},                        {\"responsive\": true}                    ).then(function(){\n",
              "                            \n",
              "var gd = document.getElementById('f27cbaeb-0d1b-47d0-8c46-a19ed4a4ad09');\n",
              "var x = new MutationObserver(function (mutations, observer) {{\n",
              "        var display = window.getComputedStyle(gd).display;\n",
              "        if (!display || display === 'none') {{\n",
              "            console.log([gd, 'removed!']);\n",
              "            Plotly.purge(gd);\n",
              "            observer.disconnect();\n",
              "        }}\n",
              "}});\n",
              "\n",
              "// Listen for the removal of the full notebook cells\n",
              "var notebookContainer = gd.closest('#notebook-container');\n",
              "if (notebookContainer) {{\n",
              "    x.observe(notebookContainer, {childList: true});\n",
              "}}\n",
              "\n",
              "// Listen for the clearing of the current output cell\n",
              "var outputEl = gd.closest('.output');\n",
              "if (outputEl) {{\n",
              "    x.observe(outputEl, {childList: true});\n",
              "}}\n",
              "\n",
              "                        })                };                            </script>        </div>\n",
              "</body>\n",
              "</html>"
            ]
          },
          "metadata": {}
        }
      ]
    },
    {
      "cell_type": "code",
      "source": [
        "# Додавання міток кластерів до DataFrame\n",
        "train_df['Cluster'] = labels_optimal_raw\n",
        "\n",
        "# Візуалізація 3D графіку\n",
        "fig_raw = px.scatter_3d(train_df,\n",
        "                       x='Income',\n",
        "                       y='NumStorePurchases',\n",
        "                       z='NumWebPurchases',\n",
        "                       color='Cluster',\n",
        "                       title='3D візуалізація кластерів (немасштабовані дані)',\n",
        "                       labels={'Income':'Дохід', 'NumStorePurchases':'Покупки в магазині', 'NumWebPurchases':'Покупки онлайн'}\n",
        "                      )\n",
        "\n",
        "fig_raw.show()\n"
      ],
      "metadata": {
        "colab": {
          "base_uri": "https://localhost:8080/",
          "height": 542
        },
        "id": "yw8Y55_bKnIM",
        "outputId": "9cc5ee44-2ec7-4453-bd01-383a2b9bac9a"
      },
      "execution_count": 26,
      "outputs": [
        {
          "output_type": "display_data",
          "data": {
            "text/html": [
              "<html>\n",
              "<head><meta charset=\"utf-8\" /></head>\n",
              "<body>\n",
              "    <div>            <script src=\"https://cdnjs.cloudflare.com/ajax/libs/mathjax/2.7.5/MathJax.js?config=TeX-AMS-MML_SVG\"></script><script type=\"text/javascript\">if (window.MathJax && window.MathJax.Hub && window.MathJax.Hub.Config) {window.MathJax.Hub.Config({SVG: {font: \"STIX-Web\"}});}</script>                <script type=\"text/javascript\">window.PlotlyConfig = {MathJaxConfig: 'local'};</script>\n",
              "        <script charset=\"utf-8\" src=\"https://cdn.plot.ly/plotly-2.24.1.min.js\"></script>                <div id=\"639650d1-efbe-4dae-8e56-23d29016c531\" class=\"plotly-graph-div\" style=\"height:525px; width:100%;\"></div>            <script type=\"text/javascript\">                                    window.PLOTLYENV=window.PLOTLYENV || {};                                    if (document.getElementById(\"639650d1-efbe-4dae-8e56-23d29016c531\")) {                    Plotly.newPlot(                        \"639650d1-efbe-4dae-8e56-23d29016c531\",                        [{\"hovertemplate\":\"\\u0414\\u043e\\u0445\\u0456\\u0434=%{x}\\u003cbr\\u003e\\u041f\\u043e\\u043a\\u0443\\u043f\\u043a\\u0438 \\u0432 \\u043c\\u0430\\u0433\\u0430\\u0437\\u0438\\u043d\\u0456=%{y}\\u003cbr\\u003e\\u041f\\u043e\\u043a\\u0443\\u043f\\u043a\\u0438 \\u043e\\u043d\\u043b\\u0430\\u0439\\u043d=%{z}\\u003cbr\\u003eCluster=%{marker.color}\\u003cextra\\u003e\\u003c\\u002fextra\\u003e\",\"legendgroup\":\"\",\"marker\":{\"color\":[0,1,0,1,0,0,0,1,1,1,1,1,0,0,1,0,1,1,0,1,1,1,0,0,1,1,0,1,1,0,1,1,1,1,0,1,0,1,1,1,0,1,1,1,1,0,1,1,1,0,0,0,1,0,0,0,0,1,1,0,0,0,0,0,0,1,1,0,0,0,0,1,0,0,1,1,0,0,1,0,1,1,1,1,0,1,1,1,0,0,1,1,1,1,1,1,1,1,0,1,1,1,0,0,0,1,1,1,1,0,0,0,0,0,1,1,0,1,1,1,0,1,1,1,0,0,0,0,1,0,0,0,0,1,1,0,1,1,1,1,0,0,0,0,1,0,1,1,1,1,0,0,1,1,0,0,1,0,0,0,1,0,1,0,0,1,0,1,0,1,1,1,1,0,1,0,0,1,1,0,1,1,0,1,1,1,1,0,0,1,1,0,1,1,1,1,0,0,0,1,0,0,0,0,1,1,1,1,1,0,1,0,1,1,0,1,1,0,1,0,1,0,0,1,0,1,1,1,0,1,1,0,1,1,0,1,1,0,1,0,0,0,1,0,0,1,0,0,0,0,1,1,0,1,0,1,0,1,1,1,1,0,1,1,1,1,0,1,0,1,0,1,0,1,1,0,0,0,0,0,1,1,1,0,1,1,0,1,0,1,1,1,0,1,1,0,1,1,0,0,1,0,1,1,1,0,1,0,0,1,1,1,1,0,0,1,1,0,1,1,0,1,1,0,1,0,1,1,0,1,1,1,0,1,1,0,0,1,0,0,0,1,0,0,1,0,1,0,1,1,0,0,0,0,0,1,1,0,0,1,0,0,1,1,1,0,0,1,0,1,1,1,1,0,1,1,1,1,0,1,1,1,1,1,1,1,1,0,1,0,0,0,0,1,0,0,1,1,1,1,1,0,1,1,0,1,1,0,1,1,1,0,0,1,0,0,1,0,0,1,1,1,1,0,0,1,0,0,1,0,0,1,0,0,1,1,0,1,1,1,1,0,1,1,1,1,1,0,1,0,0,0,1,0,0,1,0,1,1,0,0,0,1,0,1,0,0,1,0,1,0,1,0,1,1,0,1,0,0,1,1,1,1,1,0,0,0,0,1,1,0,1,0,0,0,0,0,0,0,0,1,1,1,0,1,0,0,0,1,0,1,0,1,0,1,0,1,1,0,0,1,0,1,0,1,1,0,1,0,1,1,0,0,0,1,1,1,0,0,1,1,1,1,0,0,1,0,1,1,1,1,1,0,1,0,1,0,0,1,0,1,0,0,0,1,1,0,1,1,1,1,1,1,0,1,0,1,1,1,0,1,1,1,1,1,1,0,0,0,1,1,0,0,1,0,1,1,1,1,1,1,0,0,0,1,1,1,1,1,0,1,1,1,1,1,1,1,0,0,1,0,1,0,1,0,1,0,0,1,1,0,0,0,1,0,1,0,0,0,0,0,0,0,1,0,1,0,0,0,0,0,1,0,1,1,0,0,1,0,1,0,1,0,1,1,1,1,1,1,0,0,0,0,0,1,1,0,0,1,0,0,0,1,1,0,0,0,0,0,0,1,0,1,1,1,0,1,1,1,0,0,0,0,0,1,0,1,1,0,1,1,0,1,0,1,0,0,1,0,1,0,0,1,0,1,1,0,0,0,0,1,0,0,1,0,0,0,0,1,0,0,1,1,1,0,0,1,0,1,0,0,1,0,0,0,0,0,0,1,1,1,0,0,1,0,1,0,0,1,0,0,0,1,1,1,1,1,0,1,0,0,1,1,1,1,1,1,1,1,1,0,0,1,1,1,1,0,0,0,1,0,1,1,0,1,1,0,0,0,0,1,1,0,0,0,0,1,1,0,1,0,1,0,1,0,0,0,1,0,1,0,1,0,1,1,0,1,0,1,0,1,1,1,1,0,0,0,0,1,1,1,0,0,1,1,0,1,0,1,0,1,1,1,1,1,0,1,1,0,1,0,0,1,1,0,0,1,1,0,1,1,1,1,1,0,0,1,1,1,0,1,1,0,1,1,0,0,0,1,1,0,0,0,0,0,0,0,1,1,1,0,0,1,1,0,0,0,0,1,0,1,0,1,1,0,1,0,0,0,0,0,1,0,1,0,1,0,0,0,0,0,0,0,0,1,1,0,0,1,0,1,1,1,1,1,1,0,0,0,0,0,1,1,1,1,0,0,1,1,1,0,1,1,0,0,0,0,0,1,0,1,1,1,0,0,0,0,0,0,1,0,1,1,0,0,1,0,1,0,1,0,0,0,1,1,1,0,0,1,1,0,1,1,1,1,0,0,0,1,1,1,1,0,1,1,0,1,1,1,0,0,0,0,1,0,1,1,1,1,1,0,1,1,0,1,1,1,0,1,1,0,1,0,1,1,0,1,0,0,0,0,0,1,1,0,1,0,0,1,0,1,0,0,1,1,0,0,1,1,1,0,1,0,1,0,0,1,0,1,0,0,1,0,1,0,0,0,0,1,0,0,0,1,0,1,0,1,1,0,0,0,0,0,0,1,0,1,1,1,1,0,1,1,1,1,1,0,1,1,0,0,1,1,0,0,1,1,0,1,1,0,1,1,1,0,1,1,0,0,1,0,0,1,0,0,1,1,0,0,0,1,0,0,0,1,0,1,1,0,0,1,1,0,0,1,1,1,0,1,0,1,1,0,1,1,1,1,0,1,1,0,0,0,0,1,0,1,0,0,0,0,0,1,1,0,1,0,1,1,1,1,0,0,0,0,1,0,1,0,1,1,1,0,1,1,0,0,1,0,1,1,1,1,1,1,0,0,0,1,1,1,0,0,0,1,1,1,1,1,0,0,0,0,0,0,0,0,0,1,0,1,0,0,1,1,0,0,1,1,0,0,0,1,0,1,0,1,1,0,1,0,1,1,1,1,1,0,1,0,1,1,1,1,1,1,0,1,0,0,1,0,0,1,1,0,0,1,0,0,0,0,0,1,0,0,1,1,1,1,1,0,1,0,1,1,0,1,1,1,0,1,1,0,0,0,1,0,1,1,1,1,1,0,1,1,1,1,1,0,0,0,0,1,0,0,0,1,0,0,1,0,1,0,1,0,0,1,1,1,0,0,1,1,1,0,1,0,1,0,1,1,0,1,1,1,0,1,1,1,0,0,1,1,1,1,0,1,1,0,1,0,0,1,1,1,1,1,0,0,1,0,0,1,0,1,0,1,1,1,1,1,0,0,0,1,1,1,1,1,1,1,1,0,1,0,1,0,1,1,1,1,1,1,0,0,1,0,0,0,0,1,0,0,1,1,0,1,1,0,1,0,0,1,1,1,1,1,0,1,0,1,1,1,0,0,1,0,0,1,0,0,0,1,1,0,0,0,0,0,1,0,1,0,0,1,0,1,0,0,0,0,1,1,0,1,0,0,1,0,0,0,1,0,0,1,1,0,1,1,1,0,0,1,1,1,0,0,1,0,1,0,0,0,1,1,1,1,0,0,0,1,0,0,1,1,1,1,1,0,1,0,0,0,0,0,1,1,1,1,0,1,1,1,0,1,1,0,0,0,0,0,1,0,1,1,1,1,0,1,0,1,0,0,1,0,1,1,0,1,0,1,0,1,1,1,1,1,1,0,1,0,0,0,1,1,0,0,1,0,0,0,1,0,1,1,0,1,0,0,0,1,1,0,1,0,0,1,1,1,1,0,1,0,1,1,0,1,0,1,1,1,0,0,1,0,1,0,0,0,0,1,0,1,0,1,1,1,0,1,0,1,1,0,1,1,1,0,1,0,0,1,0,0,0,0,1,1,1,1,1,0,1,1,1,1,1,0,0,0,0,1,0,1,1,1,0,1,0,1,0,0,1,1,0,1,1,0,1,0,0,0,0,1,0,1,1,0,1,1,0,1,0,0,0,1,1,1,1,0,0,1,1,1,0,0,0,0,0,0,1,0,1,1,0,0,0,1,0,0,0,0,1,1,1,1,1,1,1,1,0,0,1,0,0,1,0,1,0,1,1,1,1,0,0,1,1,1,1,1,0,1,1,0,0,1,1,1,1,0,0,1,1,0,1,1,1,0,1,0,0,0,0,0,1,1,0,1,1,0,0,1,1,0,0,0,1,0,0,1,1,0,1,1,0,1,1,0,0,0,1,1,1,0,1,0,1,0,1,0,0,1,0,1,0,0,0,1,1,0,1,0,1,0,0,0,0,0,1,0,0,0,1,0,0,0,0,1,1,1,0,1,0,1,0,1,1,1,0,0,0,0,1,1,0,1,1,1,0,0,1,0,0,1,0,0,1,1,0,0,0,1,1,0,1,1,0,0,1,1,1,0,0,0,0,1,0,1,1,1,1,1,0,0,0,0,1,0,0,0,0,0,0,1,1,0,1,0,0,1,1,0,1,1,0,1,0,0,0,1,1,1,0,0,0,0,0,1,1,0,0,0,0,1,1,1,0,0,0,0,0,0,1,1,1,0,1,1,1,1,1,1,1,0,0,0,1,0,1,1,0,0,1,0,0,1,0,0,0,1,0,1,1,1,1,1,1,0,1,0,0,0,1,0,1,0,1,1,1,1,1,1,1,1,0,0,1,1,1,1,1,0,0,1,0,1,0,0,0,1,0,1,0,1,1,1,1,0,0,0,0,1,0,0,1,1,1,0,0,0,1,1,1,0,1,0,0,1,0,1,1,0,0,1,1,0,0,1,1,1,1,1,1,1,0,1,0,0,0,1,1,0,1,0,0,1,1,0,0,0,0,0,0,1,0,1,1,0,0,1,0,0,1,1,1,1,0,1,0,0,1,1,1,1,0,1,0,0,0,0,1,1,0,0,1,0,0,1,1,0,1,1,1,1,1,0,0,1,1,0,1,1,0,1,1,1,1,1,1,0,0,0,0,1,0,1,1,0,0,0,1,0,0,0,0,0,0,0,1,0,1,1,1,1,1,0,0,0,0,0,1,0,1,1,0,0,1,1,0,1,1,1,0,1,0,1,1,0,1,1,1,1,0,1,0,1,1,1,0,1,1,0,0,1,1,0,0,0,0,1,1,1,1,1,2,1,0,0,0,0,0],\"coloraxis\":\"coloraxis\",\"symbol\":\"circle\"},\"mode\":\"markers\",\"name\":\"\",\"scene\":\"scene\",\"showlegend\":false,\"x\":[58138.0,46344.0,71613.0,26646.0,58293.0,62513.0,55635.0,33454.0,30351.0,5648.0,51381.5,7500.0,63033.0,59354.0,17323.0,82800.0,41850.0,37760.0,76995.0,33812.0,37040.0,2447.0,58607.0,65324.0,40689.0,18589.0,53359.0,51381.5,38360.0,84618.0,10979.0,38620.0,40548.0,46610.0,68657.0,49389.0,67353.0,23718.0,42429.0,48948.0,80011.0,20559.0,21994.0,51381.5,7500.0,79941.0,7500.0,41728.0,51381.5,72550.0,65486.0,79143.0,35790.0,82582.0,66373.0,82384.0,70287.0,27938.0,51381.5,55954.0,75777.0,66653.0,61823.0,67680.0,70666.0,25721.0,32474.0,88194.0,69096.0,74854.0,66991.0,51381.5,65031.0,60631.0,28332.0,40246.0,75251.0,75825.0,26326.0,56046.0,29760.0,26304.0,23559.0,38620.0,81361.0,29440.0,36138.0,50388.0,79593.0,54178.0,51381.5,51381.5,51381.5,42394.0,23626.0,30096.0,47916.0,51813.0,78497.0,50150.0,47823.0,34554.0,85693.0,65846.0,87195.0,24594.0,49096.0,52413.0,38557.0,89058.0,77298.0,68126.0,57288.0,86037.0,43974.0,50785.0,90765.0,36550.0,30753.0,21918.0,56129.0,32557.0,19510.0,30992.0,101970.0,71488.0,79607.0,54348.0,51381.5,77376.0,62998.0,61331.0,73448.0,51381.5,41551.0,62981.0,9548.0,33762.0,35860.0,36921.0,92859.0,65104.0,86111.0,68352.0,41883.0,59809.0,23957.0,38547.0,35688.0,49605.0,59354.0,65747.0,46344.0,34176.0,61010.0,69372.0,49967.0,60199.0,55375.0,80317.0,30523.0,70356.0,23228.0,74165.0,157243.0,43482.0,62551.0,52332.0,66951.0,26091.0,33456.0,28718.0,50447.0,53537.0,52074.0,80427.0,83837.0,38853.0,38285.0,78497.0,51650.0,16248.0,66835.0,30477.0,28249.0,25271.0,32303.0,61286.0,74068.0,45759.0,24882.0,66973.0,36640.0,38872.0,51148.0,31353.0,69661.0,80067.0,86718.0,46854.0,69142.0,75922.0,63693.0,102160.0,40637.0,18890.0,29604.0,48721.0,44794.0,64497.0,46097.0,77972.0,44377.0,46014.0,70951.0,41443.0,52195.0,83790.0,44551.0,69508.0,45204.0,72460.0,77622.0,30732.0,63887.0,42011.0,51369.0,51537.0,79930.0,34320.0,37070.0,81975.0,38590.0,15033.0,62745.0,22212.0,23661.0,79761.0,7500.0,60182.0,73455.0,64961.0,22804.0,73687.0,61074.0,31686.0,80134.0,75027.0,67546.0,65176.0,31160.0,29938.0,102692.0,26490.0,75702.0,30899.0,63342.0,45989.0,18701.0,40737.0,15287.0,69674.0,44159.0,37717.0,43776.0,38179.0,80124.0,38097.0,72940.0,22070.0,69267.0,31788.0,61905.0,29315.0,33378.0,66313.0,60714.0,77882.0,69867.0,63841.0,24480.0,51369.0,37760.0,65640.0,44319.0,30631.0,75278.0,50898.0,79946.0,35416.0,32414.0,38361.0,82497.0,16626.0,29672.0,55951.0,35388.0,42386.0,68627.0,57912.0,35246.0,58821.0,46377.0,39747.0,23976.0,80950.0,27038.0,77457.0,64100.0,42670.0,12571.0,22574.0,51381.5,70893.0,54198.0,28839.0,40321.0,66503.0,30833.0,51381.5,64795.0,34421.0,47025.0,64325.0,40464.0,62187.0,14849.0,27255.0,54432.0,29999.0,24072.0,33996.0,66334.0,35178.0,22010.0,62204.0,75693.0,30675.0,83003.0,83532.0,68655.0,41411.0,55212.0,59292.0,27190.0,82623.0,44300.0,84835.0,30372.0,33181.0,71113.0,71952.0,69759.0,72099.0,60000.0,38643.0,50737.0,68462.0,65073.0,46681.0,78618.0,62187.0,28442.0,37717.0,51479.0,54803.0,79530.0,31615.0,72025.0,52614.0,35684.0,48178.0,29548.0,63810.0,38578.0,46098.0,22585.0,30279.0,66426.0,30822.0,33581.0,19986.0,27421.0,35688.0,36143.0,10245.0,43795.0,63381.0,38823.0,83664.0,90300.0,62499.0,74293.0,51012.0,70777.0,68682.0,43824.0,15345.0,23442.0,14515.0,31395.0,75276.0,42373.0,30507.0,55521.0,48006.0,27213.0,65808.0,30351.0,50437.0,23616.0,53858.0,66465.0,46923.0,75072.0,75865.0,19789.0,80134.0,91065.0,49505.0,37401.0,30096.0,18492.0,82584.0,93027.0,48686.0,92910.0,75433.0,10404.0,61314.0,84865.0,42387.0,67309.0,75236.0,30015.0,50943.0,67272.0,51529.0,32011.0,7500.0,28691.0,56223.0,18100.0,30279.0,20130.0,23295.0,42618.0,81246.0,24027.0,55707.0,57959.0,56796.0,36230.0,70829.0,65991.0,38988.0,89572.0,42207.0,50300.0,66664.0,60597.0,70165.0,50520.0,80124.0,33183.0,66582.0,75261.0,31880.0,53790.0,49269.0,61456.0,37406.0,56937.0,38415.0,20518.0,62503.0,41644.0,55842.0,62010.0,41124.0,38961.0,37760.0,32233.0,43057.0,83151.0,78825.0,65104.0,60093.0,14045.0,28457.0,78952.0,46310.0,76005.0,58308.0,55614.0,59432.0,55563.0,78642.0,67911.0,65275.0,27203.0,48330.0,24279.0,64355.0,50943.0,53653.0,65665.0,81217.0,34935.0,61250.0,39665.0,60152.0,48920.0,89120.0,44124.0,81169.0,36443.0,26095.0,71367.0,80184.0,30630.0,73454.0,42691.0,70503.0,25545.0,32880.0,77863.0,50353.0,61839.0,49154.0,47682.0,72679.0,57954.0,65316.0,28567.0,47352.0,44931.0,76982.0,57247.0,22944.0,25315.0,43638.0,42710.0,84169.0,54058.0,24683.0,85620.0,47850.0,19514.0,27159.0,39548.0,21474.0,60504.0,22419.0,81698.0,43462.0,54880.0,79908.0,15315.0,87771.0,33039.0,81741.0,71499.0,62466.0,48799.0,52157.0,66565.0,29298.0,47691.0,38200.0,44989.0,38443.0,38593.0,64413.0,36959.0,61996.0,51287.0,13260.0,47472.0,54603.0,45207.0,40689.0,47821.0,27450.0,39453.0,26850.0,79800.0,61794.0,53863.0,24221.0,39684.0,92163.0,69882.0,33178.0,59973.0,17459.0,23910.0,42169.0,26224.0,31089.0,30081.0,62807.0,72906.0,61467.0,49618.0,21888.0,42429.0,26150.0,30801.0,81168.0,26877.0,45006.0,18978.0,22574.0,48240.0,45837.0,35791.0,162397.0,54162.0,30522.0,54456.0,31632.0,72298.0,36975.0,72635.0,13624.0,84196.0,70971.0,34487.0,28769.0,69084.0,65488.0,62466.0,32218.0,83917.0,46102.0,84574.0,56181.0,63120.0,73691.0,63381.0,76140.0,62859.0,45906.0,77632.0,46463.0,105471.0,55282.0,78710.0,66886.0,98777.0,29103.0,67445.0,50616.0,49431.0,153924.0,61278.0,26490.0,73059.0,46734.0,56253.0,19986.0,58330.0,25965.0,14661.0,18690.0,45068.0,21063.0,29187.0,54690.0,59304.0,59247.0,66731.0,77353.0,52614.0,26751.0,81300.0,70337.0,36145.0,65295.0,68118.0,68743.0,41039.0,38946.0,65777.0,66476.0,86857.0,160803.0,77845.0,69476.0,50611.0,61209.0,42315.0,13084.0,47570.0,61923.0,34824.0,26518.0,45938.0,78468.0,78901.0,71427.0,71022.0,90247.0,41335.0,71952.0,35682.0,43185.0,66375.0,35178.0,25252.0,55250.0,33249.0,58398.0,50272.0,76618.0,87305.0,25851.0,58710.0,45160.0,74806.0,59111.0,18988.0,72190.0,7500.0,44794.0,80395.0,75012.0,56962.0,89891.0,35946.0,53593.0,66373.0,45072.0,89694.0,72025.0,67432.0,70545.0,17487.0,62882.0,64108.0,34941.0,48767.0,38702.0,82224.0,83844.0,17003.0,71163.0,33697.0,63564.0,83443.0,51518.0,58330.0,80952.0,75507.0,63855.0,62220.0,58512.0,40662.0,38829.0,35523.0,79146.0,78285.0,31626.0,75127.0,48726.0,74985.0,67430.0,46891.0,62058.0,72063.0,78939.0,42720.0,33622.0,6835.0,41452.0,40760.0,74250.0,51124.0,72258.0,71466.0,36283.0,20587.0,30467.0,31590.0,20425.0,17144.0,42564.0,43783.0,40780.0,62847.0,82017.0,16813.0,51267.0,46524.0,45183.0,70421.0,60161.0,73926.0,19329.0,61872.0,46984.0,34838.0,82716.0,48192.0,49681.0,56850.0,55267.0,59666.0,72504.0,26872.0,21359.0,73170.0,52750.0,91820.0,65968.0,30772.0,22507.0,65685.0,25804.0,76412.0,22063.0,57091.0,22419.0,87771.0,78353.0,93404.0,37859.0,80995.0,16529.0,55412.0,48789.0,56575.0,25130.0,35441.0,71391.0,49494.0,81702.0,45889.0,56628.0,34026.0,40049.0,34176.0,19419.0,82504.0,81205.0,61618.0,55284.0,49980.0,15072.0,49166.0,65324.0,82347.0,30843.0,46374.0,60474.0,38576.0,55357.0,37758.0,85710.0,23228.0,44602.0,7500.0,38683.0,49514.0,57906.0,43456.0,19485.0,53172.0,30545.0,70123.0,62450.0,21675.0,42395.0,61346.0,80812.0,42835.0,39922.0,86424.0,17117.0,24762.0,35797.0,36627.0,51111.0,86857.0,82072.0,46231.0,42243.0,51195.0,68092.0,31814.0,51390.0,76630.0,26868.0,48948.0,55260.0,64090.0,78331.0,37087.0,21846.0,81320.0,54137.0,66825.0,57100.0,58917.0,85072.0,86429.0,45684.0,47889.0,45921.0,78420.0,75114.0,52278.0,35641.0,95529.0,62820.0,73113.0,84169.0,42607.0,74637.0,46015.0,72354.0,39858.0,34469.0,83033.0,24401.0,77583.0,74116.0,74293.0,68397.0,79632.0,46107.0,64950.0,25443.0,75127.0,32892.0,71796.0,67536.0,55239.0,60554.0,64831.0,56067.0,82025.0,94384.0,14906.0,51563.0,57937.0,68274.0,39771.0,67893.0,27922.0,52190.0,44051.0,42767.0,46106.0,16927.0,59754.0,53700.0,59041.0,54237.0,70647.0,52597.0,41021.0,40233.0,50183.0,54753.0,92955.0,33471.0,34596.0,44010.0,84219.0,40706.0,15716.0,59052.0,80573.0,83715.0,82576.0,56962.0,35704.0,53103.0,46779.0,4861.0,33462.0,63693.0,80763.0,65352.0,82170.0,75759.0,79689.0,35340.0,85683.0,24884.0,42021.0,64449.0,64587.0,34824.0,75437.0,26091.0,52845.0,46086.0,78028.0,95169.0,56337.0,22434.0,36930.0,36130.0,65569.0,83844.0,19514.0,36736.0,77568.0,49187.0,30168.0,34053.0,38196.0,59412.0,70924.0,54165.0,32300.0,20180.0,34961.0,28440.0,64504.0,33564.0,17345.0,56320.0,28647.0,15038.0,32173.0,68316.0,74538.0,91700.0,68695.0,31056.0,79593.0,28071.0,37334.0,46423.0,37126.0,47703.0,61180.0,38998.0,8028.0,76081.0,34728.0,33168.0,33585.0,77037.0,35196.0,44529.0,70924.0,28764.0,69098.0,25959.0,27100.0,70596.0,42557.0,53312.0,72228.0,67605.0,62845.0,65196.0,42000.0,35860.0,65526.0,16860.0,83528.0,64176.0,22304.0,67023.0,32892.0,70713.0,59925.0,39722.0,46610.0,88347.0,87171.0,26907.0,50014.0,41014.0,66294.0,36715.0,79456.0,40479.0,75345.0,54233.0,24163.0,84460.0,43776.0,71691.0,85844.0,39190.0,71367.0,38578.0,57236.0,61825.0,79803.0,80910.0,27590.0,56775.0,83829.0,54210.0,38508.0,53187.0,30023.0,76045.0,50870.0,15315.0,65463.0,66480.0,76773.0,81698.0,54466.0,98777.0,16269.0,71819.0,33569.0,36262.0,22634.0,47025.0,70566.0,31605.0,52034.0,48526.0,46734.0,39552.0,86358.0,46931.0,16581.0,63998.0,67381.0,25930.0,42693.0,85606.0,72903.0,49669.0,36778.0,85696.0,10979.0,49678.0,56129.0,37155.0,21282.0,33419.0,63285.0,21255.0,42162.0,54450.0,57744.0,26576.0,57513.0,68142.0,7500.0,83145.0,54197.0,23091.0,46049.0,56715.0,79410.0,57304.0,44375.0,54450.0,59594.0,80685.0,40344.0,62710.0,48985.0,35322.0,77142.0,81657.0,14421.0,20130.0,74214.0,66726.0,23724.0,47353.0,33444.0,54386.0,28510.0,90638.0,48070.0,43140.0,54959.0,15056.0,26954.0,22327.0,44393.0,62000.0,31497.0,45894.0,78579.0,67369.0,58401.0,62307.0,43641.0,63841.0,46891.0,70091.0,78075.0,59184.0,54809.0,58113.0,51412.0,15287.0,66636.0,50965.0,84618.0,18351.0,40451.0,36317.0,42213.0,65748.0,77044.0,74918.0,56721.0,42160.0,61559.0,33629.0,68682.0,34377.0,8940.0,26228.0,77297.0,40211.0,33438.0,75032.0,61284.0,22518.0,54730.0,38452.0,44421.0,38197.0,41986.0,28427.0,37395.0,64722.0,55249.0,84906.0,28691.0,44213.0,25707.0,59062.0,76624.0,66000.0,27683.0,1730.0,7500.0,40521.0,20427.0,65106.0,69969.0,67433.0,77766.0,74716.0,68118.0,55158.0,62972.0,74190.0,39356.0,76653.0,35860.0,90687.0,73450.0,31454.0,47139.0,83829.0,53378.0,19656.0,45579.0,85485.0,55956.0,64191.0,38808.0,57183.0,23748.0,66303.0,37368.0,40800.0,71847.0,46149.0,78687.0,49118.0,37633.0,39767.0,26997.0,33986.0,57091.0,46831.0,83151.0,52531.0,15759.0,22804.0,43050.0,42997.0,48918.0,60033.0,34043.0,57811.0,78569.0,7500.0,157733.0,94384.0,23148.0,44267.0,71626.0,60894.0,50200.0,81051.0,65169.0,59868.0,65695.0,64857.0,45143.0,74805.0,59060.0,27238.0,47009.0,46094.0,40321.0,37235.0,81843.0,46692.0,77382.0,37774.0,18393.0,72828.0,24711.0,45503.0,6560.0,71604.0,27244.0,48752.0,71434.0,90842.0,88097.0,51948.0,71853.0,35876.0,40049.0,39660.0,50127.0,43263.0,62845.0,18929.0,24367.0,33249.0,26887.0,50150.0,62061.0,85696.0,76542.0,70515.0,18227.0,69139.0,69109.0,69627.0,38136.0,62159.0,80695.0,33316.0,58554.0,17256.0,53034.0,52203.0,59601.0,75154.0,47025.0,37971.0,41335.0,67267.0,57338.0,50523.0,35791.0,50611.0,56242.0,48904.0,56243.0,21355.0,57420.0,51381.5,46390.0,54342.0,51381.5,51381.5,20895.0,92344.0,51381.5,26907.0,44964.0,75507.0,53761.0,22682.0,38887.0,41658.0,29791.0,63915.0,39996.0,26759.0,63841.0,51039.0,60544.0,65685.0,37716.0,36864.0,44511.0,36947.0,47352.0,67087.0,57045.0,36957.0,69389.0,80134.0,43142.0,80589.0,34412.0,57537.0,22634.0,51315.0,36026.0,24639.0,34578.0,65704.0,63810.0,54132.0,18690.0,28164.0,34596.0,43269.0,38741.0,31907.0,27100.0,31163.0,92533.0,34853.0,70844.0,31086.0,60544.0,20491.0,42523.0,39922.0,33402.0,36408.0,21645.0,78427.0,82657.0,51876.0,78041.0,52852.0,70038.0,69401.0,46053.0,77343.0,73892.0,40304.0,32727.0,68695.0,43300.0,26290.0,93790.0,38410.0,64866.0,57957.0,46015.0,16531.0,28072.0,49476.0,50725.0,83844.0,41145.0,67419.0,23162.0,34380.0,34704.0,94871.0,65148.0,39898.0,64857.0,59892.0,41020.0,57072.0,60474.0,62807.0,19414.0,19107.0,75484.0,70379.0,79419.0,64014.0,76998.0,49854.0,60585.0,42873.0,87679.0,57867.0,35765.0,65492.0,32952.0,53374.0,71706.0,68487.0,53253.0,31163.0,42014.0,54108.0,49667.0,63206.0,57136.0,46772.0,78931.0,53977.0,84219.0,46098.0,73538.0,79529.0,20981.0,51766.0,55759.0,33039.0,37787.0,27242.0,87188.0,69930.0,37697.0,37401.0,3502.0,58597.0,82032.0,28087.0,74004.0,19740.0,57036.0,53083.0,69283.0,46098.0,23331.0,23331.0,9255.0,67786.0,71969.0,59235.0,31928.0,74881.0,65819.0,51411.0,51983.0,42386.0,30390.0,30983.0,66033.0,37284.0,57530.0,76800.0,63943.0,76081.0,67445.0,37054.0,47175.0,31859.0,27215.0,70179.0,39922.0,49681.0,24645.0,79865.0,44322.0,47958.0,63972.0,75315.0,55517.0,75283.0,82800.0,38998.0,90638.0,27161.0,42014.0,38201.0,45203.0,81574.0,34935.0,60482.0,34633.0,78093.0,82460.0,45903.0,81361.0,35860.0,40442.0,61482.0,34968.0,75794.0,31497.0,74268.0,13724.0,45143.0,52569.0,48432.0,17144.0,36108.0,76445.0,36663.0,53843.0,90226.0,70638.0,44512.0,27116.0,54072.0,71855.0,51250.0,60432.0,65526.0,68655.0,12393.0,64509.0,33955.0,31353.0,55434.0,28359.0,57100.0,69139.0,52973.0,51717.0,18793.0,66664.0,50664.0,54414.0,54549.0,47111.0,41003.0,19444.0,36301.0,73059.0,42731.0,52854.0,22775.0,46681.0,59821.0,50002.0,69755.0,44078.0,30560.0,35924.0,64140.0,56386.0,24594.0,75774.0,39228.0,58494.0,58684.0,57136.0,56551.0,22448.0,82014.0,34213.0,157146.0,25358.0,35544.0,36634.0,62670.0,50334.0,72066.0,50729.0,34916.0,64892.0,43602.0,33996.0,41473.0,63246.0,36732.0,69084.0,77766.0,37929.0,86610.0,80141.0,72635.0,69016.0,20193.0,27573.0,15862.0,49544.0,33228.0,70440.0,38232.0,22554.0,23536.0,49413.0,42231.0,78789.0,56534.0,58350.0,81217.0,49090.0,61787.0,18169.0,24336.0,18222.0,62335.0,42033.0,86580.0,41437.0,73705.0,61064.0,38452.0,18358.0,55012.0,9722.0,38175.0,58656.0,52117.0,64813.0,54222.0,83512.0,77520.0,41154.0,80398.0,18746.0,35196.0,60230.0,22108.0,44392.0,55424.0,17688.0,92491.0,90273.0,82571.0,38513.0,16653.0,42586.0,23529.0,74881.0,71107.0,46910.0,18690.0,37244.0,82427.0,75342.0,70044.0,79146.0,77437.0,54984.0,42403.0,55761.0,37292.0,45576.0,70321.0,58086.0,81795.0,28389.0,66835.0,69901.0,80360.0,63342.0,44989.0,31859.0,51569.0,30372.0,16014.0,41120.0,39763.0,38725.0,77981.0,62905.0,13533.0,59481.0,72117.0,21955.0,67131.0,36802.0,71853.0,28249.0,47808.0,25509.0,51012.0,70596.0,85431.0,42664.0,42586.0,29760.0,28973.0,39435.0,65370.0,20194.0,42473.0,64590.0,71232.0,34600.0,46904.0,49094.0,36075.0,60839.0,77298.0,34026.0,48918.0,82122.0,37697.0,34074.0,28520.0,62535.0,36273.0,63404.0,75774.0,78416.0,75702.0,59385.0,37070.0,44689.0,53977.0,7144.0,18701.0,90369.0,63159.0,37758.0,46757.0,79734.0,63207.0,72071.0,21840.0,58582.0,72282.0,50387.0,32583.0,62568.0,44635.0,33316.0,63967.0,52513.0,25293.0,54111.0,78394.0,80739.0,22669.0,29236.0,44911.0,54693.0,48186.0,54809.0,41580.0,80336.0,47743.0,62972.0,57333.0,32313.0,84953.0,27071.0,68148.0,65735.0,86836.0,4023.0,30093.0,57705.0,25008.0,83257.0,22280.0,72159.0,64260.0,82733.0,74290.0,58217.0,21024.0,70116.0,54006.0,69063.0,11448.0,61825.0,70886.0,69109.0,60208.0,32889.0,34738.0,30538.0,82326.0,26642.0,69932.0,44503.0,60200.0,49638.0,23830.0,33051.0,72905.0,69702.0,70300.0,70643.0,30396.0,50616.0,62772.0,30298.0,52413.0,44155.0,86979.0,76532.0,42081.0,67546.0,88420.0,31158.0,61671.0,69719.0,49160.0,24882.0,90933.0,113734.0,59292.0,45759.0,22148.0,73395.0,29819.0,45688.0,62820.0,60491.0,33235.0,35701.0,31535.0,92556.0,67384.0,80573.0,77870.0,52278.0,57107.0,18929.0,36038.0,20180.0,34230.0,31878.0,70932.0,91249.0,77598.0,80982.0,22701.0,55212.0,70617.0,64849.0,62694.0,61917.0,67472.0,21059.0,29543.0,75903.0,34984.0,54998.0,54356.0,34242.0,25410.0,73356.0,28320.0,23763.0,72570.0,34529.0,70792.0,63211.0,83891.0,36065.0,39898.0,51141.0,56939.0,80872.0,72335.0,61798.0,76842.0,29478.0,46998.0,96843.0,56551.0,70053.0,71670.0,44359.0,40887.0,48877.0,74485.0,64474.0,77226.0,72643.0,85738.0,55686.0,39062.0,34600.0,40794.0,54690.0,4428.0,32632.0,38236.0,36781.0,31385.0,24570.0,25509.0,94642.0,58646.0,53201.0,21994.0,57113.0,51373.0,23477.0,58116.0,72968.0,39791.0,91712.0,94472.0,13672.0,96547.0,79205.0,56559.0,32644.0,67506.0,24206.0,28420.0,22979.0,33279.0,46423.0,30368.0,63684.0,41638.0,68805.0,65814.0,71964.0,39146.0,96876.0,34445.0,68281.0,37284.0,36790.0,27943.0,22263.0,30261.0,28587.0,43815.0,48195.0,77027.0,71322.0,32765.0,29672.0,23272.0,49912.0,7500.0,68117.0,67225.0,17649.0,55914.0,40059.0,60905.0,75330.0,60689.0,38680.0,61416.0,49767.0,83273.0,29009.0,45057.0,37150.0,43020.0,53154.0,65308.0,76467.0,81044.0,32871.0,55801.0,76320.0,36927.0,48794.0,23478.0,71128.0,70179.0,59462.0,51381.5,38361.0,51381.5,70038.0,42554.0,67445.0,67046.0,42192.0,77610.0,31761.0,34350.0,54591.0,71866.0,25293.0,42000.0,69520.0,64713.0,27889.0,22123.0,51381.5,51381.5,27803.0,51381.5,51651.0,68487.0,51381.5,56796.0,87000.0,79823.0,30828.0,34109.0,53367.0,22390.0,71322.0,79244.0,49912.0,48699.0,80144.0,54252.0,81929.0,76068.0,53204.0,67911.0,14796.0,78128.0,14188.0,20425.0,58646.0,72967.0,48150.0,82332.0,58275.0,44953.0,34587.0,43018.0,45736.0,66476.0,27733.0,69805.0,72217.0,25818.0,37509.0,25176.0,43586.0,53230.0,50116.0,84906.0,61286.0,82333.0,65220.0,33590.0,30992.0,72309.0,156924.0,16005.0,65487.0,58692.0,40590.0,20587.0,62637.0,29435.0,19346.0,35788.0,36997.0,23539.0,65333.0,78499.0,29732.0,41275.0,63516.0,42769.0,49572.0,69209.0,17148.0,40590.0,30560.0,32146.0,41713.0,34176.0,58482.0,59686.0,60896.0,62994.0,47320.0,74859.0,15253.0,31560.0,72071.0,91172.0,90000.0,41967.0,69263.0,65706.0,60934.0,71965.0,65210.0,79174.0,81380.0,48432.0,52914.0,38946.0,26067.0,44325.0,42523.0,26487.0,53233.0,67716.0,76234.0,84117.0,65487.0,25224.0,89616.0,40851.0,27469.0,82347.0,73803.0,8820.0,43322.0,55593.0,50501.0,37085.0,16185.0,57731.0,48432.0,73807.0,18929.0,35893.0,61014.0,32144.0,14918.0,45146.0,41769.0,88325.0,38054.0,80617.0,5305.0,36807.0,28427.0,82032.0,22775.0,40101.0,58025.0,75777.0,7500.0,33562.0,57642.0,58554.0,63777.0,57967.0,51381.5,24434.0,11012.0,44802.0,26816.0,666666.0,34421.0,61223.0,64014.0,56981.0,69245.0,52869.0],\"y\":[4,2,10,4,6,10,7,4,2,0,2,3,8,5,3,12,3,6,9,3,5,0,9,9,5,3,4,0,4,10,3,3,4,6,9,3,12,2,3,5,5,3,3,4,3,9,3,2,4,12,10,13,3,7,10,13,10,4,3,6,11,12,10,8,4,2,2,10,10,5,6,3,13,8,4,2,5,9,3,8,4,2,3,3,13,4,4,6,7,5,8,2,8,3,3,3,6,3,12,7,3,3,11,6,5,3,4,12,3,4,11,5,8,11,6,3,5,5,3,3,10,3,3,3,13,7,6,4,7,10,5,6,9,7,5,13,3,2,2,3,12,7,10,9,3,6,3,2,4,4,7,6,5,4,11,6,5,3,6,10,2,9,4,10,0,4,4,6,7,3,3,3,3,3,2,8,5,3,3,12,4,3,13,3,3,2,4,8,9,3,2,12,2,3,6,2,12,6,5,3,7,9,9,10,3,2,3,5,3,9,6,9,5,8,9,5,2,6,5,11,4,7,11,4,12,4,4,11,8,2,8,4,2,3,11,4,3,11,3,2,10,4,2,9,8,3,6,6,5,6,3,3,13,5,11,3,5,7,4,2,2,10,6,2,4,3,8,2,6,2,5,4,4,4,4,12,10,5,8,9,4,4,6,8,3,2,13,12,5,5,3,3,9,3,3,11,3,3,6,12,3,9,3,4,3,9,3,10,6,4,3,3,12,10,6,3,3,6,3,10,12,2,2,5,8,5,4,3,3,4,2,3,5,2,3,12,6,3,8,4,11,4,11,8,2,4,3,6,3,2,9,8,5,10,5,3,4,8,5,4,10,10,4,2,6,9,11,3,8,8,3,4,2,12,3,2,2,3,10,3,2,3,6,4,2,2,4,13,3,12,8,6,6,4,12,10,4,2,3,3,3,9,5,4,6,3,4,5,2,8,3,6,12,7,8,10,3,11,9,8,3,3,2,8,5,2,13,10,4,12,9,7,9,13,4,3,12,5,4,3,3,5,3,3,3,2,4,7,3,9,11,7,4,8,10,6,9,5,8,6,8,11,3,8,3,9,5,2,8,12,13,2,9,3,2,11,3,8,7,4,2,3,2,5,4,13,7,10,3,4,12,5,13,3,6,11,3,4,11,13,2,3,3,12,3,12,8,11,4,12,3,12,5,7,5,9,3,3,7,10,3,6,6,9,3,3,10,6,4,8,8,5,6,5,3,5,3,4,7,3,3,4,3,6,8,4,4,4,2,3,3,2,8,2,13,5,11,7,4,4,4,7,13,12,7,5,9,2,2,2,5,3,3,5,3,8,3,3,4,4,6,5,3,3,3,4,5,10,7,3,2,5,9,3,7,2,3,3,3,4,3,12,9,10,3,2,3,3,3,7,6,7,3,3,13,5,3,1,3,9,7,2,6,3,6,3,7,5,3,4,13,6,12,3,7,2,11,7,9,8,13,6,6,4,6,6,13,6,12,7,9,3,12,4,5,0,4,5,13,3,9,3,13,3,3,2,2,3,3,5,10,9,6,8,8,2,5,12,3,13,4,13,5,6,6,11,10,1,12,4,7,4,4,3,2,4,2,3,6,10,5,8,11,7,4,8,3,6,5,2,2,10,3,8,5,5,8,3,9,2,5,8,3,4,2,3,12,11,5,8,3,6,10,4,4,13,4,7,2,6,11,3,3,4,5,11,4,12,2,7,5,10,13,11,6,13,5,8,3,2,3,8,10,2,5,4,7,12,4,7,12,6,7,4,1,2,3,4,3,5,10,3,2,2,3,3,4,4,8,5,4,7,3,5,5,7,7,8,12,3,9,3,4,13,12,7,3,6,8,6,2,3,6,9,12,7,2,4,9,3,8,3,7,2,4,11,7,3,4,3,3,7,7,3,3,12,5,12,3,5,3,6,4,3,7,7,8,8,5,3,3,9,10,2,7,12,3,11,3,10,3,4,3,6,4,8,8,2,8,3,4,4,3,4,10,5,4,4,12,3,2,3,3,3,10,13,4,3,5,10,3,5,11,2,5,5,4,7,8,3,10,4,6,6,6,10,7,2,3,6,8,5,10,4,7,6,7,6,7,9,3,6,4,4,10,6,9,10,6,5,9,4,10,3,5,3,4,11,11,9,5,7,6,5,3,10,9,5,3,9,3,3,4,2,2,4,6,8,4,5,13,8,3,5,6,11,9,4,2,6,10,4,4,7,13,13,12,5,4,7,2,0,3,9,6,8,7,9,13,3,10,3,6,12,4,2,10,3,6,8,9,4,4,3,4,4,10,11,2,2,8,5,4,3,4,8,7,7,3,4,3,3,4,3,2,9,2,2,3,10,5,5,7,3,7,5,4,4,2,8,6,3,0,4,2,4,4,12,5,11,7,2,9,2,3,12,4,5,8,6,10,11,11,2,8,3,8,8,2,13,3,8,9,3,6,9,11,3,8,2,5,4,4,3,6,5,3,4,2,5,7,4,7,3,4,8,5,8,2,10,6,7,5,6,3,11,3,4,9,7,11,5,2,9,3,5,2,3,2,6,9,4,5,4,5,5,6,3,3,11,9,2,3,9,8,6,3,9,3,4,10,4,2,4,13,4,3,8,4,2,13,7,2,11,6,3,9,4,5,10,6,8,7,10,5,12,3,4,8,8,2,3,5,4,3,6,2,10,4,10,6,5,4,3,2,3,4,13,4,3,4,10,2,4,4,9,4,10,5,12,5,8,4,2,9,5,10,3,2,4,7,10,11,6,5,4,10,4,10,2,3,2,9,2,4,9,8,2,8,3,4,3,4,3,3,11,4,12,3,5,3,3,7,5,4,0,2,2,2,13,6,13,11,5,4,5,3,11,2,11,2,8,11,3,2,6,6,3,4,6,4,13,4,7,3,11,2,3,9,7,8,10,3,7,5,3,5,2,10,10,2,2,4,2,4,5,2,11,4,3,1,5,3,4,8,8,5,12,13,12,10,10,5,10,7,3,8,3,3,2,12,5,12,3,3,13,3,4,1,5,2,5,7,13,8,4,6,3,3,3,6,6,10,4,2,3,3,7,7,9,10,4,2,5,7,11,2,10,5,4,6,2,7,11,7,6,5,3,4,5,5,4,3,7,11,4,8,2,6,6,3,4,3,2,3,5,3,3,3,6,3,4,3,2,3,12,2,3,9,4,5,9,3,4,8,4,5,8,9,2,12,6,2,5,3,8,2,5,3,4,2,10,12,3,2,4,2,2,3,6,3,3,11,3,5,2,5,2,4,4,3,2,3,10,10,8,9,5,8,5,4,9,8,3,5,7,4,4,12,9,7,8,3,3,3,5,8,11,3,8,3,3,3,4,7,4,10,3,4,13,12,12,3,3,6,13,4,5,8,5,9,4,10,9,4,13,3,9,7,13,5,3,6,9,5,6,10,5,13,12,10,2,9,9,2,4,8,4,3,3,6,12,3,3,0,9,7,2,4,3,13,5,13,2,3,5,2,6,9,12,4,12,10,3,10,3,3,3,7,3,4,7,6,4,12,3,4,2,4,13,4,7,2,5,3,5,10,12,6,5,12,3,10,3,6,5,3,8,4,7,2,5,6,3,13,2,4,6,5,12,4,5,2,5,4,6,4,4,13,3,3,12,10,3,3,2,11,4,5,8,11,3,9,5,2,13,2,7,5,9,4,4,6,6,5,4,10,8,2,3,13,5,4,2,4,7,7,12,3,3,3,6,7,3,8,3,6,12,7,4,3,12,2,0,3,3,5,13,6,6,7,3,12,2,3,3,12,4,13,11,5,6,10,6,13,4,4,3,8,3,7,3,4,3,5,3,5,7,12,11,9,6,2,2,3,13,2,5,3,8,11,3,4,9,3,4,13,4,10,5,10,7,4,12,3,5,6,3,4,9,2,12,7,13,5,3,6,2,12,13,3,2,2,12,10,5,8,13,6,3,3,5,3,13,7,7,2,13,10,5,5,5,3,7,3,4,3,2,4,7,8,3,8,9,3,12,3,6,3,3,3,4,12,7,3,6,4,5,2,13,3,4,10,10,5,4,6,4,12,11,3,4,13,3,3,2,8,3,4,8,10,13,4,8,2,12,1,4,6,8,3,7,6,6,8,3,9,9,8,2,5,3,4,12,9,2,6,5,9,2,3,4,13,4,5,3,13,6,3,9,4,4,3,6,6,6,0,3,6,3,12,2,10,4,7,10,4,4,12,7,5,2,8,4,7,7,3,3,4,6,3,11,3,11,3,3,8,9,10,13,4,2,4,11,3,7,2,5,7,4,5,8,3,6,5,6,2,4,0,8,3,3,6,3,8,6,7,3,3,2,13,5,13,5,10,8,4,3,4,2,4,12,6,13,11,3,11,7,6,7,4,7,3,2,9,3,9,8,3,4,5,3,3,12,3,10,7,10,3,4,4,10,10,8,9,7,3,5,10,4,10,6,4,3,4,12,10,12,7,11,5,3,5,5,5,0,8,4,2,2,4,3,9,4,5,3,5,3,4,8,8,4,11,5,3,8,4,8,6,6,3,2,2,3,4,3,8,3,7,10,5,4,9,8,13,3,2,3,3,3,4,3,5,6,13,4,3,3,7,3,4,11,3,8,3,7,12,10,3,10,8,9,3,3,6,4,4,12,5,10,3,6,4,3,3,3,12,13,12,4,3,3,8,3,12,4,3,4,4,3,8,10,2,11,5,7,2,3,3,4,4,5,5,13,11,7,7,7,4,3,8,2,7,7,7,3,8,5,10,4,3,11,3,6,4,3,4,8,4,12,7,13,3,2,6,10,3,11,8,2,4,2,4,12,4,12,8,10,7,2,3,8,0,2,6,4,3,2,5,2,3,3,4,4,8,4,2,3,7,4,3,6,3,3,3,4,4,3,9,6,4,4,8,11,3,3,8,7,5,3,7,12,11,5,8,7,10,6,3,6,3,7,4,3,3,13,11,6,6,3,12,2,3,10,6,3,4,3,4,3,2,6,6,11,4,5,4,3,3,2,7,9,3,8,0,2,3,7,2,6,10,11,2,4,6,6,6,8,1,2,2,12,3,3,2,4,5,13,10,4],\"z\":[8,1,8,2,5,6,7,4,3,1,1,2,3,6,1,7,3,4,11,2,4,0,2,6,7,2,5,27,2,6,3,2,2,4,3,2,5,3,1,7,8,2,0,1,2,2,3,2,2,5,4,6,2,4,4,3,5,1,2,8,3,4,8,7,7,1,1,11,5,2,4,3,10,9,2,1,7,5,0,10,3,1,3,2,3,1,3,6,5,2,7,1,2,1,3,2,7,2,5,5,2,2,9,6,3,1,4,6,3,5,6,7,8,6,6,2,4,9,1,2,6,2,1,1,6,3,3,2,6,6,5,11,7,6,5,4,1,2,1,2,5,3,5,8,4,3,2,1,4,2,4,8,7,3,8,10,6,0,1,3,1,10,3,5,0,2,6,3,3,2,1,2,3,2,2,11,9,2,0,5,4,2,6,1,2,1,1,7,4,2,1,8,2,3,5,1,7,4,5,5,8,4,11,7,1,0,1,4,2,11,3,4,5,7,3,8,1,8,4,11,1,3,6,4,9,3,8,2,3,1,5,6,1,1,7,2,1,5,3,1,6,6,2,3,11,1,5,9,4,9,2,1,6,3,4,1,8,3,2,1,1,10,4,1,5,3,3,3,3,2,3,3,4,2,2,6,7,3,3,9,3,8,4,5,2,3,6,6,5,7,1,3,2,3,0,3,1,3,2,8,3,9,2,5,3,6,3,2,8,4,3,2,6,6,3,2,3,4,1,2,3,1,1,10,8,4,2,1,1,3,1,1,9,1,2,4,11,1,7,4,4,2,4,3,1,2,1,4,2,1,6,8,4,3,11,2,2,3,5,4,4,6,2,1,6,6,4,2,4,2,1,5,1,4,3,3,1,1,3,1,1,0,4,4,0,1,7,4,2,2,5,3,5,4,5,4,3,1,1,2,2,9,2,5,6,1,2,5,3,7,3,4,11,5,5,3,2,2,7,10,2,2,1,3,7,1,6,2,1,5,2,8,9,8,1,1,6,9,2,2,1,2,0,1,1,1,5,4,2,3,4,8,2,4,9,5,7,4,2,5,2,3,3,3,4,2,5,1,7,7,6,1,8,1,1,8,1,7,6,7,2,2,6,4,5,5,3,7,1,4,2,6,3,2,9,5,2,4,6,4,1,1,4,4,1,10,5,3,2,5,4,6,6,5,6,5,3,1,4,6,2,2,5,2,2,1,4,4,4,4,4,4,8,3,2,6,2,8,2,3,3,4,4,7,4,2,3,3,3,1,1,3,6,3,3,4,6,5,2,5,2,6,8,6,3,3,4,1,1,1,5,1,4,5,2,6,4,3,2,4,3,7,1,2,2,2,5,4,7,1,2,5,3,1,3,3,2,1,2,3,1,5,3,5,3,5,1,1,1,6,3,3,1,2,6,6,1,0,1,1,6,2,4,1,6,2,8,11,3,4,7,3,6,2,6,1,9,4,8,6,4,5,9,5,4,3,9,3,7,7,4,1,9,1,7,0,3,3,9,3,7,0,6,2,1,1,1,2,1,3,7,5,4,6,2,1,10,2,4,3,8,11,8,3,2,5,5,0,3,4,4,5,1,1,2,2,1,2,8,10,9,8,5,3,4,8,1,9,2,1,1,7,2,5,4,3,5,2,11,1,5,11,1,5,4,2,6,3,6,11,0,7,4,6,4,4,8,4,1,7,6,3,2,3,6,4,2,3,1,10,6,3,6,8,8,7,7,3,2,3,3,8,6,2,2,3,3,11,2,6,5,8,7,2,0,1,2,2,1,6,4,1,1,1,1,2,3,6,7,7,3,5,2,3,1,4,10,11,6,4,4,1,2,6,2,7,1,3,3,5,1,2,5,5,5,5,1,10,9,2,5,2,7,3,5,10,3,1,8,1,2,6,7,2,1,6,6,7,1,7,2,3,3,4,3,5,3,7,3,3,5,6,7,1,7,10,1,6,1,6,2,6,0,4,6,4,5,1,2,2,5,5,4,3,5,4,6,3,6,3,3,2,0,2,5,3,6,2,9,2,2,5,3,1,7,8,6,10,4,4,4,4,4,3,4,3,7,1,2,2,3,3,10,3,7,3,3,7,3,6,1,2,2,1,11,6,4,4,5,6,6,1,11,1,2,3,9,11,7,8,6,7,3,5,2,4,4,4,2,3,2,2,3,3,1,3,5,5,2,5,4,6,2,2,3,5,6,3,1,10,3,3,3,7,4,2,2,6,2,10,0,0,2,11,5,4,5,9,4,2,2,0,10,5,1,1,8,2,8,3,6,4,8,2,5,3,6,4,3,1,10,1,6,3,2,4,6,2,1,2,3,2,11,1,2,5,2,2,1,10,8,8,4,1,5,5,3,2,1,6,5,2,0,4,1,2,2,7,6,6,6,1,7,1,1,3,6,5,6,2,3,7,5,1,4,1,4,8,1,3,3,5,9,2,6,4,6,1,4,1,4,7,5,0,5,11,1,9,1,4,6,2,4,3,2,4,4,3,1,5,4,4,7,4,2,4,2,2,6,4,2,8,1,4,3,3,1,3,2,11,6,2,4,2,6,6,5,1,0,7,2,1,1,6,7,5,3,4,3,6,6,2,2,2,6,2,3,9,9,1,9,10,1,5,1,2,5,7,3,7,4,9,8,6,4,4,1,2,4,3,1,1,8,8,2,2,1,3,2,3,8,4,9,2,1,1,1,6,3,1,5,7,1,4,2,9,2,5,3,6,2,9,3,1,3,10,6,2,1,3,5,2,7,5,4,2,4,3,4,2,3,1,5,2,2,5,11,2,4,3,5,1,3,2,1,8,2,5,1,2,1,2,5,1,6,0,3,0,1,8,4,6,11,7,8,7,7,4,1,4,1,6,7,2,2,4,9,2,4,6,7,5,5,9,2,3,1,3,6,5,4,9,1,7,4,1,9,1,5,7,1,2,2,1,1,2,2,7,4,2,1,5,2,5,5,10,7,5,10,11,5,7,6,4,3,3,3,1,3,1,5,6,5,7,3,6,3,3,1,8,2,6,7,4,6,5,2,3,1,7,5,5,3,1,1,2,1,5,10,4,4,6,0,4,6,8,3,6,5,2,8,2,6,8,2,6,6,1,4,3,4,2,1,4,8,7,4,2,5,4,4,3,1,1,2,5,1,1,1,8,4,2,1,1,2,6,1,2,9,6,5,9,4,5,8,3,6,7,4,3,7,5,1,5,5,4,2,2,2,2,1,2,4,1,1,2,1,1,2,6,1,1,6,2,6,1,5,0,1,3,2,1,3,3,7,2,4,10,4,4,3,3,3,2,7,4,4,2,6,5,7,4,1,3,1,2,8,4,0,9,1,4,1,8,6,3,7,2,3,7,10,5,1,1,7,6,4,8,11,6,7,6,7,7,2,4,2,4,9,9,4,1,7,8,5,4,5,11,2,5,3,3,10,4,3,4,10,2,3,2,10,4,2,2,0,7,4,2,4,1,6,5,7,3,3,5,1,3,3,11,3,9,5,0,9,3,2,4,8,0,1,4,6,4,9,1,4,1,2,7,3,7,1,5,3,6,5,5,11,6,7,2,3,1,7,5,3,4,2,7,1,4,5,2,3,1,3,3,3,7,3,4,2,6,2,7,3,7,2,1,8,4,4,1,2,2,5,10,7,4,4,2,6,5,1,5,1,3,4,9,3,2,5,8,3,5,3,6,4,3,9,4,2,1,4,11,8,3,2,1,1,2,9,1,7,0,6,5,7,2,2,3,3,0,1,2,5,5,7,4,6,5,6,3,1,2,6,1,7,11,4,5,7,6,8,1,5,1,5,2,5,3,2,0,4,1,4,10,8,3,7,8,1,1,2,3,1,4,1,9,8,3,3,8,3,3,7,5,7,3,4,8,1,5,3,6,6,2,4,7,1,7,5,6,6,2,4,1,9,7,2,1,1,3,5,7,8,4,6,1,4,6,3,6,11,4,1,6,7,4,8,5,1,7,2,1,2,5,1,7,7,2,3,9,2,9,1,2,2,3,3,4,3,2,1,4,3,5,3,2,2,2,9,11,5,5,6,2,2,6,2,1,3,2,3,1,3,3,6,7,7,10,3,5,1,5,23,2,4,3,1,4,4,2,5,1,9,5,6,1,5,2,2,4,9,1,5,4,3,4,4,4,6,4,2,2,2,4,7,8,4,3,2,4,6,6,0,2,8,1,5,1,4,4,8,10,2,2,2,8,5,1,4,5,6,8,2,1,9,5,2,7,2,6,1,1,9,3,7,5,5,1,4,5,1,7,1,5,9,6,4,4,2,10,2,3,1,4,27,3,2,1,4,3,3,3,6,3,1,1,3,7,4,5,10,4,1,3,2,1,1,6,7,7,11,1,4,3,9,9,2,4,3,3,6,1,4,11,0,1,5,1,1,4,2,3,3,4,3,3,3,3,4,10,4,1,1,5,6,2,8,5,2,3,3,6,8,6,3,3,6,1,5,6,3,25,4,3,2,1,4,3,5,2,6,0,4,3,3,3,5,3,9,5,1,7,6,4,7,4,1,1,3,0,2,2,8,5,3,8,5,4,7,11,2,0,2,2,1,0,2,2,4,8,8,2,0,1,10,2,11,7,3,11,6,3,10,4,2,10,5,4,2,2,4,4,3,7,2,5,1,7,6,3,1,3,2,7,9,4,3,3,4,2,9,4,2,4,3,1,6,6,1,5,9,5,1,2,2,4,3,6,6,9,5,8,4,6,1,0,5,1,4,4,10,1,3,4,4,2,1,6,1,8,2,2,2,7,5,5,8,7,1,2,7,6,2,6,3,0,3,1,3,5,1,5,7,4,8,1,1,5,0,2,3,8,3,1,2,3,1,2,2,2,9,11,2,3,4,1,2,5,3,3,1,2,3,1,7,4,9,6,5,6,1,2,5,4,4,1,9,11,6,6,9,5,4,7,7,3,3,8,1,2,1,7,8,7,3,1,7,1,0,7,9,3,3,6,5,3,2,8,7,5,1,3,9,2,1,1,8,6,2,4,1,1,2,4,1,6,3,3,3,2,7,8,11,4,0,2,3,9,0,3,1,9,8,2,6,3],\"type\":\"scatter3d\"}],                        {\"template\":{\"data\":{\"histogram2dcontour\":[{\"type\":\"histogram2dcontour\",\"colorbar\":{\"outlinewidth\":0,\"ticks\":\"\"},\"colorscale\":[[0.0,\"#0d0887\"],[0.1111111111111111,\"#46039f\"],[0.2222222222222222,\"#7201a8\"],[0.3333333333333333,\"#9c179e\"],[0.4444444444444444,\"#bd3786\"],[0.5555555555555556,\"#d8576b\"],[0.6666666666666666,\"#ed7953\"],[0.7777777777777778,\"#fb9f3a\"],[0.8888888888888888,\"#fdca26\"],[1.0,\"#f0f921\"]]}],\"choropleth\":[{\"type\":\"choropleth\",\"colorbar\":{\"outlinewidth\":0,\"ticks\":\"\"}}],\"histogram2d\":[{\"type\":\"histogram2d\",\"colorbar\":{\"outlinewidth\":0,\"ticks\":\"\"},\"colorscale\":[[0.0,\"#0d0887\"],[0.1111111111111111,\"#46039f\"],[0.2222222222222222,\"#7201a8\"],[0.3333333333333333,\"#9c179e\"],[0.4444444444444444,\"#bd3786\"],[0.5555555555555556,\"#d8576b\"],[0.6666666666666666,\"#ed7953\"],[0.7777777777777778,\"#fb9f3a\"],[0.8888888888888888,\"#fdca26\"],[1.0,\"#f0f921\"]]}],\"heatmap\":[{\"type\":\"heatmap\",\"colorbar\":{\"outlinewidth\":0,\"ticks\":\"\"},\"colorscale\":[[0.0,\"#0d0887\"],[0.1111111111111111,\"#46039f\"],[0.2222222222222222,\"#7201a8\"],[0.3333333333333333,\"#9c179e\"],[0.4444444444444444,\"#bd3786\"],[0.5555555555555556,\"#d8576b\"],[0.6666666666666666,\"#ed7953\"],[0.7777777777777778,\"#fb9f3a\"],[0.8888888888888888,\"#fdca26\"],[1.0,\"#f0f921\"]]}],\"heatmapgl\":[{\"type\":\"heatmapgl\",\"colorbar\":{\"outlinewidth\":0,\"ticks\":\"\"},\"colorscale\":[[0.0,\"#0d0887\"],[0.1111111111111111,\"#46039f\"],[0.2222222222222222,\"#7201a8\"],[0.3333333333333333,\"#9c179e\"],[0.4444444444444444,\"#bd3786\"],[0.5555555555555556,\"#d8576b\"],[0.6666666666666666,\"#ed7953\"],[0.7777777777777778,\"#fb9f3a\"],[0.8888888888888888,\"#fdca26\"],[1.0,\"#f0f921\"]]}],\"contourcarpet\":[{\"type\":\"contourcarpet\",\"colorbar\":{\"outlinewidth\":0,\"ticks\":\"\"}}],\"contour\":[{\"type\":\"contour\",\"colorbar\":{\"outlinewidth\":0,\"ticks\":\"\"},\"colorscale\":[[0.0,\"#0d0887\"],[0.1111111111111111,\"#46039f\"],[0.2222222222222222,\"#7201a8\"],[0.3333333333333333,\"#9c179e\"],[0.4444444444444444,\"#bd3786\"],[0.5555555555555556,\"#d8576b\"],[0.6666666666666666,\"#ed7953\"],[0.7777777777777778,\"#fb9f3a\"],[0.8888888888888888,\"#fdca26\"],[1.0,\"#f0f921\"]]}],\"surface\":[{\"type\":\"surface\",\"colorbar\":{\"outlinewidth\":0,\"ticks\":\"\"},\"colorscale\":[[0.0,\"#0d0887\"],[0.1111111111111111,\"#46039f\"],[0.2222222222222222,\"#7201a8\"],[0.3333333333333333,\"#9c179e\"],[0.4444444444444444,\"#bd3786\"],[0.5555555555555556,\"#d8576b\"],[0.6666666666666666,\"#ed7953\"],[0.7777777777777778,\"#fb9f3a\"],[0.8888888888888888,\"#fdca26\"],[1.0,\"#f0f921\"]]}],\"mesh3d\":[{\"type\":\"mesh3d\",\"colorbar\":{\"outlinewidth\":0,\"ticks\":\"\"}}],\"scatter\":[{\"fillpattern\":{\"fillmode\":\"overlay\",\"size\":10,\"solidity\":0.2},\"type\":\"scatter\"}],\"parcoords\":[{\"type\":\"parcoords\",\"line\":{\"colorbar\":{\"outlinewidth\":0,\"ticks\":\"\"}}}],\"scatterpolargl\":[{\"type\":\"scatterpolargl\",\"marker\":{\"colorbar\":{\"outlinewidth\":0,\"ticks\":\"\"}}}],\"bar\":[{\"error_x\":{\"color\":\"#2a3f5f\"},\"error_y\":{\"color\":\"#2a3f5f\"},\"marker\":{\"line\":{\"color\":\"#E5ECF6\",\"width\":0.5},\"pattern\":{\"fillmode\":\"overlay\",\"size\":10,\"solidity\":0.2}},\"type\":\"bar\"}],\"scattergeo\":[{\"type\":\"scattergeo\",\"marker\":{\"colorbar\":{\"outlinewidth\":0,\"ticks\":\"\"}}}],\"scatterpolar\":[{\"type\":\"scatterpolar\",\"marker\":{\"colorbar\":{\"outlinewidth\":0,\"ticks\":\"\"}}}],\"histogram\":[{\"marker\":{\"pattern\":{\"fillmode\":\"overlay\",\"size\":10,\"solidity\":0.2}},\"type\":\"histogram\"}],\"scattergl\":[{\"type\":\"scattergl\",\"marker\":{\"colorbar\":{\"outlinewidth\":0,\"ticks\":\"\"}}}],\"scatter3d\":[{\"type\":\"scatter3d\",\"line\":{\"colorbar\":{\"outlinewidth\":0,\"ticks\":\"\"}},\"marker\":{\"colorbar\":{\"outlinewidth\":0,\"ticks\":\"\"}}}],\"scattermapbox\":[{\"type\":\"scattermapbox\",\"marker\":{\"colorbar\":{\"outlinewidth\":0,\"ticks\":\"\"}}}],\"scatterternary\":[{\"type\":\"scatterternary\",\"marker\":{\"colorbar\":{\"outlinewidth\":0,\"ticks\":\"\"}}}],\"scattercarpet\":[{\"type\":\"scattercarpet\",\"marker\":{\"colorbar\":{\"outlinewidth\":0,\"ticks\":\"\"}}}],\"carpet\":[{\"aaxis\":{\"endlinecolor\":\"#2a3f5f\",\"gridcolor\":\"white\",\"linecolor\":\"white\",\"minorgridcolor\":\"white\",\"startlinecolor\":\"#2a3f5f\"},\"baxis\":{\"endlinecolor\":\"#2a3f5f\",\"gridcolor\":\"white\",\"linecolor\":\"white\",\"minorgridcolor\":\"white\",\"startlinecolor\":\"#2a3f5f\"},\"type\":\"carpet\"}],\"table\":[{\"cells\":{\"fill\":{\"color\":\"#EBF0F8\"},\"line\":{\"color\":\"white\"}},\"header\":{\"fill\":{\"color\":\"#C8D4E3\"},\"line\":{\"color\":\"white\"}},\"type\":\"table\"}],\"barpolar\":[{\"marker\":{\"line\":{\"color\":\"#E5ECF6\",\"width\":0.5},\"pattern\":{\"fillmode\":\"overlay\",\"size\":10,\"solidity\":0.2}},\"type\":\"barpolar\"}],\"pie\":[{\"automargin\":true,\"type\":\"pie\"}]},\"layout\":{\"autotypenumbers\":\"strict\",\"colorway\":[\"#636efa\",\"#EF553B\",\"#00cc96\",\"#ab63fa\",\"#FFA15A\",\"#19d3f3\",\"#FF6692\",\"#B6E880\",\"#FF97FF\",\"#FECB52\"],\"font\":{\"color\":\"#2a3f5f\"},\"hovermode\":\"closest\",\"hoverlabel\":{\"align\":\"left\"},\"paper_bgcolor\":\"white\",\"plot_bgcolor\":\"#E5ECF6\",\"polar\":{\"bgcolor\":\"#E5ECF6\",\"angularaxis\":{\"gridcolor\":\"white\",\"linecolor\":\"white\",\"ticks\":\"\"},\"radialaxis\":{\"gridcolor\":\"white\",\"linecolor\":\"white\",\"ticks\":\"\"}},\"ternary\":{\"bgcolor\":\"#E5ECF6\",\"aaxis\":{\"gridcolor\":\"white\",\"linecolor\":\"white\",\"ticks\":\"\"},\"baxis\":{\"gridcolor\":\"white\",\"linecolor\":\"white\",\"ticks\":\"\"},\"caxis\":{\"gridcolor\":\"white\",\"linecolor\":\"white\",\"ticks\":\"\"}},\"coloraxis\":{\"colorbar\":{\"outlinewidth\":0,\"ticks\":\"\"}},\"colorscale\":{\"sequential\":[[0.0,\"#0d0887\"],[0.1111111111111111,\"#46039f\"],[0.2222222222222222,\"#7201a8\"],[0.3333333333333333,\"#9c179e\"],[0.4444444444444444,\"#bd3786\"],[0.5555555555555556,\"#d8576b\"],[0.6666666666666666,\"#ed7953\"],[0.7777777777777778,\"#fb9f3a\"],[0.8888888888888888,\"#fdca26\"],[1.0,\"#f0f921\"]],\"sequentialminus\":[[0.0,\"#0d0887\"],[0.1111111111111111,\"#46039f\"],[0.2222222222222222,\"#7201a8\"],[0.3333333333333333,\"#9c179e\"],[0.4444444444444444,\"#bd3786\"],[0.5555555555555556,\"#d8576b\"],[0.6666666666666666,\"#ed7953\"],[0.7777777777777778,\"#fb9f3a\"],[0.8888888888888888,\"#fdca26\"],[1.0,\"#f0f921\"]],\"diverging\":[[0,\"#8e0152\"],[0.1,\"#c51b7d\"],[0.2,\"#de77ae\"],[0.3,\"#f1b6da\"],[0.4,\"#fde0ef\"],[0.5,\"#f7f7f7\"],[0.6,\"#e6f5d0\"],[0.7,\"#b8e186\"],[0.8,\"#7fbc41\"],[0.9,\"#4d9221\"],[1,\"#276419\"]]},\"xaxis\":{\"gridcolor\":\"white\",\"linecolor\":\"white\",\"ticks\":\"\",\"title\":{\"standoff\":15},\"zerolinecolor\":\"white\",\"automargin\":true,\"zerolinewidth\":2},\"yaxis\":{\"gridcolor\":\"white\",\"linecolor\":\"white\",\"ticks\":\"\",\"title\":{\"standoff\":15},\"zerolinecolor\":\"white\",\"automargin\":true,\"zerolinewidth\":2},\"scene\":{\"xaxis\":{\"backgroundcolor\":\"#E5ECF6\",\"gridcolor\":\"white\",\"linecolor\":\"white\",\"showbackground\":true,\"ticks\":\"\",\"zerolinecolor\":\"white\",\"gridwidth\":2},\"yaxis\":{\"backgroundcolor\":\"#E5ECF6\",\"gridcolor\":\"white\",\"linecolor\":\"white\",\"showbackground\":true,\"ticks\":\"\",\"zerolinecolor\":\"white\",\"gridwidth\":2},\"zaxis\":{\"backgroundcolor\":\"#E5ECF6\",\"gridcolor\":\"white\",\"linecolor\":\"white\",\"showbackground\":true,\"ticks\":\"\",\"zerolinecolor\":\"white\",\"gridwidth\":2}},\"shapedefaults\":{\"line\":{\"color\":\"#2a3f5f\"}},\"annotationdefaults\":{\"arrowcolor\":\"#2a3f5f\",\"arrowhead\":0,\"arrowwidth\":1},\"geo\":{\"bgcolor\":\"white\",\"landcolor\":\"#E5ECF6\",\"subunitcolor\":\"white\",\"showland\":true,\"showlakes\":true,\"lakecolor\":\"white\"},\"title\":{\"x\":0.05},\"mapbox\":{\"style\":\"light\"}}},\"scene\":{\"domain\":{\"x\":[0.0,1.0],\"y\":[0.0,1.0]},\"xaxis\":{\"title\":{\"text\":\"\\u0414\\u043e\\u0445\\u0456\\u0434\"}},\"yaxis\":{\"title\":{\"text\":\"\\u041f\\u043e\\u043a\\u0443\\u043f\\u043a\\u0438 \\u0432 \\u043c\\u0430\\u0433\\u0430\\u0437\\u0438\\u043d\\u0456\"}},\"zaxis\":{\"title\":{\"text\":\"\\u041f\\u043e\\u043a\\u0443\\u043f\\u043a\\u0438 \\u043e\\u043d\\u043b\\u0430\\u0439\\u043d\"}}},\"coloraxis\":{\"colorbar\":{\"title\":{\"text\":\"Cluster\"}},\"colorscale\":[[0.0,\"#0d0887\"],[0.1111111111111111,\"#46039f\"],[0.2222222222222222,\"#7201a8\"],[0.3333333333333333,\"#9c179e\"],[0.4444444444444444,\"#bd3786\"],[0.5555555555555556,\"#d8576b\"],[0.6666666666666666,\"#ed7953\"],[0.7777777777777778,\"#fb9f3a\"],[0.8888888888888888,\"#fdca26\"],[1.0,\"#f0f921\"]]},\"legend\":{\"tracegroupgap\":0},\"title\":{\"text\":\"3D \\u0432\\u0456\\u0437\\u0443\\u0430\\u043b\\u0456\\u0437\\u0430\\u0446\\u0456\\u044f \\u043a\\u043b\\u0430\\u0441\\u0442\\u0435\\u0440\\u0456\\u0432 (\\u043d\\u0435\\u043c\\u0430\\u0441\\u0448\\u0442\\u0430\\u0431\\u043e\\u0432\\u0430\\u043d\\u0456 \\u0434\\u0430\\u043d\\u0456)\"}},                        {\"responsive\": true}                    ).then(function(){\n",
              "                            \n",
              "var gd = document.getElementById('639650d1-efbe-4dae-8e56-23d29016c531');\n",
              "var x = new MutationObserver(function (mutations, observer) {{\n",
              "        var display = window.getComputedStyle(gd).display;\n",
              "        if (!display || display === 'none') {{\n",
              "            console.log([gd, 'removed!']);\n",
              "            Plotly.purge(gd);\n",
              "            observer.disconnect();\n",
              "        }}\n",
              "}});\n",
              "\n",
              "// Listen for the removal of the full notebook cells\n",
              "var notebookContainer = gd.closest('#notebook-container');\n",
              "if (notebookContainer) {{\n",
              "    x.observe(notebookContainer, {childList: true});\n",
              "}}\n",
              "\n",
              "// Listen for the clearing of the current output cell\n",
              "var outputEl = gd.closest('.output');\n",
              "if (outputEl) {{\n",
              "    x.observe(outputEl, {childList: true});\n",
              "}}\n",
              "\n",
              "                        })                };                            </script>        </div>\n",
              "</body>\n",
              "</html>"
            ]
          },
          "metadata": {}
        }
      ]
    },
    {
      "cell_type": "markdown",
      "source": [
        "**Завдання 9.** Використовуючи методи `scipy` `dendrogram, linkage, fcluster`\n",
        "1. Побудуйте ієрархічну агломеративну кластеризацію з `single linkage` на даних невідмасштабованих, але з прибраним викидом.\n",
        "2. Візуалізуйте дендрограму. При візуалізації обовʼязково задайте параметр `truncate_mode='lastp'` - це обріже дендрограму, без цього вона буде завелика, бо у нас тут даних суттєво більше, ніж в лекції.\n",
        "3. Проаналізуйте дендрограму та побудуйте варіанти плоских кластеризацій з `fcluster` на 2 і 3 кластери. Візуалізуйте результати кожної з цих кластеризацій та зробіть висновок. Чи вважаєте ви якусь з цих кластеризацій вдалою? Що спостерігаєте з цих кластеризацій?\n",
        "4. Порахуйте мерику силуету для цього методу кластеризації."
      ],
      "metadata": {
        "id": "IAkub9oLilZ1"
      }
    },
    {
      "cell_type": "code",
      "source": [
        "import pandas as pd\n",
        "import numpy as np\n",
        "\n",
        "# Припустимо, train_df_cleaned - це дані без викидів\n",
        "X_cleaned = train_df_cleaned.drop(columns=['Cluster'])  # Видаляємо колонку з попередніми кластерами\n",
        "\n",
        "# Вибір тільки числових ознак для кластеризації\n",
        "X_cleaned = X_cleaned.select_dtypes(include=[np.number])"
      ],
      "metadata": {
        "id": "Tdk_lgGjv-IL"
      },
      "execution_count": 27,
      "outputs": []
    },
    {
      "cell_type": "code",
      "source": [
        "import scipy.cluster.hierarchy as sch\n",
        "import matplotlib.pyplot as plt\n",
        "\n",
        "# Обчислення матриці відстаней та створення кластеризації\n",
        "linkage_matrix = sch.linkage(X_cleaned, method='single')\n",
        "\n",
        "# Візуалізація дендрограми\n",
        "plt.figure(figsize=(12, 8))\n",
        "sch.dendrogram(linkage_matrix, truncate_mode='lastp', p=50)\n",
        "plt.title('Дендрограма (Single Linkage)')\n",
        "plt.xlabel('Індекс обєкта')\n",
        "plt.ylabel('Відстань')\n",
        "plt.show()"
      ],
      "metadata": {
        "colab": {
          "base_uri": "https://localhost:8080/",
          "height": 741
        },
        "id": "tSHFgMe5K9_p",
        "outputId": "0a8e2cd9-fd2f-4927-e468-f45b0fa9b86f"
      },
      "execution_count": 29,
      "outputs": [
        {
          "output_type": "display_data",
          "data": {
            "text/plain": [
              "<Figure size 1200x800 with 1 Axes>"
            ],
            "image/png": "[encoded data removed]"
          },
          "metadata": {}
        }
      ]
    },
    {
      "cell_type": "code",
      "source": [
        "from scipy.cluster.hierarchy import fcluster\n",
        "\n",
        "# Кластеризація на 2 кластери\n",
        "clusters_2 = fcluster(linkage_matrix, t=2, criterion='maxclust')\n",
        "\n",
        "# Кластеризація на 3 кластери\n",
        "clusters_3 = fcluster(linkage_matrix, t=3, criterion='maxclust')\n",
        "\n",
        "# Додавання міток кластерів до DataFrame\n",
        "train_df_cleaned['Cluster_2'] = clusters_2\n",
        "train_df_cleaned['Cluster_3'] = clusters_3\n"
      ],
      "metadata": {
        "id": "td_mc8voLFMk"
      },
      "execution_count": 30,
      "outputs": []
    },
    {
      "cell_type": "code",
      "source": [
        "from scipy.cluster.hierarchy import fcluster\n",
        "\n",
        "# Кластеризація на 2 кластери\n",
        "clusters_2 = fcluster(linkage_matrix, t=2, criterion='maxclust')\n",
        "\n",
        "# Кластеризація на 3 кластери\n",
        "clusters_3 = fcluster(linkage_matrix, t=3, criterion='maxclust')\n",
        "\n",
        "# Додавання міток кластерів до DataFrame\n",
        "train_df_cleaned['Cluster_2'] = clusters_2\n",
        "train_df_cleaned['Cluster_3'] = clusters_3\n"
      ],
      "metadata": {
        "id": "ZQGsCwGKLIKW"
      },
      "execution_count": 31,
      "outputs": []
    },
    {
      "cell_type": "code",
      "source": [
        "import plotly.express as px\n",
        "\n",
        "# Візуалізація для 2 кластерів\n",
        "fig_2 = px.scatter_3d(train_df_cleaned,\n",
        "                      x='Income',\n",
        "                      y='NumStorePurchases',\n",
        "                      z='NumWebPurchases',\n",
        "                      color='Cluster_2',\n",
        "                      title='3D візуалізація кластерів (2 кластери)',\n",
        "                      labels={'Income':'Дохід', 'NumStorePurchases':'Покупки в магазині', 'NumWebPurchases':'Покупки онлайн'}\n",
        "                     )\n",
        "fig_2.show()\n",
        "\n",
        "# Візуалізація для 3 кластерів\n",
        "fig_3 = px.scatter_3d(train_df_cleaned,\n",
        "                      x='Income',\n",
        "                      y='NumStorePurchases',\n",
        "                      z='NumWebVisitsMonth',  # Замініть на ознаку, що має сенс\n",
        "                      color='Cluster_3',\n",
        "                      title='3D візуалізація кластерів (3 кластери)',\n",
        "                      labels={'Income':'Дохід', 'NumStorePurchases':'Покупки в магазині', 'NumWebVisitsMonth':'Візити на сайт'}\n",
        "                     )\n",
        "fig_3.show()\n"
      ],
      "metadata": {
        "colab": {
          "base_uri": "https://localhost:8080/",
          "height": 1000
        },
        "id": "OAlz3zk9LKgW",
        "outputId": "5034bd3b-18eb-4b61-fe55-590f8f829036"
      },
      "execution_count": 32,
      "outputs": [
        {
          "output_type": "display_data",
          "data": {
            "text/html": [
              "<html>\n",
              "<head><meta charset=\"utf-8\" /></head>\n",
              "<body>\n",
              "    <div>            <script src=\"https://cdnjs.cloudflare.com/ajax/libs/mathjax/2.7.5/MathJax.js?config=TeX-AMS-MML_SVG\"></script><script type=\"text/javascript\">if (window.MathJax && window.MathJax.Hub && window.MathJax.Hub.Config) {window.MathJax.Hub.Config({SVG: {font: \"STIX-Web\"}});}</script>                <script type=\"text/javascript\">window.PlotlyConfig = {MathJaxConfig: 'local'};</script>\n",
              "        <script charset=\"utf-8\" src=\"https://cdn.plot.ly/plotly-2.24.1.min.js\"></script>                <div id=\"3c1ec5ef-8c06-443f-9fb6-098294cc160b\" class=\"plotly-graph-div\" style=\"height:525px; width:100%;\"></div>            <script type=\"text/javascript\">                                    window.PLOTLYENV=window.PLOTLYENV || {};                                    if (document.getElementById(\"3c1ec5ef-8c06-443f-9fb6-098294cc160b\")) {                    Plotly.newPlot(                        \"3c1ec5ef-8c06-443f-9fb6-098294cc160b\",                        [{\"hovertemplate\":\"\\u0414\\u043e\\u0445\\u0456\\u0434=%{x}\\u003cbr\\u003e\\u041f\\u043e\\u043a\\u0443\\u043f\\u043a\\u0438 \\u0432 \\u043c\\u0430\\u0433\\u0430\\u0437\\u0438\\u043d\\u0456=%{y}\\u003cbr\\u003e\\u041f\\u043e\\u043a\\u0443\\u043f\\u043a\\u0438 \\u043e\\u043d\\u043b\\u0430\\u0439\\u043d=%{z}\\u003cbr\\u003eCluster_2=%{marker.color}\\u003cextra\\u003e\\u003c\\u002fextra\\u003e\",\"legendgroup\":\"\",\"marker\":{\"color\":[1,1,1,1,1,1,1,1,1,1,1,1,1,1,1,1,1,1,1,1,1,1,1,1,1,1,1,1,1,1,1,1,1,1,1,1,1,1,1,1,1,1,1,1,1,1,1,1,1,1,1,1,1,1,1,1,1,1,1,1,1,1,1,1,1,1,1,1,1,1,1,1,1,1,1,1,1,1,1,1,1,1,1,1,1,1,1,1,1,1,1,1,1,1,1,1,1,1,1,1,1,1,1,1,1,1,1,1,1,1,1,1,1,1,1,1,1,1,1,1,1,1,1,1,1,1,1,1,1,1,1,1,1,1,1,1,1,1,1,1,1,1,1,1,1,1,1,1,1,1,1,1,1,1,1,1,1,1,1,1,1,1,1,1,1,1,1,1,1,1,1,1,1,1,1,1,1,1,1,1,1,1,1,1,1,1,1,1,1,1,1,1,1,1,1,1,1,1,1,1,1,1,1,1,1,1,1,1,1,1,1,1,1,1,1,1,1,1,1,1,1,1,1,1,1,1,1,1,1,1,1,1,1,1,1,1,1,1,1,1,1,1,1,1,1,1,1,1,1,1,1,1,1,1,1,1,1,1,1,1,1,1,1,1,1,1,1,1,1,1,1,1,1,1,1,1,1,1,1,1,1,1,1,1,1,1,1,1,1,1,1,1,1,1,1,1,1,1,1,1,1,1,1,1,1,1,1,1,1,1,1,1,1,1,1,1,1,1,1,1,1,1,1,1,1,1,1,1,1,1,1,1,1,1,1,1,1,1,1,1,1,1,1,1,1,1,1,1,1,1,1,1,1,1,1,1,1,1,1,1,1,1,1,1,1,1,1,1,1,1,1,1,1,1,1,1,1,1,1,1,1,1,1,1,1,1,1,1,1,1,1,1,1,1,1,1,1,1,1,1,1,1,1,1,1,1,1,1,1,1,1,1,1,1,1,1,1,1,1,1,1,1,1,1,1,1,1,1,1,1,1,1,1,1,1,1,1,1,1,1,1,1,1,1,1,1,1,1,1,1,1,1,1,1,1,1,1,1,1,1,1,1,1,1,1,1,1,1,1,1,1,1,1,1,1,1,1,1,1,1,1,1,1,1,1,1,1,1,1,1,1,1,1,1,1,1,1,1,1,1,1,1,1,1,1,1,1,1,1,1,1,1,1,1,1,1,1,1,1,1,1,1,1,1,1,1,1,1,1,1,1,1,1,1,1,1,1,1,1,1,1,1,1,1,1,1,1,1,1,1,1,1,1,1,1,1,1,1,1,1,1,1,1,1,1,1,1,1,1,1,1,1,1,1,1,1,1,1,1,1,1,1,1,1,1,1,1,1,1,1,1,1,1,1,1,1,1,1,1,1,1,1,1,1,1,1,1,1,1,1,1,1,1,1,1,1,1,1,1,1,1,1,1,1,1,1,1,1,1,1,1,1,1,1,1,1,1,1,1,1,1,1,1,2,1,1,1,1,1,1,1,1,1,1,1,1,1,1,1,1,1,1,1,1,1,1,1,1,1,1,1,1,1,1,1,1,1,1,1,1,1,1,1,1,1,1,1,1,1,1,1,1,1,1,1,1,1,1,1,1,1,1,1,1,1,1,1,1,1,1,1,1,1,1,1,1,1,1,1,1,1,1,1,1,1,1,1,1,1,1,1,1,1,1,1,1,1,1,1,1,1,1,1,1,1,1,1,1,1,1,1,1,1,1,1,1,1,1,1,1,1,1,1,1,1,1,1,1,1,1,1,1,1,1,1,1,1,1,1,1,1,1,1,1,1,1,1,1,1,1,1,1,1,1,1,1,1,1,1,1,1,1,1,1,1,1,1,1,1,1,1,1,1,1,1,1,1,1,1,1,1,1,1,1,1,1,1,1,1,1,1,1,1,1,1,1,1,1,1,1,1,1,1,1,1,1,1,1,1,1,1,1,1,1,1,1,1,1,1,1,1,1,1,1,1,1,1,1,1,1,1,1,1,1,1,1,1,1,1,1,1,1,1,1,1,1,1,1,1,1,1,1,1,1,1,1,1,1,1,1,1,1,1,1,1,1,1,1,1,1,1,1,1,1,1,1,1,1,1,1,1,1,1,1,1,1,1,1,1,1,1,1,1,1,1,1,1,1,1,1,1,1,1,1,1,1,1,1,1,1,1,1,1,1,1,1,1,1,1,1,1,1,1,1,1,1,1,1,1,1,1,1,1,1,1,1,1,1,1,1,1,1,1,1,1,1,1,1,1,1,1,1,1,1,1,1,1,1,1,1,1,1,1,1,1,1,1,1,1,1,1,1,1,1,1,1,1,1,1,1,1,1,1,1,1,1,1,1,1,1,1,1,1,1,1,1,1,1,1,1,1,1,1,1,1,1,1,1,1,1,1,1,1,1,1,1,1,1,1,1,1,1,1,1,1,1,1,1,1,1,1,1,1,1,1,1,1,1,1,1,1,1,1,1,1,1,1,1,1,1,1,1,1,1,1,1,1,1,1,1,1,1,1,1,1,1,1,1,1,1,1,1,1,1,1,1,1,1,1,1,1,1,1,1,1,1,1,1,1,1,1,1,1,1,1,1,1,1,1,1,1,1,1,1,1,1,1,1,1,1,1,1,1,1,1,1,1,1,1,1,1,1,1,1,1,1,1,1,1,1,1,1,1,1,1,1,1,1,1,1,1,1,1,1,1,1,1,1,1,1,1,1,1,1,1,1,1,1,1,1,1,1,1,1,1,1,1,1,1,1,1,1,1,1,1,1,1,1,1,1,1,1,1,1,1,1,1,1,1,1,1,1,1,1,1,1,1,1,1,1,1,1,1,1,1,1,1,1,1,1,1,1,1,1,1,1,1,1,1,1,1,1,1,1,1,1,1,1,1,1,1,1,1,1,1,1,1,1,1,1,1,1,1,1,1,1,1,1,1,1,1,1,1,1,1,1,1,1,1,1,1,1,1,1,1,1,1,1,1,1,1,1,1,1,1,1,1,1,1,1,1,1,1,1,1,1,1,1,1,1,1,1,1,1,1,1,1,1,1,1,1,1,1,1,1,1,1,1,1,1,1,1,1,1,1,1,1,1,1,1,1,1,1,1,1,1,1,1,1,1,1,1,1,1,1,1,1,1,1,1,1,1,1,1,1,1,1,1,1,1,1,1,1,1,1,1,1,1,1,1,1,1,1,1,1,1,1,1,1,1,1,1,1,1,1,1,1,1,1,1,1,1,1,1,1,1,1,1,1,1,1,1,1,1,1,1,1,1,1,1,1,1,1,1,1,1,1,1,1,1,1,1,1,1,1,1,1,1,1,1,1,1,1,1,1,1,1,1,1,1,1,1,1,1,1,1,1,1,1,1,1,1,1,1,1,1,1,1,1,1,1,1,1,1,1,1,1,1,1,1,1,1,1,1,1,1,1,1,1,1,1,1,1,1,1,1,1,1,1,1,1,1,1,1,1,1,1,1,1,1,1,1,1,1,1,1,1,1,1,1,1,1,1,1,1,1,1,1,1,1,1,1,1,1,1,1,1,1,1,1,1,1,1,1,1,1,1,1,1,1,1,1,1,1,1,1,1,1,1,1,1,1,1,1,1,1,1,1,1,1,1,1,1,1,1,1,1,1,1,1,1,1,1,1,1,1,1,1,1,1,1,1,1,1,1,1,1,1,1,1,1,1,1,1,1,1,1,1,1,1,1,1,1,1,1,1,1,1,1,1,1,1,1,1,1,1,1,1,1,1,1,1,1,1,1,1,1,1,1,1,1,1,1,1,1,1,1,1,1,1,1,1,1,1,1,1,1,1,1,1,1,1,1,1,1,1,1,1,1,1,1,1,1,1,1,1,1,1,1,1,1,1,1,1,1,1,1,1,1,1,1,1,1,1,1,1,1,1,1,1,1,1,1,1,1,1,1,1,1,1,1,1,1,1,1,1,1,1,1,1,1,1,1,1,1,1,1,1,1,1,1,1,1,1,1,1,1,1,1,1,1,1,1,1,1,1,1,1,1,1,1,1,1,1,1,1,1,1,1,1,1,1,1,1,1,1,1,1,1,1,1,1,1,1,1,1,1,1,1,1,1,1,1,1,1,1,1,1,1,1,1,1,1,1,1,1,1,1,1,1,1,1,1,1,1,1,1,1,1,1,1,1,1,1,1,1,1,1,1,1,1,1,1,1,1,1,1,1,1,1,1,1,1,1,1,1,1,1,1,1,1,1,1,1,1,1,1,1,1,1,1,1,1,1,1,1,1,1,1,1,1,1,1,1,1,1,1,1,1,1,1,1,1,1,1,1,1,1,1,1,1,1,1,1,1,1,1,1,1,1,1,1,1,1,1,1,1,1,1,1,1,1,1,1,1,1,1,1,1,1,1,1,1,1,1,1,1,1,1,1,1,1,1,1,1,1,1,1,1,1,1,1,1,1,1,1,1,1,1,1,1,1,1,1,1,1,1,1,1,1,1,1,1,1,1,1,1,1,1,1,1,1,1,1,1,1,1,1,1,1,1,1,1,1,1,1,1,1,1,1,1,1,1,1,1,1,1,1,1,1,1,1,1,1,1,1,1,1,1,1,1,1,1,1,1,1,1,1,1,1,1,1,1,1,1,1,1,1,1,1,1,1,1,1,1,1,1,1,1,1,1,1,1,1,1,1,1,1,1,1,1,1,1,1,1,1,1,1,1,1,1,1,1,1,1,1,1,1,1,1,1,1,1,1,1,1,1,1,1,1,1,1,1,1,1,1,1,1,1,1,1,1,1,1,1,1,1,1,1,1,1,1,1,1,1,1,1,1,1,1,1,1,1,1,1,1,1,1,1,1,1,1,1,1,1,1,1,1,1,1,1,1,1,1,1,1,1,1,1,1,1,1,1,1,1,1,1,1,1,1,1,1,1,1,1,1,1,1,1,1,1,1,1,1,1,1,1,1,1,1,1,1,1,1,1,1,1,1,1,1,1,1,1,1,1,1,1,1,1,1,1,1,1,1,1,1,1,1,1,1,1,1,1,1,1,1,1,1,1,1,1,1,1,1,1,1,1,1],\"coloraxis\":\"coloraxis\",\"symbol\":\"circle\"},\"mode\":\"markers\",\"name\":\"\",\"scene\":\"scene\",\"showlegend\":false,\"x\":[58138.0,46344.0,71613.0,26646.0,58293.0,62513.0,55635.0,33454.0,30351.0,5648.0,51381.5,7500.0,63033.0,59354.0,17323.0,82800.0,41850.0,37760.0,76995.0,33812.0,37040.0,2447.0,58607.0,65324.0,40689.0,18589.0,53359.0,38360.0,84618.0,10979.0,38620.0,40548.0,46610.0,68657.0,49389.0,67353.0,23718.0,42429.0,48948.0,80011.0,20559.0,21994.0,51381.5,7500.0,79941.0,7500.0,41728.0,51381.5,72550.0,65486.0,79143.0,35790.0,82582.0,66373.0,82384.0,70287.0,27938.0,51381.5,55954.0,75777.0,66653.0,61823.0,67680.0,70666.0,25721.0,32474.0,88194.0,69096.0,74854.0,66991.0,51381.5,65031.0,60631.0,28332.0,40246.0,75251.0,75825.0,26326.0,56046.0,29760.0,26304.0,23559.0,38620.0,81361.0,29440.0,36138.0,50388.0,79593.0,54178.0,51381.5,51381.5,51381.5,42394.0,23626.0,30096.0,47916.0,51813.0,78497.0,50150.0,47823.0,34554.0,85693.0,65846.0,87195.0,24594.0,49096.0,52413.0,38557.0,89058.0,77298.0,68126.0,57288.0,86037.0,43974.0,50785.0,90765.0,36550.0,30753.0,21918.0,56129.0,32557.0,19510.0,30992.0,101970.0,71488.0,79607.0,54348.0,51381.5,77376.0,62998.0,61331.0,73448.0,51381.5,41551.0,62981.0,9548.0,33762.0,35860.0,36921.0,92859.0,65104.0,86111.0,68352.0,41883.0,59809.0,23957.0,38547.0,35688.0,49605.0,59354.0,65747.0,46344.0,34176.0,61010.0,69372.0,49967.0,60199.0,55375.0,80317.0,30523.0,70356.0,23228.0,74165.0,43482.0,62551.0,52332.0,66951.0,26091.0,33456.0,28718.0,50447.0,53537.0,52074.0,80427.0,83837.0,38853.0,38285.0,78497.0,51650.0,16248.0,66835.0,30477.0,28249.0,25271.0,32303.0,61286.0,74068.0,45759.0,24882.0,66973.0,36640.0,38872.0,51148.0,31353.0,69661.0,80067.0,86718.0,46854.0,69142.0,75922.0,63693.0,102160.0,40637.0,18890.0,29604.0,48721.0,44794.0,64497.0,46097.0,77972.0,44377.0,46014.0,70951.0,41443.0,52195.0,83790.0,44551.0,69508.0,45204.0,72460.0,77622.0,30732.0,63887.0,42011.0,51369.0,51537.0,79930.0,34320.0,37070.0,81975.0,38590.0,15033.0,62745.0,22212.0,23661.0,79761.0,7500.0,60182.0,73455.0,64961.0,22804.0,73687.0,61074.0,31686.0,80134.0,75027.0,67546.0,65176.0,31160.0,29938.0,102692.0,26490.0,75702.0,30899.0,63342.0,45989.0,18701.0,40737.0,15287.0,69674.0,44159.0,37717.0,43776.0,38179.0,80124.0,38097.0,72940.0,22070.0,69267.0,31788.0,61905.0,29315.0,33378.0,66313.0,60714.0,77882.0,69867.0,63841.0,24480.0,51369.0,37760.0,65640.0,44319.0,30631.0,75278.0,50898.0,79946.0,35416.0,32414.0,38361.0,82497.0,16626.0,29672.0,55951.0,35388.0,42386.0,68627.0,57912.0,35246.0,58821.0,46377.0,39747.0,23976.0,80950.0,27038.0,77457.0,64100.0,42670.0,12571.0,22574.0,51381.5,70893.0,54198.0,28839.0,40321.0,66503.0,30833.0,51381.5,64795.0,34421.0,47025.0,64325.0,40464.0,62187.0,14849.0,27255.0,54432.0,29999.0,24072.0,33996.0,66334.0,35178.0,22010.0,62204.0,75693.0,30675.0,83003.0,83532.0,68655.0,41411.0,55212.0,59292.0,27190.0,82623.0,44300.0,84835.0,30372.0,33181.0,71113.0,71952.0,69759.0,72099.0,60000.0,38643.0,50737.0,68462.0,65073.0,46681.0,78618.0,62187.0,28442.0,37717.0,51479.0,54803.0,79530.0,31615.0,72025.0,52614.0,35684.0,48178.0,29548.0,63810.0,38578.0,46098.0,22585.0,30279.0,66426.0,30822.0,33581.0,19986.0,27421.0,35688.0,36143.0,10245.0,43795.0,63381.0,38823.0,83664.0,90300.0,62499.0,74293.0,51012.0,70777.0,68682.0,43824.0,15345.0,23442.0,14515.0,31395.0,75276.0,42373.0,30507.0,55521.0,48006.0,27213.0,65808.0,30351.0,50437.0,23616.0,53858.0,66465.0,46923.0,75072.0,75865.0,19789.0,80134.0,91065.0,49505.0,37401.0,30096.0,18492.0,82584.0,93027.0,48686.0,92910.0,75433.0,10404.0,61314.0,84865.0,42387.0,67309.0,75236.0,30015.0,50943.0,67272.0,51529.0,32011.0,7500.0,28691.0,56223.0,18100.0,30279.0,20130.0,23295.0,42618.0,81246.0,24027.0,55707.0,57959.0,56796.0,36230.0,70829.0,65991.0,38988.0,89572.0,42207.0,50300.0,66664.0,60597.0,70165.0,50520.0,80124.0,33183.0,66582.0,75261.0,31880.0,53790.0,49269.0,61456.0,37406.0,56937.0,38415.0,20518.0,62503.0,41644.0,55842.0,62010.0,41124.0,38961.0,37760.0,32233.0,43057.0,83151.0,78825.0,65104.0,60093.0,14045.0,28457.0,78952.0,46310.0,76005.0,58308.0,55614.0,59432.0,55563.0,78642.0,67911.0,65275.0,27203.0,48330.0,24279.0,64355.0,50943.0,53653.0,65665.0,81217.0,34935.0,61250.0,39665.0,60152.0,48920.0,89120.0,44124.0,81169.0,36443.0,26095.0,71367.0,80184.0,30630.0,73454.0,42691.0,70503.0,25545.0,32880.0,77863.0,50353.0,61839.0,49154.0,47682.0,72679.0,57954.0,65316.0,28567.0,47352.0,44931.0,76982.0,57247.0,22944.0,25315.0,43638.0,42710.0,84169.0,54058.0,24683.0,85620.0,47850.0,19514.0,27159.0,39548.0,21474.0,60504.0,22419.0,81698.0,43462.0,54880.0,79908.0,15315.0,87771.0,33039.0,81741.0,71499.0,62466.0,48799.0,52157.0,66565.0,29298.0,47691.0,38200.0,44989.0,38443.0,38593.0,64413.0,36959.0,61996.0,51287.0,13260.0,47472.0,54603.0,45207.0,40689.0,47821.0,27450.0,39453.0,26850.0,79800.0,61794.0,53863.0,24221.0,39684.0,92163.0,69882.0,33178.0,59973.0,17459.0,23910.0,42169.0,26224.0,31089.0,30081.0,62807.0,72906.0,61467.0,49618.0,21888.0,42429.0,26150.0,30801.0,81168.0,26877.0,45006.0,18978.0,22574.0,48240.0,45837.0,35791.0,54162.0,30522.0,54456.0,31632.0,72298.0,36975.0,72635.0,13624.0,84196.0,70971.0,34487.0,28769.0,69084.0,65488.0,62466.0,32218.0,83917.0,46102.0,84574.0,56181.0,63120.0,73691.0,63381.0,76140.0,62859.0,45906.0,77632.0,46463.0,105471.0,55282.0,78710.0,66886.0,98777.0,29103.0,67445.0,50616.0,49431.0,61278.0,26490.0,73059.0,46734.0,56253.0,19986.0,58330.0,25965.0,14661.0,18690.0,45068.0,21063.0,29187.0,54690.0,59304.0,59247.0,66731.0,77353.0,52614.0,26751.0,81300.0,70337.0,36145.0,65295.0,68118.0,68743.0,41039.0,38946.0,65777.0,66476.0,86857.0,77845.0,69476.0,50611.0,61209.0,42315.0,13084.0,47570.0,61923.0,34824.0,26518.0,45938.0,78468.0,78901.0,71427.0,71022.0,90247.0,41335.0,71952.0,35682.0,43185.0,66375.0,35178.0,25252.0,55250.0,33249.0,58398.0,50272.0,76618.0,87305.0,25851.0,58710.0,45160.0,74806.0,59111.0,18988.0,72190.0,7500.0,44794.0,80395.0,75012.0,56962.0,89891.0,35946.0,53593.0,66373.0,45072.0,89694.0,72025.0,67432.0,70545.0,17487.0,62882.0,64108.0,34941.0,48767.0,38702.0,82224.0,83844.0,17003.0,71163.0,33697.0,63564.0,83443.0,51518.0,58330.0,80952.0,75507.0,63855.0,62220.0,58512.0,40662.0,38829.0,35523.0,79146.0,78285.0,31626.0,75127.0,48726.0,74985.0,67430.0,46891.0,62058.0,72063.0,78939.0,42720.0,33622.0,6835.0,41452.0,40760.0,74250.0,51124.0,72258.0,71466.0,36283.0,20587.0,30467.0,31590.0,20425.0,17144.0,42564.0,43783.0,40780.0,62847.0,82017.0,16813.0,51267.0,46524.0,45183.0,70421.0,60161.0,73926.0,19329.0,61872.0,46984.0,34838.0,82716.0,48192.0,49681.0,56850.0,55267.0,59666.0,72504.0,26872.0,21359.0,73170.0,52750.0,91820.0,65968.0,30772.0,22507.0,65685.0,25804.0,76412.0,22063.0,57091.0,22419.0,87771.0,78353.0,93404.0,37859.0,80995.0,16529.0,55412.0,48789.0,56575.0,25130.0,35441.0,71391.0,49494.0,81702.0,45889.0,56628.0,34026.0,40049.0,34176.0,19419.0,82504.0,81205.0,61618.0,55284.0,49980.0,15072.0,49166.0,65324.0,82347.0,30843.0,46374.0,60474.0,38576.0,55357.0,37758.0,85710.0,23228.0,44602.0,7500.0,38683.0,49514.0,57906.0,43456.0,19485.0,53172.0,30545.0,70123.0,62450.0,21675.0,42395.0,61346.0,80812.0,42835.0,39922.0,86424.0,17117.0,24762.0,35797.0,36627.0,51111.0,86857.0,82072.0,46231.0,42243.0,51195.0,68092.0,31814.0,51390.0,76630.0,26868.0,48948.0,55260.0,64090.0,78331.0,37087.0,21846.0,81320.0,54137.0,66825.0,57100.0,58917.0,85072.0,86429.0,45684.0,47889.0,45921.0,78420.0,75114.0,52278.0,35641.0,95529.0,62820.0,73113.0,84169.0,42607.0,74637.0,46015.0,72354.0,39858.0,34469.0,83033.0,24401.0,77583.0,74116.0,74293.0,68397.0,79632.0,46107.0,64950.0,25443.0,75127.0,32892.0,71796.0,67536.0,55239.0,60554.0,64831.0,56067.0,82025.0,94384.0,14906.0,51563.0,57937.0,68274.0,39771.0,67893.0,27922.0,52190.0,44051.0,42767.0,46106.0,16927.0,59754.0,53700.0,59041.0,54237.0,70647.0,52597.0,41021.0,40233.0,50183.0,54753.0,92955.0,33471.0,34596.0,44010.0,84219.0,40706.0,15716.0,59052.0,80573.0,83715.0,82576.0,56962.0,35704.0,53103.0,46779.0,4861.0,33462.0,63693.0,80763.0,65352.0,82170.0,75759.0,79689.0,35340.0,85683.0,24884.0,42021.0,64449.0,64587.0,34824.0,75437.0,26091.0,52845.0,46086.0,78028.0,95169.0,56337.0,22434.0,36930.0,36130.0,65569.0,83844.0,19514.0,36736.0,77568.0,49187.0,30168.0,34053.0,38196.0,59412.0,70924.0,54165.0,32300.0,20180.0,34961.0,28440.0,64504.0,33564.0,17345.0,56320.0,28647.0,15038.0,32173.0,68316.0,74538.0,91700.0,68695.0,31056.0,79593.0,28071.0,37334.0,46423.0,37126.0,47703.0,61180.0,38998.0,8028.0,76081.0,34728.0,33168.0,33585.0,77037.0,35196.0,44529.0,70924.0,28764.0,69098.0,25959.0,27100.0,70596.0,42557.0,53312.0,72228.0,67605.0,62845.0,65196.0,42000.0,35860.0,65526.0,16860.0,83528.0,64176.0,22304.0,67023.0,32892.0,70713.0,59925.0,39722.0,46610.0,88347.0,87171.0,26907.0,50014.0,41014.0,66294.0,36715.0,79456.0,40479.0,75345.0,54233.0,24163.0,84460.0,43776.0,71691.0,85844.0,39190.0,71367.0,38578.0,57236.0,61825.0,79803.0,80910.0,27590.0,56775.0,83829.0,54210.0,38508.0,53187.0,30023.0,76045.0,50870.0,15315.0,65463.0,66480.0,76773.0,81698.0,54466.0,98777.0,16269.0,71819.0,33569.0,36262.0,22634.0,47025.0,70566.0,31605.0,52034.0,48526.0,46734.0,39552.0,86358.0,46931.0,16581.0,63998.0,67381.0,25930.0,42693.0,85606.0,72903.0,49669.0,36778.0,85696.0,10979.0,49678.0,56129.0,37155.0,21282.0,33419.0,63285.0,21255.0,42162.0,54450.0,57744.0,26576.0,57513.0,68142.0,7500.0,83145.0,54197.0,23091.0,46049.0,56715.0,79410.0,57304.0,44375.0,54450.0,59594.0,80685.0,40344.0,62710.0,48985.0,35322.0,77142.0,81657.0,14421.0,20130.0,74214.0,66726.0,23724.0,47353.0,33444.0,54386.0,28510.0,90638.0,48070.0,43140.0,54959.0,15056.0,26954.0,22327.0,44393.0,62000.0,31497.0,45894.0,78579.0,67369.0,58401.0,62307.0,43641.0,63841.0,46891.0,70091.0,78075.0,59184.0,54809.0,58113.0,51412.0,15287.0,66636.0,50965.0,84618.0,18351.0,40451.0,36317.0,42213.0,65748.0,77044.0,74918.0,56721.0,42160.0,61559.0,33629.0,68682.0,34377.0,8940.0,26228.0,77297.0,40211.0,33438.0,75032.0,61284.0,22518.0,54730.0,38452.0,44421.0,38197.0,41986.0,28427.0,37395.0,64722.0,55249.0,84906.0,28691.0,44213.0,25707.0,59062.0,76624.0,66000.0,27683.0,1730.0,7500.0,40521.0,20427.0,65106.0,69969.0,67433.0,77766.0,74716.0,68118.0,55158.0,62972.0,74190.0,39356.0,76653.0,35860.0,90687.0,73450.0,31454.0,47139.0,83829.0,53378.0,19656.0,45579.0,85485.0,55956.0,64191.0,38808.0,57183.0,23748.0,66303.0,37368.0,40800.0,71847.0,46149.0,78687.0,49118.0,37633.0,39767.0,26997.0,33986.0,57091.0,46831.0,83151.0,52531.0,15759.0,22804.0,43050.0,42997.0,48918.0,60033.0,34043.0,57811.0,78569.0,7500.0,94384.0,23148.0,44267.0,71626.0,60894.0,50200.0,81051.0,65169.0,59868.0,65695.0,64857.0,45143.0,74805.0,59060.0,27238.0,47009.0,46094.0,40321.0,37235.0,81843.0,46692.0,77382.0,37774.0,18393.0,72828.0,24711.0,45503.0,6560.0,71604.0,27244.0,48752.0,71434.0,90842.0,88097.0,51948.0,71853.0,35876.0,40049.0,39660.0,50127.0,43263.0,62845.0,18929.0,24367.0,33249.0,26887.0,50150.0,62061.0,85696.0,76542.0,70515.0,18227.0,69139.0,69109.0,69627.0,38136.0,62159.0,80695.0,33316.0,58554.0,17256.0,53034.0,52203.0,59601.0,75154.0,47025.0,37971.0,41335.0,67267.0,57338.0,50523.0,35791.0,50611.0,56242.0,48904.0,56243.0,21355.0,57420.0,51381.5,46390.0,54342.0,51381.5,51381.5,20895.0,92344.0,51381.5,26907.0,44964.0,75507.0,53761.0,22682.0,38887.0,41658.0,29791.0,63915.0,39996.0,26759.0,63841.0,51039.0,60544.0,65685.0,37716.0,36864.0,44511.0,36947.0,47352.0,67087.0,57045.0,36957.0,69389.0,80134.0,43142.0,80589.0,34412.0,57537.0,22634.0,51315.0,36026.0,24639.0,34578.0,65704.0,63810.0,54132.0,18690.0,28164.0,34596.0,43269.0,38741.0,31907.0,27100.0,31163.0,92533.0,34853.0,70844.0,31086.0,60544.0,20491.0,42523.0,39922.0,33402.0,36408.0,21645.0,78427.0,82657.0,51876.0,78041.0,52852.0,70038.0,69401.0,46053.0,77343.0,73892.0,40304.0,32727.0,68695.0,43300.0,26290.0,93790.0,38410.0,64866.0,57957.0,46015.0,16531.0,28072.0,49476.0,50725.0,83844.0,41145.0,67419.0,23162.0,34380.0,34704.0,94871.0,65148.0,39898.0,64857.0,59892.0,41020.0,57072.0,60474.0,62807.0,19414.0,19107.0,75484.0,70379.0,79419.0,64014.0,76998.0,49854.0,60585.0,42873.0,87679.0,57867.0,35765.0,65492.0,32952.0,53374.0,71706.0,68487.0,53253.0,31163.0,42014.0,54108.0,49667.0,63206.0,57136.0,46772.0,78931.0,53977.0,84219.0,46098.0,73538.0,79529.0,20981.0,51766.0,55759.0,33039.0,37787.0,27242.0,87188.0,69930.0,37697.0,37401.0,3502.0,58597.0,82032.0,28087.0,74004.0,19740.0,57036.0,53083.0,69283.0,46098.0,23331.0,23331.0,9255.0,67786.0,71969.0,59235.0,31928.0,74881.0,65819.0,51411.0,51983.0,42386.0,30390.0,30983.0,66033.0,37284.0,57530.0,76800.0,63943.0,76081.0,67445.0,37054.0,47175.0,31859.0,27215.0,70179.0,39922.0,49681.0,24645.0,79865.0,44322.0,47958.0,63972.0,75315.0,55517.0,75283.0,82800.0,38998.0,90638.0,27161.0,42014.0,38201.0,45203.0,81574.0,34935.0,60482.0,34633.0,78093.0,82460.0,45903.0,81361.0,35860.0,40442.0,61482.0,34968.0,75794.0,31497.0,74268.0,13724.0,45143.0,52569.0,48432.0,17144.0,36108.0,76445.0,36663.0,53843.0,90226.0,70638.0,44512.0,27116.0,54072.0,71855.0,51250.0,60432.0,65526.0,68655.0,12393.0,64509.0,33955.0,31353.0,55434.0,28359.0,57100.0,69139.0,52973.0,51717.0,18793.0,66664.0,50664.0,54414.0,54549.0,47111.0,41003.0,19444.0,36301.0,73059.0,42731.0,52854.0,22775.0,46681.0,59821.0,50002.0,69755.0,44078.0,30560.0,35924.0,64140.0,56386.0,24594.0,75774.0,39228.0,58494.0,58684.0,57136.0,56551.0,22448.0,82014.0,34213.0,25358.0,35544.0,36634.0,62670.0,50334.0,72066.0,50729.0,34916.0,64892.0,43602.0,33996.0,41473.0,63246.0,36732.0,69084.0,77766.0,37929.0,86610.0,80141.0,72635.0,69016.0,20193.0,27573.0,15862.0,49544.0,33228.0,70440.0,38232.0,22554.0,23536.0,49413.0,42231.0,78789.0,56534.0,58350.0,81217.0,49090.0,61787.0,18169.0,24336.0,18222.0,62335.0,42033.0,86580.0,41437.0,73705.0,61064.0,38452.0,18358.0,55012.0,9722.0,38175.0,58656.0,52117.0,64813.0,54222.0,83512.0,77520.0,41154.0,80398.0,18746.0,35196.0,60230.0,22108.0,44392.0,55424.0,17688.0,92491.0,90273.0,82571.0,38513.0,16653.0,42586.0,23529.0,74881.0,71107.0,46910.0,18690.0,37244.0,82427.0,75342.0,70044.0,79146.0,77437.0,54984.0,42403.0,55761.0,37292.0,45576.0,70321.0,58086.0,81795.0,28389.0,66835.0,69901.0,80360.0,63342.0,44989.0,31859.0,51569.0,30372.0,16014.0,41120.0,39763.0,38725.0,77981.0,62905.0,13533.0,59481.0,72117.0,21955.0,67131.0,36802.0,71853.0,28249.0,47808.0,25509.0,51012.0,70596.0,85431.0,42664.0,42586.0,29760.0,28973.0,39435.0,65370.0,20194.0,42473.0,64590.0,71232.0,34600.0,46904.0,49094.0,36075.0,60839.0,77298.0,34026.0,48918.0,82122.0,37697.0,34074.0,28520.0,62535.0,36273.0,63404.0,75774.0,78416.0,75702.0,59385.0,37070.0,44689.0,53977.0,18701.0,90369.0,63159.0,37758.0,46757.0,79734.0,63207.0,72071.0,21840.0,58582.0,72282.0,50387.0,32583.0,62568.0,44635.0,33316.0,63967.0,52513.0,25293.0,54111.0,78394.0,80739.0,22669.0,29236.0,44911.0,54693.0,48186.0,54809.0,41580.0,80336.0,47743.0,62972.0,57333.0,32313.0,84953.0,27071.0,68148.0,65735.0,86836.0,4023.0,30093.0,57705.0,25008.0,83257.0,22280.0,72159.0,64260.0,82733.0,74290.0,58217.0,21024.0,70116.0,54006.0,69063.0,11448.0,61825.0,70886.0,69109.0,60208.0,32889.0,34738.0,30538.0,82326.0,26642.0,69932.0,44503.0,60200.0,49638.0,23830.0,33051.0,72905.0,69702.0,70300.0,70643.0,30396.0,50616.0,62772.0,30298.0,52413.0,44155.0,86979.0,76532.0,42081.0,67546.0,88420.0,31158.0,61671.0,69719.0,49160.0,24882.0,90933.0,59292.0,45759.0,22148.0,73395.0,29819.0,45688.0,62820.0,60491.0,33235.0,35701.0,31535.0,92556.0,67384.0,80573.0,77870.0,52278.0,57107.0,18929.0,36038.0,20180.0,34230.0,31878.0,70932.0,91249.0,77598.0,80982.0,22701.0,55212.0,70617.0,64849.0,62694.0,61917.0,67472.0,21059.0,29543.0,75903.0,34984.0,54998.0,54356.0,34242.0,25410.0,73356.0,28320.0,23763.0,72570.0,34529.0,70792.0,63211.0,83891.0,36065.0,39898.0,51141.0,56939.0,80872.0,72335.0,61798.0,76842.0,29478.0,46998.0,96843.0,56551.0,70053.0,71670.0,44359.0,40887.0,48877.0,74485.0,64474.0,77226.0,72643.0,85738.0,55686.0,39062.0,34600.0,40794.0,54690.0,32632.0,38236.0,36781.0,31385.0,24570.0,25509.0,94642.0,58646.0,53201.0,21994.0,57113.0,51373.0,23477.0,58116.0,72968.0,39791.0,91712.0,94472.0,13672.0,96547.0,79205.0,56559.0,32644.0,67506.0,24206.0,28420.0,22979.0,33279.0,46423.0,30368.0,63684.0,41638.0,68805.0,65814.0,71964.0,39146.0,96876.0,34445.0,68281.0,37284.0,36790.0,27943.0,22263.0,30261.0,28587.0,43815.0,48195.0,77027.0,71322.0,32765.0,29672.0,23272.0,49912.0,7500.0,68117.0,67225.0,17649.0,55914.0,40059.0,60905.0,75330.0,60689.0,38680.0,61416.0,49767.0,83273.0,29009.0,45057.0,37150.0,43020.0,53154.0,65308.0,76467.0,81044.0,32871.0,55801.0,76320.0,36927.0,48794.0,23478.0,71128.0,70179.0,59462.0,51381.5,38361.0,51381.5,70038.0,42554.0,67445.0,67046.0,42192.0,77610.0,31761.0,34350.0,54591.0,71866.0,25293.0,42000.0,69520.0,64713.0,27889.0,22123.0,51381.5,51381.5,27803.0,51381.5,51651.0,68487.0,51381.5,56796.0,87000.0,79823.0,30828.0,34109.0,53367.0,22390.0,71322.0,79244.0,49912.0,48699.0,80144.0,54252.0,81929.0,76068.0,53204.0,67911.0,14796.0,78128.0,14188.0,20425.0,58646.0,72967.0,48150.0,82332.0,58275.0,44953.0,34587.0,43018.0,45736.0,66476.0,27733.0,69805.0,72217.0,25818.0,37509.0,25176.0,43586.0,53230.0,50116.0,84906.0,61286.0,82333.0,65220.0,33590.0,30992.0,72309.0,16005.0,65487.0,58692.0,40590.0,20587.0,62637.0,29435.0,19346.0,35788.0,36997.0,23539.0,65333.0,78499.0,29732.0,41275.0,63516.0,42769.0,49572.0,69209.0,17148.0,40590.0,30560.0,32146.0,41713.0,34176.0,58482.0,59686.0,60896.0,62994.0,47320.0,74859.0,15253.0,31560.0,72071.0,91172.0,90000.0,41967.0,69263.0,65706.0,60934.0,71965.0,65210.0,79174.0,81380.0,48432.0,52914.0,38946.0,26067.0,44325.0,42523.0,26487.0,53233.0,67716.0,76234.0,84117.0,65487.0,25224.0,89616.0,40851.0,27469.0,82347.0,73803.0,8820.0,43322.0,55593.0,50501.0,37085.0,16185.0,57731.0,48432.0,73807.0,18929.0,35893.0,61014.0,32144.0,14918.0,45146.0,41769.0,88325.0,38054.0,80617.0,5305.0,36807.0,28427.0,82032.0,22775.0,40101.0,58025.0,75777.0,7500.0,33562.0,57642.0,58554.0,63777.0,57967.0,51381.5,24434.0,11012.0,44802.0,26816.0,34421.0,61223.0,64014.0,56981.0,69245.0,52869.0],\"y\":[4,2,10,4,6,10,7,4,2,0,2,3,8,5,3,12,3,6,9,3,5,0,9,9,5,3,4,4,10,3,3,4,6,9,3,12,2,3,5,5,3,3,4,3,9,3,2,4,12,10,13,3,7,10,13,10,4,3,6,11,12,10,8,4,2,2,10,10,5,6,3,13,8,4,2,5,9,3,8,4,2,3,3,13,4,4,6,7,5,8,2,8,3,3,3,6,3,12,7,3,3,11,6,5,3,4,12,3,4,11,5,8,11,6,3,5,5,3,3,10,3,3,3,13,7,6,4,7,10,5,6,9,7,5,13,3,2,2,3,12,7,10,9,3,6,3,2,4,4,7,6,5,4,11,6,5,3,6,10,2,9,4,10,4,4,6,7,3,3,3,3,3,2,8,5,3,3,12,4,3,13,3,3,2,4,8,9,3,2,12,2,3,6,2,12,6,5,3,7,9,9,10,3,2,3,5,3,9,6,9,5,8,9,5,2,6,5,11,4,7,11,4,12,4,4,11,8,2,8,4,2,3,11,4,3,11,3,2,10,4,2,9,8,3,6,6,5,6,3,3,13,5,11,3,5,7,4,2,2,10,6,2,4,3,8,2,6,2,5,4,4,4,4,12,10,5,8,9,4,4,6,8,3,2,13,12,5,5,3,3,9,3,3,11,3,3,6,12,3,9,3,4,3,9,3,10,6,4,3,3,12,10,6,3,3,6,3,10,12,2,2,5,8,5,4,3,3,4,2,3,5,2,3,12,6,3,8,4,11,4,11,8,2,4,3,6,3,2,9,8,5,10,5,3,4,8,5,4,10,10,4,2,6,9,11,3,8,8,3,4,2,12,3,2,2,3,10,3,2,3,6,4,2,2,4,13,3,12,8,6,6,4,12,10,4,2,3,3,3,9,5,4,6,3,4,5,2,8,3,6,12,7,8,10,3,11,9,8,3,3,2,8,5,2,13,10,4,12,9,7,9,13,4,3,12,5,4,3,3,5,3,3,3,2,4,7,3,9,11,7,4,8,10,6,9,5,8,6,8,11,3,8,3,9,5,2,8,12,13,2,9,3,2,11,3,8,7,4,2,3,2,5,4,13,7,10,3,4,12,5,13,3,6,11,3,4,11,13,2,3,3,12,3,12,8,11,4,12,3,12,5,7,5,9,3,3,7,10,3,6,6,9,3,3,10,6,4,8,8,5,6,5,3,5,3,4,7,3,3,4,3,6,8,4,4,4,2,3,3,2,8,2,13,5,11,7,4,4,4,7,13,12,7,5,9,2,2,2,5,3,3,5,3,8,3,3,4,4,6,5,3,3,3,4,5,10,7,3,2,5,9,3,7,2,3,3,3,4,3,12,9,10,3,2,3,3,3,7,6,7,3,3,13,5,3,3,9,7,2,6,3,6,3,7,5,3,4,13,6,12,3,7,2,11,7,9,8,13,6,6,4,6,6,13,6,12,7,9,3,12,4,5,4,5,13,3,9,3,13,3,3,2,2,3,3,5,10,9,6,8,8,2,5,12,3,13,4,13,5,6,6,11,10,12,4,7,4,4,3,2,4,2,3,6,10,5,8,11,7,4,8,3,6,5,2,2,10,3,8,5,5,8,3,9,2,5,8,3,4,2,3,12,11,5,8,3,6,10,4,4,13,4,7,2,6,11,3,3,4,5,11,4,12,2,7,5,10,13,11,6,13,5,8,3,2,3,8,10,2,5,4,7,12,4,7,12,6,7,4,1,2,3,4,3,5,10,3,2,2,3,3,4,4,8,5,4,7,3,5,5,7,7,8,12,3,9,3,4,13,12,7,3,6,8,6,2,3,6,9,12,7,2,4,9,3,8,3,7,2,4,11,7,3,4,3,3,7,7,3,3,12,5,12,3,5,3,6,4,3,7,7,8,8,5,3,3,9,10,2,7,12,3,11,3,10,3,4,3,6,4,8,8,2,8,3,4,4,3,4,10,5,4,4,12,3,2,3,3,3,10,13,4,3,5,10,3,5,11,2,5,5,4,7,8,3,10,4,6,6,6,10,7,2,3,6,8,5,10,4,7,6,7,6,7,9,3,6,4,4,10,6,9,10,6,5,9,4,10,3,5,3,4,11,11,9,5,7,6,5,3,10,9,5,3,9,3,3,4,2,2,4,6,8,4,5,13,8,3,5,6,11,9,4,2,6,10,4,4,7,13,13,12,5,4,7,2,0,3,9,6,8,7,9,13,3,10,3,6,12,4,2,10,3,6,8,9,4,4,3,4,4,10,11,2,2,8,5,4,3,4,8,7,7,3,4,3,3,4,3,2,9,2,2,3,10,5,5,7,3,7,5,4,4,2,8,6,3,0,4,2,4,4,12,5,11,7,2,9,2,3,12,4,5,8,6,10,11,11,2,8,3,8,8,2,13,3,8,9,3,6,9,11,3,8,2,5,4,4,3,6,5,3,4,2,5,7,4,7,3,4,8,5,8,2,10,6,7,5,6,3,11,3,4,9,7,11,5,2,9,3,5,2,3,2,6,9,4,5,4,5,5,6,3,3,11,9,2,3,9,8,6,3,9,3,4,10,4,2,4,13,4,3,8,4,2,13,7,2,11,6,3,9,4,5,10,6,8,7,10,5,12,3,4,8,8,2,3,5,4,3,6,2,10,4,10,6,5,4,3,2,3,4,13,4,3,4,10,2,4,4,9,4,10,5,12,5,8,4,2,9,5,10,3,2,4,7,10,11,6,5,4,10,4,10,2,3,2,9,2,4,9,8,2,8,3,4,3,4,3,3,11,4,12,3,5,3,3,7,5,4,0,2,2,2,13,6,13,11,5,4,5,3,11,2,11,2,8,11,3,2,6,6,3,4,6,4,13,4,7,3,11,2,3,9,7,8,10,3,7,5,3,5,2,10,10,2,2,4,2,4,5,2,11,4,3,5,3,4,8,8,5,12,13,12,10,10,5,10,7,3,8,3,3,2,12,5,12,3,3,13,3,4,1,5,2,5,7,13,8,4,6,3,3,3,6,6,10,4,2,3,3,7,7,9,10,4,2,5,7,11,2,10,5,4,6,2,7,11,7,6,5,3,4,5,5,4,3,7,11,4,8,2,6,6,3,4,3,2,3,5,3,3,3,6,3,4,3,2,3,12,2,3,9,4,5,9,3,4,8,4,5,8,9,2,12,6,2,5,3,8,2,5,3,4,2,10,12,3,2,4,2,2,3,6,3,3,11,3,5,2,5,2,4,4,3,2,3,10,10,8,9,5,8,5,4,9,8,3,5,7,4,4,12,9,7,8,3,3,3,5,8,11,3,8,3,3,3,4,7,4,10,3,4,13,12,12,3,3,6,13,4,5,8,5,9,4,10,9,4,13,3,9,7,13,5,3,6,9,5,6,10,5,13,12,10,2,9,9,2,4,8,4,3,3,6,12,3,3,0,9,7,2,4,3,13,5,13,2,3,5,2,6,9,12,4,12,10,3,10,3,3,3,7,3,4,7,6,4,12,3,4,2,4,13,4,7,2,5,3,5,10,12,6,5,12,3,10,3,6,5,3,8,4,7,2,5,6,3,13,2,4,6,5,12,4,5,2,5,4,6,4,4,13,3,3,12,10,3,3,2,11,4,5,8,11,3,9,5,2,13,2,7,5,9,4,4,6,6,5,4,10,8,2,3,13,5,4,2,4,7,7,12,3,3,3,6,7,3,8,3,6,12,7,4,3,12,2,3,3,5,13,6,6,7,3,12,2,3,3,12,4,13,11,5,6,10,6,13,4,4,3,8,3,7,3,4,3,5,3,5,7,12,11,9,6,2,2,3,13,2,5,3,8,11,3,4,9,3,4,13,4,10,5,10,7,4,12,3,5,6,3,4,9,2,12,7,13,5,3,6,2,12,13,3,2,2,12,10,5,8,13,6,3,3,5,3,13,7,7,2,13,10,5,5,5,3,7,3,4,3,2,4,7,8,3,8,9,3,12,3,6,3,3,3,4,12,7,3,6,4,5,2,13,3,4,10,10,5,4,6,4,12,11,3,4,13,3,3,2,8,3,4,8,10,13,4,8,2,12,4,6,8,3,7,6,6,8,3,9,9,8,2,5,3,4,12,9,2,6,5,9,2,3,4,13,4,5,3,13,6,3,9,4,4,3,6,6,6,0,3,6,3,12,2,10,4,7,10,4,4,12,7,5,2,8,4,7,7,3,3,4,6,3,11,3,11,3,3,8,9,10,13,4,2,4,11,3,7,2,5,7,4,5,8,3,6,5,6,2,4,8,3,3,6,3,8,6,7,3,3,2,13,5,13,5,10,8,4,3,4,2,4,12,6,13,11,3,11,7,6,7,4,7,3,2,9,3,9,8,3,4,5,3,3,12,3,10,7,10,3,4,4,10,10,8,9,7,3,5,10,4,10,6,4,3,4,12,10,12,7,11,5,3,5,5,5,8,4,2,2,4,3,9,4,5,3,5,3,4,8,8,4,11,5,3,8,4,8,6,6,3,2,2,3,4,3,8,3,7,10,5,4,9,8,13,3,2,3,3,3,4,3,5,6,13,4,3,3,7,3,4,11,3,8,3,7,12,10,3,10,8,9,3,3,6,4,4,12,5,10,3,6,4,3,3,3,12,13,12,4,3,3,8,3,12,4,3,4,4,3,8,10,2,11,5,7,2,3,3,4,4,5,5,13,11,7,7,7,4,3,8,2,7,7,7,3,8,5,10,4,3,11,3,6,4,3,4,8,4,12,7,13,3,2,6,10,3,11,8,2,4,2,4,12,4,12,8,10,7,2,3,8,2,6,4,3,2,5,2,3,3,4,4,8,4,2,3,7,4,3,6,3,3,3,4,4,3,9,6,4,4,8,11,3,3,8,7,5,3,7,12,11,5,8,7,10,6,3,6,3,7,4,3,3,13,11,6,6,3,12,2,3,10,6,3,4,3,4,3,2,6,6,11,4,5,4,3,3,2,7,9,3,8,0,2,3,7,2,6,10,11,2,4,6,6,6,8,1,2,2,12,3,2,4,5,13,10,4],\"z\":[8,1,8,2,5,6,7,4,3,1,1,2,3,6,1,7,3,4,11,2,4,0,2,6,7,2,5,2,6,3,2,2,4,3,2,5,3,1,7,8,2,0,1,2,2,3,2,2,5,4,6,2,4,4,3,5,1,2,8,3,4,8,7,7,1,1,11,5,2,4,3,10,9,2,1,7,5,0,10,3,1,3,2,3,1,3,6,5,2,7,1,2,1,3,2,7,2,5,5,2,2,9,6,3,1,4,6,3,5,6,7,8,6,6,2,4,9,1,2,6,2,1,1,6,3,3,2,6,6,5,11,7,6,5,4,1,2,1,2,5,3,5,8,4,3,2,1,4,2,4,8,7,3,8,10,6,0,1,3,1,10,3,5,2,6,3,3,2,1,2,3,2,2,11,9,2,0,5,4,2,6,1,2,1,1,7,4,2,1,8,2,3,5,1,7,4,5,5,8,4,11,7,1,0,1,4,2,11,3,4,5,7,3,8,1,8,4,11,1,3,6,4,9,3,8,2,3,1,5,6,1,1,7,2,1,5,3,1,6,6,2,3,11,1,5,9,4,9,2,1,6,3,4,1,8,3,2,1,1,10,4,1,5,3,3,3,3,2,3,3,4,2,2,6,7,3,3,9,3,8,4,5,2,3,6,6,5,7,1,3,2,3,0,3,1,3,2,8,3,9,2,5,3,6,3,2,8,4,3,2,6,6,3,2,3,4,1,2,3,1,1,10,8,4,2,1,1,3,1,1,9,1,2,4,11,1,7,4,4,2,4,3,1,2,1,4,2,1,6,8,4,3,11,2,2,3,5,4,4,6,2,1,6,6,4,2,4,2,1,5,1,4,3,3,1,1,3,1,1,0,4,4,0,1,7,4,2,2,5,3,5,4,5,4,3,1,1,2,2,9,2,5,6,1,2,5,3,7,3,4,11,5,5,3,2,2,7,10,2,2,1,3,7,1,6,2,1,5,2,8,9,8,1,1,6,9,2,2,1,2,0,1,1,1,5,4,2,3,4,8,2,4,9,5,7,4,2,5,2,3,3,3,4,2,5,1,7,7,6,1,8,1,1,8,1,7,6,7,2,2,6,4,5,5,3,7,1,4,2,6,3,2,9,5,2,4,6,4,1,1,4,4,1,10,5,3,2,5,4,6,6,5,6,5,3,1,4,6,2,2,5,2,2,1,4,4,4,4,4,4,8,3,2,6,2,8,2,3,3,4,4,7,4,2,3,3,3,1,1,3,6,3,3,4,6,5,2,5,2,6,8,6,3,3,4,1,1,1,5,1,4,5,2,6,4,3,2,4,3,7,1,2,2,2,5,4,7,1,2,5,3,1,3,3,2,1,2,3,1,5,3,5,3,5,1,1,1,6,3,3,1,2,6,6,1,1,1,6,2,4,1,6,2,8,11,3,4,7,3,6,2,6,1,9,4,8,6,4,5,9,5,4,3,9,3,7,7,4,1,9,1,7,3,3,9,3,7,0,6,2,1,1,1,2,1,3,7,5,4,6,2,1,10,2,4,3,8,11,8,3,2,5,5,3,4,4,5,1,1,2,2,1,2,8,10,9,8,5,3,4,8,1,9,2,1,1,7,2,5,4,3,5,2,11,1,5,11,1,5,4,2,6,3,6,11,0,7,4,6,4,4,8,4,1,7,6,3,2,3,6,4,2,3,1,10,6,3,6,8,8,7,7,3,2,3,3,8,6,2,2,3,3,11,2,6,5,8,7,2,0,1,2,2,1,6,4,1,1,1,1,2,3,6,7,7,3,5,2,3,1,4,10,11,6,4,4,1,2,6,2,7,1,3,3,5,1,2,5,5,5,5,1,10,9,2,5,2,7,3,5,10,3,1,8,1,2,6,7,2,1,6,6,7,1,7,2,3,3,4,3,5,3,7,3,3,5,6,7,1,7,10,1,6,1,6,2,6,0,4,6,4,5,1,2,2,5,5,4,3,5,4,6,3,6,3,3,2,0,2,5,3,6,2,9,2,2,5,3,1,7,8,6,10,4,4,4,4,4,3,4,3,7,1,2,2,3,3,10,3,7,3,3,7,3,6,1,2,2,1,11,6,4,4,5,6,6,1,11,1,2,3,9,11,7,8,6,7,3,5,2,4,4,4,2,3,2,2,3,3,1,3,5,5,2,5,4,6,2,2,3,5,6,3,1,10,3,3,3,7,4,2,2,6,2,10,0,0,2,11,5,4,5,9,4,2,2,0,10,5,1,1,8,2,8,3,6,4,8,2,5,3,6,4,3,1,10,1,6,3,2,4,6,2,1,2,3,2,11,1,2,5,2,2,1,10,8,8,4,1,5,5,3,2,1,6,5,2,0,4,1,2,2,7,6,6,6,1,7,1,1,3,6,5,6,2,3,7,5,1,4,1,4,8,1,3,3,5,9,2,6,4,6,1,4,1,4,7,5,0,5,11,1,9,1,4,6,2,4,3,2,4,4,3,1,5,4,4,7,4,2,4,2,2,6,4,2,8,1,4,3,3,1,3,2,11,6,2,4,2,6,6,5,1,0,7,2,1,1,6,7,5,3,4,3,6,6,2,2,2,6,2,3,9,9,1,9,10,1,5,1,2,5,7,3,7,4,9,8,6,4,4,1,2,4,3,1,1,8,8,2,2,1,3,2,3,8,4,9,2,1,1,1,6,3,1,5,7,1,4,2,9,2,5,3,6,2,9,3,1,3,10,6,2,1,3,5,2,7,5,4,2,4,3,4,2,3,1,5,2,2,5,11,2,4,3,5,1,3,2,1,8,2,5,1,2,1,2,5,1,6,0,3,0,1,8,4,6,11,7,8,7,7,4,1,4,1,6,7,2,2,4,9,2,4,6,7,5,5,9,2,3,1,3,6,5,4,9,1,7,4,1,9,1,5,7,1,2,2,1,1,2,2,7,4,2,5,2,5,5,10,7,5,10,11,5,7,6,4,3,3,3,1,3,1,5,6,5,7,3,6,3,3,1,8,2,6,7,4,6,5,2,3,1,7,5,5,3,1,1,2,1,5,10,4,4,6,0,4,6,8,3,6,5,2,8,2,6,8,2,6,6,1,4,3,4,2,1,4,8,7,4,2,5,4,4,3,1,1,2,5,1,1,1,8,4,2,1,1,2,6,1,2,9,6,5,9,4,5,8,3,6,7,4,3,7,5,1,5,5,4,2,2,2,2,1,2,4,1,1,2,1,1,2,6,1,1,6,2,6,1,5,0,1,3,2,1,3,3,7,2,4,10,4,4,3,3,3,2,7,4,4,2,6,5,7,4,1,3,1,2,8,4,0,9,1,4,1,8,6,3,7,2,3,7,10,5,1,1,7,6,4,8,11,6,7,6,7,7,2,4,2,4,9,9,4,1,7,8,5,4,5,11,2,5,3,3,10,4,3,4,10,2,3,2,10,4,2,2,0,7,4,2,4,1,6,5,7,3,3,5,1,3,3,11,3,9,5,0,9,3,2,4,8,0,1,4,6,4,9,1,4,1,2,7,3,7,1,5,3,6,5,5,11,6,7,2,3,1,7,5,3,4,2,7,1,4,5,2,3,1,3,3,3,7,3,4,2,6,2,7,3,7,2,1,8,4,4,1,2,2,5,10,7,4,4,2,6,5,1,5,1,3,4,9,3,2,5,8,3,5,3,6,4,3,9,4,2,1,4,11,8,3,2,1,1,2,9,1,7,0,6,5,7,2,2,3,3,1,2,5,5,7,4,6,5,6,3,1,2,6,1,7,11,4,5,7,6,8,1,5,1,5,2,5,3,2,0,4,1,4,10,8,3,7,8,1,1,2,3,1,4,1,9,8,3,3,8,3,3,7,5,7,3,4,8,1,5,3,6,6,2,4,7,1,7,5,6,6,2,4,1,9,7,2,1,1,3,5,7,8,4,6,1,4,6,3,6,11,4,1,6,7,4,8,5,1,7,2,1,2,5,1,7,7,2,3,9,2,9,1,2,2,3,3,4,3,2,1,4,3,5,3,2,2,2,9,11,5,5,6,2,2,6,2,1,3,2,3,1,3,3,6,7,7,10,3,5,1,5,2,4,3,1,4,4,2,5,1,9,5,6,1,5,2,2,4,9,1,5,4,3,4,4,4,6,4,2,2,2,4,7,8,4,3,2,4,6,6,0,2,8,1,5,1,4,4,8,10,2,2,2,8,5,1,4,5,6,8,2,1,9,5,2,7,2,6,1,1,9,3,7,5,5,1,4,5,1,7,1,5,9,6,4,4,2,10,2,3,1,4,3,2,1,4,3,3,3,6,3,1,1,3,7,4,5,10,4,1,3,2,1,1,6,7,7,11,1,4,3,9,9,2,4,3,3,6,1,4,11,0,1,5,1,1,4,2,3,3,4,3,3,3,3,4,10,4,1,1,5,6,2,8,5,2,3,3,6,8,6,3,3,6,1,5,6,3,4,3,2,1,4,3,5,2,6,0,4,3,3,3,5,3,9,5,1,7,6,4,7,4,1,1,3,0,2,2,8,5,3,8,5,4,7,11,2,0,2,2,1,0,2,2,4,8,8,2,0,1,10,2,11,7,3,11,6,3,10,4,2,10,5,4,2,2,4,4,3,7,2,5,1,7,6,3,1,3,2,7,9,4,3,3,4,2,9,4,2,4,3,1,6,6,1,5,9,5,1,2,2,4,3,6,6,9,5,8,4,6,1,0,5,1,4,4,10,1,3,4,4,2,1,6,1,8,2,2,2,7,5,5,8,7,1,2,7,6,2,6,3,0,3,1,3,5,1,5,7,4,8,1,1,5,2,3,8,3,1,2,3,1,2,2,2,9,11,2,3,4,1,2,5,3,3,1,2,3,1,7,4,9,6,5,6,1,2,5,4,4,1,9,11,6,6,9,5,4,7,7,3,3,8,1,2,1,7,8,7,3,1,7,1,0,7,9,3,3,6,5,3,2,8,7,5,1,3,9,2,1,1,8,6,2,4,1,1,2,4,1,6,3,3,3,2,7,8,11,4,0,2,3,9,0,1,9,8,2,6,3],\"type\":\"scatter3d\"}],                        {\"template\":{\"data\":{\"histogram2dcontour\":[{\"type\":\"histogram2dcontour\",\"colorbar\":{\"outlinewidth\":0,\"ticks\":\"\"},\"colorscale\":[[0.0,\"#0d0887\"],[0.1111111111111111,\"#46039f\"],[0.2222222222222222,\"#7201a8\"],[0.3333333333333333,\"#9c179e\"],[0.4444444444444444,\"#bd3786\"],[0.5555555555555556,\"#d8576b\"],[0.6666666666666666,\"#ed7953\"],[0.7777777777777778,\"#fb9f3a\"],[0.8888888888888888,\"#fdca26\"],[1.0,\"#f0f921\"]]}],\"choropleth\":[{\"type\":\"choropleth\",\"colorbar\":{\"outlinewidth\":0,\"ticks\":\"\"}}],\"histogram2d\":[{\"type\":\"histogram2d\",\"colorbar\":{\"outlinewidth\":0,\"ticks\":\"\"},\"colorscale\":[[0.0,\"#0d0887\"],[0.1111111111111111,\"#46039f\"],[0.2222222222222222,\"#7201a8\"],[0.3333333333333333,\"#9c179e\"],[0.4444444444444444,\"#bd3786\"],[0.5555555555555556,\"#d8576b\"],[0.6666666666666666,\"#ed7953\"],[0.7777777777777778,\"#fb9f3a\"],[0.8888888888888888,\"#fdca26\"],[1.0,\"#f0f921\"]]}],\"heatmap\":[{\"type\":\"heatmap\",\"colorbar\":{\"outlinewidth\":0,\"ticks\":\"\"},\"colorscale\":[[0.0,\"#0d0887\"],[0.1111111111111111,\"#46039f\"],[0.2222222222222222,\"#7201a8\"],[0.3333333333333333,\"#9c179e\"],[0.4444444444444444,\"#bd3786\"],[0.5555555555555556,\"#d8576b\"],[0.6666666666666666,\"#ed7953\"],[0.7777777777777778,\"#fb9f3a\"],[0.8888888888888888,\"#fdca26\"],[1.0,\"#f0f921\"]]}],\"heatmapgl\":[{\"type\":\"heatmapgl\",\"colorbar\":{\"outlinewidth\":0,\"ticks\":\"\"},\"colorscale\":[[0.0,\"#0d0887\"],[0.1111111111111111,\"#46039f\"],[0.2222222222222222,\"#7201a8\"],[0.3333333333333333,\"#9c179e\"],[0.4444444444444444,\"#bd3786\"],[0.5555555555555556,\"#d8576b\"],[0.6666666666666666,\"#ed7953\"],[0.7777777777777778,\"#fb9f3a\"],[0.8888888888888888,\"#fdca26\"],[1.0,\"#f0f921\"]]}],\"contourcarpet\":[{\"type\":\"contourcarpet\",\"colorbar\":{\"outlinewidth\":0,\"ticks\":\"\"}}],\"contour\":[{\"type\":\"contour\",\"colorbar\":{\"outlinewidth\":0,\"ticks\":\"\"},\"colorscale\":[[0.0,\"#0d0887\"],[0.1111111111111111,\"#46039f\"],[0.2222222222222222,\"#7201a8\"],[0.3333333333333333,\"#9c179e\"],[0.4444444444444444,\"#bd3786\"],[0.5555555555555556,\"#d8576b\"],[0.6666666666666666,\"#ed7953\"],[0.7777777777777778,\"#fb9f3a\"],[0.8888888888888888,\"#fdca26\"],[1.0,\"#f0f921\"]]}],\"surface\":[{\"type\":\"surface\",\"colorbar\":{\"outlinewidth\":0,\"ticks\":\"\"},\"colorscale\":[[0.0,\"#0d0887\"],[0.1111111111111111,\"#46039f\"],[0.2222222222222222,\"#7201a8\"],[0.3333333333333333,\"#9c179e\"],[0.4444444444444444,\"#bd3786\"],[0.5555555555555556,\"#d8576b\"],[0.6666666666666666,\"#ed7953\"],[0.7777777777777778,\"#fb9f3a\"],[0.8888888888888888,\"#fdca26\"],[1.0,\"#f0f921\"]]}],\"mesh3d\":[{\"type\":\"mesh3d\",\"colorbar\":{\"outlinewidth\":0,\"ticks\":\"\"}}],\"scatter\":[{\"fillpattern\":{\"fillmode\":\"overlay\",\"size\":10,\"solidity\":0.2},\"type\":\"scatter\"}],\"parcoords\":[{\"type\":\"parcoords\",\"line\":{\"colorbar\":{\"outlinewidth\":0,\"ticks\":\"\"}}}],\"scatterpolargl\":[{\"type\":\"scatterpolargl\",\"marker\":{\"colorbar\":{\"outlinewidth\":0,\"ticks\":\"\"}}}],\"bar\":[{\"error_x\":{\"color\":\"#2a3f5f\"},\"error_y\":{\"color\":\"#2a3f5f\"},\"marker\":{\"line\":{\"color\":\"#E5ECF6\",\"width\":0.5},\"pattern\":{\"fillmode\":\"overlay\",\"size\":10,\"solidity\":0.2}},\"type\":\"bar\"}],\"scattergeo\":[{\"type\":\"scattergeo\",\"marker\":{\"colorbar\":{\"outlinewidth\":0,\"ticks\":\"\"}}}],\"scatterpolar\":[{\"type\":\"scatterpolar\",\"marker\":{\"colorbar\":{\"outlinewidth\":0,\"ticks\":\"\"}}}],\"histogram\":[{\"marker\":{\"pattern\":{\"fillmode\":\"overlay\",\"size\":10,\"solidity\":0.2}},\"type\":\"histogram\"}],\"scattergl\":[{\"type\":\"scattergl\",\"marker\":{\"colorbar\":{\"outlinewidth\":0,\"ticks\":\"\"}}}],\"scatter3d\":[{\"type\":\"scatter3d\",\"line\":{\"colorbar\":{\"outlinewidth\":0,\"ticks\":\"\"}},\"marker\":{\"colorbar\":{\"outlinewidth\":0,\"ticks\":\"\"}}}],\"scattermapbox\":[{\"type\":\"scattermapbox\",\"marker\":{\"colorbar\":{\"outlinewidth\":0,\"ticks\":\"\"}}}],\"scatterternary\":[{\"type\":\"scatterternary\",\"marker\":{\"colorbar\":{\"outlinewidth\":0,\"ticks\":\"\"}}}],\"scattercarpet\":[{\"type\":\"scattercarpet\",\"marker\":{\"colorbar\":{\"outlinewidth\":0,\"ticks\":\"\"}}}],\"carpet\":[{\"aaxis\":{\"endlinecolor\":\"#2a3f5f\",\"gridcolor\":\"white\",\"linecolor\":\"white\",\"minorgridcolor\":\"white\",\"startlinecolor\":\"#2a3f5f\"},\"baxis\":{\"endlinecolor\":\"#2a3f5f\",\"gridcolor\":\"white\",\"linecolor\":\"white\",\"minorgridcolor\":\"white\",\"startlinecolor\":\"#2a3f5f\"},\"type\":\"carpet\"}],\"table\":[{\"cells\":{\"fill\":{\"color\":\"#EBF0F8\"},\"line\":{\"color\":\"white\"}},\"header\":{\"fill\":{\"color\":\"#C8D4E3\"},\"line\":{\"color\":\"white\"}},\"type\":\"table\"}],\"barpolar\":[{\"marker\":{\"line\":{\"color\":\"#E5ECF6\",\"width\":0.5},\"pattern\":{\"fillmode\":\"overlay\",\"size\":10,\"solidity\":0.2}},\"type\":\"barpolar\"}],\"pie\":[{\"automargin\":true,\"type\":\"pie\"}]},\"layout\":{\"autotypenumbers\":\"strict\",\"colorway\":[\"#636efa\",\"#EF553B\",\"#00cc96\",\"#ab63fa\",\"#FFA15A\",\"#19d3f3\",\"#FF6692\",\"#B6E880\",\"#FF97FF\",\"#FECB52\"],\"font\":{\"color\":\"#2a3f5f\"},\"hovermode\":\"closest\",\"hoverlabel\":{\"align\":\"left\"},\"paper_bgcolor\":\"white\",\"plot_bgcolor\":\"#E5ECF6\",\"polar\":{\"bgcolor\":\"#E5ECF6\",\"angularaxis\":{\"gridcolor\":\"white\",\"linecolor\":\"white\",\"ticks\":\"\"},\"radialaxis\":{\"gridcolor\":\"white\",\"linecolor\":\"white\",\"ticks\":\"\"}},\"ternary\":{\"bgcolor\":\"#E5ECF6\",\"aaxis\":{\"gridcolor\":\"white\",\"linecolor\":\"white\",\"ticks\":\"\"},\"baxis\":{\"gridcolor\":\"white\",\"linecolor\":\"white\",\"ticks\":\"\"},\"caxis\":{\"gridcolor\":\"white\",\"linecolor\":\"white\",\"ticks\":\"\"}},\"coloraxis\":{\"colorbar\":{\"outlinewidth\":0,\"ticks\":\"\"}},\"colorscale\":{\"sequential\":[[0.0,\"#0d0887\"],[0.1111111111111111,\"#46039f\"],[0.2222222222222222,\"#7201a8\"],[0.3333333333333333,\"#9c179e\"],[0.4444444444444444,\"#bd3786\"],[0.5555555555555556,\"#d8576b\"],[0.6666666666666666,\"#ed7953\"],[0.7777777777777778,\"#fb9f3a\"],[0.8888888888888888,\"#fdca26\"],[1.0,\"#f0f921\"]],\"sequentialminus\":[[0.0,\"#0d0887\"],[0.1111111111111111,\"#46039f\"],[0.2222222222222222,\"#7201a8\"],[0.3333333333333333,\"#9c179e\"],[0.4444444444444444,\"#bd3786\"],[0.5555555555555556,\"#d8576b\"],[0.6666666666666666,\"#ed7953\"],[0.7777777777777778,\"#fb9f3a\"],[0.8888888888888888,\"#fdca26\"],[1.0,\"#f0f921\"]],\"diverging\":[[0,\"#8e0152\"],[0.1,\"#c51b7d\"],[0.2,\"#de77ae\"],[0.3,\"#f1b6da\"],[0.4,\"#fde0ef\"],[0.5,\"#f7f7f7\"],[0.6,\"#e6f5d0\"],[0.7,\"#b8e186\"],[0.8,\"#7fbc41\"],[0.9,\"#4d9221\"],[1,\"#276419\"]]},\"xaxis\":{\"gridcolor\":\"white\",\"linecolor\":\"white\",\"ticks\":\"\",\"title\":{\"standoff\":15},\"zerolinecolor\":\"white\",\"automargin\":true,\"zerolinewidth\":2},\"yaxis\":{\"gridcolor\":\"white\",\"linecolor\":\"white\",\"ticks\":\"\",\"title\":{\"standoff\":15},\"zerolinecolor\":\"white\",\"automargin\":true,\"zerolinewidth\":2},\"scene\":{\"xaxis\":{\"backgroundcolor\":\"#E5ECF6\",\"gridcolor\":\"white\",\"linecolor\":\"white\",\"showbackground\":true,\"ticks\":\"\",\"zerolinecolor\":\"white\",\"gridwidth\":2},\"yaxis\":{\"backgroundcolor\":\"#E5ECF6\",\"gridcolor\":\"white\",\"linecolor\":\"white\",\"showbackground\":true,\"ticks\":\"\",\"zerolinecolor\":\"white\",\"gridwidth\":2},\"zaxis\":{\"backgroundcolor\":\"#E5ECF6\",\"gridcolor\":\"white\",\"linecolor\":\"white\",\"showbackground\":true,\"ticks\":\"\",\"zerolinecolor\":\"white\",\"gridwidth\":2}},\"shapedefaults\":{\"line\":{\"color\":\"#2a3f5f\"}},\"annotationdefaults\":{\"arrowcolor\":\"#2a3f5f\",\"arrowhead\":0,\"arrowwidth\":1},\"geo\":{\"bgcolor\":\"white\",\"landcolor\":\"#E5ECF6\",\"subunitcolor\":\"white\",\"showland\":true,\"showlakes\":true,\"lakecolor\":\"white\"},\"title\":{\"x\":0.05},\"mapbox\":{\"style\":\"light\"}}},\"scene\":{\"domain\":{\"x\":[0.0,1.0],\"y\":[0.0,1.0]},\"xaxis\":{\"title\":{\"text\":\"\\u0414\\u043e\\u0445\\u0456\\u0434\"}},\"yaxis\":{\"title\":{\"text\":\"\\u041f\\u043e\\u043a\\u0443\\u043f\\u043a\\u0438 \\u0432 \\u043c\\u0430\\u0433\\u0430\\u0437\\u0438\\u043d\\u0456\"}},\"zaxis\":{\"title\":{\"text\":\"\\u041f\\u043e\\u043a\\u0443\\u043f\\u043a\\u0438 \\u043e\\u043d\\u043b\\u0430\\u0439\\u043d\"}}},\"coloraxis\":{\"colorbar\":{\"title\":{\"text\":\"Cluster_2\"}},\"colorscale\":[[0.0,\"#0d0887\"],[0.1111111111111111,\"#46039f\"],[0.2222222222222222,\"#7201a8\"],[0.3333333333333333,\"#9c179e\"],[0.4444444444444444,\"#bd3786\"],[0.5555555555555556,\"#d8576b\"],[0.6666666666666666,\"#ed7953\"],[0.7777777777777778,\"#fb9f3a\"],[0.8888888888888888,\"#fdca26\"],[1.0,\"#f0f921\"]]},\"legend\":{\"tracegroupgap\":0},\"title\":{\"text\":\"3D \\u0432\\u0456\\u0437\\u0443\\u0430\\u043b\\u0456\\u0437\\u0430\\u0446\\u0456\\u044f \\u043a\\u043b\\u0430\\u0441\\u0442\\u0435\\u0440\\u0456\\u0432 (2 \\u043a\\u043b\\u0430\\u0441\\u0442\\u0435\\u0440\\u0438)\"}},                        {\"responsive\": true}                    ).then(function(){\n",
              "                            \n",
              "var gd = document.getElementById('3c1ec5ef-8c06-443f-9fb6-098294cc160b');\n",
              "var x = new MutationObserver(function (mutations, observer) {{\n",
              "        var display = window.getComputedStyle(gd).display;\n",
              "        if (!display || display === 'none') {{\n",
              "            console.log([gd, 'removed!']);\n",
              "            Plotly.purge(gd);\n",
              "            observer.disconnect();\n",
              "        }}\n",
              "}});\n",
              "\n",
              "// Listen for the removal of the full notebook cells\n",
              "var notebookContainer = gd.closest('#notebook-container');\n",
              "if (notebookContainer) {{\n",
              "    x.observe(notebookContainer, {childList: true});\n",
              "}}\n",
              "\n",
              "// Listen for the clearing of the current output cell\n",
              "var outputEl = gd.closest('.output');\n",
              "if (outputEl) {{\n",
              "    x.observe(outputEl, {childList: true});\n",
              "}}\n",
              "\n",
              "                        })                };                            </script>        </div>\n",
              "</body>\n",
              "</html>"
            ]
          },
          "metadata": {}
        },
        {
          "output_type": "display_data",
          "data": {
            "text/html": [
              "<html>\n",
              "<head><meta charset=\"utf-8\" /></head>\n",
              "<body>\n",
              "    <div>            <script src=\"https://cdnjs.cloudflare.com/ajax/libs/mathjax/2.7.5/MathJax.js?config=TeX-AMS-MML_SVG\"></script><script type=\"text/javascript\">if (window.MathJax && window.MathJax.Hub && window.MathJax.Hub.Config) {window.MathJax.Hub.Config({SVG: {font: \"STIX-Web\"}});}</script>                <script type=\"text/javascript\">window.PlotlyConfig = {MathJaxConfig: 'local'};</script>\n",
              "        <script charset=\"utf-8\" src=\"https://cdn.plot.ly/plotly-2.24.1.min.js\"></script>                <div id=\"5cc484f7-db7a-4193-81ef-4ed4fcce627a\" class=\"plotly-graph-div\" style=\"height:525px; width:100%;\"></div>            <script type=\"text/javascript\">                                    window.PLOTLYENV=window.PLOTLYENV || {};                                    if (document.getElementById(\"5cc484f7-db7a-4193-81ef-4ed4fcce627a\")) {                    Plotly.newPlot(                        \"5cc484f7-db7a-4193-81ef-4ed4fcce627a\",                        [{\"hovertemplate\":\"\\u0414\\u043e\\u0445\\u0456\\u0434=%{x}\\u003cbr\\u003e\\u041f\\u043e\\u043a\\u0443\\u043f\\u043a\\u0438 \\u0432 \\u043c\\u0430\\u0433\\u0430\\u0437\\u0438\\u043d\\u0456=%{y}\\u003cbr\\u003e\\u0412\\u0456\\u0437\\u0438\\u0442\\u0438 \\u043d\\u0430 \\u0441\\u0430\\u0439\\u0442=%{z}\\u003cbr\\u003eCluster_3=%{marker.color}\\u003cextra\\u003e\\u003c\\u002fextra\\u003e\",\"legendgroup\":\"\",\"marker\":{\"color\":[1,1,1,1,1,1,1,1,1,1,1,1,1,1,1,1,1,1,1,1,1,1,1,1,1,1,1,1,1,1,1,1,1,1,1,1,1,1,1,1,1,1,1,1,1,1,1,1,1,1,1,1,1,1,1,1,1,1,1,1,1,1,1,1,1,1,1,1,1,1,1,1,1,1,1,1,1,1,1,1,1,1,1,1,1,1,1,1,1,1,1,1,1,1,1,1,1,1,1,1,1,1,1,1,1,1,1,1,1,1,1,1,1,1,1,1,1,1,1,1,1,1,1,1,1,1,1,1,1,1,1,1,1,1,1,1,1,1,1,1,1,1,1,1,1,1,1,1,1,1,1,1,1,1,1,1,1,1,1,1,1,1,1,1,1,1,1,1,1,1,1,1,1,1,1,1,1,1,1,1,1,1,1,1,1,1,1,1,1,1,1,1,1,1,1,1,1,1,1,1,1,2,1,1,1,1,1,1,1,1,1,1,1,1,1,1,1,1,1,1,1,1,1,1,1,1,1,1,1,1,1,1,1,1,1,1,1,1,1,1,1,1,1,1,1,1,1,1,1,1,1,1,1,1,1,1,1,1,1,1,1,1,1,1,1,1,1,1,1,1,1,1,1,1,1,1,1,1,1,1,1,1,1,1,1,1,1,1,1,1,1,1,1,1,1,1,1,1,1,1,1,1,1,1,1,1,1,1,1,1,1,1,1,1,1,1,1,1,1,1,1,1,1,1,1,1,1,1,1,1,1,1,1,1,1,1,1,1,1,1,1,1,1,1,1,1,1,1,1,1,1,1,1,1,1,1,1,1,1,1,1,1,1,1,1,1,1,1,1,1,1,1,1,1,1,1,1,1,1,1,1,1,1,1,1,1,1,1,1,1,1,1,1,1,1,1,1,1,1,1,1,1,1,1,1,1,1,1,1,1,1,1,1,1,1,1,1,1,1,1,1,1,1,1,1,1,1,1,1,1,1,1,1,1,1,1,1,1,1,1,1,1,1,1,1,1,1,1,1,1,1,1,1,1,1,1,1,1,1,1,1,1,1,1,1,1,1,1,1,1,1,1,1,1,1,1,1,1,1,1,1,1,1,1,1,1,1,1,1,1,1,1,1,1,1,1,1,1,1,1,1,1,1,1,1,1,1,1,1,1,1,1,1,1,1,1,1,1,1,1,1,1,1,1,1,1,1,1,1,1,1,1,1,1,1,1,1,1,1,1,1,1,1,1,1,1,1,1,1,1,1,1,1,1,1,1,1,1,1,1,1,1,1,1,1,1,1,1,1,1,1,1,1,1,1,1,1,1,1,1,1,1,1,1,1,1,1,1,1,1,1,1,1,1,1,1,1,1,1,1,1,1,1,1,1,1,1,1,1,1,1,1,1,1,1,1,1,1,1,1,1,1,1,1,1,1,1,1,1,1,1,1,1,1,1,1,1,1,1,1,1,1,1,3,1,1,1,1,1,1,1,1,1,1,1,1,1,1,1,1,1,1,1,1,1,1,1,1,1,1,1,1,1,1,1,1,1,1,1,1,1,1,1,1,1,1,1,1,1,1,1,1,1,1,1,1,1,1,1,1,1,1,1,1,1,1,1,1,1,1,1,1,1,1,1,1,1,1,1,1,1,1,1,1,1,1,1,1,1,1,1,1,1,1,1,1,1,1,1,1,1,1,1,1,1,1,1,1,1,1,1,1,1,1,1,1,1,1,1,1,1,1,1,1,1,1,1,1,1,1,1,1,1,1,1,1,1,1,1,1,1,1,1,1,1,1,1,1,1,1,1,1,1,1,1,1,1,1,1,1,1,1,1,1,1,1,1,1,1,1,1,1,1,1,1,1,1,1,1,1,1,1,1,1,1,1,1,1,1,1,1,1,1,1,1,1,1,1,1,1,1,1,1,1,1,1,1,1,1,1,1,1,1,1,1,1,1,1,1,1,1,1,1,1,1,1,1,1,1,1,1,1,1,1,1,1,1,1,1,1,1,1,1,1,1,1,1,1,1,1,1,1,1,1,1,1,1,1,1,1,1,1,1,1,1,1,1,1,1,1,1,1,1,1,1,1,1,1,1,1,1,1,1,1,1,1,1,1,1,1,1,1,1,1,1,1,1,1,1,1,1,1,1,1,1,1,1,1,1,1,1,1,1,1,1,1,1,1,1,1,1,1,1,1,1,1,1,1,1,1,1,1,1,1,1,1,1,1,1,1,1,1,1,1,1,1,1,1,1,1,1,1,1,1,1,1,1,1,1,1,1,1,1,1,1,1,1,1,1,1,1,1,1,1,1,1,1,1,1,1,1,1,1,1,1,1,1,1,1,1,1,1,1,1,1,1,1,1,1,1,1,1,1,1,1,1,1,1,1,1,1,1,1,1,1,1,1,1,1,1,1,1,1,1,1,1,1,1,1,1,1,1,1,1,1,1,1,1,1,1,1,1,1,1,1,1,1,1,1,1,1,1,1,1,1,1,1,1,1,1,1,1,1,1,1,1,1,1,1,1,1,1,1,1,1,1,1,1,1,1,1,1,1,1,1,1,1,1,1,1,1,1,1,1,1,1,1,1,1,1,1,1,1,1,1,1,1,1,1,1,1,1,1,1,1,1,1,1,1,1,1,1,1,1,1,1,1,1,1,1,1,1,1,1,1,1,1,1,1,1,1,1,1,1,1,1,1,1,1,1,1,1,1,1,1,1,1,1,1,1,1,1,1,1,1,1,1,1,1,1,1,1,1,1,1,1,1,1,1,1,1,1,1,1,1,1,1,1,1,1,1,1,1,1,1,1,1,1,1,1,1,1,1,1,1,1,1,1,1,1,1,1,1,1,1,1,1,1,1,1,1,1,1,1,1,1,1,1,1,1,1,1,1,1,1,1,1,1,1,1,1,1,1,1,1,1,1,1,1,1,1,1,1,1,1,1,1,1,1,1,1,1,1,1,1,1,1,1,1,1,1,1,1,1,1,1,1,1,1,1,1,1,1,1,1,1,1,1,1,1,1,1,1,1,1,1,1,1,1,1,1,1,1,1,1,1,1,1,1,1,1,1,1,1,1,1,1,1,1,1,1,1,1,1,1,1,1,1,1,1,1,1,1,1,1,1,1,1,1,1,1,1,1,1,1,1,1,1,1,1,1,1,1,1,1,1,1,1,1,1,1,1,1,1,1,1,1,1,1,1,1,1,1,1,1,1,1,1,1,1,1,1,1,1,1,1,1,1,1,1,1,1,1,1,1,1,1,1,1,1,1,1,1,1,1,1,1,1,1,1,1,1,1,1,1,1,1,1,1,1,1,1,1,1,1,1,1,1,1,1,1,1,1,1,1,1,1,1,1,1,1,1,1,1,1,1,1,1,1,1,1,1,1,1,1,1,1,1,1,1,1,1,1,1,1,1,1,1,1,1,1,1,1,1,1,1,1,1,1,1,1,1,1,1,1,1,1,1,1,1,1,1,1,1,1,1,1,1,1,1,1,1,1,1,1,1,1,1,1,1,1,1,1,1,1,1,1,1,1,1,1,1,1,1,1,1,1,1,1,1,1,1,1,1,1,1,1,1,1,1,1,1,1,1,1,1,1,1,1,1,1,1,1,1,1,1,1,1,1,1,1,1,1,1,1,1,1,1,1,1,1,1,1,1,1,1,1,1,1,1,1,1,1,1,1,1,1,1,1,1,1,1,1,1,1,1,1,1,1,1,1,1,1,1,1,1,1,1,1,1,1,1,1,1,1,1,1,1,1,1,1,1,1,1,1,1,1,1,1,1,1,1,1,1,1,1,1,1,1,1,1,1,1,1,1,1,1,1,1,1,1,1,1,1,1,1,1,1,1,1,1,1,1,1,1,1,1,1,1,1,1,1,1,1,1,1,1,1,1,1,1,1,1,1,1,1,1,1,1,1,1,1,1,1,1,1,1,1,1,1,1,1,1,1,1,1,1,1,1,1,1,1,1,1,1,1,1,1,1,1,1,1,1,1,1,1,1,1,1,1,1,1,1,1,1,1,1,1,1,1,1,1,1,1,1,1,1,1,1,1,1,1,1,1,1,1,1,1,1,1,1,1,1,1,1,1,1,1,1,1,1,1,1,1,1,1,1,1,1,1,1,1,1,1,1,1,1,1,1,1,1,1,1,1,1,1,1,1,1,1,1,1,1,1,1,1,1,1,1,1,1,1,1,1,1,1,1,1,1,1,1,1,1,1,1,1,1,1,1,1,1,1,1,1,1,1,1,1,1,1,1,1,1,1,1,1,1,1,1,1,1,1,1,1,1,1,1,1,1,1,1,1,1,1,1,1,1,1,1,1,1,1,1,1,1,1,1,1,1,1,1,1,1,1,1,1,1,1,1,1,1,1,1,1,1,1,1,1,1,1,1,1,1,1,1,1,1,1,1,1,1,1,1,1,1,1,1,1,1,1,1,1,1,1,1,1,1,1,1,1,1,1,1,1,1,1,1,1,1,1,1,1,1,1,1,1,1,1,1,1,1,1,1,1,1,1,1,1,1,1,1,1,1,1,1,1,1,1,1,1,1,1,1,1,1,1,1,1,1,1,1,1,1,1,1,1,1,1,1,1,1,1,1,1,1,1,1,1,1,1,1,1,1,1,1,1,1,1,1,1,1,1,1,1,1,1,1,1,1,1,1,1,1,1,1,1,1,1,1,1,1,1,1,1,1,1,1,1,1,1,1,1,1,1,1,1,1,1,1,1,1,1,1,1,1,1,1,1,1,1,1,1,1,1,1,1,1,1,1,1,1,1,1,1,1,1,1,1,1,1,1,1,1,1,1,1,1,1,1,1,1,1,1,1,1,1,1,1,1,1,1,1,1,1,1,1,1,1,1,1,1,1,1,1,1,1,1,1,1,1,1,1,1,1,1,1,1,1,1,1,1,1,1,1,1,1,1,1,1,1,1,1,1,1,1,1,1,1,1,1,1,1,1,1,1,1,1,1,1,1,1,1,1,1,1,1,1,1,1,1,1,1,1,1,1,1,1,1,1,1,1,1,1,1,1,1,1,1],\"coloraxis\":\"coloraxis\",\"symbol\":\"circle\"},\"mode\":\"markers\",\"name\":\"\",\"scene\":\"scene\",\"showlegend\":false,\"x\":[58138.0,46344.0,71613.0,26646.0,58293.0,62513.0,55635.0,33454.0,30351.0,5648.0,51381.5,7500.0,63033.0,59354.0,17323.0,82800.0,41850.0,37760.0,76995.0,33812.0,37040.0,2447.0,58607.0,65324.0,40689.0,18589.0,53359.0,38360.0,84618.0,10979.0,38620.0,40548.0,46610.0,68657.0,49389.0,67353.0,23718.0,42429.0,48948.0,80011.0,20559.0,21994.0,51381.5,7500.0,79941.0,7500.0,41728.0,51381.5,72550.0,65486.0,79143.0,35790.0,82582.0,66373.0,82384.0,70287.0,27938.0,51381.5,55954.0,75777.0,66653.0,61823.0,67680.0,70666.0,25721.0,32474.0,88194.0,69096.0,74854.0,66991.0,51381.5,65031.0,60631.0,28332.0,40246.0,75251.0,75825.0,26326.0,56046.0,29760.0,26304.0,23559.0,38620.0,81361.0,29440.0,36138.0,50388.0,79593.0,54178.0,51381.5,51381.5,51381.5,42394.0,23626.0,30096.0,47916.0,51813.0,78497.0,50150.0,47823.0,34554.0,85693.0,65846.0,87195.0,24594.0,49096.0,52413.0,38557.0,89058.0,77298.0,68126.0,57288.0,86037.0,43974.0,50785.0,90765.0,36550.0,30753.0,21918.0,56129.0,32557.0,19510.0,30992.0,101970.0,71488.0,79607.0,54348.0,51381.5,77376.0,62998.0,61331.0,73448.0,51381.5,41551.0,62981.0,9548.0,33762.0,35860.0,36921.0,92859.0,65104.0,86111.0,68352.0,41883.0,59809.0,23957.0,38547.0,35688.0,49605.0,59354.0,65747.0,46344.0,34176.0,61010.0,69372.0,49967.0,60199.0,55375.0,80317.0,30523.0,70356.0,23228.0,74165.0,43482.0,62551.0,52332.0,66951.0,26091.0,33456.0,28718.0,50447.0,53537.0,52074.0,80427.0,83837.0,38853.0,38285.0,78497.0,51650.0,16248.0,66835.0,30477.0,28249.0,25271.0,32303.0,61286.0,74068.0,45759.0,24882.0,66973.0,36640.0,38872.0,51148.0,31353.0,69661.0,80067.0,86718.0,46854.0,69142.0,75922.0,63693.0,102160.0,40637.0,18890.0,29604.0,48721.0,44794.0,64497.0,46097.0,77972.0,44377.0,46014.0,70951.0,41443.0,52195.0,83790.0,44551.0,69508.0,45204.0,72460.0,77622.0,30732.0,63887.0,42011.0,51369.0,51537.0,79930.0,34320.0,37070.0,81975.0,38590.0,15033.0,62745.0,22212.0,23661.0,79761.0,7500.0,60182.0,73455.0,64961.0,22804.0,73687.0,61074.0,31686.0,80134.0,75027.0,67546.0,65176.0,31160.0,29938.0,102692.0,26490.0,75702.0,30899.0,63342.0,45989.0,18701.0,40737.0,15287.0,69674.0,44159.0,37717.0,43776.0,38179.0,80124.0,38097.0,72940.0,22070.0,69267.0,31788.0,61905.0,29315.0,33378.0,66313.0,60714.0,77882.0,69867.0,63841.0,24480.0,51369.0,37760.0,65640.0,44319.0,30631.0,75278.0,50898.0,79946.0,35416.0,32414.0,38361.0,82497.0,16626.0,29672.0,55951.0,35388.0,42386.0,68627.0,57912.0,35246.0,58821.0,46377.0,39747.0,23976.0,80950.0,27038.0,77457.0,64100.0,42670.0,12571.0,22574.0,51381.5,70893.0,54198.0,28839.0,40321.0,66503.0,30833.0,51381.5,64795.0,34421.0,47025.0,64325.0,40464.0,62187.0,14849.0,27255.0,54432.0,29999.0,24072.0,33996.0,66334.0,35178.0,22010.0,62204.0,75693.0,30675.0,83003.0,83532.0,68655.0,41411.0,55212.0,59292.0,27190.0,82623.0,44300.0,84835.0,30372.0,33181.0,71113.0,71952.0,69759.0,72099.0,60000.0,38643.0,50737.0,68462.0,65073.0,46681.0,78618.0,62187.0,28442.0,37717.0,51479.0,54803.0,79530.0,31615.0,72025.0,52614.0,35684.0,48178.0,29548.0,63810.0,38578.0,46098.0,22585.0,30279.0,66426.0,30822.0,33581.0,19986.0,27421.0,35688.0,36143.0,10245.0,43795.0,63381.0,38823.0,83664.0,90300.0,62499.0,74293.0,51012.0,70777.0,68682.0,43824.0,15345.0,23442.0,14515.0,31395.0,75276.0,42373.0,30507.0,55521.0,48006.0,27213.0,65808.0,30351.0,50437.0,23616.0,53858.0,66465.0,46923.0,75072.0,75865.0,19789.0,80134.0,91065.0,49505.0,37401.0,30096.0,18492.0,82584.0,93027.0,48686.0,92910.0,75433.0,10404.0,61314.0,84865.0,42387.0,67309.0,75236.0,30015.0,50943.0,67272.0,51529.0,32011.0,7500.0,28691.0,56223.0,18100.0,30279.0,20130.0,23295.0,42618.0,81246.0,24027.0,55707.0,57959.0,56796.0,36230.0,70829.0,65991.0,38988.0,89572.0,42207.0,50300.0,66664.0,60597.0,70165.0,50520.0,80124.0,33183.0,66582.0,75261.0,31880.0,53790.0,49269.0,61456.0,37406.0,56937.0,38415.0,20518.0,62503.0,41644.0,55842.0,62010.0,41124.0,38961.0,37760.0,32233.0,43057.0,83151.0,78825.0,65104.0,60093.0,14045.0,28457.0,78952.0,46310.0,76005.0,58308.0,55614.0,59432.0,55563.0,78642.0,67911.0,65275.0,27203.0,48330.0,24279.0,64355.0,50943.0,53653.0,65665.0,81217.0,34935.0,61250.0,39665.0,60152.0,48920.0,89120.0,44124.0,81169.0,36443.0,26095.0,71367.0,80184.0,30630.0,73454.0,42691.0,70503.0,25545.0,32880.0,77863.0,50353.0,61839.0,49154.0,47682.0,72679.0,57954.0,65316.0,28567.0,47352.0,44931.0,76982.0,57247.0,22944.0,25315.0,43638.0,42710.0,84169.0,54058.0,24683.0,85620.0,47850.0,19514.0,27159.0,39548.0,21474.0,60504.0,22419.0,81698.0,43462.0,54880.0,79908.0,15315.0,87771.0,33039.0,81741.0,71499.0,62466.0,48799.0,52157.0,66565.0,29298.0,47691.0,38200.0,44989.0,38443.0,38593.0,64413.0,36959.0,61996.0,51287.0,13260.0,47472.0,54603.0,45207.0,40689.0,47821.0,27450.0,39453.0,26850.0,79800.0,61794.0,53863.0,24221.0,39684.0,92163.0,69882.0,33178.0,59973.0,17459.0,23910.0,42169.0,26224.0,31089.0,30081.0,62807.0,72906.0,61467.0,49618.0,21888.0,42429.0,26150.0,30801.0,81168.0,26877.0,45006.0,18978.0,22574.0,48240.0,45837.0,35791.0,54162.0,30522.0,54456.0,31632.0,72298.0,36975.0,72635.0,13624.0,84196.0,70971.0,34487.0,28769.0,69084.0,65488.0,62466.0,32218.0,83917.0,46102.0,84574.0,56181.0,63120.0,73691.0,63381.0,76140.0,62859.0,45906.0,77632.0,46463.0,105471.0,55282.0,78710.0,66886.0,98777.0,29103.0,67445.0,50616.0,49431.0,61278.0,26490.0,73059.0,46734.0,56253.0,19986.0,58330.0,25965.0,14661.0,18690.0,45068.0,21063.0,29187.0,54690.0,59304.0,59247.0,66731.0,77353.0,52614.0,26751.0,81300.0,70337.0,36145.0,65295.0,68118.0,68743.0,41039.0,38946.0,65777.0,66476.0,86857.0,77845.0,69476.0,50611.0,61209.0,42315.0,13084.0,47570.0,61923.0,34824.0,26518.0,45938.0,78468.0,78901.0,71427.0,71022.0,90247.0,41335.0,71952.0,35682.0,43185.0,66375.0,35178.0,25252.0,55250.0,33249.0,58398.0,50272.0,76618.0,87305.0,25851.0,58710.0,45160.0,74806.0,59111.0,18988.0,72190.0,7500.0,44794.0,80395.0,75012.0,56962.0,89891.0,35946.0,53593.0,66373.0,45072.0,89694.0,72025.0,67432.0,70545.0,17487.0,62882.0,64108.0,34941.0,48767.0,38702.0,82224.0,83844.0,17003.0,71163.0,33697.0,63564.0,83443.0,51518.0,58330.0,80952.0,75507.0,63855.0,62220.0,58512.0,40662.0,38829.0,35523.0,79146.0,78285.0,31626.0,75127.0,48726.0,74985.0,67430.0,46891.0,62058.0,72063.0,78939.0,42720.0,33622.0,6835.0,41452.0,40760.0,74250.0,51124.0,72258.0,71466.0,36283.0,20587.0,30467.0,31590.0,20425.0,17144.0,42564.0,43783.0,40780.0,62847.0,82017.0,16813.0,51267.0,46524.0,45183.0,70421.0,60161.0,73926.0,19329.0,61872.0,46984.0,34838.0,82716.0,48192.0,49681.0,56850.0,55267.0,59666.0,72504.0,26872.0,21359.0,73170.0,52750.0,91820.0,65968.0,30772.0,22507.0,65685.0,25804.0,76412.0,22063.0,57091.0,22419.0,87771.0,78353.0,93404.0,37859.0,80995.0,16529.0,55412.0,48789.0,56575.0,25130.0,35441.0,71391.0,49494.0,81702.0,45889.0,56628.0,34026.0,40049.0,34176.0,19419.0,82504.0,81205.0,61618.0,55284.0,49980.0,15072.0,49166.0,65324.0,82347.0,30843.0,46374.0,60474.0,38576.0,55357.0,37758.0,85710.0,23228.0,44602.0,7500.0,38683.0,49514.0,57906.0,43456.0,19485.0,53172.0,30545.0,70123.0,62450.0,21675.0,42395.0,61346.0,80812.0,42835.0,39922.0,86424.0,17117.0,24762.0,35797.0,36627.0,51111.0,86857.0,82072.0,46231.0,42243.0,51195.0,68092.0,31814.0,51390.0,76630.0,26868.0,48948.0,55260.0,64090.0,78331.0,37087.0,21846.0,81320.0,54137.0,66825.0,57100.0,58917.0,85072.0,86429.0,45684.0,47889.0,45921.0,78420.0,75114.0,52278.0,35641.0,95529.0,62820.0,73113.0,84169.0,42607.0,74637.0,46015.0,72354.0,39858.0,34469.0,83033.0,24401.0,77583.0,74116.0,74293.0,68397.0,79632.0,46107.0,64950.0,25443.0,75127.0,32892.0,71796.0,67536.0,55239.0,60554.0,64831.0,56067.0,82025.0,94384.0,14906.0,51563.0,57937.0,68274.0,39771.0,67893.0,27922.0,52190.0,44051.0,42767.0,46106.0,16927.0,59754.0,53700.0,59041.0,54237.0,70647.0,52597.0,41021.0,40233.0,50183.0,54753.0,92955.0,33471.0,34596.0,44010.0,84219.0,40706.0,15716.0,59052.0,80573.0,83715.0,82576.0,56962.0,35704.0,53103.0,46779.0,4861.0,33462.0,63693.0,80763.0,65352.0,82170.0,75759.0,79689.0,35340.0,85683.0,24884.0,42021.0,64449.0,64587.0,34824.0,75437.0,26091.0,52845.0,46086.0,78028.0,95169.0,56337.0,22434.0,36930.0,36130.0,65569.0,83844.0,19514.0,36736.0,77568.0,49187.0,30168.0,34053.0,38196.0,59412.0,70924.0,54165.0,32300.0,20180.0,34961.0,28440.0,64504.0,33564.0,17345.0,56320.0,28647.0,15038.0,32173.0,68316.0,74538.0,91700.0,68695.0,31056.0,79593.0,28071.0,37334.0,46423.0,37126.0,47703.0,61180.0,38998.0,8028.0,76081.0,34728.0,33168.0,33585.0,77037.0,35196.0,44529.0,70924.0,28764.0,69098.0,25959.0,27100.0,70596.0,42557.0,53312.0,72228.0,67605.0,62845.0,65196.0,42000.0,35860.0,65526.0,16860.0,83528.0,64176.0,22304.0,67023.0,32892.0,70713.0,59925.0,39722.0,46610.0,88347.0,87171.0,26907.0,50014.0,41014.0,66294.0,36715.0,79456.0,40479.0,75345.0,54233.0,24163.0,84460.0,43776.0,71691.0,85844.0,39190.0,71367.0,38578.0,57236.0,61825.0,79803.0,80910.0,27590.0,56775.0,83829.0,54210.0,38508.0,53187.0,30023.0,76045.0,50870.0,15315.0,65463.0,66480.0,76773.0,81698.0,54466.0,98777.0,16269.0,71819.0,33569.0,36262.0,22634.0,47025.0,70566.0,31605.0,52034.0,48526.0,46734.0,39552.0,86358.0,46931.0,16581.0,63998.0,67381.0,25930.0,42693.0,85606.0,72903.0,49669.0,36778.0,85696.0,10979.0,49678.0,56129.0,37155.0,21282.0,33419.0,63285.0,21255.0,42162.0,54450.0,57744.0,26576.0,57513.0,68142.0,7500.0,83145.0,54197.0,23091.0,46049.0,56715.0,79410.0,57304.0,44375.0,54450.0,59594.0,80685.0,40344.0,62710.0,48985.0,35322.0,77142.0,81657.0,14421.0,20130.0,74214.0,66726.0,23724.0,47353.0,33444.0,54386.0,28510.0,90638.0,48070.0,43140.0,54959.0,15056.0,26954.0,22327.0,44393.0,62000.0,31497.0,45894.0,78579.0,67369.0,58401.0,62307.0,43641.0,63841.0,46891.0,70091.0,78075.0,59184.0,54809.0,58113.0,51412.0,15287.0,66636.0,50965.0,84618.0,18351.0,40451.0,36317.0,42213.0,65748.0,77044.0,74918.0,56721.0,42160.0,61559.0,33629.0,68682.0,34377.0,8940.0,26228.0,77297.0,40211.0,33438.0,75032.0,61284.0,22518.0,54730.0,38452.0,44421.0,38197.0,41986.0,28427.0,37395.0,64722.0,55249.0,84906.0,28691.0,44213.0,25707.0,59062.0,76624.0,66000.0,27683.0,1730.0,7500.0,40521.0,20427.0,65106.0,69969.0,67433.0,77766.0,74716.0,68118.0,55158.0,62972.0,74190.0,39356.0,76653.0,35860.0,90687.0,73450.0,31454.0,47139.0,83829.0,53378.0,19656.0,45579.0,85485.0,55956.0,64191.0,38808.0,57183.0,23748.0,66303.0,37368.0,40800.0,71847.0,46149.0,78687.0,49118.0,37633.0,39767.0,26997.0,33986.0,57091.0,46831.0,83151.0,52531.0,15759.0,22804.0,43050.0,42997.0,48918.0,60033.0,34043.0,57811.0,78569.0,7500.0,94384.0,23148.0,44267.0,71626.0,60894.0,50200.0,81051.0,65169.0,59868.0,65695.0,64857.0,45143.0,74805.0,59060.0,27238.0,47009.0,46094.0,40321.0,37235.0,81843.0,46692.0,77382.0,37774.0,18393.0,72828.0,24711.0,45503.0,6560.0,71604.0,27244.0,48752.0,71434.0,90842.0,88097.0,51948.0,71853.0,35876.0,40049.0,39660.0,50127.0,43263.0,62845.0,18929.0,24367.0,33249.0,26887.0,50150.0,62061.0,85696.0,76542.0,70515.0,18227.0,69139.0,69109.0,69627.0,38136.0,62159.0,80695.0,33316.0,58554.0,17256.0,53034.0,52203.0,59601.0,75154.0,47025.0,37971.0,41335.0,67267.0,57338.0,50523.0,35791.0,50611.0,56242.0,48904.0,56243.0,21355.0,57420.0,51381.5,46390.0,54342.0,51381.5,51381.5,20895.0,92344.0,51381.5,26907.0,44964.0,75507.0,53761.0,22682.0,38887.0,41658.0,29791.0,63915.0,39996.0,26759.0,63841.0,51039.0,60544.0,65685.0,37716.0,36864.0,44511.0,36947.0,47352.0,67087.0,57045.0,36957.0,69389.0,80134.0,43142.0,80589.0,34412.0,57537.0,22634.0,51315.0,36026.0,24639.0,34578.0,65704.0,63810.0,54132.0,18690.0,28164.0,34596.0,43269.0,38741.0,31907.0,27100.0,31163.0,92533.0,34853.0,70844.0,31086.0,60544.0,20491.0,42523.0,39922.0,33402.0,36408.0,21645.0,78427.0,82657.0,51876.0,78041.0,52852.0,70038.0,69401.0,46053.0,77343.0,73892.0,40304.0,32727.0,68695.0,43300.0,26290.0,93790.0,38410.0,64866.0,57957.0,46015.0,16531.0,28072.0,49476.0,50725.0,83844.0,41145.0,67419.0,23162.0,34380.0,34704.0,94871.0,65148.0,39898.0,64857.0,59892.0,41020.0,57072.0,60474.0,62807.0,19414.0,19107.0,75484.0,70379.0,79419.0,64014.0,76998.0,49854.0,60585.0,42873.0,87679.0,57867.0,35765.0,65492.0,32952.0,53374.0,71706.0,68487.0,53253.0,31163.0,42014.0,54108.0,49667.0,63206.0,57136.0,46772.0,78931.0,53977.0,84219.0,46098.0,73538.0,79529.0,20981.0,51766.0,55759.0,33039.0,37787.0,27242.0,87188.0,69930.0,37697.0,37401.0,3502.0,58597.0,82032.0,28087.0,74004.0,19740.0,57036.0,53083.0,69283.0,46098.0,23331.0,23331.0,9255.0,67786.0,71969.0,59235.0,31928.0,74881.0,65819.0,51411.0,51983.0,42386.0,30390.0,30983.0,66033.0,37284.0,57530.0,76800.0,63943.0,76081.0,67445.0,37054.0,47175.0,31859.0,27215.0,70179.0,39922.0,49681.0,24645.0,79865.0,44322.0,47958.0,63972.0,75315.0,55517.0,75283.0,82800.0,38998.0,90638.0,27161.0,42014.0,38201.0,45203.0,81574.0,34935.0,60482.0,34633.0,78093.0,82460.0,45903.0,81361.0,35860.0,40442.0,61482.0,34968.0,75794.0,31497.0,74268.0,13724.0,45143.0,52569.0,48432.0,17144.0,36108.0,76445.0,36663.0,53843.0,90226.0,70638.0,44512.0,27116.0,54072.0,71855.0,51250.0,60432.0,65526.0,68655.0,12393.0,64509.0,33955.0,31353.0,55434.0,28359.0,57100.0,69139.0,52973.0,51717.0,18793.0,66664.0,50664.0,54414.0,54549.0,47111.0,41003.0,19444.0,36301.0,73059.0,42731.0,52854.0,22775.0,46681.0,59821.0,50002.0,69755.0,44078.0,30560.0,35924.0,64140.0,56386.0,24594.0,75774.0,39228.0,58494.0,58684.0,57136.0,56551.0,22448.0,82014.0,34213.0,25358.0,35544.0,36634.0,62670.0,50334.0,72066.0,50729.0,34916.0,64892.0,43602.0,33996.0,41473.0,63246.0,36732.0,69084.0,77766.0,37929.0,86610.0,80141.0,72635.0,69016.0,20193.0,27573.0,15862.0,49544.0,33228.0,70440.0,38232.0,22554.0,23536.0,49413.0,42231.0,78789.0,56534.0,58350.0,81217.0,49090.0,61787.0,18169.0,24336.0,18222.0,62335.0,42033.0,86580.0,41437.0,73705.0,61064.0,38452.0,18358.0,55012.0,9722.0,38175.0,58656.0,52117.0,64813.0,54222.0,83512.0,77520.0,41154.0,80398.0,18746.0,35196.0,60230.0,22108.0,44392.0,55424.0,17688.0,92491.0,90273.0,82571.0,38513.0,16653.0,42586.0,23529.0,74881.0,71107.0,46910.0,18690.0,37244.0,82427.0,75342.0,70044.0,79146.0,77437.0,54984.0,42403.0,55761.0,37292.0,45576.0,70321.0,58086.0,81795.0,28389.0,66835.0,69901.0,80360.0,63342.0,44989.0,31859.0,51569.0,30372.0,16014.0,41120.0,39763.0,38725.0,77981.0,62905.0,13533.0,59481.0,72117.0,21955.0,67131.0,36802.0,71853.0,28249.0,47808.0,25509.0,51012.0,70596.0,85431.0,42664.0,42586.0,29760.0,28973.0,39435.0,65370.0,20194.0,42473.0,64590.0,71232.0,34600.0,46904.0,49094.0,36075.0,60839.0,77298.0,34026.0,48918.0,82122.0,37697.0,34074.0,28520.0,62535.0,36273.0,63404.0,75774.0,78416.0,75702.0,59385.0,37070.0,44689.0,53977.0,18701.0,90369.0,63159.0,37758.0,46757.0,79734.0,63207.0,72071.0,21840.0,58582.0,72282.0,50387.0,32583.0,62568.0,44635.0,33316.0,63967.0,52513.0,25293.0,54111.0,78394.0,80739.0,22669.0,29236.0,44911.0,54693.0,48186.0,54809.0,41580.0,80336.0,47743.0,62972.0,57333.0,32313.0,84953.0,27071.0,68148.0,65735.0,86836.0,4023.0,30093.0,57705.0,25008.0,83257.0,22280.0,72159.0,64260.0,82733.0,74290.0,58217.0,21024.0,70116.0,54006.0,69063.0,11448.0,61825.0,70886.0,69109.0,60208.0,32889.0,34738.0,30538.0,82326.0,26642.0,69932.0,44503.0,60200.0,49638.0,23830.0,33051.0,72905.0,69702.0,70300.0,70643.0,30396.0,50616.0,62772.0,30298.0,52413.0,44155.0,86979.0,76532.0,42081.0,67546.0,88420.0,31158.0,61671.0,69719.0,49160.0,24882.0,90933.0,59292.0,45759.0,22148.0,73395.0,29819.0,45688.0,62820.0,60491.0,33235.0,35701.0,31535.0,92556.0,67384.0,80573.0,77870.0,52278.0,57107.0,18929.0,36038.0,20180.0,34230.0,31878.0,70932.0,91249.0,77598.0,80982.0,22701.0,55212.0,70617.0,64849.0,62694.0,61917.0,67472.0,21059.0,29543.0,75903.0,34984.0,54998.0,54356.0,34242.0,25410.0,73356.0,28320.0,23763.0,72570.0,34529.0,70792.0,63211.0,83891.0,36065.0,39898.0,51141.0,56939.0,80872.0,72335.0,61798.0,76842.0,29478.0,46998.0,96843.0,56551.0,70053.0,71670.0,44359.0,40887.0,48877.0,74485.0,64474.0,77226.0,72643.0,85738.0,55686.0,39062.0,34600.0,40794.0,54690.0,32632.0,38236.0,36781.0,31385.0,24570.0,25509.0,94642.0,58646.0,53201.0,21994.0,57113.0,51373.0,23477.0,58116.0,72968.0,39791.0,91712.0,94472.0,13672.0,96547.0,79205.0,56559.0,32644.0,67506.0,24206.0,28420.0,22979.0,33279.0,46423.0,30368.0,63684.0,41638.0,68805.0,65814.0,71964.0,39146.0,96876.0,34445.0,68281.0,37284.0,36790.0,27943.0,22263.0,30261.0,28587.0,43815.0,48195.0,77027.0,71322.0,32765.0,29672.0,23272.0,49912.0,7500.0,68117.0,67225.0,17649.0,55914.0,40059.0,60905.0,75330.0,60689.0,38680.0,61416.0,49767.0,83273.0,29009.0,45057.0,37150.0,43020.0,53154.0,65308.0,76467.0,81044.0,32871.0,55801.0,76320.0,36927.0,48794.0,23478.0,71128.0,70179.0,59462.0,51381.5,38361.0,51381.5,70038.0,42554.0,67445.0,67046.0,42192.0,77610.0,31761.0,34350.0,54591.0,71866.0,25293.0,42000.0,69520.0,64713.0,27889.0,22123.0,51381.5,51381.5,27803.0,51381.5,51651.0,68487.0,51381.5,56796.0,87000.0,79823.0,30828.0,34109.0,53367.0,22390.0,71322.0,79244.0,49912.0,48699.0,80144.0,54252.0,81929.0,76068.0,53204.0,67911.0,14796.0,78128.0,14188.0,20425.0,58646.0,72967.0,48150.0,82332.0,58275.0,44953.0,34587.0,43018.0,45736.0,66476.0,27733.0,69805.0,72217.0,25818.0,37509.0,25176.0,43586.0,53230.0,50116.0,84906.0,61286.0,82333.0,65220.0,33590.0,30992.0,72309.0,16005.0,65487.0,58692.0,40590.0,20587.0,62637.0,29435.0,19346.0,35788.0,36997.0,23539.0,65333.0,78499.0,29732.0,41275.0,63516.0,42769.0,49572.0,69209.0,17148.0,40590.0,30560.0,32146.0,41713.0,34176.0,58482.0,59686.0,60896.0,62994.0,47320.0,74859.0,15253.0,31560.0,72071.0,91172.0,90000.0,41967.0,69263.0,65706.0,60934.0,71965.0,65210.0,79174.0,81380.0,48432.0,52914.0,38946.0,26067.0,44325.0,42523.0,26487.0,53233.0,67716.0,76234.0,84117.0,65487.0,25224.0,89616.0,40851.0,27469.0,82347.0,73803.0,8820.0,43322.0,55593.0,50501.0,37085.0,16185.0,57731.0,48432.0,73807.0,18929.0,35893.0,61014.0,32144.0,14918.0,45146.0,41769.0,88325.0,38054.0,80617.0,5305.0,36807.0,28427.0,82032.0,22775.0,40101.0,58025.0,75777.0,7500.0,33562.0,57642.0,58554.0,63777.0,57967.0,51381.5,24434.0,11012.0,44802.0,26816.0,34421.0,61223.0,64014.0,56981.0,69245.0,52869.0],\"y\":[4,2,10,4,6,10,7,4,2,0,2,3,8,5,3,12,3,6,9,3,5,0,9,9,5,3,4,4,10,3,3,4,6,9,3,12,2,3,5,5,3,3,4,3,9,3,2,4,12,10,13,3,7,10,13,10,4,3,6,11,12,10,8,4,2,2,10,10,5,6,3,13,8,4,2,5,9,3,8,4,2,3,3,13,4,4,6,7,5,8,2,8,3,3,3,6,3,12,7,3,3,11,6,5,3,4,12,3,4,11,5,8,11,6,3,5,5,3,3,10,3,3,3,13,7,6,4,7,10,5,6,9,7,5,13,3,2,2,3,12,7,10,9,3,6,3,2,4,4,7,6,5,4,11,6,5,3,6,10,2,9,4,10,4,4,6,7,3,3,3,3,3,2,8,5,3,3,12,4,3,13,3,3,2,4,8,9,3,2,12,2,3,6,2,12,6,5,3,7,9,9,10,3,2,3,5,3,9,6,9,5,8,9,5,2,6,5,11,4,7,11,4,12,4,4,11,8,2,8,4,2,3,11,4,3,11,3,2,10,4,2,9,8,3,6,6,5,6,3,3,13,5,11,3,5,7,4,2,2,10,6,2,4,3,8,2,6,2,5,4,4,4,4,12,10,5,8,9,4,4,6,8,3,2,13,12,5,5,3,3,9,3,3,11,3,3,6,12,3,9,3,4,3,9,3,10,6,4,3,3,12,10,6,3,3,6,3,10,12,2,2,5,8,5,4,3,3,4,2,3,5,2,3,12,6,3,8,4,11,4,11,8,2,4,3,6,3,2,9,8,5,10,5,3,4,8,5,4,10,10,4,2,6,9,11,3,8,8,3,4,2,12,3,2,2,3,10,3,2,3,6,4,2,2,4,13,3,12,8,6,6,4,12,10,4,2,3,3,3,9,5,4,6,3,4,5,2,8,3,6,12,7,8,10,3,11,9,8,3,3,2,8,5,2,13,10,4,12,9,7,9,13,4,3,12,5,4,3,3,5,3,3,3,2,4,7,3,9,11,7,4,8,10,6,9,5,8,6,8,11,3,8,3,9,5,2,8,12,13,2,9,3,2,11,3,8,7,4,2,3,2,5,4,13,7,10,3,4,12,5,13,3,6,11,3,4,11,13,2,3,3,12,3,12,8,11,4,12,3,12,5,7,5,9,3,3,7,10,3,6,6,9,3,3,10,6,4,8,8,5,6,5,3,5,3,4,7,3,3,4,3,6,8,4,4,4,2,3,3,2,8,2,13,5,11,7,4,4,4,7,13,12,7,5,9,2,2,2,5,3,3,5,3,8,3,3,4,4,6,5,3,3,3,4,5,10,7,3,2,5,9,3,7,2,3,3,3,4,3,12,9,10,3,2,3,3,3,7,6,7,3,3,13,5,3,3,9,7,2,6,3,6,3,7,5,3,4,13,6,12,3,7,2,11,7,9,8,13,6,6,4,6,6,13,6,12,7,9,3,12,4,5,4,5,13,3,9,3,13,3,3,2,2,3,3,5,10,9,6,8,8,2,5,12,3,13,4,13,5,6,6,11,10,12,4,7,4,4,3,2,4,2,3,6,10,5,8,11,7,4,8,3,6,5,2,2,10,3,8,5,5,8,3,9,2,5,8,3,4,2,3,12,11,5,8,3,6,10,4,4,13,4,7,2,6,11,3,3,4,5,11,4,12,2,7,5,10,13,11,6,13,5,8,3,2,3,8,10,2,5,4,7,12,4,7,12,6,7,4,1,2,3,4,3,5,10,3,2,2,3,3,4,4,8,5,4,7,3,5,5,7,7,8,12,3,9,3,4,13,12,7,3,6,8,6,2,3,6,9,12,7,2,4,9,3,8,3,7,2,4,11,7,3,4,3,3,7,7,3,3,12,5,12,3,5,3,6,4,3,7,7,8,8,5,3,3,9,10,2,7,12,3,11,3,10,3,4,3,6,4,8,8,2,8,3,4,4,3,4,10,5,4,4,12,3,2,3,3,3,10,13,4,3,5,10,3,5,11,2,5,5,4,7,8,3,10,4,6,6,6,10,7,2,3,6,8,5,10,4,7,6,7,6,7,9,3,6,4,4,10,6,9,10,6,5,9,4,10,3,5,3,4,11,11,9,5,7,6,5,3,10,9,5,3,9,3,3,4,2,2,4,6,8,4,5,13,8,3,5,6,11,9,4,2,6,10,4,4,7,13,13,12,5,4,7,2,0,3,9,6,8,7,9,13,3,10,3,6,12,4,2,10,3,6,8,9,4,4,3,4,4,10,11,2,2,8,5,4,3,4,8,7,7,3,4,3,3,4,3,2,9,2,2,3,10,5,5,7,3,7,5,4,4,2,8,6,3,0,4,2,4,4,12,5,11,7,2,9,2,3,12,4,5,8,6,10,11,11,2,8,3,8,8,2,13,3,8,9,3,6,9,11,3,8,2,5,4,4,3,6,5,3,4,2,5,7,4,7,3,4,8,5,8,2,10,6,7,5,6,3,11,3,4,9,7,11,5,2,9,3,5,2,3,2,6,9,4,5,4,5,5,6,3,3,11,9,2,3,9,8,6,3,9,3,4,10,4,2,4,13,4,3,8,4,2,13,7,2,11,6,3,9,4,5,10,6,8,7,10,5,12,3,4,8,8,2,3,5,4,3,6,2,10,4,10,6,5,4,3,2,3,4,13,4,3,4,10,2,4,4,9,4,10,5,12,5,8,4,2,9,5,10,3,2,4,7,10,11,6,5,4,10,4,10,2,3,2,9,2,4,9,8,2,8,3,4,3,4,3,3,11,4,12,3,5,3,3,7,5,4,0,2,2,2,13,6,13,11,5,4,5,3,11,2,11,2,8,11,3,2,6,6,3,4,6,4,13,4,7,3,11,2,3,9,7,8,10,3,7,5,3,5,2,10,10,2,2,4,2,4,5,2,11,4,3,5,3,4,8,8,5,12,13,12,10,10,5,10,7,3,8,3,3,2,12,5,12,3,3,13,3,4,1,5,2,5,7,13,8,4,6,3,3,3,6,6,10,4,2,3,3,7,7,9,10,4,2,5,7,11,2,10,5,4,6,2,7,11,7,6,5,3,4,5,5,4,3,7,11,4,8,2,6,6,3,4,3,2,3,5,3,3,3,6,3,4,3,2,3,12,2,3,9,4,5,9,3,4,8,4,5,8,9,2,12,6,2,5,3,8,2,5,3,4,2,10,12,3,2,4,2,2,3,6,3,3,11,3,5,2,5,2,4,4,3,2,3,10,10,8,9,5,8,5,4,9,8,3,5,7,4,4,12,9,7,8,3,3,3,5,8,11,3,8,3,3,3,4,7,4,10,3,4,13,12,12,3,3,6,13,4,5,8,5,9,4,10,9,4,13,3,9,7,13,5,3,6,9,5,6,10,5,13,12,10,2,9,9,2,4,8,4,3,3,6,12,3,3,0,9,7,2,4,3,13,5,13,2,3,5,2,6,9,12,4,12,10,3,10,3,3,3,7,3,4,7,6,4,12,3,4,2,4,13,4,7,2,5,3,5,10,12,6,5,12,3,10,3,6,5,3,8,4,7,2,5,6,3,13,2,4,6,5,12,4,5,2,5,4,6,4,4,13,3,3,12,10,3,3,2,11,4,5,8,11,3,9,5,2,13,2,7,5,9,4,4,6,6,5,4,10,8,2,3,13,5,4,2,4,7,7,12,3,3,3,6,7,3,8,3,6,12,7,4,3,12,2,3,3,5,13,6,6,7,3,12,2,3,3,12,4,13,11,5,6,10,6,13,4,4,3,8,3,7,3,4,3,5,3,5,7,12,11,9,6,2,2,3,13,2,5,3,8,11,3,4,9,3,4,13,4,10,5,10,7,4,12,3,5,6,3,4,9,2,12,7,13,5,3,6,2,12,13,3,2,2,12,10,5,8,13,6,3,3,5,3,13,7,7,2,13,10,5,5,5,3,7,3,4,3,2,4,7,8,3,8,9,3,12,3,6,3,3,3,4,12,7,3,6,4,5,2,13,3,4,10,10,5,4,6,4,12,11,3,4,13,3,3,2,8,3,4,8,10,13,4,8,2,12,4,6,8,3,7,6,6,8,3,9,9,8,2,5,3,4,12,9,2,6,5,9,2,3,4,13,4,5,3,13,6,3,9,4,4,3,6,6,6,0,3,6,3,12,2,10,4,7,10,4,4,12,7,5,2,8,4,7,7,3,3,4,6,3,11,3,11,3,3,8,9,10,13,4,2,4,11,3,7,2,5,7,4,5,8,3,6,5,6,2,4,8,3,3,6,3,8,6,7,3,3,2,13,5,13,5,10,8,4,3,4,2,4,12,6,13,11,3,11,7,6,7,4,7,3,2,9,3,9,8,3,4,5,3,3,12,3,10,7,10,3,4,4,10,10,8,9,7,3,5,10,4,10,6,4,3,4,12,10,12,7,11,5,3,5,5,5,8,4,2,2,4,3,9,4,5,3,5,3,4,8,8,4,11,5,3,8,4,8,6,6,3,2,2,3,4,3,8,3,7,10,5,4,9,8,13,3,2,3,3,3,4,3,5,6,13,4,3,3,7,3,4,11,3,8,3,7,12,10,3,10,8,9,3,3,6,4,4,12,5,10,3,6,4,3,3,3,12,13,12,4,3,3,8,3,12,4,3,4,4,3,8,10,2,11,5,7,2,3,3,4,4,5,5,13,11,7,7,7,4,3,8,2,7,7,7,3,8,5,10,4,3,11,3,6,4,3,4,8,4,12,7,13,3,2,6,10,3,11,8,2,4,2,4,12,4,12,8,10,7,2,3,8,2,6,4,3,2,5,2,3,3,4,4,8,4,2,3,7,4,3,6,3,3,3,4,4,3,9,6,4,4,8,11,3,3,8,7,5,3,7,12,11,5,8,7,10,6,3,6,3,7,4,3,3,13,11,6,6,3,12,2,3,10,6,3,4,3,4,3,2,6,6,11,4,5,4,3,3,2,7,9,3,8,0,2,3,7,2,6,10,11,2,4,6,6,6,8,1,2,2,12,3,2,4,5,13,10,4],\"z\":[7,5,4,6,5,6,6,8,9,20,7,8,2,6,8,3,8,7,5,6,8,1,8,4,8,7,7,3,2,5,3,5,6,7,7,2,7,5,6,4,8,5,2,5,1,9,10,6,8,2,3,7,1,3,1,3,3,6,7,1,3,7,5,4,7,7,5,4,5,3,8,7,7,2,6,5,4,3,8,8,7,7,3,1,7,7,7,2,2,9,7,1,7,5,6,6,7,2,5,8,6,5,4,1,5,7,6,7,2,3,9,6,3,7,6,1,9,5,6,4,5,7,7,2,1,1,6,6,4,5,8,4,4,8,3,8,8,5,7,2,7,2,6,7,8,6,8,8,3,3,6,7,6,5,4,7,4,2,1,7,6,8,2,6,3,4,1,5,7,8,6,5,4,5,4,7,2,2,5,6,2,6,6,9,5,5,2,7,6,3,5,8,6,8,3,2,2,8,5,1,6,4,7,6,9,6,6,8,4,1,8,7,1,8,8,3,7,6,3,1,3,8,6,8,8,8,2,8,7,7,8,3,5,6,7,3,7,4,3,3,9,2,7,6,6,5,3,6,8,6,2,6,8,6,6,3,5,8,7,5,5,9,8,7,1,7,1,6,7,5,5,6,7,4,5,1,1,6,7,8,7,2,5,7,3,5,3,8,7,7,4,9,6,8,7,8,1,5,5,6,4,8,7,2,9,1,7,4,6,7,3,3,4,5,7,3,5,7,2,7,7,7,8,3,8,7,4,8,8,4,5,7,8,3,4,8,3,1,3,6,8,3,8,1,6,1,7,6,4,4,3,1,6,7,6,1,2,5,2,4,4,9,7,4,2,7,3,8,6,8,4,8,8,8,9,8,6,7,8,7,7,8,3,5,7,2,6,5,1,4,2,6,3,2,8,8,7,7,6,5,5,7,7,6,8,6,9,7,8,4,6,7,3,1,5,5,3,8,7,6,8,1,2,8,1,6,5,3,4,8,7,4,5,5,5,8,7,8,8,4,5,8,8,8,8,1,8,3,3,7,5,3,7,8,4,6,2,3,7,1,6,1,7,1,2,8,6,7,4,8,6,7,5,5,3,5,5,8,7,6,9,5,3,3,7,6,7,8,6,8,6,8,7,5,3,6,3,2,8,5,8,8,5,6,3,1,7,5,7,3,7,1,8,2,8,7,2,3,7,5,5,6,6,8,2,3,8,6,5,1,7,4,6,7,5,4,2,7,8,7,6,3,3,5,1,6,8,6,3,7,6,8,1,8,5,2,5,6,5,2,4,4,3,4,8,5,6,7,6,7,8,5,8,5,7,8,5,7,6,8,8,7,6,4,3,2,7,4,7,2,1,4,1,7,7,8,6,8,7,5,1,5,7,10,5,7,7,3,6,3,8,7,5,7,8,4,2,6,7,1,7,3,6,3,7,9,9,8,1,4,7,3,7,5,4,7,2,2,2,6,5,2,6,3,4,4,5,1,9,6,2,8,6,6,4,6,6,7,4,8,6,8,7,6,8,3,5,6,3,4,8,8,5,1,9,2,6,7,8,5,1,4,2,1,2,6,2,3,6,7,3,6,8,6,4,4,4,8,1,7,4,2,8,7,7,8,5,6,4,7,1,2,7,6,7,4,7,7,3,9,6,2,1,7,4,5,8,3,8,5,2,4,2,7,4,5,8,5,6,3,1,5,1,7,6,2,3,4,8,3,4,6,8,4,5,7,6,3,7,1,6,2,6,4,6,2,3,8,7,20,7,6,1,3,2,1,4,7,7,8,7,7,7,7,9,2,2,7,4,3,7,6,8,3,8,4,5,6,2,8,7,2,3,8,2,6,8,2,4,1,3,6,9,5,8,3,7,5,8,6,8,5,8,4,6,5,6,5,7,8,3,7,3,6,5,5,5,6,9,1,2,3,5,5,5,6,4,3,5,8,7,7,5,8,2,8,8,6,7,7,4,5,7,3,7,3,3,7,7,3,2,6,8,1,9,8,8,5,6,2,1,9,7,8,5,9,5,1,7,6,6,5,4,6,8,2,6,2,3,5,0,2,7,5,4,1,2,8,7,3,1,2,3,3,3,7,1,6,4,5,8,2,2,2,3,2,3,7,8,1,8,4,8,5,6,6,5,1,2,7,8,3,3,4,8,4,5,6,8,6,8,5,5,5,6,2,5,6,6,5,4,2,7,8,9,1,7,8,5,2,0,1,7,4,7,4,14,7,6,3,4,2,5,2,5,1,7,9,4,3,6,6,5,6,4,7,1,8,8,8,4,3,1,8,6,5,2,9,8,5,3,3,2,8,7,7,8,7,5,8,4,7,9,4,6,3,3,2,8,2,8,4,7,6,5,3,8,19,2,6,7,4,3,8,5,3,8,5,6,7,2,8,7,3,1,8,5,5,5,2,7,1,6,8,2,8,3,6,5,6,1,2,7,5,7,2,9,3,4,3,8,4,5,6,2,2,5,2,8,3,4,1,1,7,5,1,5,8,5,8,2,5,5,5,4,1,5,5,1,8,6,8,6,8,9,3,7,7,3,7,8,8,3,4,4,7,7,5,3,4,6,9,1,5,7,4,5,6,7,3,4,6,8,8,9,6,6,8,2,1,7,7,4,1,5,5,8,7,2,7,4,3,8,2,1,5,8,5,7,8,5,8,3,5,1,7,6,7,5,7,5,4,4,8,5,3,4,4,5,6,6,4,8,1,5,4,7,4,7,1,8,2,7,5,7,7,1,4,3,6,6,3,9,2,7,8,8,4,8,5,3,6,5,4,7,8,5,4,8,6,6,3,2,8,6,7,4,1,1,8,20,9,5,8,6,3,4,6,4,6,7,6,2,6,2,5,2,3,8,7,1,8,7,6,2,4,3,8,8,8,8,6,7,3,5,2,7,9,8,7,7,7,4,2,6,7,9,5,7,4,2,9,5,1,6,2,7,9,3,7,8,2,6,6,4,4,7,2,4,9,4,7,7,4,3,6,1,9,8,7,7,5,17,4,7,9,4,1,9,5,1,6,6,9,6,5,8,6,9,6,6,5,6,1,2,2,8,4,4,5,8,4,2,6,7,8,8,6,8,3,6,8,7,2,5,6,8,6,6,8,5,6,7,5,7,6,5,7,9,1,7,7,8,3,5,4,7,4,5,5,6,6,6,7,6,5,7,8,8,9,7,4,3,9,4,6,7,1,9,4,8,2,6,6,6,1,8,7,8,7,8,8,7,7,7,6,2,6,7,8,6,7,2,8,8,6,9,3,4,1,2,8,2,2,5,1,1,7,8,2,8,6,2,6,5,3,7,7,7,2,8,1,3,5,6,8,5,7,4,7,4,3,3,5,7,5,8,7,4,4,2,7,6,6,5,8,4,6,6,2,7,9,5,4,5,6,8,8,8,2,6,8,1,5,1,8,7,2,8,5,8,5,8,9,3,3,6,7,14,7,1,7,3,5,9,7,5,8,8,9,8,1,8,7,7,5,3,5,7,8,6,8,7,6,1,1,5,2,6,7,8,7,6,5,8,7,8,1,8,5,4,2,9,4,3,8,1,7,8,8,6,1,7,7,6,1,1,4,1,5,7,2,7,3,8,2,9,7,3,8,7,9,6,2,7,2,3,4,7,8,3,9,6,2,3,9,4,8,8,4,7,3,4,8,7,8,3,9,4,7,9,6,7,7,4,5,5,8,5,8,7,1,5,7,5,5,9,5,4,4,6,2,6,4,3,6,9,6,7,7,3,6,2,6,9,4,6,4,7,4,2,8,6,7,2,6,3,5,4,8,8,7,7,3,5,5,3,5,5,2,8,6,1,7,5,8,7,8,2,7,1,7,5,6,7,7,5,8,7,6,7,5,3,1,4,5,3,6,8,5,7,7,6,8,3,2,2,8,6,8,6,5,4,6,8,7,1,4,5,6,1,7,8,6,8,8,4,8,2,7,2,5,2,6,6,7,8,7,3,6,9,4,5,4,7,2,5,6,6,5,1,6,7,9,6,2,0,6,8,8,8,7,1,6,5,6,7,8,8,6,6,8,3,5,4,1,6,6,6,3,6,4,4,3,6,5,7,7,5,5,1,3,8,9,1,7,2,9,5,7,5,7,4,7,6,2,7,8,5,2,1,9,9,7,6,7,4,5,1,6,6,6,9,2,6,2,7,5,19,7,6,8,6,8,2,3,4,6,6,7,1,7,3,6,4,2,4,7,5,6,10,2,6,4,6,6,2,7,9,1,4,8,6,7,7,2,3,7,4,2,5,6,3,1,8,8,1,6,6,1,3,7,7,2,6,4,1,5,7,6,7,0,5,2,8,8,8,6,6,7,7,3,3,4,3,5,5,8,2,5,7,5,3,6,7,3,7,4,8,5,4,2,8,7,1,7,3,2,1,8,7,5,3,1,8,4,0,6,7,2,4,5,6,3,9,7,3,5,3,2,1,4,4,8,7,3,5,7,8,8,9,9,1,4,7,5,7,4,8,2,3,7,3,5,8,2,4,4,8,3,6,6,8,3,7,8,5,8,2,5,3,8,2,9,5,6,9,8,6,8,6,6,6,4,4,5,6,4,8,9,6,5,8,7,8,2,6,3,7,6,4,7,6,5,7,6,4,4,6,1,4,7,2,8,4,8,7,5,7,3,7,6,2,4,6,2,4,7,5,7,5,3,8,5,5,4,6,5,8,6,8,7,8,4,1,7,2,2,3,4,7,7,2,1,8,5,1,6,6,6,4,3,9,3,6,7,4,5,7,2,7,6,4,5,7,4,7,2,2,7,7,7,8,5,5,2,5,2,6,7,7,3,8,2,7,6,7,2,9,8,6,5,6,6,4,9,5,5,4,7,4,8,6,7,6,6,3,6,4,6,6,6,3,7,8,2,3,1,4,6,7,4,3,6,2,2,8,7,5,8,8,2,5,4,5,3,2,2,3,2,7,6,3,6,8,7,6,6,8,8,6,8,2,6,8,7,7,6,4,8,2,7,2,13,6,8,1,8,7,4,1,7,4,4,7,8,5,0,7,9,8,4,7,5,7,6,3,7],\"type\":\"scatter3d\"}],                        {\"template\":{\"data\":{\"histogram2dcontour\":[{\"type\":\"histogram2dcontour\",\"colorbar\":{\"outlinewidth\":0,\"ticks\":\"\"},\"colorscale\":[[0.0,\"#0d0887\"],[0.1111111111111111,\"#46039f\"],[0.2222222222222222,\"#7201a8\"],[0.3333333333333333,\"#9c179e\"],[0.4444444444444444,\"#bd3786\"],[0.5555555555555556,\"#d8576b\"],[0.6666666666666666,\"#ed7953\"],[0.7777777777777778,\"#fb9f3a\"],[0.8888888888888888,\"#fdca26\"],[1.0,\"#f0f921\"]]}],\"choropleth\":[{\"type\":\"choropleth\",\"colorbar\":{\"outlinewidth\":0,\"ticks\":\"\"}}],\"histogram2d\":[{\"type\":\"histogram2d\",\"colorbar\":{\"outlinewidth\":0,\"ticks\":\"\"},\"colorscale\":[[0.0,\"#0d0887\"],[0.1111111111111111,\"#46039f\"],[0.2222222222222222,\"#7201a8\"],[0.3333333333333333,\"#9c179e\"],[0.4444444444444444,\"#bd3786\"],[0.5555555555555556,\"#d8576b\"],[0.6666666666666666,\"#ed7953\"],[0.7777777777777778,\"#fb9f3a\"],[0.8888888888888888,\"#fdca26\"],[1.0,\"#f0f921\"]]}],\"heatmap\":[{\"type\":\"heatmap\",\"colorbar\":{\"outlinewidth\":0,\"ticks\":\"\"},\"colorscale\":[[0.0,\"#0d0887\"],[0.1111111111111111,\"#46039f\"],[0.2222222222222222,\"#7201a8\"],[0.3333333333333333,\"#9c179e\"],[0.4444444444444444,\"#bd3786\"],[0.5555555555555556,\"#d8576b\"],[0.6666666666666666,\"#ed7953\"],[0.7777777777777778,\"#fb9f3a\"],[0.8888888888888888,\"#fdca26\"],[1.0,\"#f0f921\"]]}],\"heatmapgl\":[{\"type\":\"heatmapgl\",\"colorbar\":{\"outlinewidth\":0,\"ticks\":\"\"},\"colorscale\":[[0.0,\"#0d0887\"],[0.1111111111111111,\"#46039f\"],[0.2222222222222222,\"#7201a8\"],[0.3333333333333333,\"#9c179e\"],[0.4444444444444444,\"#bd3786\"],[0.5555555555555556,\"#d8576b\"],[0.6666666666666666,\"#ed7953\"],[0.7777777777777778,\"#fb9f3a\"],[0.8888888888888888,\"#fdca26\"],[1.0,\"#f0f921\"]]}],\"contourcarpet\":[{\"type\":\"contourcarpet\",\"colorbar\":{\"outlinewidth\":0,\"ticks\":\"\"}}],\"contour\":[{\"type\":\"contour\",\"colorbar\":{\"outlinewidth\":0,\"ticks\":\"\"},\"colorscale\":[[0.0,\"#0d0887\"],[0.1111111111111111,\"#46039f\"],[0.2222222222222222,\"#7201a8\"],[0.3333333333333333,\"#9c179e\"],[0.4444444444444444,\"#bd3786\"],[0.5555555555555556,\"#d8576b\"],[0.6666666666666666,\"#ed7953\"],[0.7777777777777778,\"#fb9f3a\"],[0.8888888888888888,\"#fdca26\"],[1.0,\"#f0f921\"]]}],\"surface\":[{\"type\":\"surface\",\"colorbar\":{\"outlinewidth\":0,\"ticks\":\"\"},\"colorscale\":[[0.0,\"#0d0887\"],[0.1111111111111111,\"#46039f\"],[0.2222222222222222,\"#7201a8\"],[0.3333333333333333,\"#9c179e\"],[0.4444444444444444,\"#bd3786\"],[0.5555555555555556,\"#d8576b\"],[0.6666666666666666,\"#ed7953\"],[0.7777777777777778,\"#fb9f3a\"],[0.8888888888888888,\"#fdca26\"],[1.0,\"#f0f921\"]]}],\"mesh3d\":[{\"type\":\"mesh3d\",\"colorbar\":{\"outlinewidth\":0,\"ticks\":\"\"}}],\"scatter\":[{\"fillpattern\":{\"fillmode\":\"overlay\",\"size\":10,\"solidity\":0.2},\"type\":\"scatter\"}],\"parcoords\":[{\"type\":\"parcoords\",\"line\":{\"colorbar\":{\"outlinewidth\":0,\"ticks\":\"\"}}}],\"scatterpolargl\":[{\"type\":\"scatterpolargl\",\"marker\":{\"colorbar\":{\"outlinewidth\":0,\"ticks\":\"\"}}}],\"bar\":[{\"error_x\":{\"color\":\"#2a3f5f\"},\"error_y\":{\"color\":\"#2a3f5f\"},\"marker\":{\"line\":{\"color\":\"#E5ECF6\",\"width\":0.5},\"pattern\":{\"fillmode\":\"overlay\",\"size\":10,\"solidity\":0.2}},\"type\":\"bar\"}],\"scattergeo\":[{\"type\":\"scattergeo\",\"marker\":{\"colorbar\":{\"outlinewidth\":0,\"ticks\":\"\"}}}],\"scatterpolar\":[{\"type\":\"scatterpolar\",\"marker\":{\"colorbar\":{\"outlinewidth\":0,\"ticks\":\"\"}}}],\"histogram\":[{\"marker\":{\"pattern\":{\"fillmode\":\"overlay\",\"size\":10,\"solidity\":0.2}},\"type\":\"histogram\"}],\"scattergl\":[{\"type\":\"scattergl\",\"marker\":{\"colorbar\":{\"outlinewidth\":0,\"ticks\":\"\"}}}],\"scatter3d\":[{\"type\":\"scatter3d\",\"line\":{\"colorbar\":{\"outlinewidth\":0,\"ticks\":\"\"}},\"marker\":{\"colorbar\":{\"outlinewidth\":0,\"ticks\":\"\"}}}],\"scattermapbox\":[{\"type\":\"scattermapbox\",\"marker\":{\"colorbar\":{\"outlinewidth\":0,\"ticks\":\"\"}}}],\"scatterternary\":[{\"type\":\"scatterternary\",\"marker\":{\"colorbar\":{\"outlinewidth\":0,\"ticks\":\"\"}}}],\"scattercarpet\":[{\"type\":\"scattercarpet\",\"marker\":{\"colorbar\":{\"outlinewidth\":0,\"ticks\":\"\"}}}],\"carpet\":[{\"aaxis\":{\"endlinecolor\":\"#2a3f5f\",\"gridcolor\":\"white\",\"linecolor\":\"white\",\"minorgridcolor\":\"white\",\"startlinecolor\":\"#2a3f5f\"},\"baxis\":{\"endlinecolor\":\"#2a3f5f\",\"gridcolor\":\"white\",\"linecolor\":\"white\",\"minorgridcolor\":\"white\",\"startlinecolor\":\"#2a3f5f\"},\"type\":\"carpet\"}],\"table\":[{\"cells\":{\"fill\":{\"color\":\"#EBF0F8\"},\"line\":{\"color\":\"white\"}},\"header\":{\"fill\":{\"color\":\"#C8D4E3\"},\"line\":{\"color\":\"white\"}},\"type\":\"table\"}],\"barpolar\":[{\"marker\":{\"line\":{\"color\":\"#E5ECF6\",\"width\":0.5},\"pattern\":{\"fillmode\":\"overlay\",\"size\":10,\"solidity\":0.2}},\"type\":\"barpolar\"}],\"pie\":[{\"automargin\":true,\"type\":\"pie\"}]},\"layout\":{\"autotypenumbers\":\"strict\",\"colorway\":[\"#636efa\",\"#EF553B\",\"#00cc96\",\"#ab63fa\",\"#FFA15A\",\"#19d3f3\",\"#FF6692\",\"#B6E880\",\"#FF97FF\",\"#FECB52\"],\"font\":{\"color\":\"#2a3f5f\"},\"hovermode\":\"closest\",\"hoverlabel\":{\"align\":\"left\"},\"paper_bgcolor\":\"white\",\"plot_bgcolor\":\"#E5ECF6\",\"polar\":{\"bgcolor\":\"#E5ECF6\",\"angularaxis\":{\"gridcolor\":\"white\",\"linecolor\":\"white\",\"ticks\":\"\"},\"radialaxis\":{\"gridcolor\":\"white\",\"linecolor\":\"white\",\"ticks\":\"\"}},\"ternary\":{\"bgcolor\":\"#E5ECF6\",\"aaxis\":{\"gridcolor\":\"white\",\"linecolor\":\"white\",\"ticks\":\"\"},\"baxis\":{\"gridcolor\":\"white\",\"linecolor\":\"white\",\"ticks\":\"\"},\"caxis\":{\"gridcolor\":\"white\",\"linecolor\":\"white\",\"ticks\":\"\"}},\"coloraxis\":{\"colorbar\":{\"outlinewidth\":0,\"ticks\":\"\"}},\"colorscale\":{\"sequential\":[[0.0,\"#0d0887\"],[0.1111111111111111,\"#46039f\"],[0.2222222222222222,\"#7201a8\"],[0.3333333333333333,\"#9c179e\"],[0.4444444444444444,\"#bd3786\"],[0.5555555555555556,\"#d8576b\"],[0.6666666666666666,\"#ed7953\"],[0.7777777777777778,\"#fb9f3a\"],[0.8888888888888888,\"#fdca26\"],[1.0,\"#f0f921\"]],\"sequentialminus\":[[0.0,\"#0d0887\"],[0.1111111111111111,\"#46039f\"],[0.2222222222222222,\"#7201a8\"],[0.3333333333333333,\"#9c179e\"],[0.4444444444444444,\"#bd3786\"],[0.5555555555555556,\"#d8576b\"],[0.6666666666666666,\"#ed7953\"],[0.7777777777777778,\"#fb9f3a\"],[0.8888888888888888,\"#fdca26\"],[1.0,\"#f0f921\"]],\"diverging\":[[0,\"#8e0152\"],[0.1,\"#c51b7d\"],[0.2,\"#de77ae\"],[0.3,\"#f1b6da\"],[0.4,\"#fde0ef\"],[0.5,\"#f7f7f7\"],[0.6,\"#e6f5d0\"],[0.7,\"#b8e186\"],[0.8,\"#7fbc41\"],[0.9,\"#4d9221\"],[1,\"#276419\"]]},\"xaxis\":{\"gridcolor\":\"white\",\"linecolor\":\"white\",\"ticks\":\"\",\"title\":{\"standoff\":15},\"zerolinecolor\":\"white\",\"automargin\":true,\"zerolinewidth\":2},\"yaxis\":{\"gridcolor\":\"white\",\"linecolor\":\"white\",\"ticks\":\"\",\"title\":{\"standoff\":15},\"zerolinecolor\":\"white\",\"automargin\":true,\"zerolinewidth\":2},\"scene\":{\"xaxis\":{\"backgroundcolor\":\"#E5ECF6\",\"gridcolor\":\"white\",\"linecolor\":\"white\",\"showbackground\":true,\"ticks\":\"\",\"zerolinecolor\":\"white\",\"gridwidth\":2},\"yaxis\":{\"backgroundcolor\":\"#E5ECF6\",\"gridcolor\":\"white\",\"linecolor\":\"white\",\"showbackground\":true,\"ticks\":\"\",\"zerolinecolor\":\"white\",\"gridwidth\":2},\"zaxis\":{\"backgroundcolor\":\"#E5ECF6\",\"gridcolor\":\"white\",\"linecolor\":\"white\",\"showbackground\":true,\"ticks\":\"\",\"zerolinecolor\":\"white\",\"gridwidth\":2}},\"shapedefaults\":{\"line\":{\"color\":\"#2a3f5f\"}},\"annotationdefaults\":{\"arrowcolor\":\"#2a3f5f\",\"arrowhead\":0,\"arrowwidth\":1},\"geo\":{\"bgcolor\":\"white\",\"landcolor\":\"#E5ECF6\",\"subunitcolor\":\"white\",\"showland\":true,\"showlakes\":true,\"lakecolor\":\"white\"},\"title\":{\"x\":0.05},\"mapbox\":{\"style\":\"light\"}}},\"scene\":{\"domain\":{\"x\":[0.0,1.0],\"y\":[0.0,1.0]},\"xaxis\":{\"title\":{\"text\":\"\\u0414\\u043e\\u0445\\u0456\\u0434\"}},\"yaxis\":{\"title\":{\"text\":\"\\u041f\\u043e\\u043a\\u0443\\u043f\\u043a\\u0438 \\u0432 \\u043c\\u0430\\u0433\\u0430\\u0437\\u0438\\u043d\\u0456\"}},\"zaxis\":{\"title\":{\"text\":\"\\u0412\\u0456\\u0437\\u0438\\u0442\\u0438 \\u043d\\u0430 \\u0441\\u0430\\u0439\\u0442\"}}},\"coloraxis\":{\"colorbar\":{\"title\":{\"text\":\"Cluster_3\"}},\"colorscale\":[[0.0,\"#0d0887\"],[0.1111111111111111,\"#46039f\"],[0.2222222222222222,\"#7201a8\"],[0.3333333333333333,\"#9c179e\"],[0.4444444444444444,\"#bd3786\"],[0.5555555555555556,\"#d8576b\"],[0.6666666666666666,\"#ed7953\"],[0.7777777777777778,\"#fb9f3a\"],[0.8888888888888888,\"#fdca26\"],[1.0,\"#f0f921\"]]},\"legend\":{\"tracegroupgap\":0},\"title\":{\"text\":\"3D \\u0432\\u0456\\u0437\\u0443\\u0430\\u043b\\u0456\\u0437\\u0430\\u0446\\u0456\\u044f \\u043a\\u043b\\u0430\\u0441\\u0442\\u0435\\u0440\\u0456\\u0432 (3 \\u043a\\u043b\\u0430\\u0441\\u0442\\u0435\\u0440\\u0438)\"}},                        {\"responsive\": true}                    ).then(function(){\n",
              "                            \n",
              "var gd = document.getElementById('5cc484f7-db7a-4193-81ef-4ed4fcce627a');\n",
              "var x = new MutationObserver(function (mutations, observer) {{\n",
              "        var display = window.getComputedStyle(gd).display;\n",
              "        if (!display || display === 'none') {{\n",
              "            console.log([gd, 'removed!']);\n",
              "            Plotly.purge(gd);\n",
              "            observer.disconnect();\n",
              "        }}\n",
              "}});\n",
              "\n",
              "// Listen for the removal of the full notebook cells\n",
              "var notebookContainer = gd.closest('#notebook-container');\n",
              "if (notebookContainer) {{\n",
              "    x.observe(notebookContainer, {childList: true});\n",
              "}}\n",
              "\n",
              "// Listen for the clearing of the current output cell\n",
              "var outputEl = gd.closest('.output');\n",
              "if (outputEl) {{\n",
              "    x.observe(outputEl, {childList: true});\n",
              "}}\n",
              "\n",
              "                        })                };                            </script>        </div>\n",
              "</body>\n",
              "</html>"
            ]
          },
          "metadata": {}
        }
      ]
    },
    {
      "cell_type": "code",
      "source": [
        "from sklearn.metrics import silhouette_score\n",
        "\n",
        "# Обчислення метрики силуету для кластеризації з 2 кластерами\n",
        "silhouette_avg_2 = silhouette_score(X_cleaned, clusters_2)\n",
        "print(f\"Середня метрика силуету для 2 кластерів: {silhouette_avg_2:.4f}\")\n",
        "\n",
        "# Обчислення метрики силуету для кластеризації з 3 кластерами\n",
        "silhouette_avg_3 = silhouette_score(X_cleaned, clusters_3)\n",
        "print(f\"Середня метрика силуету для 3 кластерів: {silhouette_avg_3:.4f}\")"
      ],
      "metadata": {
        "colab": {
          "base_uri": "https://localhost:8080/"
        },
        "id": "OwCsl244NtGU",
        "outputId": "32813ce9-6513-4f06-bb73-e9941fa4a67e"
      },
      "execution_count": 44,
      "outputs": [
        {
          "output_type": "stream",
          "name": "stdout",
          "text": [
            "Середня метрика силуету для 2 кластерів: 0.4628\n",
            "Середня метрика силуету для 3 кластерів: 0.4250\n"
          ]
        }
      ]
    },
    {
      "cell_type": "markdown",
      "source": [
        "Отже, метрика силуету 0.4628 є вищою, ніж 0.4250 для 3 кластерів. Це означає, що з точки зору якості кластеризації, дві групи надають кращий результат порівняно з трьома групами."
      ],
      "metadata": {
        "id": "NR8UZTFGN2o_"
      }
    },
    {
      "cell_type": "markdown",
      "source": [
        "**Завдання 10.**\n",
        "1. Використайте метод кластеризації, який ми не використовували в попередніх завданнях цього ДЗ (може бути ієрархічна кластеризація з іншим способом звʼязності або інші методи sklearn).\n",
        "2. Порахуйте мер=трику силуету і візуалізуйте результат кластеризації. Зробіть висновок про те, чи могла б ця кластеризація бути корисною?"
      ],
      "metadata": {
        "id": "0mG3X-_2upiL"
      }
    },
    {
      "cell_type": "code",
      "source": [
        "train_df_cleaned['Cluster_Agglomerative'] = clusters_agg"
      ],
      "metadata": {
        "id": "KDYBnqX6MFsX"
      },
      "execution_count": 40,
      "outputs": []
    },
    {
      "cell_type": "code",
      "source": [
        "print(train_df_cleaned.columns)"
      ],
      "metadata": {
        "colab": {
          "base_uri": "https://localhost:8080/"
        },
        "id": "HoSWU5yPMIZl",
        "outputId": "b28e71f8-58c1-4601-f920-1e1ea24b3deb"
      },
      "execution_count": 41,
      "outputs": [
        {
          "output_type": "stream",
          "name": "stdout",
          "text": [
            "Index(['ID', 'Year_Birth', 'Education', 'Marital_Status', 'Income', 'Kidhome',\n",
            "       'Teenhome', 'Recency', 'MntWines', 'MntFruits', 'MntMeatProducts',\n",
            "       'MntFishProducts', 'MntSweetProducts', 'MntGoldProds',\n",
            "       'NumDealsPurchases', 'NumWebPurchases', 'NumCatalogPurchases',\n",
            "       'NumStorePurchases', 'NumWebVisitsMonth', 'AcceptedCmp3',\n",
            "       'AcceptedCmp4', 'AcceptedCmp5', 'AcceptedCmp1', 'AcceptedCmp2',\n",
            "       'Complain', 'Z_CostContact', 'Z_Revenue', 'Response', 'Year_Customer',\n",
            "       'Days_Customer', 'Cluster', 'Cluster_2', 'Cluster_3',\n",
            "       'Cluster_Agglomerative'],\n",
            "      dtype='object')\n"
          ]
        }
      ]
    },
    {
      "cell_type": "code",
      "source": [
        "from sklearn.cluster import AgglomerativeClustering\n",
        "\n",
        "# Налаштування агломеративної кластеризації\n",
        "agg_clustering = AgglomerativeClustering(n_clusters=3, linkage='ward')\n",
        "clusters_agg = agg_clustering.fit_predict(X_cleaned)\n",
        "\n",
        "# Обчислення метрики силуету\n",
        "silhouette_avg_agg = silhouette_score(X_cleaned, clusters_agg)\n",
        "print(f\"Середня метрика силуету для Agglomerative Clustering: {silhouette_avg_agg:.4f}\")\n",
        "\n",
        "# Візуалізація результатів\n",
        "fig_agg = px.scatter_3d(train_df_cleaned,\n",
        "                       x='Income',\n",
        "                       y='NumStorePurchases',\n",
        "                       z='NumWebPurchases',\n",
        "                       color='Cluster_Agglomerative',\n",
        "                       title='3D візуалізація кластерів (Agglomerative Clustering)',\n",
        "                       labels={'Income':'Дохід', 'NumStorePurchases':'Покупки в магазині', 'NumWebPurchases':'Покупки онлайн'}\n",
        "                      )\n",
        "fig_agg.show()"
      ],
      "metadata": {
        "colab": {
          "base_uri": "https://localhost:8080/",
          "height": 560
        },
        "id": "V4rgTG1ZL2s6",
        "outputId": "4783436c-1fd6-471f-b01e-813470b66e78"
      },
      "execution_count": 42,
      "outputs": [
        {
          "output_type": "stream",
          "name": "stdout",
          "text": [
            "Середня метрика силуету для Agglomerative Clustering: 0.4613\n"
          ]
        },
        {
          "output_type": "display_data",
          "data": {
            "text/html": [
              "<html>\n",
              "<head><meta charset=\"utf-8\" /></head>\n",
              "<body>\n",
              "    <div>            <script src=\"https://cdnjs.cloudflare.com/ajax/libs/mathjax/2.7.5/MathJax.js?config=TeX-AMS-MML_SVG\"></script><script type=\"text/javascript\">if (window.MathJax && window.MathJax.Hub && window.MathJax.Hub.Config) {window.MathJax.Hub.Config({SVG: {font: \"STIX-Web\"}});}</script>                <script type=\"text/javascript\">window.PlotlyConfig = {MathJaxConfig: 'local'};</script>\n",
              "        <script charset=\"utf-8\" src=\"https://cdn.plot.ly/plotly-2.24.1.min.js\"></script>                <div id=\"c1c99cf7-662c-4d08-b4a7-e2a8594f1e7a\" class=\"plotly-graph-div\" style=\"height:525px; width:100%;\"></div>            <script type=\"text/javascript\">                                    window.PLOTLYENV=window.PLOTLYENV || {};                                    if (document.getElementById(\"c1c99cf7-662c-4d08-b4a7-e2a8594f1e7a\")) {                    Plotly.newPlot(                        \"c1c99cf7-662c-4d08-b4a7-e2a8594f1e7a\",                        [{\"hovertemplate\":\"\\u0414\\u043e\\u0445\\u0456\\u0434=%{x}\\u003cbr\\u003e\\u041f\\u043e\\u043a\\u0443\\u043f\\u043a\\u0438 \\u0432 \\u043c\\u0430\\u0433\\u0430\\u0437\\u0438\\u043d\\u0456=%{y}\\u003cbr\\u003e\\u041f\\u043e\\u043a\\u0443\\u043f\\u043a\\u0438 \\u043e\\u043d\\u043b\\u0430\\u0439\\u043d=%{z}\\u003cbr\\u003eCluster_Agglomerative=%{marker.color}\\u003cextra\\u003e\\u003c\\u002fextra\\u003e\",\"legendgroup\":\"\",\"marker\":{\"color\":[0,1,0,2,0,0,0,1,2,2,0,2,0,0,2,0,1,1,0,1,1,2,0,0,1,2,0,1,0,2,1,1,1,0,1,0,2,1,1,0,2,2,1,2,0,2,1,1,0,0,0,1,0,0,0,0,2,1,0,0,0,0,0,0,2,2,0,0,0,0,1,0,0,2,1,0,0,2,0,2,2,2,1,0,2,1,1,0,0,1,1,1,1,2,2,1,1,0,0,1,1,0,0,0,2,1,0,1,0,0,0,0,0,1,0,0,1,2,2,0,2,2,2,0,0,0,0,1,0,0,0,0,0,1,0,2,1,1,1,0,0,0,0,1,0,2,1,1,1,0,0,1,1,0,0,0,0,0,0,2,0,2,0,1,0,0,0,2,1,2,0,0,0,0,0,1,1,0,1,2,0,2,2,2,2,0,0,1,2,0,1,1,0,2,0,0,0,1,0,0,0,0,1,2,2,1,1,0,1,0,1,1,0,1,1,0,1,0,1,0,0,2,0,1,1,0,0,1,1,0,1,2,0,2,2,0,2,0,0,0,2,0,0,2,0,0,0,0,2,2,0,2,0,2,0,1,2,1,2,0,1,1,1,1,0,1,0,2,0,2,0,2,1,0,0,0,0,0,2,1,1,0,1,2,0,1,0,1,2,1,0,2,2,0,1,1,0,0,1,0,1,1,2,0,2,0,0,1,2,2,0,0,0,2,1,0,2,0,0,1,1,0,1,0,2,2,0,2,2,1,0,1,2,0,0,2,0,0,0,1,0,0,2,0,1,0,2,1,0,0,0,0,0,1,0,0,0,1,0,0,2,1,1,0,0,2,0,0,1,1,2,0,1,1,2,2,0,2,1,2,2,1,1,2,1,0,1,0,0,0,0,0,0,0,1,2,2,2,2,0,1,2,0,1,2,0,2,1,2,0,0,1,0,0,2,0,0,1,1,2,2,0,0,1,0,0,2,0,0,1,0,0,2,1,0,1,2,2,2,0,2,2,2,2,1,0,2,0,0,0,1,0,0,1,0,1,1,0,0,0,1,0,1,0,0,2,0,1,0,1,0,1,2,0,1,0,0,1,1,1,2,1,0,0,0,0,2,2,0,1,0,0,0,0,0,0,0,0,2,1,2,0,1,0,0,0,1,0,1,0,1,0,1,0,1,2,0,0,2,0,1,0,2,1,0,0,0,1,1,0,0,0,2,1,1,0,0,2,2,1,1,0,0,2,0,1,2,2,1,2,0,2,0,1,0,0,2,0,1,0,0,0,1,0,0,2,1,1,1,1,1,0,1,0,1,2,1,0,1,1,1,2,1,2,0,0,0,2,1,0,0,1,0,2,2,1,2,2,2,0,0,0,0,2,1,2,2,0,2,1,2,2,1,1,1,0,2,0,2,0,1,0,2,0,0,1,2,0,0,0,2,0,1,0,0,0,0,0,0,0,1,0,1,0,0,0,0,0,2,0,1,1,0,2,0,1,0,2,0,2,2,2,1,2,2,0,0,0,0,0,0,2,0,0,1,0,0,0,1,1,0,0,0,0,0,1,0,1,2,1,0,1,2,1,0,0,0,0,0,1,0,1,1,0,1,2,0,1,0,1,0,0,2,0,1,0,0,2,0,2,1,0,0,0,0,1,0,0,1,0,0,0,0,2,0,0,1,1,1,0,0,2,0,1,0,0,1,0,0,0,0,0,0,1,1,1,0,0,2,0,1,0,0,1,0,0,0,1,1,2,1,1,0,0,0,0,1,2,2,2,2,2,1,1,1,0,0,2,1,1,1,0,0,0,2,0,1,1,0,1,1,0,0,0,0,2,2,0,0,0,0,2,2,0,2,0,2,0,2,0,0,0,1,0,2,0,1,0,2,1,0,1,0,1,0,1,1,1,2,0,0,0,0,0,2,1,0,0,2,1,0,1,0,1,0,2,1,2,1,1,0,1,2,0,2,0,0,2,1,0,0,1,1,0,2,2,1,1,1,0,0,1,1,1,0,2,1,0,2,1,0,0,0,1,2,0,0,0,0,0,0,0,1,1,1,0,0,1,1,0,0,0,0,1,0,1,0,1,1,0,2,0,0,0,0,0,1,0,2,0,1,0,0,0,0,0,0,0,0,2,0,0,0,1,0,2,1,1,1,1,2,0,0,0,0,0,0,1,1,1,0,0,1,1,1,0,1,2,0,0,0,0,0,1,0,1,2,1,0,0,0,0,0,0,1,0,2,1,0,0,1,0,2,0,1,0,0,0,2,1,1,0,0,2,1,0,1,2,1,1,0,0,0,2,2,1,2,0,1,2,0,2,2,2,0,0,0,0,2,0,2,1,1,1,1,0,1,2,0,1,1,1,0,1,1,0,2,0,2,2,0,1,0,0,0,0,0,1,1,0,2,0,0,2,0,1,0,0,1,1,0,0,2,1,1,0,1,0,1,0,0,2,0,1,0,0,1,0,1,0,0,0,0,2,0,0,0,1,1,2,0,1,2,0,0,0,0,0,0,2,0,1,1,2,1,0,2,0,1,1,1,0,1,2,0,0,2,1,0,0,1,1,0,2,1,0,1,2,1,0,2,1,0,0,2,0,0,2,0,0,2,1,0,0,0,1,0,0,0,1,0,1,1,0,0,2,2,0,0,2,1,1,0,2,0,1,1,0,2,2,2,1,0,2,1,0,0,0,0,1,0,1,0,0,0,0,0,0,2,0,0,0,2,1,1,1,0,0,0,0,1,0,1,0,1,2,2,0,1,1,0,0,2,0,1,1,1,1,2,1,0,0,0,2,1,2,0,0,0,2,2,2,1,2,0,0,0,0,0,0,0,0,0,1,0,1,0,0,2,1,0,0,2,1,0,0,0,1,0,2,0,1,1,0,1,0,1,1,1,2,1,0,1,0,0,2,2,1,1,1,0,1,0,0,2,0,2,1,0,0,1,0,0,0,0,0,1,0,0,2,1,1,1,1,0,1,0,1,2,0,2,1,2,0,2,1,0,0,0,1,0,1,1,1,1,1,0,2,2,1,2,1,0,0,0,0,2,0,0,0,1,0,0,1,0,2,1,1,0,0,1,1,1,0,0,1,1,1,0,1,0,2,0,1,1,0,0,0,2,0,0,2,1,0,0,2,1,1,2,0,1,2,0,1,0,0,1,1,1,1,1,0,0,1,0,0,1,0,1,0,2,1,1,2,1,0,0,0,2,2,1,1,1,2,2,2,0,1,0,2,0,2,1,1,1,1,2,0,0,0,0,0,0,0,1,0,0,1,1,0,1,2,0,1,0,0,1,2,2,1,1,0,1,0,2,1,1,0,0,1,0,0,1,0,0,0,2,2,0,0,0,0,0,1,0,1,0,0,1,0,1,0,0,0,0,2,1,0,1,0,0,1,0,0,0,1,0,0,2,0,0,1,1,2,0,0,1,1,2,0,0,2,0,2,0,0,0,1,2,2,2,0,0,0,2,0,0,0,1,1,2,2,0,1,0,0,0,0,0,1,1,2,2,0,1,0,2,0,1,1,0,0,0,0,0,1,0,2,1,1,1,0,1,0,1,0,0,1,0,1,1,0,1,0,2,0,2,1,0,1,2,1,0,1,0,0,0,1,2,0,0,0,0,0,0,2,0,1,2,0,2,0,0,0,1,2,0,1,0,0,1,1,2,1,0,1,0,2,1,0,1,0,1,2,1,0,0,2,0,1,0,0,0,0,2,0,1,2,1,1,0,0,0,0,1,0,1,1,1,0,1,0,0,1,0,0,0,0,2,2,2,1,1,0,1,2,2,1,1,0,0,0,0,1,0,2,2,2,0,1,0,1,0,0,1,2,0,2,1,0,0,0,0,0,0,1,0,2,1,0,2,1,0,2,0,0,0,1,2,1,2,0,0,1,2,1,0,0,0,0,0,0,1,0,1,1,0,0,0,2,0,0,0,0,1,2,1,2,2,1,1,1,0,0,2,0,0,2,0,1,0,2,1,2,1,0,0,1,1,2,2,1,0,2,1,0,0,1,1,1,1,0,0,1,1,0,1,1,2,0,1,0,0,0,0,0,1,1,0,2,0,0,1,1,0,0,0,2,0,0,1,2,0,1,1,0,0,2,0,0,0,2,2,1,0,1,0,1,0,1,0,0,2,0,2,0,0,0,2,2,0,2,0,2,0,0,0,0,0,2,0,0,0,2,0,0,0,0,1,1,2,0,2,0,1,0,1,2,1,0,0,0,0,2,1,0,2,1,1,0,0,1,0,0,2,0,0,1,2,0,0,1,2,0,2,1,0,0,1,1,2,0,0,0,0,1,0,2,1,2,1,2,0,0,0,0,2,0,0,0,0,0,0,2,2,0,1,0,0,1,2,0,2,2,0,1,0,0,0,1,1,1,0,0,0,0,0,2,1,0,0,0,0,1,1,1,0,0,0,0,0,0,1,1,1,0,2,1,1,2,2,2,0,0,0,2,0,0,2,0,0,1,0,0,2,0,0,0,2,0,2,2,2,1,1,2,0,1,0,0,0,1,0,1,0,1,1,2,2,2,2,1,1,0,0,2,2,2,1,2,0,0,2,0,1,0,0,0,1,0,1,0,2,1,1,1,0,0,0,0,1,0,0,1,1,2,0,0,0,1,1,0,0,1,0,0,1,0,2,1,0,0,2,1,0,0,2,2,1,1,2,0,1,0,1,0,0,0,2,1,0,2,0,0,0,1,0,0,0,0,0,0,2,0,2,2,0,0,1,0,0,1,1,1,1,0,2,0,0,2,1,2,1,0,0,0,0,0,0,1,2,0,2,0,0,1,2,0,2,2,1,1,2,0,0,2,1,0,1,1,0,2,1,2,2,1,1,0,0,0,0,1,0,2,2,0,0,0,1,0,0,0,0,0,0,0,1,0,1,2,1,1,2,0,0,0,0,0,2,0,1,2,0,0,2,1,0,0,1,2,0,1,0,2,1,0,2,2,1,1,0,1,0,2,1,2,0,2,1,0,0,2,1,0,0,0,0,1,2,2,1,2,1,0,0,0,0,1],\"coloraxis\":\"coloraxis\",\"symbol\":\"circle\"},\"mode\":\"markers\",\"name\":\"\",\"scene\":\"scene\",\"showlegend\":false,\"x\":[58138.0,46344.0,71613.0,26646.0,58293.0,62513.0,55635.0,33454.0,30351.0,5648.0,51381.5,7500.0,63033.0,59354.0,17323.0,82800.0,41850.0,37760.0,76995.0,33812.0,37040.0,2447.0,58607.0,65324.0,40689.0,18589.0,53359.0,38360.0,84618.0,10979.0,38620.0,40548.0,46610.0,68657.0,49389.0,67353.0,23718.0,42429.0,48948.0,80011.0,20559.0,21994.0,51381.5,7500.0,79941.0,7500.0,41728.0,51381.5,72550.0,65486.0,79143.0,35790.0,82582.0,66373.0,82384.0,70287.0,27938.0,51381.5,55954.0,75777.0,66653.0,61823.0,67680.0,70666.0,25721.0,32474.0,88194.0,69096.0,74854.0,66991.0,51381.5,65031.0,60631.0,28332.0,40246.0,75251.0,75825.0,26326.0,56046.0,29760.0,26304.0,23559.0,38620.0,81361.0,29440.0,36138.0,50388.0,79593.0,54178.0,51381.5,51381.5,51381.5,42394.0,23626.0,30096.0,47916.0,51813.0,78497.0,50150.0,47823.0,34554.0,85693.0,65846.0,87195.0,24594.0,49096.0,52413.0,38557.0,89058.0,77298.0,68126.0,57288.0,86037.0,43974.0,50785.0,90765.0,36550.0,30753.0,21918.0,56129.0,32557.0,19510.0,30992.0,101970.0,71488.0,79607.0,54348.0,51381.5,77376.0,62998.0,61331.0,73448.0,51381.5,41551.0,62981.0,9548.0,33762.0,35860.0,36921.0,92859.0,65104.0,86111.0,68352.0,41883.0,59809.0,23957.0,38547.0,35688.0,49605.0,59354.0,65747.0,46344.0,34176.0,61010.0,69372.0,49967.0,60199.0,55375.0,80317.0,30523.0,70356.0,23228.0,74165.0,43482.0,62551.0,52332.0,66951.0,26091.0,33456.0,28718.0,50447.0,53537.0,52074.0,80427.0,83837.0,38853.0,38285.0,78497.0,51650.0,16248.0,66835.0,30477.0,28249.0,25271.0,32303.0,61286.0,74068.0,45759.0,24882.0,66973.0,36640.0,38872.0,51148.0,31353.0,69661.0,80067.0,86718.0,46854.0,69142.0,75922.0,63693.0,102160.0,40637.0,18890.0,29604.0,48721.0,44794.0,64497.0,46097.0,77972.0,44377.0,46014.0,70951.0,41443.0,52195.0,83790.0,44551.0,69508.0,45204.0,72460.0,77622.0,30732.0,63887.0,42011.0,51369.0,51537.0,79930.0,34320.0,37070.0,81975.0,38590.0,15033.0,62745.0,22212.0,23661.0,79761.0,7500.0,60182.0,73455.0,64961.0,22804.0,73687.0,61074.0,31686.0,80134.0,75027.0,67546.0,65176.0,31160.0,29938.0,102692.0,26490.0,75702.0,30899.0,63342.0,45989.0,18701.0,40737.0,15287.0,69674.0,44159.0,37717.0,43776.0,38179.0,80124.0,38097.0,72940.0,22070.0,69267.0,31788.0,61905.0,29315.0,33378.0,66313.0,60714.0,77882.0,69867.0,63841.0,24480.0,51369.0,37760.0,65640.0,44319.0,30631.0,75278.0,50898.0,79946.0,35416.0,32414.0,38361.0,82497.0,16626.0,29672.0,55951.0,35388.0,42386.0,68627.0,57912.0,35246.0,58821.0,46377.0,39747.0,23976.0,80950.0,27038.0,77457.0,64100.0,42670.0,12571.0,22574.0,51381.5,70893.0,54198.0,28839.0,40321.0,66503.0,30833.0,51381.5,64795.0,34421.0,47025.0,64325.0,40464.0,62187.0,14849.0,27255.0,54432.0,29999.0,24072.0,33996.0,66334.0,35178.0,22010.0,62204.0,75693.0,30675.0,83003.0,83532.0,68655.0,41411.0,55212.0,59292.0,27190.0,82623.0,44300.0,84835.0,30372.0,33181.0,71113.0,71952.0,69759.0,72099.0,60000.0,38643.0,50737.0,68462.0,65073.0,46681.0,78618.0,62187.0,28442.0,37717.0,51479.0,54803.0,79530.0,31615.0,72025.0,52614.0,35684.0,48178.0,29548.0,63810.0,38578.0,46098.0,22585.0,30279.0,66426.0,30822.0,33581.0,19986.0,27421.0,35688.0,36143.0,10245.0,43795.0,63381.0,38823.0,83664.0,90300.0,62499.0,74293.0,51012.0,70777.0,68682.0,43824.0,15345.0,23442.0,14515.0,31395.0,75276.0,42373.0,30507.0,55521.0,48006.0,27213.0,65808.0,30351.0,50437.0,23616.0,53858.0,66465.0,46923.0,75072.0,75865.0,19789.0,80134.0,91065.0,49505.0,37401.0,30096.0,18492.0,82584.0,93027.0,48686.0,92910.0,75433.0,10404.0,61314.0,84865.0,42387.0,67309.0,75236.0,30015.0,50943.0,67272.0,51529.0,32011.0,7500.0,28691.0,56223.0,18100.0,30279.0,20130.0,23295.0,42618.0,81246.0,24027.0,55707.0,57959.0,56796.0,36230.0,70829.0,65991.0,38988.0,89572.0,42207.0,50300.0,66664.0,60597.0,70165.0,50520.0,80124.0,33183.0,66582.0,75261.0,31880.0,53790.0,49269.0,61456.0,37406.0,56937.0,38415.0,20518.0,62503.0,41644.0,55842.0,62010.0,41124.0,38961.0,37760.0,32233.0,43057.0,83151.0,78825.0,65104.0,60093.0,14045.0,28457.0,78952.0,46310.0,76005.0,58308.0,55614.0,59432.0,55563.0,78642.0,67911.0,65275.0,27203.0,48330.0,24279.0,64355.0,50943.0,53653.0,65665.0,81217.0,34935.0,61250.0,39665.0,60152.0,48920.0,89120.0,44124.0,81169.0,36443.0,26095.0,71367.0,80184.0,30630.0,73454.0,42691.0,70503.0,25545.0,32880.0,77863.0,50353.0,61839.0,49154.0,47682.0,72679.0,57954.0,65316.0,28567.0,47352.0,44931.0,76982.0,57247.0,22944.0,25315.0,43638.0,42710.0,84169.0,54058.0,24683.0,85620.0,47850.0,19514.0,27159.0,39548.0,21474.0,60504.0,22419.0,81698.0,43462.0,54880.0,79908.0,15315.0,87771.0,33039.0,81741.0,71499.0,62466.0,48799.0,52157.0,66565.0,29298.0,47691.0,38200.0,44989.0,38443.0,38593.0,64413.0,36959.0,61996.0,51287.0,13260.0,47472.0,54603.0,45207.0,40689.0,47821.0,27450.0,39453.0,26850.0,79800.0,61794.0,53863.0,24221.0,39684.0,92163.0,69882.0,33178.0,59973.0,17459.0,23910.0,42169.0,26224.0,31089.0,30081.0,62807.0,72906.0,61467.0,49618.0,21888.0,42429.0,26150.0,30801.0,81168.0,26877.0,45006.0,18978.0,22574.0,48240.0,45837.0,35791.0,54162.0,30522.0,54456.0,31632.0,72298.0,36975.0,72635.0,13624.0,84196.0,70971.0,34487.0,28769.0,69084.0,65488.0,62466.0,32218.0,83917.0,46102.0,84574.0,56181.0,63120.0,73691.0,63381.0,76140.0,62859.0,45906.0,77632.0,46463.0,105471.0,55282.0,78710.0,66886.0,98777.0,29103.0,67445.0,50616.0,49431.0,61278.0,26490.0,73059.0,46734.0,56253.0,19986.0,58330.0,25965.0,14661.0,18690.0,45068.0,21063.0,29187.0,54690.0,59304.0,59247.0,66731.0,77353.0,52614.0,26751.0,81300.0,70337.0,36145.0,65295.0,68118.0,68743.0,41039.0,38946.0,65777.0,66476.0,86857.0,77845.0,69476.0,50611.0,61209.0,42315.0,13084.0,47570.0,61923.0,34824.0,26518.0,45938.0,78468.0,78901.0,71427.0,71022.0,90247.0,41335.0,71952.0,35682.0,43185.0,66375.0,35178.0,25252.0,55250.0,33249.0,58398.0,50272.0,76618.0,87305.0,25851.0,58710.0,45160.0,74806.0,59111.0,18988.0,72190.0,7500.0,44794.0,80395.0,75012.0,56962.0,89891.0,35946.0,53593.0,66373.0,45072.0,89694.0,72025.0,67432.0,70545.0,17487.0,62882.0,64108.0,34941.0,48767.0,38702.0,82224.0,83844.0,17003.0,71163.0,33697.0,63564.0,83443.0,51518.0,58330.0,80952.0,75507.0,63855.0,62220.0,58512.0,40662.0,38829.0,35523.0,79146.0,78285.0,31626.0,75127.0,48726.0,74985.0,67430.0,46891.0,62058.0,72063.0,78939.0,42720.0,33622.0,6835.0,41452.0,40760.0,74250.0,51124.0,72258.0,71466.0,36283.0,20587.0,30467.0,31590.0,20425.0,17144.0,42564.0,43783.0,40780.0,62847.0,82017.0,16813.0,51267.0,46524.0,45183.0,70421.0,60161.0,73926.0,19329.0,61872.0,46984.0,34838.0,82716.0,48192.0,49681.0,56850.0,55267.0,59666.0,72504.0,26872.0,21359.0,73170.0,52750.0,91820.0,65968.0,30772.0,22507.0,65685.0,25804.0,76412.0,22063.0,57091.0,22419.0,87771.0,78353.0,93404.0,37859.0,80995.0,16529.0,55412.0,48789.0,56575.0,25130.0,35441.0,71391.0,49494.0,81702.0,45889.0,56628.0,34026.0,40049.0,34176.0,19419.0,82504.0,81205.0,61618.0,55284.0,49980.0,15072.0,49166.0,65324.0,82347.0,30843.0,46374.0,60474.0,38576.0,55357.0,37758.0,85710.0,23228.0,44602.0,7500.0,38683.0,49514.0,57906.0,43456.0,19485.0,53172.0,30545.0,70123.0,62450.0,21675.0,42395.0,61346.0,80812.0,42835.0,39922.0,86424.0,17117.0,24762.0,35797.0,36627.0,51111.0,86857.0,82072.0,46231.0,42243.0,51195.0,68092.0,31814.0,51390.0,76630.0,26868.0,48948.0,55260.0,64090.0,78331.0,37087.0,21846.0,81320.0,54137.0,66825.0,57100.0,58917.0,85072.0,86429.0,45684.0,47889.0,45921.0,78420.0,75114.0,52278.0,35641.0,95529.0,62820.0,73113.0,84169.0,42607.0,74637.0,46015.0,72354.0,39858.0,34469.0,83033.0,24401.0,77583.0,74116.0,74293.0,68397.0,79632.0,46107.0,64950.0,25443.0,75127.0,32892.0,71796.0,67536.0,55239.0,60554.0,64831.0,56067.0,82025.0,94384.0,14906.0,51563.0,57937.0,68274.0,39771.0,67893.0,27922.0,52190.0,44051.0,42767.0,46106.0,16927.0,59754.0,53700.0,59041.0,54237.0,70647.0,52597.0,41021.0,40233.0,50183.0,54753.0,92955.0,33471.0,34596.0,44010.0,84219.0,40706.0,15716.0,59052.0,80573.0,83715.0,82576.0,56962.0,35704.0,53103.0,46779.0,4861.0,33462.0,63693.0,80763.0,65352.0,82170.0,75759.0,79689.0,35340.0,85683.0,24884.0,42021.0,64449.0,64587.0,34824.0,75437.0,26091.0,52845.0,46086.0,78028.0,95169.0,56337.0,22434.0,36930.0,36130.0,65569.0,83844.0,19514.0,36736.0,77568.0,49187.0,30168.0,34053.0,38196.0,59412.0,70924.0,54165.0,32300.0,20180.0,34961.0,28440.0,64504.0,33564.0,17345.0,56320.0,28647.0,15038.0,32173.0,68316.0,74538.0,91700.0,68695.0,31056.0,79593.0,28071.0,37334.0,46423.0,37126.0,47703.0,61180.0,38998.0,8028.0,76081.0,34728.0,33168.0,33585.0,77037.0,35196.0,44529.0,70924.0,28764.0,69098.0,25959.0,27100.0,70596.0,42557.0,53312.0,72228.0,67605.0,62845.0,65196.0,42000.0,35860.0,65526.0,16860.0,83528.0,64176.0,22304.0,67023.0,32892.0,70713.0,59925.0,39722.0,46610.0,88347.0,87171.0,26907.0,50014.0,41014.0,66294.0,36715.0,79456.0,40479.0,75345.0,54233.0,24163.0,84460.0,43776.0,71691.0,85844.0,39190.0,71367.0,38578.0,57236.0,61825.0,79803.0,80910.0,27590.0,56775.0,83829.0,54210.0,38508.0,53187.0,30023.0,76045.0,50870.0,15315.0,65463.0,66480.0,76773.0,81698.0,54466.0,98777.0,16269.0,71819.0,33569.0,36262.0,22634.0,47025.0,70566.0,31605.0,52034.0,48526.0,46734.0,39552.0,86358.0,46931.0,16581.0,63998.0,67381.0,25930.0,42693.0,85606.0,72903.0,49669.0,36778.0,85696.0,10979.0,49678.0,56129.0,37155.0,21282.0,33419.0,63285.0,21255.0,42162.0,54450.0,57744.0,26576.0,57513.0,68142.0,7500.0,83145.0,54197.0,23091.0,46049.0,56715.0,79410.0,57304.0,44375.0,54450.0,59594.0,80685.0,40344.0,62710.0,48985.0,35322.0,77142.0,81657.0,14421.0,20130.0,74214.0,66726.0,23724.0,47353.0,33444.0,54386.0,28510.0,90638.0,48070.0,43140.0,54959.0,15056.0,26954.0,22327.0,44393.0,62000.0,31497.0,45894.0,78579.0,67369.0,58401.0,62307.0,43641.0,63841.0,46891.0,70091.0,78075.0,59184.0,54809.0,58113.0,51412.0,15287.0,66636.0,50965.0,84618.0,18351.0,40451.0,36317.0,42213.0,65748.0,77044.0,74918.0,56721.0,42160.0,61559.0,33629.0,68682.0,34377.0,8940.0,26228.0,77297.0,40211.0,33438.0,75032.0,61284.0,22518.0,54730.0,38452.0,44421.0,38197.0,41986.0,28427.0,37395.0,64722.0,55249.0,84906.0,28691.0,44213.0,25707.0,59062.0,76624.0,66000.0,27683.0,1730.0,7500.0,40521.0,20427.0,65106.0,69969.0,67433.0,77766.0,74716.0,68118.0,55158.0,62972.0,74190.0,39356.0,76653.0,35860.0,90687.0,73450.0,31454.0,47139.0,83829.0,53378.0,19656.0,45579.0,85485.0,55956.0,64191.0,38808.0,57183.0,23748.0,66303.0,37368.0,40800.0,71847.0,46149.0,78687.0,49118.0,37633.0,39767.0,26997.0,33986.0,57091.0,46831.0,83151.0,52531.0,15759.0,22804.0,43050.0,42997.0,48918.0,60033.0,34043.0,57811.0,78569.0,7500.0,94384.0,23148.0,44267.0,71626.0,60894.0,50200.0,81051.0,65169.0,59868.0,65695.0,64857.0,45143.0,74805.0,59060.0,27238.0,47009.0,46094.0,40321.0,37235.0,81843.0,46692.0,77382.0,37774.0,18393.0,72828.0,24711.0,45503.0,6560.0,71604.0,27244.0,48752.0,71434.0,90842.0,88097.0,51948.0,71853.0,35876.0,40049.0,39660.0,50127.0,43263.0,62845.0,18929.0,24367.0,33249.0,26887.0,50150.0,62061.0,85696.0,76542.0,70515.0,18227.0,69139.0,69109.0,69627.0,38136.0,62159.0,80695.0,33316.0,58554.0,17256.0,53034.0,52203.0,59601.0,75154.0,47025.0,37971.0,41335.0,67267.0,57338.0,50523.0,35791.0,50611.0,56242.0,48904.0,56243.0,21355.0,57420.0,51381.5,46390.0,54342.0,51381.5,51381.5,20895.0,92344.0,51381.5,26907.0,44964.0,75507.0,53761.0,22682.0,38887.0,41658.0,29791.0,63915.0,39996.0,26759.0,63841.0,51039.0,60544.0,65685.0,37716.0,36864.0,44511.0,36947.0,47352.0,67087.0,57045.0,36957.0,69389.0,80134.0,43142.0,80589.0,34412.0,57537.0,22634.0,51315.0,36026.0,24639.0,34578.0,65704.0,63810.0,54132.0,18690.0,28164.0,34596.0,43269.0,38741.0,31907.0,27100.0,31163.0,92533.0,34853.0,70844.0,31086.0,60544.0,20491.0,42523.0,39922.0,33402.0,36408.0,21645.0,78427.0,82657.0,51876.0,78041.0,52852.0,70038.0,69401.0,46053.0,77343.0,73892.0,40304.0,32727.0,68695.0,43300.0,26290.0,93790.0,38410.0,64866.0,57957.0,46015.0,16531.0,28072.0,49476.0,50725.0,83844.0,41145.0,67419.0,23162.0,34380.0,34704.0,94871.0,65148.0,39898.0,64857.0,59892.0,41020.0,57072.0,60474.0,62807.0,19414.0,19107.0,75484.0,70379.0,79419.0,64014.0,76998.0,49854.0,60585.0,42873.0,87679.0,57867.0,35765.0,65492.0,32952.0,53374.0,71706.0,68487.0,53253.0,31163.0,42014.0,54108.0,49667.0,63206.0,57136.0,46772.0,78931.0,53977.0,84219.0,46098.0,73538.0,79529.0,20981.0,51766.0,55759.0,33039.0,37787.0,27242.0,87188.0,69930.0,37697.0,37401.0,3502.0,58597.0,82032.0,28087.0,74004.0,19740.0,57036.0,53083.0,69283.0,46098.0,23331.0,23331.0,9255.0,67786.0,71969.0,59235.0,31928.0,74881.0,65819.0,51411.0,51983.0,42386.0,30390.0,30983.0,66033.0,37284.0,57530.0,76800.0,63943.0,76081.0,67445.0,37054.0,47175.0,31859.0,27215.0,70179.0,39922.0,49681.0,24645.0,79865.0,44322.0,47958.0,63972.0,75315.0,55517.0,75283.0,82800.0,38998.0,90638.0,27161.0,42014.0,38201.0,45203.0,81574.0,34935.0,60482.0,34633.0,78093.0,82460.0,45903.0,81361.0,35860.0,40442.0,61482.0,34968.0,75794.0,31497.0,74268.0,13724.0,45143.0,52569.0,48432.0,17144.0,36108.0,76445.0,36663.0,53843.0,90226.0,70638.0,44512.0,27116.0,54072.0,71855.0,51250.0,60432.0,65526.0,68655.0,12393.0,64509.0,33955.0,31353.0,55434.0,28359.0,57100.0,69139.0,52973.0,51717.0,18793.0,66664.0,50664.0,54414.0,54549.0,47111.0,41003.0,19444.0,36301.0,73059.0,42731.0,52854.0,22775.0,46681.0,59821.0,50002.0,69755.0,44078.0,30560.0,35924.0,64140.0,56386.0,24594.0,75774.0,39228.0,58494.0,58684.0,57136.0,56551.0,22448.0,82014.0,34213.0,25358.0,35544.0,36634.0,62670.0,50334.0,72066.0,50729.0,34916.0,64892.0,43602.0,33996.0,41473.0,63246.0,36732.0,69084.0,77766.0,37929.0,86610.0,80141.0,72635.0,69016.0,20193.0,27573.0,15862.0,49544.0,33228.0,70440.0,38232.0,22554.0,23536.0,49413.0,42231.0,78789.0,56534.0,58350.0,81217.0,49090.0,61787.0,18169.0,24336.0,18222.0,62335.0,42033.0,86580.0,41437.0,73705.0,61064.0,38452.0,18358.0,55012.0,9722.0,38175.0,58656.0,52117.0,64813.0,54222.0,83512.0,77520.0,41154.0,80398.0,18746.0,35196.0,60230.0,22108.0,44392.0,55424.0,17688.0,92491.0,90273.0,82571.0,38513.0,16653.0,42586.0,23529.0,74881.0,71107.0,46910.0,18690.0,37244.0,82427.0,75342.0,70044.0,79146.0,77437.0,54984.0,42403.0,55761.0,37292.0,45576.0,70321.0,58086.0,81795.0,28389.0,66835.0,69901.0,80360.0,63342.0,44989.0,31859.0,51569.0,30372.0,16014.0,41120.0,39763.0,38725.0,77981.0,62905.0,13533.0,59481.0,72117.0,21955.0,67131.0,36802.0,71853.0,28249.0,47808.0,25509.0,51012.0,70596.0,85431.0,42664.0,42586.0,29760.0,28973.0,39435.0,65370.0,20194.0,42473.0,64590.0,71232.0,34600.0,46904.0,49094.0,36075.0,60839.0,77298.0,34026.0,48918.0,82122.0,37697.0,34074.0,28520.0,62535.0,36273.0,63404.0,75774.0,78416.0,75702.0,59385.0,37070.0,44689.0,53977.0,18701.0,90369.0,63159.0,37758.0,46757.0,79734.0,63207.0,72071.0,21840.0,58582.0,72282.0,50387.0,32583.0,62568.0,44635.0,33316.0,63967.0,52513.0,25293.0,54111.0,78394.0,80739.0,22669.0,29236.0,44911.0,54693.0,48186.0,54809.0,41580.0,80336.0,47743.0,62972.0,57333.0,32313.0,84953.0,27071.0,68148.0,65735.0,86836.0,4023.0,30093.0,57705.0,25008.0,83257.0,22280.0,72159.0,64260.0,82733.0,74290.0,58217.0,21024.0,70116.0,54006.0,69063.0,11448.0,61825.0,70886.0,69109.0,60208.0,32889.0,34738.0,30538.0,82326.0,26642.0,69932.0,44503.0,60200.0,49638.0,23830.0,33051.0,72905.0,69702.0,70300.0,70643.0,30396.0,50616.0,62772.0,30298.0,52413.0,44155.0,86979.0,76532.0,42081.0,67546.0,88420.0,31158.0,61671.0,69719.0,49160.0,24882.0,90933.0,59292.0,45759.0,22148.0,73395.0,29819.0,45688.0,62820.0,60491.0,33235.0,35701.0,31535.0,92556.0,67384.0,80573.0,77870.0,52278.0,57107.0,18929.0,36038.0,20180.0,34230.0,31878.0,70932.0,91249.0,77598.0,80982.0,22701.0,55212.0,70617.0,64849.0,62694.0,61917.0,67472.0,21059.0,29543.0,75903.0,34984.0,54998.0,54356.0,34242.0,25410.0,73356.0,28320.0,23763.0,72570.0,34529.0,70792.0,63211.0,83891.0,36065.0,39898.0,51141.0,56939.0,80872.0,72335.0,61798.0,76842.0,29478.0,46998.0,96843.0,56551.0,70053.0,71670.0,44359.0,40887.0,48877.0,74485.0,64474.0,77226.0,72643.0,85738.0,55686.0,39062.0,34600.0,40794.0,54690.0,32632.0,38236.0,36781.0,31385.0,24570.0,25509.0,94642.0,58646.0,53201.0,21994.0,57113.0,51373.0,23477.0,58116.0,72968.0,39791.0,91712.0,94472.0,13672.0,96547.0,79205.0,56559.0,32644.0,67506.0,24206.0,28420.0,22979.0,33279.0,46423.0,30368.0,63684.0,41638.0,68805.0,65814.0,71964.0,39146.0,96876.0,34445.0,68281.0,37284.0,36790.0,27943.0,22263.0,30261.0,28587.0,43815.0,48195.0,77027.0,71322.0,32765.0,29672.0,23272.0,49912.0,7500.0,68117.0,67225.0,17649.0,55914.0,40059.0,60905.0,75330.0,60689.0,38680.0,61416.0,49767.0,83273.0,29009.0,45057.0,37150.0,43020.0,53154.0,65308.0,76467.0,81044.0,32871.0,55801.0,76320.0,36927.0,48794.0,23478.0,71128.0,70179.0,59462.0,51381.5,38361.0,51381.5,70038.0,42554.0,67445.0,67046.0,42192.0,77610.0,31761.0,34350.0,54591.0,71866.0,25293.0,42000.0,69520.0,64713.0,27889.0,22123.0,51381.5,51381.5,27803.0,51381.5,51651.0,68487.0,51381.5,56796.0,87000.0,79823.0,30828.0,34109.0,53367.0,22390.0,71322.0,79244.0,49912.0,48699.0,80144.0,54252.0,81929.0,76068.0,53204.0,67911.0,14796.0,78128.0,14188.0,20425.0,58646.0,72967.0,48150.0,82332.0,58275.0,44953.0,34587.0,43018.0,45736.0,66476.0,27733.0,69805.0,72217.0,25818.0,37509.0,25176.0,43586.0,53230.0,50116.0,84906.0,61286.0,82333.0,65220.0,33590.0,30992.0,72309.0,16005.0,65487.0,58692.0,40590.0,20587.0,62637.0,29435.0,19346.0,35788.0,36997.0,23539.0,65333.0,78499.0,29732.0,41275.0,63516.0,42769.0,49572.0,69209.0,17148.0,40590.0,30560.0,32146.0,41713.0,34176.0,58482.0,59686.0,60896.0,62994.0,47320.0,74859.0,15253.0,31560.0,72071.0,91172.0,90000.0,41967.0,69263.0,65706.0,60934.0,71965.0,65210.0,79174.0,81380.0,48432.0,52914.0,38946.0,26067.0,44325.0,42523.0,26487.0,53233.0,67716.0,76234.0,84117.0,65487.0,25224.0,89616.0,40851.0,27469.0,82347.0,73803.0,8820.0,43322.0,55593.0,50501.0,37085.0,16185.0,57731.0,48432.0,73807.0,18929.0,35893.0,61014.0,32144.0,14918.0,45146.0,41769.0,88325.0,38054.0,80617.0,5305.0,36807.0,28427.0,82032.0,22775.0,40101.0,58025.0,75777.0,7500.0,33562.0,57642.0,58554.0,63777.0,57967.0,51381.5,24434.0,11012.0,44802.0,26816.0,34421.0,61223.0,64014.0,56981.0,69245.0,52869.0],\"y\":[4,2,10,4,6,10,7,4,2,0,2,3,8,5,3,12,3,6,9,3,5,0,9,9,5,3,4,4,10,3,3,4,6,9,3,12,2,3,5,5,3,3,4,3,9,3,2,4,12,10,13,3,7,10,13,10,4,3,6,11,12,10,8,4,2,2,10,10,5,6,3,13,8,4,2,5,9,3,8,4,2,3,3,13,4,4,6,7,5,8,2,8,3,3,3,6,3,12,7,3,3,11,6,5,3,4,12,3,4,11,5,8,11,6,3,5,5,3,3,10,3,3,3,13,7,6,4,7,10,5,6,9,7,5,13,3,2,2,3,12,7,10,9,3,6,3,2,4,4,7,6,5,4,11,6,5,3,6,10,2,9,4,10,4,4,6,7,3,3,3,3,3,2,8,5,3,3,12,4,3,13,3,3,2,4,8,9,3,2,12,2,3,6,2,12,6,5,3,7,9,9,10,3,2,3,5,3,9,6,9,5,8,9,5,2,6,5,11,4,7,11,4,12,4,4,11,8,2,8,4,2,3,11,4,3,11,3,2,10,4,2,9,8,3,6,6,5,6,3,3,13,5,11,3,5,7,4,2,2,10,6,2,4,3,8,2,6,2,5,4,4,4,4,12,10,5,8,9,4,4,6,8,3,2,13,12,5,5,3,3,9,3,3,11,3,3,6,12,3,9,3,4,3,9,3,10,6,4,3,3,12,10,6,3,3,6,3,10,12,2,2,5,8,5,4,3,3,4,2,3,5,2,3,12,6,3,8,4,11,4,11,8,2,4,3,6,3,2,9,8,5,10,5,3,4,8,5,4,10,10,4,2,6,9,11,3,8,8,3,4,2,12,3,2,2,3,10,3,2,3,6,4,2,2,4,13,3,12,8,6,6,4,12,10,4,2,3,3,3,9,5,4,6,3,4,5,2,8,3,6,12,7,8,10,3,11,9,8,3,3,2,8,5,2,13,10,4,12,9,7,9,13,4,3,12,5,4,3,3,5,3,3,3,2,4,7,3,9,11,7,4,8,10,6,9,5,8,6,8,11,3,8,3,9,5,2,8,12,13,2,9,3,2,11,3,8,7,4,2,3,2,5,4,13,7,10,3,4,12,5,13,3,6,11,3,4,11,13,2,3,3,12,3,12,8,11,4,12,3,12,5,7,5,9,3,3,7,10,3,6,6,9,3,3,10,6,4,8,8,5,6,5,3,5,3,4,7,3,3,4,3,6,8,4,4,4,2,3,3,2,8,2,13,5,11,7,4,4,4,7,13,12,7,5,9,2,2,2,5,3,3,5,3,8,3,3,4,4,6,5,3,3,3,4,5,10,7,3,2,5,9,3,7,2,3,3,3,4,3,12,9,10,3,2,3,3,3,7,6,7,3,3,13,5,3,3,9,7,2,6,3,6,3,7,5,3,4,13,6,12,3,7,2,11,7,9,8,13,6,6,4,6,6,13,6,12,7,9,3,12,4,5,4,5,13,3,9,3,13,3,3,2,2,3,3,5,10,9,6,8,8,2,5,12,3,13,4,13,5,6,6,11,10,12,4,7,4,4,3,2,4,2,3,6,10,5,8,11,7,4,8,3,6,5,2,2,10,3,8,5,5,8,3,9,2,5,8,3,4,2,3,12,11,5,8,3,6,10,4,4,13,4,7,2,6,11,3,3,4,5,11,4,12,2,7,5,10,13,11,6,13,5,8,3,2,3,8,10,2,5,4,7,12,4,7,12,6,7,4,1,2,3,4,3,5,10,3,2,2,3,3,4,4,8,5,4,7,3,5,5,7,7,8,12,3,9,3,4,13,12,7,3,6,8,6,2,3,6,9,12,7,2,4,9,3,8,3,7,2,4,11,7,3,4,3,3,7,7,3,3,12,5,12,3,5,3,6,4,3,7,7,8,8,5,3,3,9,10,2,7,12,3,11,3,10,3,4,3,6,4,8,8,2,8,3,4,4,3,4,10,5,4,4,12,3,2,3,3,3,10,13,4,3,5,10,3,5,11,2,5,5,4,7,8,3,10,4,6,6,6,10,7,2,3,6,8,5,10,4,7,6,7,6,7,9,3,6,4,4,10,6,9,10,6,5,9,4,10,3,5,3,4,11,11,9,5,7,6,5,3,10,9,5,3,9,3,3,4,2,2,4,6,8,4,5,13,8,3,5,6,11,9,4,2,6,10,4,4,7,13,13,12,5,4,7,2,0,3,9,6,8,7,9,13,3,10,3,6,12,4,2,10,3,6,8,9,4,4,3,4,4,10,11,2,2,8,5,4,3,4,8,7,7,3,4,3,3,4,3,2,9,2,2,3,10,5,5,7,3,7,5,4,4,2,8,6,3,0,4,2,4,4,12,5,11,7,2,9,2,3,12,4,5,8,6,10,11,11,2,8,3,8,8,2,13,3,8,9,3,6,9,11,3,8,2,5,4,4,3,6,5,3,4,2,5,7,4,7,3,4,8,5,8,2,10,6,7,5,6,3,11,3,4,9,7,11,5,2,9,3,5,2,3,2,6,9,4,5,4,5,5,6,3,3,11,9,2,3,9,8,6,3,9,3,4,10,4,2,4,13,4,3,8,4,2,13,7,2,11,6,3,9,4,5,10,6,8,7,10,5,12,3,4,8,8,2,3,5,4,3,6,2,10,4,10,6,5,4,3,2,3,4,13,4,3,4,10,2,4,4,9,4,10,5,12,5,8,4,2,9,5,10,3,2,4,7,10,11,6,5,4,10,4,10,2,3,2,9,2,4,9,8,2,8,3,4,3,4,3,3,11,4,12,3,5,3,3,7,5,4,0,2,2,2,13,6,13,11,5,4,5,3,11,2,11,2,8,11,3,2,6,6,3,4,6,4,13,4,7,3,11,2,3,9,7,8,10,3,7,5,3,5,2,10,10,2,2,4,2,4,5,2,11,4,3,5,3,4,8,8,5,12,13,12,10,10,5,10,7,3,8,3,3,2,12,5,12,3,3,13,3,4,1,5,2,5,7,13,8,4,6,3,3,3,6,6,10,4,2,3,3,7,7,9,10,4,2,5,7,11,2,10,5,4,6,2,7,11,7,6,5,3,4,5,5,4,3,7,11,4,8,2,6,6,3,4,3,2,3,5,3,3,3,6,3,4,3,2,3,12,2,3,9,4,5,9,3,4,8,4,5,8,9,2,12,6,2,5,3,8,2,5,3,4,2,10,12,3,2,4,2,2,3,6,3,3,11,3,5,2,5,2,4,4,3,2,3,10,10,8,9,5,8,5,4,9,8,3,5,7,4,4,12,9,7,8,3,3,3,5,8,11,3,8,3,3,3,4,7,4,10,3,4,13,12,12,3,3,6,13,4,5,8,5,9,4,10,9,4,13,3,9,7,13,5,3,6,9,5,6,10,5,13,12,10,2,9,9,2,4,8,4,3,3,6,12,3,3,0,9,7,2,4,3,13,5,13,2,3,5,2,6,9,12,4,12,10,3,10,3,3,3,7,3,4,7,6,4,12,3,4,2,4,13,4,7,2,5,3,5,10,12,6,5,12,3,10,3,6,5,3,8,4,7,2,5,6,3,13,2,4,6,5,12,4,5,2,5,4,6,4,4,13,3,3,12,10,3,3,2,11,4,5,8,11,3,9,5,2,13,2,7,5,9,4,4,6,6,5,4,10,8,2,3,13,5,4,2,4,7,7,12,3,3,3,6,7,3,8,3,6,12,7,4,3,12,2,3,3,5,13,6,6,7,3,12,2,3,3,12,4,13,11,5,6,10,6,13,4,4,3,8,3,7,3,4,3,5,3,5,7,12,11,9,6,2,2,3,13,2,5,3,8,11,3,4,9,3,4,13,4,10,5,10,7,4,12,3,5,6,3,4,9,2,12,7,13,5,3,6,2,12,13,3,2,2,12,10,5,8,13,6,3,3,5,3,13,7,7,2,13,10,5,5,5,3,7,3,4,3,2,4,7,8,3,8,9,3,12,3,6,3,3,3,4,12,7,3,6,4,5,2,13,3,4,10,10,5,4,6,4,12,11,3,4,13,3,3,2,8,3,4,8,10,13,4,8,2,12,4,6,8,3,7,6,6,8,3,9,9,8,2,5,3,4,12,9,2,6,5,9,2,3,4,13,4,5,3,13,6,3,9,4,4,3,6,6,6,0,3,6,3,12,2,10,4,7,10,4,4,12,7,5,2,8,4,7,7,3,3,4,6,3,11,3,11,3,3,8,9,10,13,4,2,4,11,3,7,2,5,7,4,5,8,3,6,5,6,2,4,8,3,3,6,3,8,6,7,3,3,2,13,5,13,5,10,8,4,3,4,2,4,12,6,13,11,3,11,7,6,7,4,7,3,2,9,3,9,8,3,4,5,3,3,12,3,10,7,10,3,4,4,10,10,8,9,7,3,5,10,4,10,6,4,3,4,12,10,12,7,11,5,3,5,5,5,8,4,2,2,4,3,9,4,5,3,5,3,4,8,8,4,11,5,3,8,4,8,6,6,3,2,2,3,4,3,8,3,7,10,5,4,9,8,13,3,2,3,3,3,4,3,5,6,13,4,3,3,7,3,4,11,3,8,3,7,12,10,3,10,8,9,3,3,6,4,4,12,5,10,3,6,4,3,3,3,12,13,12,4,3,3,8,3,12,4,3,4,4,3,8,10,2,11,5,7,2,3,3,4,4,5,5,13,11,7,7,7,4,3,8,2,7,7,7,3,8,5,10,4,3,11,3,6,4,3,4,8,4,12,7,13,3,2,6,10,3,11,8,2,4,2,4,12,4,12,8,10,7,2,3,8,2,6,4,3,2,5,2,3,3,4,4,8,4,2,3,7,4,3,6,3,3,3,4,4,3,9,6,4,4,8,11,3,3,8,7,5,3,7,12,11,5,8,7,10,6,3,6,3,7,4,3,3,13,11,6,6,3,12,2,3,10,6,3,4,3,4,3,2,6,6,11,4,5,4,3,3,2,7,9,3,8,0,2,3,7,2,6,10,11,2,4,6,6,6,8,1,2,2,12,3,2,4,5,13,10,4],\"z\":[8,1,8,2,5,6,7,4,3,1,1,2,3,6,1,7,3,4,11,2,4,0,2,6,7,2,5,2,6,3,2,2,4,3,2,5,3,1,7,8,2,0,1,2,2,3,2,2,5,4,6,2,4,4,3,5,1,2,8,3,4,8,7,7,1,1,11,5,2,4,3,10,9,2,1,7,5,0,10,3,1,3,2,3,1,3,6,5,2,7,1,2,1,3,2,7,2,5,5,2,2,9,6,3,1,4,6,3,5,6,7,8,6,6,2,4,9,1,2,6,2,1,1,6,3,3,2,6,6,5,11,7,6,5,4,1,2,1,2,5,3,5,8,4,3,2,1,4,2,4,8,7,3,8,10,6,0,1,3,1,10,3,5,2,6,3,3,2,1,2,3,2,2,11,9,2,0,5,4,2,6,1,2,1,1,7,4,2,1,8,2,3,5,1,7,4,5,5,8,4,11,7,1,0,1,4,2,11,3,4,5,7,3,8,1,8,4,11,1,3,6,4,9,3,8,2,3,1,5,6,1,1,7,2,1,5,3,1,6,6,2,3,11,1,5,9,4,9,2,1,6,3,4,1,8,3,2,1,1,10,4,1,5,3,3,3,3,2,3,3,4,2,2,6,7,3,3,9,3,8,4,5,2,3,6,6,5,7,1,3,2,3,0,3,1,3,2,8,3,9,2,5,3,6,3,2,8,4,3,2,6,6,3,2,3,4,1,2,3,1,1,10,8,4,2,1,1,3,1,1,9,1,2,4,11,1,7,4,4,2,4,3,1,2,1,4,2,1,6,8,4,3,11,2,2,3,5,4,4,6,2,1,6,6,4,2,4,2,1,5,1,4,3,3,1,1,3,1,1,0,4,4,0,1,7,4,2,2,5,3,5,4,5,4,3,1,1,2,2,9,2,5,6,1,2,5,3,7,3,4,11,5,5,3,2,2,7,10,2,2,1,3,7,1,6,2,1,5,2,8,9,8,1,1,6,9,2,2,1,2,0,1,1,1,5,4,2,3,4,8,2,4,9,5,7,4,2,5,2,3,3,3,4,2,5,1,7,7,6,1,8,1,1,8,1,7,6,7,2,2,6,4,5,5,3,7,1,4,2,6,3,2,9,5,2,4,6,4,1,1,4,4,1,10,5,3,2,5,4,6,6,5,6,5,3,1,4,6,2,2,5,2,2,1,4,4,4,4,4,4,8,3,2,6,2,8,2,3,3,4,4,7,4,2,3,3,3,1,1,3,6,3,3,4,6,5,2,5,2,6,8,6,3,3,4,1,1,1,5,1,4,5,2,6,4,3,2,4,3,7,1,2,2,2,5,4,7,1,2,5,3,1,3,3,2,1,2,3,1,5,3,5,3,5,1,1,1,6,3,3,1,2,6,6,1,1,1,6,2,4,1,6,2,8,11,3,4,7,3,6,2,6,1,9,4,8,6,4,5,9,5,4,3,9,3,7,7,4,1,9,1,7,3,3,9,3,7,0,6,2,1,1,1,2,1,3,7,5,4,6,2,1,10,2,4,3,8,11,8,3,2,5,5,3,4,4,5,1,1,2,2,1,2,8,10,9,8,5,3,4,8,1,9,2,1,1,7,2,5,4,3,5,2,11,1,5,11,1,5,4,2,6,3,6,11,0,7,4,6,4,4,8,4,1,7,6,3,2,3,6,4,2,3,1,10,6,3,6,8,8,7,7,3,2,3,3,8,6,2,2,3,3,11,2,6,5,8,7,2,0,1,2,2,1,6,4,1,1,1,1,2,3,6,7,7,3,5,2,3,1,4,10,11,6,4,4,1,2,6,2,7,1,3,3,5,1,2,5,5,5,5,1,10,9,2,5,2,7,3,5,10,3,1,8,1,2,6,7,2,1,6,6,7,1,7,2,3,3,4,3,5,3,7,3,3,5,6,7,1,7,10,1,6,1,6,2,6,0,4,6,4,5,1,2,2,5,5,4,3,5,4,6,3,6,3,3,2,0,2,5,3,6,2,9,2,2,5,3,1,7,8,6,10,4,4,4,4,4,3,4,3,7,1,2,2,3,3,10,3,7,3,3,7,3,6,1,2,2,1,11,6,4,4,5,6,6,1,11,1,2,3,9,11,7,8,6,7,3,5,2,4,4,4,2,3,2,2,3,3,1,3,5,5,2,5,4,6,2,2,3,5,6,3,1,10,3,3,3,7,4,2,2,6,2,10,0,0,2,11,5,4,5,9,4,2,2,0,10,5,1,1,8,2,8,3,6,4,8,2,5,3,6,4,3,1,10,1,6,3,2,4,6,2,1,2,3,2,11,1,2,5,2,2,1,10,8,8,4,1,5,5,3,2,1,6,5,2,0,4,1,2,2,7,6,6,6,1,7,1,1,3,6,5,6,2,3,7,5,1,4,1,4,8,1,3,3,5,9,2,6,4,6,1,4,1,4,7,5,0,5,11,1,9,1,4,6,2,4,3,2,4,4,3,1,5,4,4,7,4,2,4,2,2,6,4,2,8,1,4,3,3,1,3,2,11,6,2,4,2,6,6,5,1,0,7,2,1,1,6,7,5,3,4,3,6,6,2,2,2,6,2,3,9,9,1,9,10,1,5,1,2,5,7,3,7,4,9,8,6,4,4,1,2,4,3,1,1,8,8,2,2,1,3,2,3,8,4,9,2,1,1,1,6,3,1,5,7,1,4,2,9,2,5,3,6,2,9,3,1,3,10,6,2,1,3,5,2,7,5,4,2,4,3,4,2,3,1,5,2,2,5,11,2,4,3,5,1,3,2,1,8,2,5,1,2,1,2,5,1,6,0,3,0,1,8,4,6,11,7,8,7,7,4,1,4,1,6,7,2,2,4,9,2,4,6,7,5,5,9,2,3,1,3,6,5,4,9,1,7,4,1,9,1,5,7,1,2,2,1,1,2,2,7,4,2,5,2,5,5,10,7,5,10,11,5,7,6,4,3,3,3,1,3,1,5,6,5,7,3,6,3,3,1,8,2,6,7,4,6,5,2,3,1,7,5,5,3,1,1,2,1,5,10,4,4,6,0,4,6,8,3,6,5,2,8,2,6,8,2,6,6,1,4,3,4,2,1,4,8,7,4,2,5,4,4,3,1,1,2,5,1,1,1,8,4,2,1,1,2,6,1,2,9,6,5,9,4,5,8,3,6,7,4,3,7,5,1,5,5,4,2,2,2,2,1,2,4,1,1,2,1,1,2,6,1,1,6,2,6,1,5,0,1,3,2,1,3,3,7,2,4,10,4,4,3,3,3,2,7,4,4,2,6,5,7,4,1,3,1,2,8,4,0,9,1,4,1,8,6,3,7,2,3,7,10,5,1,1,7,6,4,8,11,6,7,6,7,7,2,4,2,4,9,9,4,1,7,8,5,4,5,11,2,5,3,3,10,4,3,4,10,2,3,2,10,4,2,2,0,7,4,2,4,1,6,5,7,3,3,5,1,3,3,11,3,9,5,0,9,3,2,4,8,0,1,4,6,4,9,1,4,1,2,7,3,7,1,5,3,6,5,5,11,6,7,2,3,1,7,5,3,4,2,7,1,4,5,2,3,1,3,3,3,7,3,4,2,6,2,7,3,7,2,1,8,4,4,1,2,2,5,10,7,4,4,2,6,5,1,5,1,3,4,9,3,2,5,8,3,5,3,6,4,3,9,4,2,1,4,11,8,3,2,1,1,2,9,1,7,0,6,5,7,2,2,3,3,1,2,5,5,7,4,6,5,6,3,1,2,6,1,7,11,4,5,7,6,8,1,5,1,5,2,5,3,2,0,4,1,4,10,8,3,7,8,1,1,2,3,1,4,1,9,8,3,3,8,3,3,7,5,7,3,4,8,1,5,3,6,6,2,4,7,1,7,5,6,6,2,4,1,9,7,2,1,1,3,5,7,8,4,6,1,4,6,3,6,11,4,1,6,7,4,8,5,1,7,2,1,2,5,1,7,7,2,3,9,2,9,1,2,2,3,3,4,3,2,1,4,3,5,3,2,2,2,9,11,5,5,6,2,2,6,2,1,3,2,3,1,3,3,6,7,7,10,3,5,1,5,2,4,3,1,4,4,2,5,1,9,5,6,1,5,2,2,4,9,1,5,4,3,4,4,4,6,4,2,2,2,4,7,8,4,3,2,4,6,6,0,2,8,1,5,1,4,4,8,10,2,2,2,8,5,1,4,5,6,8,2,1,9,5,2,7,2,6,1,1,9,3,7,5,5,1,4,5,1,7,1,5,9,6,4,4,2,10,2,3,1,4,3,2,1,4,3,3,3,6,3,1,1,3,7,4,5,10,4,1,3,2,1,1,6,7,7,11,1,4,3,9,9,2,4,3,3,6,1,4,11,0,1,5,1,1,4,2,3,3,4,3,3,3,3,4,10,4,1,1,5,6,2,8,5,2,3,3,6,8,6,3,3,6,1,5,6,3,4,3,2,1,4,3,5,2,6,0,4,3,3,3,5,3,9,5,1,7,6,4,7,4,1,1,3,0,2,2,8,5,3,8,5,4,7,11,2,0,2,2,1,0,2,2,4,8,8,2,0,1,10,2,11,7,3,11,6,3,10,4,2,10,5,4,2,2,4,4,3,7,2,5,1,7,6,3,1,3,2,7,9,4,3,3,4,2,9,4,2,4,3,1,6,6,1,5,9,5,1,2,2,4,3,6,6,9,5,8,4,6,1,0,5,1,4,4,10,1,3,4,4,2,1,6,1,8,2,2,2,7,5,5,8,7,1,2,7,6,2,6,3,0,3,1,3,5,1,5,7,4,8,1,1,5,2,3,8,3,1,2,3,1,2,2,2,9,11,2,3,4,1,2,5,3,3,1,2,3,1,7,4,9,6,5,6,1,2,5,4,4,1,9,11,6,6,9,5,4,7,7,3,3,8,1,2,1,7,8,7,3,1,7,1,0,7,9,3,3,6,5,3,2,8,7,5,1,3,9,2,1,1,8,6,2,4,1,1,2,4,1,6,3,3,3,2,7,8,11,4,0,2,3,9,0,1,9,8,2,6,3],\"type\":\"scatter3d\"}],                        {\"template\":{\"data\":{\"histogram2dcontour\":[{\"type\":\"histogram2dcontour\",\"colorbar\":{\"outlinewidth\":0,\"ticks\":\"\"},\"colorscale\":[[0.0,\"#0d0887\"],[0.1111111111111111,\"#46039f\"],[0.2222222222222222,\"#7201a8\"],[0.3333333333333333,\"#9c179e\"],[0.4444444444444444,\"#bd3786\"],[0.5555555555555556,\"#d8576b\"],[0.6666666666666666,\"#ed7953\"],[0.7777777777777778,\"#fb9f3a\"],[0.8888888888888888,\"#fdca26\"],[1.0,\"#f0f921\"]]}],\"choropleth\":[{\"type\":\"choropleth\",\"colorbar\":{\"outlinewidth\":0,\"ticks\":\"\"}}],\"histogram2d\":[{\"type\":\"histogram2d\",\"colorbar\":{\"outlinewidth\":0,\"ticks\":\"\"},\"colorscale\":[[0.0,\"#0d0887\"],[0.1111111111111111,\"#46039f\"],[0.2222222222222222,\"#7201a8\"],[0.3333333333333333,\"#9c179e\"],[0.4444444444444444,\"#bd3786\"],[0.5555555555555556,\"#d8576b\"],[0.6666666666666666,\"#ed7953\"],[0.7777777777777778,\"#fb9f3a\"],[0.8888888888888888,\"#fdca26\"],[1.0,\"#f0f921\"]]}],\"heatmap\":[{\"type\":\"heatmap\",\"colorbar\":{\"outlinewidth\":0,\"ticks\":\"\"},\"colorscale\":[[0.0,\"#0d0887\"],[0.1111111111111111,\"#46039f\"],[0.2222222222222222,\"#7201a8\"],[0.3333333333333333,\"#9c179e\"],[0.4444444444444444,\"#bd3786\"],[0.5555555555555556,\"#d8576b\"],[0.6666666666666666,\"#ed7953\"],[0.7777777777777778,\"#fb9f3a\"],[0.8888888888888888,\"#fdca26\"],[1.0,\"#f0f921\"]]}],\"heatmapgl\":[{\"type\":\"heatmapgl\",\"colorbar\":{\"outlinewidth\":0,\"ticks\":\"\"},\"colorscale\":[[0.0,\"#0d0887\"],[0.1111111111111111,\"#46039f\"],[0.2222222222222222,\"#7201a8\"],[0.3333333333333333,\"#9c179e\"],[0.4444444444444444,\"#bd3786\"],[0.5555555555555556,\"#d8576b\"],[0.6666666666666666,\"#ed7953\"],[0.7777777777777778,\"#fb9f3a\"],[0.8888888888888888,\"#fdca26\"],[1.0,\"#f0f921\"]]}],\"contourcarpet\":[{\"type\":\"contourcarpet\",\"colorbar\":{\"outlinewidth\":0,\"ticks\":\"\"}}],\"contour\":[{\"type\":\"contour\",\"colorbar\":{\"outlinewidth\":0,\"ticks\":\"\"},\"colorscale\":[[0.0,\"#0d0887\"],[0.1111111111111111,\"#46039f\"],[0.2222222222222222,\"#7201a8\"],[0.3333333333333333,\"#9c179e\"],[0.4444444444444444,\"#bd3786\"],[0.5555555555555556,\"#d8576b\"],[0.6666666666666666,\"#ed7953\"],[0.7777777777777778,\"#fb9f3a\"],[0.8888888888888888,\"#fdca26\"],[1.0,\"#f0f921\"]]}],\"surface\":[{\"type\":\"surface\",\"colorbar\":{\"outlinewidth\":0,\"ticks\":\"\"},\"colorscale\":[[0.0,\"#0d0887\"],[0.1111111111111111,\"#46039f\"],[0.2222222222222222,\"#7201a8\"],[0.3333333333333333,\"#9c179e\"],[0.4444444444444444,\"#bd3786\"],[0.5555555555555556,\"#d8576b\"],[0.6666666666666666,\"#ed7953\"],[0.7777777777777778,\"#fb9f3a\"],[0.8888888888888888,\"#fdca26\"],[1.0,\"#f0f921\"]]}],\"mesh3d\":[{\"type\":\"mesh3d\",\"colorbar\":{\"outlinewidth\":0,\"ticks\":\"\"}}],\"scatter\":[{\"fillpattern\":{\"fillmode\":\"overlay\",\"size\":10,\"solidity\":0.2},\"type\":\"scatter\"}],\"parcoords\":[{\"type\":\"parcoords\",\"line\":{\"colorbar\":{\"outlinewidth\":0,\"ticks\":\"\"}}}],\"scatterpolargl\":[{\"type\":\"scatterpolargl\",\"marker\":{\"colorbar\":{\"outlinewidth\":0,\"ticks\":\"\"}}}],\"bar\":[{\"error_x\":{\"color\":\"#2a3f5f\"},\"error_y\":{\"color\":\"#2a3f5f\"},\"marker\":{\"line\":{\"color\":\"#E5ECF6\",\"width\":0.5},\"pattern\":{\"fillmode\":\"overlay\",\"size\":10,\"solidity\":0.2}},\"type\":\"bar\"}],\"scattergeo\":[{\"type\":\"scattergeo\",\"marker\":{\"colorbar\":{\"outlinewidth\":0,\"ticks\":\"\"}}}],\"scatterpolar\":[{\"type\":\"scatterpolar\",\"marker\":{\"colorbar\":{\"outlinewidth\":0,\"ticks\":\"\"}}}],\"histogram\":[{\"marker\":{\"pattern\":{\"fillmode\":\"overlay\",\"size\":10,\"solidity\":0.2}},\"type\":\"histogram\"}],\"scattergl\":[{\"type\":\"scattergl\",\"marker\":{\"colorbar\":{\"outlinewidth\":0,\"ticks\":\"\"}}}],\"scatter3d\":[{\"type\":\"scatter3d\",\"line\":{\"colorbar\":{\"outlinewidth\":0,\"ticks\":\"\"}},\"marker\":{\"colorbar\":{\"outlinewidth\":0,\"ticks\":\"\"}}}],\"scattermapbox\":[{\"type\":\"scattermapbox\",\"marker\":{\"colorbar\":{\"outlinewidth\":0,\"ticks\":\"\"}}}],\"scatterternary\":[{\"type\":\"scatterternary\",\"marker\":{\"colorbar\":{\"outlinewidth\":0,\"ticks\":\"\"}}}],\"scattercarpet\":[{\"type\":\"scattercarpet\",\"marker\":{\"colorbar\":{\"outlinewidth\":0,\"ticks\":\"\"}}}],\"carpet\":[{\"aaxis\":{\"endlinecolor\":\"#2a3f5f\",\"gridcolor\":\"white\",\"linecolor\":\"white\",\"minorgridcolor\":\"white\",\"startlinecolor\":\"#2a3f5f\"},\"baxis\":{\"endlinecolor\":\"#2a3f5f\",\"gridcolor\":\"white\",\"linecolor\":\"white\",\"minorgridcolor\":\"white\",\"startlinecolor\":\"#2a3f5f\"},\"type\":\"carpet\"}],\"table\":[{\"cells\":{\"fill\":{\"color\":\"#EBF0F8\"},\"line\":{\"color\":\"white\"}},\"header\":{\"fill\":{\"color\":\"#C8D4E3\"},\"line\":{\"color\":\"white\"}},\"type\":\"table\"}],\"barpolar\":[{\"marker\":{\"line\":{\"color\":\"#E5ECF6\",\"width\":0.5},\"pattern\":{\"fillmode\":\"overlay\",\"size\":10,\"solidity\":0.2}},\"type\":\"barpolar\"}],\"pie\":[{\"automargin\":true,\"type\":\"pie\"}]},\"layout\":{\"autotypenumbers\":\"strict\",\"colorway\":[\"#636efa\",\"#EF553B\",\"#00cc96\",\"#ab63fa\",\"#FFA15A\",\"#19d3f3\",\"#FF6692\",\"#B6E880\",\"#FF97FF\",\"#FECB52\"],\"font\":{\"color\":\"#2a3f5f\"},\"hovermode\":\"closest\",\"hoverlabel\":{\"align\":\"left\"},\"paper_bgcolor\":\"white\",\"plot_bgcolor\":\"#E5ECF6\",\"polar\":{\"bgcolor\":\"#E5ECF6\",\"angularaxis\":{\"gridcolor\":\"white\",\"linecolor\":\"white\",\"ticks\":\"\"},\"radialaxis\":{\"gridcolor\":\"white\",\"linecolor\":\"white\",\"ticks\":\"\"}},\"ternary\":{\"bgcolor\":\"#E5ECF6\",\"aaxis\":{\"gridcolor\":\"white\",\"linecolor\":\"white\",\"ticks\":\"\"},\"baxis\":{\"gridcolor\":\"white\",\"linecolor\":\"white\",\"ticks\":\"\"},\"caxis\":{\"gridcolor\":\"white\",\"linecolor\":\"white\",\"ticks\":\"\"}},\"coloraxis\":{\"colorbar\":{\"outlinewidth\":0,\"ticks\":\"\"}},\"colorscale\":{\"sequential\":[[0.0,\"#0d0887\"],[0.1111111111111111,\"#46039f\"],[0.2222222222222222,\"#7201a8\"],[0.3333333333333333,\"#9c179e\"],[0.4444444444444444,\"#bd3786\"],[0.5555555555555556,\"#d8576b\"],[0.6666666666666666,\"#ed7953\"],[0.7777777777777778,\"#fb9f3a\"],[0.8888888888888888,\"#fdca26\"],[1.0,\"#f0f921\"]],\"sequentialminus\":[[0.0,\"#0d0887\"],[0.1111111111111111,\"#46039f\"],[0.2222222222222222,\"#7201a8\"],[0.3333333333333333,\"#9c179e\"],[0.4444444444444444,\"#bd3786\"],[0.5555555555555556,\"#d8576b\"],[0.6666666666666666,\"#ed7953\"],[0.7777777777777778,\"#fb9f3a\"],[0.8888888888888888,\"#fdca26\"],[1.0,\"#f0f921\"]],\"diverging\":[[0,\"#8e0152\"],[0.1,\"#c51b7d\"],[0.2,\"#de77ae\"],[0.3,\"#f1b6da\"],[0.4,\"#fde0ef\"],[0.5,\"#f7f7f7\"],[0.6,\"#e6f5d0\"],[0.7,\"#b8e186\"],[0.8,\"#7fbc41\"],[0.9,\"#4d9221\"],[1,\"#276419\"]]},\"xaxis\":{\"gridcolor\":\"white\",\"linecolor\":\"white\",\"ticks\":\"\",\"title\":{\"standoff\":15},\"zerolinecolor\":\"white\",\"automargin\":true,\"zerolinewidth\":2},\"yaxis\":{\"gridcolor\":\"white\",\"linecolor\":\"white\",\"ticks\":\"\",\"title\":{\"standoff\":15},\"zerolinecolor\":\"white\",\"automargin\":true,\"zerolinewidth\":2},\"scene\":{\"xaxis\":{\"backgroundcolor\":\"#E5ECF6\",\"gridcolor\":\"white\",\"linecolor\":\"white\",\"showbackground\":true,\"ticks\":\"\",\"zerolinecolor\":\"white\",\"gridwidth\":2},\"yaxis\":{\"backgroundcolor\":\"#E5ECF6\",\"gridcolor\":\"white\",\"linecolor\":\"white\",\"showbackground\":true,\"ticks\":\"\",\"zerolinecolor\":\"white\",\"gridwidth\":2},\"zaxis\":{\"backgroundcolor\":\"#E5ECF6\",\"gridcolor\":\"white\",\"linecolor\":\"white\",\"showbackground\":true,\"ticks\":\"\",\"zerolinecolor\":\"white\",\"gridwidth\":2}},\"shapedefaults\":{\"line\":{\"color\":\"#2a3f5f\"}},\"annotationdefaults\":{\"arrowcolor\":\"#2a3f5f\",\"arrowhead\":0,\"arrowwidth\":1},\"geo\":{\"bgcolor\":\"white\",\"landcolor\":\"#E5ECF6\",\"subunitcolor\":\"white\",\"showland\":true,\"showlakes\":true,\"lakecolor\":\"white\"},\"title\":{\"x\":0.05},\"mapbox\":{\"style\":\"light\"}}},\"scene\":{\"domain\":{\"x\":[0.0,1.0],\"y\":[0.0,1.0]},\"xaxis\":{\"title\":{\"text\":\"\\u0414\\u043e\\u0445\\u0456\\u0434\"}},\"yaxis\":{\"title\":{\"text\":\"\\u041f\\u043e\\u043a\\u0443\\u043f\\u043a\\u0438 \\u0432 \\u043c\\u0430\\u0433\\u0430\\u0437\\u0438\\u043d\\u0456\"}},\"zaxis\":{\"title\":{\"text\":\"\\u041f\\u043e\\u043a\\u0443\\u043f\\u043a\\u0438 \\u043e\\u043d\\u043b\\u0430\\u0439\\u043d\"}}},\"coloraxis\":{\"colorbar\":{\"title\":{\"text\":\"Cluster_Agglomerative\"}},\"colorscale\":[[0.0,\"#0d0887\"],[0.1111111111111111,\"#46039f\"],[0.2222222222222222,\"#7201a8\"],[0.3333333333333333,\"#9c179e\"],[0.4444444444444444,\"#bd3786\"],[0.5555555555555556,\"#d8576b\"],[0.6666666666666666,\"#ed7953\"],[0.7777777777777778,\"#fb9f3a\"],[0.8888888888888888,\"#fdca26\"],[1.0,\"#f0f921\"]]},\"legend\":{\"tracegroupgap\":0},\"title\":{\"text\":\"3D \\u0432\\u0456\\u0437\\u0443\\u0430\\u043b\\u0456\\u0437\\u0430\\u0446\\u0456\\u044f \\u043a\\u043b\\u0430\\u0441\\u0442\\u0435\\u0440\\u0456\\u0432 (Agglomerative Clustering)\"}},                        {\"responsive\": true}                    ).then(function(){\n",
              "                            \n",
              "var gd = document.getElementById('c1c99cf7-662c-4d08-b4a7-e2a8594f1e7a');\n",
              "var x = new MutationObserver(function (mutations, observer) {{\n",
              "        var display = window.getComputedStyle(gd).display;\n",
              "        if (!display || display === 'none') {{\n",
              "            console.log([gd, 'removed!']);\n",
              "            Plotly.purge(gd);\n",
              "            observer.disconnect();\n",
              "        }}\n",
              "}});\n",
              "\n",
              "// Listen for the removal of the full notebook cells\n",
              "var notebookContainer = gd.closest('#notebook-container');\n",
              "if (notebookContainer) {{\n",
              "    x.observe(notebookContainer, {childList: true});\n",
              "}}\n",
              "\n",
              "// Listen for the clearing of the current output cell\n",
              "var outputEl = gd.closest('.output');\n",
              "if (outputEl) {{\n",
              "    x.observe(outputEl, {childList: true});\n",
              "}}\n",
              "\n",
              "                        })                };                            </script>        </div>\n",
              "</body>\n",
              "</html>"
            ]
          },
          "metadata": {}
        }
      ]
    },
    {
      "cell_type": "markdown",
      "source": [
        "Отже, середня метрика силуету 0.4613 для Agglomerative Clustering значно краща за інші. Це означає, що Agglomerative Clustering забезпечує кращу структуру кластерів і розділяє дані на більш чіткі та однорідні групи. Результати кластеризації є досить чіткими та відокремленими. Кластери мають значно кращу структуру порівняно з KMeans після видалення викидів, де метрика була лише\n",
        "0.1497. Але трошки слабшою ніж результат агломеративної кластеризації - 0.4625."
      ],
      "metadata": {
        "id": "J2K5_FyXM7bi"
      }
    }
  ]
}