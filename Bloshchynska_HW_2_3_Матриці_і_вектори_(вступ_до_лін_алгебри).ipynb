{
  "nbformat": 4,
  "nbformat_minor": 0,
  "metadata": {
    "colab": {
      "provenance": []
    },
    "kernelspec": {
      "name": "python3",
      "display_name": "Python 3"
    },
    "language_info": {
      "name": "python"
    }
  },
  "cells": [
    {
      "cell_type": "markdown",
      "source": [
        "### Завдання 1: Створення матриць та векторів\n",
        "1. Створіть `numpy` вектор `vector` розмірністю 10 з випадковими дійсними значеннями в діапазоні від 0 до 1. Можна скористатись двома альтернативними варіантами:\n",
        "  1. Генерація випадкових чисел з модулем [`random.uniform`](https://docs.python.org/3/library/random.html).\n",
        "  2. Створення вектора з допомогою метода `numpy` [np.random.rand](https://numpy.org/doc/stable/reference/random/generated/numpy.random.rand.html)\n",
        "\n",
        "2. Створіть матрицю `matrix` типу `numpy.array` розмірності 3x3 з наступними значеннями\n",
        "\n",
        "  $$\n",
        "  matrix = \\begin{bmatrix}\n",
        "  11 & 14 & 17 \\\\\n",
        "  20 & 23 & 26 \\\\\n",
        "  29 & 32 & 35\n",
        "  \\end{bmatrix}\n",
        "  $$\n",
        "\n",
        "  будь-яким відомими Вам способом.\n",
        "\n",
        "Виведіть на екран вектор і матрицю, а також їх розміри.\n"
      ],
      "metadata": {
        "id": "efug1V4CM0lT"
      }
    },
    {
      "cell_type": "code",
      "source": [
        "import numpy as np\n",
        "\n",
        "# Створення вектора з випадковими дійсними значеннями в діапазоні від 0 до 1\n",
        "vector = np.random.rand(10)\n",
        "\n",
        "# Створення матриці 3x3 з заданими значеннями\n",
        "matrix = np.array([[1, 1, 20],\n",
        "                  [29, 14, 23],\n",
        "                  [32, 17, 26]])\n",
        "\n",
        "# Виведення вектора, матриці та їхніх розмірностей\n",
        "print(\"Вектор:\")\n",
        "print(vector)\n",
        "print(\"Розмірність вектора:\", vector.shape)\n",
        "\n",
        "print(\"\\nМатриця:\")\n",
        "print(matrix)\n",
        "print(\"Розмірність матриці:\", matrix.shape)"
      ],
      "metadata": {
        "colab": {
          "base_uri": "https://localhost:8080/"
        },
        "id": "QuYoTKtpw4L4",
        "outputId": "c5e6a043-8bb0-4b8d-e1a8-57c7c72507af"
      },
      "execution_count": 8,
      "outputs": [
        {
          "output_type": "stream",
          "name": "stdout",
          "text": [
            "Вектор:\n",
            "[0.94383265 0.16513354 0.8510505  0.53493263 0.59766075 0.36934428\n",
            " 0.04070677 0.60488263 0.7712103  0.45187662]\n",
            "Розмірність вектора: (10,)\n",
            "\n",
            "Матриця:\n",
            "[[ 1  1 20]\n",
            " [29 14 23]\n",
            " [32 17 26]]\n",
            "Розмірність матриці: (3, 3)\n"
          ]
        }
      ]
    },
    {
      "cell_type": "markdown",
      "source": [
        "\n",
        "### Завдання 2: Операції над векторами та матрицями\n",
        "Виконайте кожну з зазначених операцій над зазначеними оʼєктами і виведіть результат на екран:\n",
        "1. Додайте до кожного значення вектора `vector` число 10 і округліть кожне значення до 2 знаків після коми без використання циклів.\n",
        "2. Помножте кожен елемент матриці з першого завдання на 2 без використання циклів.\n",
        "3. Створіть новий вектор, який містить квадрат кожного `vector` без циклів.\n"
      ],
      "metadata": {
        "id": "TSJ1P4OuOVe2"
      }
    },
    {
      "cell_type": "code",
      "source": [
        "# Додавання числа 10 до кожного значення вектора та округлення до 2 знаків після коми\n",
        "vector_plus_10 = np.round(vector + 10, 2)\n",
        "\n",
        "# Помноження кожного елементу матриці на 2\n",
        "matrix_times_2 = matrix * 2\n",
        "\n",
        "# Створення нового вектора, який містить квадрат кожного значення vector\n",
        "vector_squared = np.square(vector)\n",
        "\n",
        "# Виведення результатів на екран\n",
        "print(\"Вектор після додавання числа 10 та округлення до 2 знаків після коми:\")\n",
        "print(vector_plus_10)\n",
        "\n",
        "print(\"\\nМатриця після множення кожного елементу на 2:\")\n",
        "print(matrix_times_2)\n",
        "\n",
        "print(\"\\nНовий вектор, який містить квадрат кожного значення вектора:\")\n",
        "print(vector_squared)"
      ],
      "metadata": {
        "id": "nAAojtyUVJXN",
        "colab": {
          "base_uri": "https://localhost:8080/"
        },
        "outputId": "d91c21d2-186a-4f0a-e282-4eb932574332"
      },
      "execution_count": 9,
      "outputs": [
        {
          "output_type": "stream",
          "name": "stdout",
          "text": [
            "Вектор після додавання числа 10 та округлення до 2 знаків після коми:\n",
            "[10.94 10.17 10.85 10.53 10.6  10.37 10.04 10.6  10.77 10.45]\n",
            "\n",
            "Матриця після множення кожного елементу на 2:\n",
            "[[ 2  2 40]\n",
            " [58 28 46]\n",
            " [64 34 52]]\n",
            "\n",
            "Новий вектор, який містить квадрат кожного значення вектора:\n",
            "[0.89082006 0.02726909 0.72428696 0.28615292 0.35719837 0.1364152\n",
            " 0.00165704 0.365883   0.59476533 0.20419248]\n"
          ]
        }
      ]
    },
    {
      "cell_type": "markdown",
      "source": [
        "\n",
        "### Завдання 3: Множення матриць\n",
        "1. Задані дві матриці `A` і `B`розмірностями 3x2 та 2х3. Виконайте їхнє множення, щоб отримати матрицю 2x2. Виведіть результуючу матрицю `result_matrix` на екран.\n",
        "\n",
        "2. Заданий вектор `C` розмірністю 2х1. Подумайте спочатку, яку розмірність Ви отрмаєте, коли домножите `result_matrix` на вектор `C` і який результат буде. А потім виконайте множення і виведіть результат на екран.\n",
        "\n",
        "3. Задана матриця `D` розмірністю 2х2. Подумайте спочатку, яку розмірність Ви отрмаєте, коли домножите `result_matrix` на матрицю `D` і який результат буде. А потім виконайте множення і виведіть результат на екран."
      ],
      "metadata": {
        "id": "u6RvWVfhPy-k"
      }
    },
    {
      "cell_type": "code",
      "source": [
        "A = np.array(\n",
        "    [[0.18, 0.53],\n",
        "     [0.75, 0.47],\n",
        "     [0.35, 0.21]])\n",
        "\n",
        "B = np.array(\n",
        "    [[0.17, 0.58, 0.75],\n",
        "     [0.38, 0.11, 0.15]])\n",
        "\n",
        "C = np.array([[0], [1]])\n",
        "\n",
        "D = np.array([[0,1], [1,0]])\n",
        "\n",
        "display(A, B, C, D)"
      ],
      "metadata": {
        "id": "RwXfPzlbSJ44",
        "colab": {
          "base_uri": "https://localhost:8080/",
          "height": 180
        },
        "outputId": "429ee2c6-5a90-4a10-ae00-bed79815066b"
      },
      "execution_count": 10,
      "outputs": [
        {
          "output_type": "display_data",
          "data": {
            "text/plain": [
              "array([[0.18, 0.53],\n",
              "       [0.75, 0.47],\n",
              "       [0.35, 0.21]])"
            ]
          },
          "metadata": {}
        },
        {
          "output_type": "display_data",
          "data": {
            "text/plain": [
              "array([[0.17, 0.58, 0.75],\n",
              "       [0.38, 0.11, 0.15]])"
            ]
          },
          "metadata": {}
        },
        {
          "output_type": "display_data",
          "data": {
            "text/plain": [
              "array([[0],\n",
              "       [1]])"
            ]
          },
          "metadata": {}
        },
        {
          "output_type": "display_data",
          "data": {
            "text/plain": [
              "array([[0, 1],\n",
              "       [1, 0]])"
            ]
          },
          "metadata": {}
        }
      ]
    },
    {
      "cell_type": "code",
      "source": [
        "# Множення матриць A і B\n",
        "result_matrix = np.dot(A, B)\n",
        "\n",
        "print(\"Результат множення матриць A і B:\")\n",
        "print(result_matrix)"
      ],
      "metadata": {
        "id": "z7-boTbhVKkj",
        "colab": {
          "base_uri": "https://localhost:8080/"
        },
        "outputId": "acf98d85-739c-495f-bb9a-3d0d4c9aa227"
      },
      "execution_count": 32,
      "outputs": [
        {
          "output_type": "stream",
          "name": "stdout",
          "text": [
            "Результат множення матриць A і B:\n",
            "[[0.232  0.1627 0.2145]\n",
            " [0.3061 0.4867 0.633 ]\n",
            " [0.1393 0.2261 0.294 ]]\n"
          ]
        }
      ]
    },
    {
      "cell_type": "code",
      "source": [
        "# Множення результуючої матриці на вектор C\n",
        "result_vector_C = np.dot(result_matrix[:, :2], C)\n",
        "\n",
        "# Виведення результату\n",
        "print(\"\\nРезультат множення результуючої матриці на вектор C:\")\n",
        "print(result_vector_C)"
      ],
      "metadata": {
        "colab": {
          "base_uri": "https://localhost:8080/"
        },
        "id": "6bf_6SGT2ZWN",
        "outputId": "0d835f27-2b52-46b2-a331-2fce59de9cd3"
      },
      "execution_count": 51,
      "outputs": [
        {
          "output_type": "stream",
          "name": "stdout",
          "text": [
            "\n",
            "Результат множення результуючої матриці на вектор C:\n",
            "[[0.1627]\n",
            " [0.4867]\n",
            " [0.2261]]\n"
          ]
        }
      ]
    },
    {
      "cell_type": "code",
      "source": [
        "# Відфільтруємо перші дві колонки result_matrix для множення на D\n",
        "result_matrix_filtered = result_matrix[:, :2]\n",
        "\n",
        "# Множення result_matrix_filtered на матрицю D\n",
        "result_matrix_D = np.dot(result_matrix_filtered, D)\n",
        "\n",
        "# Виведення результату\n",
        "print(\"\\nРезультуюча матриця result_matrix_D:\")\n",
        "print(result_matrix_D)"
      ],
      "metadata": {
        "colab": {
          "base_uri": "https://localhost:8080/"
        },
        "id": "c2H41jRb8DUH",
        "outputId": "8ac646aa-28a6-4caf-d2de-753b77fed3f9"
      },
      "execution_count": 52,
      "outputs": [
        {
          "output_type": "stream",
          "name": "stdout",
          "text": [
            "\n",
            "Результуюча матриця result_matrix_D:\n",
            "[[0.1627 0.232 ]\n",
            " [0.4867 0.3061]\n",
            " [0.2261 0.1393]]\n"
          ]
        }
      ]
    },
    {
      "cell_type": "markdown",
      "source": [
        "\n",
        "### Завдання 4: Транспонування матриць\n",
        "1. Транспонуйте `result_matrix`.\n",
        "2. Зробіть транспонування вектора `vector` і виведіть форму нової структури. Чи бачите ви зміну?\n",
        "3. Використайте операцію `numpy.expand_dims` над вектором `vector` з аргументом axis=1. Запишіть отриманий результат в змінну `column_vector` і виведіть на екран. Порівняйте з `vector`.\n",
        "4. Зробіть транспонування `column_vector`, виведіть результат на екран разом з розмірностями отриманої структури.\n",
        "\n",
        "\n"
      ],
      "metadata": {
        "id": "wohp0_cxSGpl"
      }
    },
    {
      "cell_type": "code",
      "source": [
        "# Транспонування result_matrix\n",
        "transposed_result_matrix = result_matrix.T\n",
        "\n",
        "# Виведення форми транспонованої матриці\n",
        "print(\"Форма транспонованої матриці:\", transposed_result_matrix.shape)\n",
        "\n",
        "# Транспонування вектора vector\n",
        "transposed_vector = vector.T\n",
        "\n",
        "# Виведення форми транспонованого вектора\n",
        "print(\"Форма транспонованого вектора:\", transposed_vector.shape)\n",
        "\n",
        "# Використання операції numpy.expand_dims для створення стовпчикового вектора\n",
        "column_vector = np.expand_dims(vector, axis=1)\n",
        "\n",
        "# Виведення форми стовпчикового вектора\n",
        "print(\"Форма стовпчикового вектора:\", column_vector.shape)\n",
        "\n",
        "# Транспонування стовпчикового вектора\n",
        "transposed_column_vector = column_vector.T\n",
        "\n",
        "# Виведення форми транспонованого стовпчикового вектора\n",
        "print(\"Форма транспонованого стовпчикового вектора:\", transposed_column_vector.shape)"
      ],
      "metadata": {
        "id": "4hFcq1baVLii",
        "colab": {
          "base_uri": "https://localhost:8080/"
        },
        "outputId": "6ceb9d36-af44-4017-f28d-bfa4ce155a0d"
      },
      "execution_count": 53,
      "outputs": [
        {
          "output_type": "stream",
          "name": "stdout",
          "text": [
            "Форма транспонованої матриці: (3, 3)\n",
            "Форма транспонованого вектора: (10,)\n",
            "Форма стовпчикового вектора: (10, 1)\n",
            "Форма транспонованого стовпчикового вектора: (1, 10)\n"
          ]
        }
      ]
    }
  ]
}