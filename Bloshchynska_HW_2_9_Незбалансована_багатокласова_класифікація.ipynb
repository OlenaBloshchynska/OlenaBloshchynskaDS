{
  "nbformat": 4,
  "nbformat_minor": 0,
  "metadata": {
    "colab": {
      "provenance": []
    },
    "kernelspec": {
      "name": "python3",
      "display_name": "Python 3"
    },
    "language_info": {
      "name": "python"
    }
  },
  "cells": [
    {
      "cell_type": "markdown",
      "source": [
        "У цьому ДЗ ми потренуємось розв'язувати задачу багатокласової класифікації за допомогою логістичної регресії з використанням стратегій One-vs-Rest та One-vs-One, оцінити якість моделей та порівняти стратегії."
      ],
      "metadata": {
        "id": "VUPArbcFJKzJ"
      }
    },
    {
      "cell_type": "markdown",
      "source": [
        "### Опис задачі і даних\n",
        "\n",
        "**Контекст**\n",
        "\n",
        "В цьому ДЗ ми працюємо з даними про сегментацію клієнтів.\n",
        "\n",
        "Сегментація клієнтів – це практика поділу бази клієнтів на групи індивідів, які схожі між собою за певними критеріями, що мають значення для маркетингу, такими як вік, стать, інтереси та звички у витратах.\n",
        "\n",
        "Компанії, які використовують сегментацію клієнтів, виходять з того, що кожен клієнт є унікальним і що їхні маркетингові зусилля будуть більш ефективними, якщо вони орієнтуватимуться на конкретні, менші групи зі зверненнями, які ці споживачі вважатимуть доречними та які спонукатимуть їх до купівлі. Компанії також сподіваються отримати глибше розуміння уподобань та потреб своїх клієнтів з метою виявлення того, що кожен сегмент цінує найбільше, щоб точніше адаптувати маркетингові матеріали до цього сегменту.\n",
        "\n",
        "**Зміст**.\n",
        "\n",
        "Автомобільна компанія планує вийти на нові ринки зі своїми існуючими продуктами (P1, P2, P3, P4 і P5). Після інтенсивного маркетингового дослідження вони дійшли висновку, що поведінка нового ринку схожа на їхній існуючий ринок.\n",
        "\n",
        "На своєму існуючому ринку команда з продажу класифікувала всіх клієнтів на 4 сегменти (A, B, C, D). Потім вони здійснювали сегментовані звернення та комунікацію з різними сегментами клієнтів. Ця стратегія працювала для них надзвичайно добре. Вони планують використати ту саму стратегію на нових ринках і визначили 2627 нових потенційних клієнтів.\n",
        "\n",
        "Ви маєте допомогти менеджеру передбачити правильну групу для нових клієнтів.\n",
        "\n",
        "В цьому ДЗ використовуємо дані `customer_segmentation_train.csv`[скачати дані](https://drive.google.com/file/d/1VU1y2EwaHkVfr5RZ1U4MPWjeflAusK3w/view?usp=sharing). Це `train.csv`з цього [змагання](https://www.kaggle.com/datasets/abisheksudarshan/customer-segmentation/data?select=train.csv)"
      ],
      "metadata": {
        "id": "7f4tzX6YomVv"
      }
    },
    {
      "cell_type": "markdown",
      "source": [
        "**Завдання 1.** Завантажте та підготуйте датасет до аналізу. Виконайте обробку пропущених значень та необхідне кодування категоріальних ознак. Розбийте на тренувальну і тестувальну вибірку, де в тесті 20%. Памʼятаємо, що весь препроцесинг ліпше все ж тренувати на тренувальній вибірці і на тестувальній лише використовувати вже натреновані трансформери.\n",
        "Але в даному випадку оскільки значень в категоріях небагато, можна зробити обробку і на оригінальних даних, а потім розбити - це простіше. Можна також реалізувати процесинг і тренування моделі з пайплайнами. Обирайте як вам зручніше."
      ],
      "metadata": {
        "id": "NZFXPKx1JX-3"
      }
    },
    {
      "cell_type": "code",
      "source": [
        "from google.colab import drive\n",
        "drive.mount('/content/drive')"
      ],
      "metadata": {
        "colab": {
          "base_uri": "https://localhost:8080/"
        },
        "id": "B6sYxlWA-ksS",
        "outputId": "814ee24f-1cae-48e7-ffc7-3737897068d1"
      },
      "execution_count": 1,
      "outputs": [
        {
          "output_type": "stream",
          "name": "stdout",
          "text": [
            "Mounted at /content/drive\n"
          ]
        }
      ]
    },
    {
      "cell_type": "code",
      "source": [
        "import pandas as pd\n",
        "train_df = pd.read_csv('/content/drive/MyDrive/Colab Notebooks/customer_segmentation_train.csv')"
      ],
      "metadata": {
        "id": "KjximwkA-x1S"
      },
      "execution_count": 3,
      "outputs": []
    },
    {
      "cell_type": "code",
      "source": [
        "# Перегляд перших рядків датасету\n",
        "print(train_df.head())\n",
        "\n",
        "# Перевірка розміру датасету\n",
        "print(train_df.shape)\n",
        "\n",
        "# Перевірка інформації про датасет\n",
        "print(train_df.info())\n",
        "\n",
        "# Перевірка наявності пропущених значень\n",
        "print(train_df.isnull().sum())"
      ],
      "metadata": {
        "colab": {
          "base_uri": "https://localhost:8080/"
        },
        "id": "G5lb6ORz_SgB",
        "outputId": "67cb358c-23bc-48cd-9173-44717d104385"
      },
      "execution_count": 4,
      "outputs": [
        {
          "output_type": "stream",
          "name": "stdout",
          "text": [
            "       ID  Gender Ever_Married  Age Graduated     Profession  Work_Experience  \\\n",
            "0  462809    Male           No   22        No     Healthcare              1.0   \n",
            "1  462643  Female          Yes   38       Yes       Engineer              NaN   \n",
            "2  466315  Female          Yes   67       Yes       Engineer              1.0   \n",
            "3  461735    Male          Yes   67       Yes         Lawyer              0.0   \n",
            "4  462669  Female          Yes   40       Yes  Entertainment              NaN   \n",
            "\n",
            "  Spending_Score  Family_Size  Var_1 Segmentation  \n",
            "0            Low          4.0  Cat_4            D  \n",
            "1        Average          3.0  Cat_4            A  \n",
            "2            Low          1.0  Cat_6            B  \n",
            "3           High          2.0  Cat_6            B  \n",
            "4           High          6.0  Cat_6            A  \n",
            "(8068, 11)\n",
            "<class 'pandas.core.frame.DataFrame'>\n",
            "RangeIndex: 8068 entries, 0 to 8067\n",
            "Data columns (total 11 columns):\n",
            " #   Column           Non-Null Count  Dtype  \n",
            "---  ------           --------------  -----  \n",
            " 0   ID               8068 non-null   int64  \n",
            " 1   Gender           8068 non-null   object \n",
            " 2   Ever_Married     7928 non-null   object \n",
            " 3   Age              8068 non-null   int64  \n",
            " 4   Graduated        7990 non-null   object \n",
            " 5   Profession       7944 non-null   object \n",
            " 6   Work_Experience  7239 non-null   float64\n",
            " 7   Spending_Score   8068 non-null   object \n",
            " 8   Family_Size      7733 non-null   float64\n",
            " 9   Var_1            7992 non-null   object \n",
            " 10  Segmentation     8068 non-null   object \n",
            "dtypes: float64(2), int64(2), object(7)\n",
            "memory usage: 693.5+ KB\n",
            "None\n",
            "ID                   0\n",
            "Gender               0\n",
            "Ever_Married       140\n",
            "Age                  0\n",
            "Graduated           78\n",
            "Profession         124\n",
            "Work_Experience    829\n",
            "Spending_Score       0\n",
            "Family_Size        335\n",
            "Var_1               76\n",
            "Segmentation         0\n",
            "dtype: int64\n"
          ]
        }
      ]
    },
    {
      "cell_type": "code",
      "source": [
        "from sklearn.impute import SimpleImputer\n",
        "from sklearn.preprocessing import OneHotEncoder\n",
        "from sklearn.compose import ColumnTransformer\n",
        "from sklearn.pipeline import Pipeline\n",
        "from sklearn.model_selection import train_test_split\n",
        "\n",
        "# Визначення числових і категоріальних колонок\n",
        "numerical_cols = train_df.select_dtypes(include=['int64', 'float64']).columns\n",
        "categorical_cols = train_df.select_dtypes(include=['object']).columns\n",
        "\n",
        "# Видалення цільової змінної з переліку колонок\n",
        "categorical_cols = categorical_cols.drop('Segmentation')\n",
        "\n",
        "# Побудова пайплайну для числових даних\n",
        "numerical_transformer = Pipeline(steps=[\n",
        "    ('imputer', SimpleImputer(strategy='mean'))\n",
        "])\n",
        "\n",
        "# Побудова пайплайну для категоріальних даних\n",
        "categorical_transformer = Pipeline(steps=[\n",
        "    ('imputer', SimpleImputer(strategy='most_frequent')),\n",
        "    ('onehot', OneHotEncoder(handle_unknown='ignore'))\n",
        "])\n",
        "\n",
        "# Об'єднання трансформерів у єдиний колонковий трансформер\n",
        "preprocessor = ColumnTransformer(\n",
        "    transformers=[\n",
        "        ('num', numerical_transformer, numerical_cols),\n",
        "        ('cat', categorical_transformer, categorical_cols)\n",
        "    ])\n",
        "\n",
        "# Поділ на тренувальну та тестувальну вибірки\n",
        "X = train_df.drop('Segmentation', axis=1)\n",
        "y = train_df['Segmentation']\n",
        "X_train, X_test, y_train, y_test = train_test_split(X, y, test_size=0.2, random_state=42)\n",
        "\n",
        "# Застосування пайплайну до тренувальних даних\n",
        "X_train = preprocessor.fit_transform(X_train)\n",
        "X_test = preprocessor.transform(X_test)\n",
        "\n",
        "# Перевірка результатів трансформації\n",
        "print(X_train.shape)\n",
        "print(X_test.shape)"
      ],
      "metadata": {
        "colab": {
          "base_uri": "https://localhost:8080/"
        },
        "id": "44qnSql-_CC8",
        "outputId": "093d60b5-9386-4fff-9a5f-9eec217e5897"
      },
      "execution_count": 6,
      "outputs": [
        {
          "output_type": "stream",
          "name": "stdout",
          "text": [
            "(6454, 29)\n",
            "(1614, 29)\n"
          ]
        }
      ]
    },
    {
      "cell_type": "markdown",
      "source": [
        "**Завдання 2. Важливо уважно прочитати все формулювання цього завдання до кінця!**\n",
        "\n",
        "Застосуйте методи ресемплингу даних SMOTE та SMOTE-Tomek з бібліотеки imbalanced-learn до тренувальної вибірки. В результаті у Вас має вийти 2 тренувальних набори: з апсемплингом зі SMOTE, та з ресамплингом з SMOTE-Tomek.\n",
        "\n",
        "Увага! В нашому наборі даних є як категоріальні дані, так і звичайні числові. Базовий SMOTE не буде правильно працювати з категоріальними даними, але є його модифікація, яка буде. Тому в цього завдання є 2 виконання\n",
        "\n",
        "  1. Застосувати SMOTE базовий лише на НЕкатегоріальних ознаках і порівняти лін регресію на апсампл даних без категоріальних ознак.\n",
        "\n",
        "  2. Переглянути інформацію про метод [SMOTENC](https://imbalanced-learn.org/dev/references/generated/imblearn.over_sampling.SMOTENC.html#imblearn.over_sampling.SMOTENC) і використати цей метод в цій задачі. За цей спосіб буде +3 бали за це завдання і він рекомендований для виконання.\n",
        "\n",
        "  **Підказка**: аби скористатись SMOTENC треба створити змінну, яка містить індекси ознак, які є категоріальними (їх номер серед колонок) і передати при ініціації екземпляра класу `SMOTENC(..., categorical_features=cat_feature_indeces)`.\n",
        "  \n",
        "  Ви також можете розглянути варіант використання варіації SMOTE, який працює ЛИШЕ з категоріальними ознаками [SMOTEN](https://imbalanced-learn.org/dev/references/generated/imblearn.over_sampling.SMOTEN.html)"
      ],
      "metadata": {
        "id": "fhJzCBA7P0f8"
      }
    },
    {
      "cell_type": "code",
      "source": [
        "from imblearn.over_sampling import SMOTE\n",
        "from sklearn.linear_model import LogisticRegression\n",
        "from sklearn.metrics import classification_report\n",
        "\n",
        "# Виділення числових ознак\n",
        "X_train_numeric = X_train[:, :len(numerical_cols)]\n",
        "X_test_numeric = X_test[:, :len(numerical_cols)]\n",
        "\n",
        "# Ресемплінг з базовим SMOTE\n",
        "smote = SMOTE(random_state=42)\n",
        "X_train_smote, y_train_smote = smote.fit_resample(X_train_numeric, y_train)\n",
        "\n",
        "# Тренування моделі\n",
        "model = LogisticRegression()\n",
        "model.fit(X_train_smote, y_train_smote)\n",
        "\n",
        "# Оцінка на тестових даних\n",
        "y_pred = model.predict(X_test_numeric)\n",
        "print(classification_report(y_test, y_pred))"
      ],
      "metadata": {
        "id": "6NFUkQ_15HNX",
        "colab": {
          "base_uri": "https://localhost:8080/"
        },
        "outputId": "082acfa1-1b8f-40a5-b227-17d6deafe203"
      },
      "execution_count": 9,
      "outputs": [
        {
          "output_type": "stream",
          "name": "stdout",
          "text": [
            "              precision    recall  f1-score   support\n",
            "\n",
            "           A       0.34      0.24      0.28       391\n",
            "           B       0.33      0.07      0.12       369\n",
            "           C       0.39      0.52      0.44       380\n",
            "           D       0.49      0.77      0.60       474\n",
            "\n",
            "    accuracy                           0.42      1614\n",
            "   macro avg       0.39      0.40      0.36      1614\n",
            "weighted avg       0.39      0.42      0.38      1614\n",
            "\n"
          ]
        }
      ]
    },
    {
      "cell_type": "code",
      "source": [
        "from imblearn.over_sampling import SMOTENC\n",
        "from imblearn.combine import SMOTETomek\n",
        "\n",
        "# Визначення індексів категоріальних ознак\n",
        "categorical_feature_indices = [i for i in range(len(numerical_cols), X_train.shape[1])]\n",
        "\n",
        "# SMOTENC\n",
        "smotenc = SMOTENC(categorical_features=categorical_feature_indices, random_state=42)\n",
        "X_train_smotenc, y_train_smotenc = smotenc.fit_resample(X_train, y_train)\n",
        "\n",
        "# SMOTE-Tomek\n",
        "smote_tomek = SMOTETomek(smote=smotenc, random_state=42)\n",
        "X_train_smote_tomek, y_train_smote_tomek = smote_tomek.fit_resample(X_train, y_train)\n",
        "\n",
        "# Тренування моделі на даних з SMOTENC\n",
        "model_smotenc = LogisticRegression()\n",
        "model_smotenc.fit(X_train_smotenc, y_train_smotenc)\n",
        "\n",
        "# Тренування моделі на даних з SMOTE-Tomek\n",
        "model_smote_tomek = LogisticRegression()\n",
        "model_smote_tomek.fit(X_train_smote_tomek, y_train_smote_tomek)\n",
        "\n",
        "# Оцінка на тестових даних\n",
        "y_pred_smotenc = model_smotenc.predict(X_test)\n",
        "print(\"SMOTENC:\")\n",
        "print(classification_report(y_test, y_pred_smotenc))\n",
        "\n",
        "y_pred_smote_tomek = model_smote_tomek.predict(X_test)\n",
        "print(\"SMOTE-Tomek:\")\n",
        "print(classification_report(y_test, y_pred_smote_tomek))"
      ],
      "metadata": {
        "colab": {
          "base_uri": "https://localhost:8080/"
        },
        "id": "a8r1es2uAkRH",
        "outputId": "168259a4-2341-43dc-e9cb-1e223ae9bee8"
      },
      "execution_count": 12,
      "outputs": [
        {
          "output_type": "stream",
          "name": "stdout",
          "text": [
            "SMOTENC:\n",
            "              precision    recall  f1-score   support\n",
            "\n",
            "           A       0.34      0.24      0.28       391\n",
            "           B       0.33      0.07      0.12       369\n",
            "           C       0.39      0.53      0.45       380\n",
            "           D       0.49      0.77      0.60       474\n",
            "\n",
            "    accuracy                           0.43      1614\n",
            "   macro avg       0.39      0.40      0.36      1614\n",
            "weighted avg       0.39      0.43      0.38      1614\n",
            "\n",
            "SMOTE-Tomek:\n",
            "              precision    recall  f1-score   support\n",
            "\n",
            "           A       0.00      0.00      0.00       391\n",
            "           B       0.00      0.00      0.00       369\n",
            "           C       0.24      1.00      0.38       380\n",
            "           D       0.00      0.00      0.00       474\n",
            "\n",
            "    accuracy                           0.24      1614\n",
            "   macro avg       0.06      0.25      0.10      1614\n",
            "weighted avg       0.06      0.24      0.09      1614\n",
            "\n"
          ]
        },
        {
          "output_type": "stream",
          "name": "stderr",
          "text": [
            "/usr/local/lib/python3.10/dist-packages/sklearn/metrics/_classification.py:1344: UndefinedMetricWarning: Precision and F-score are ill-defined and being set to 0.0 in labels with no predicted samples. Use `zero_division` parameter to control this behavior.\n",
            "  _warn_prf(average, modifier, msg_start, len(result))\n",
            "/usr/local/lib/python3.10/dist-packages/sklearn/metrics/_classification.py:1344: UndefinedMetricWarning: Precision and F-score are ill-defined and being set to 0.0 in labels with no predicted samples. Use `zero_division` parameter to control this behavior.\n",
            "  _warn_prf(average, modifier, msg_start, len(result))\n",
            "/usr/local/lib/python3.10/dist-packages/sklearn/metrics/_classification.py:1344: UndefinedMetricWarning: Precision and F-score are ill-defined and being set to 0.0 in labels with no predicted samples. Use `zero_division` parameter to control this behavior.\n",
            "  _warn_prf(average, modifier, msg_start, len(result))\n"
          ]
        }
      ]
    },
    {
      "cell_type": "markdown",
      "source": [
        "**Завдання 3**.\n",
        "  1. Навчіть модель логістичної регресії з використанням стратегії One-vs-Rest з логістичною регресією на оригінальних даних, збалансованих з SMOTE, збалансованих з Smote-Tomek.  \n",
        "  2. Виміряйте якість кожної з натренованих моделей використовуючи `sklearn.metrics.classification_report`.\n",
        "  3. Напишіть, яку метрику ви обрали для порівняння моделей.\n",
        "  4. Яка модель найкраща?\n",
        "  5. Якщо немає суттєвої різниці між моделями - напишіть свою гіпотезу, чому?"
      ],
      "metadata": {
        "id": "ja4w_GgmT4D0"
      }
    },
    {
      "cell_type": "code",
      "source": [
        "#модель на оригінальних даних\n",
        "\n",
        "from sklearn.linear_model import LogisticRegression\n",
        "from sklearn.multiclass import OneVsRestClassifier\n",
        "from sklearn.metrics import classification_report\n",
        "\n",
        "# Навчання моделі на оригінальних даних\n",
        "model_original = OneVsRestClassifier(LogisticRegression())\n",
        "model_original.fit(X_train, y_train)\n",
        "\n",
        "# Оцінка на тестових даних\n",
        "y_pred_original = model_original.predict(X_test)\n",
        "print(\"Original Data:\")\n",
        "print(classification_report(y_test, y_pred_original))"
      ],
      "metadata": {
        "id": "nxWVeRan5JBh",
        "colab": {
          "base_uri": "https://localhost:8080/"
        },
        "outputId": "cc4c5037-6c35-429d-b43c-c49f305e368d"
      },
      "execution_count": 14,
      "outputs": [
        {
          "output_type": "stream",
          "name": "stdout",
          "text": [
            "Original Data:\n",
            "              precision    recall  f1-score   support\n",
            "\n",
            "           A       0.00      0.00      0.00       391\n",
            "           B       0.00      0.00      0.00       369\n",
            "           C       0.37      0.41      0.39       380\n",
            "           D       0.35      0.89      0.50       474\n",
            "\n",
            "    accuracy                           0.36      1614\n",
            "   macro avg       0.18      0.32      0.22      1614\n",
            "weighted avg       0.19      0.36      0.24      1614\n",
            "\n"
          ]
        },
        {
          "output_type": "stream",
          "name": "stderr",
          "text": [
            "/usr/local/lib/python3.10/dist-packages/sklearn/metrics/_classification.py:1344: UndefinedMetricWarning: Precision and F-score are ill-defined and being set to 0.0 in labels with no predicted samples. Use `zero_division` parameter to control this behavior.\n",
            "  _warn_prf(average, modifier, msg_start, len(result))\n",
            "/usr/local/lib/python3.10/dist-packages/sklearn/metrics/_classification.py:1344: UndefinedMetricWarning: Precision and F-score are ill-defined and being set to 0.0 in labels with no predicted samples. Use `zero_division` parameter to control this behavior.\n",
            "  _warn_prf(average, modifier, msg_start, len(result))\n",
            "/usr/local/lib/python3.10/dist-packages/sklearn/metrics/_classification.py:1344: UndefinedMetricWarning: Precision and F-score are ill-defined and being set to 0.0 in labels with no predicted samples. Use `zero_division` parameter to control this behavior.\n",
            "  _warn_prf(average, modifier, msg_start, len(result))\n"
          ]
        }
      ]
    },
    {
      "cell_type": "code",
      "source": [
        "# Навчання моделі на даних з SMOTE\n",
        "model_smote = OneVsRestClassifier(LogisticRegression())\n",
        "model_smote.fit(X_train_smote, y_train_smote)\n",
        "\n",
        "# Оцінка на тестових даних\n",
        "y_pred_smote = model_smote.predict(X_test_numeric)\n",
        "print(\"SMOTE:\")\n",
        "print(classification_report(y_test, y_pred_smote))"
      ],
      "metadata": {
        "colab": {
          "base_uri": "https://localhost:8080/"
        },
        "id": "SVbCRZASCx4g",
        "outputId": "07f6b459-40dd-4f2f-9e1b-b74db568f9ec"
      },
      "execution_count": 15,
      "outputs": [
        {
          "output_type": "stream",
          "name": "stdout",
          "text": [
            "SMOTE:\n",
            "              precision    recall  f1-score   support\n",
            "\n",
            "           A       0.00      0.00      0.00       391\n",
            "           B       0.00      0.00      0.00       369\n",
            "           C       0.24      1.00      0.38       380\n",
            "           D       0.00      0.00      0.00       474\n",
            "\n",
            "    accuracy                           0.24      1614\n",
            "   macro avg       0.06      0.25      0.10      1614\n",
            "weighted avg       0.06      0.24      0.09      1614\n",
            "\n"
          ]
        },
        {
          "output_type": "stream",
          "name": "stderr",
          "text": [
            "/usr/local/lib/python3.10/dist-packages/sklearn/metrics/_classification.py:1344: UndefinedMetricWarning: Precision and F-score are ill-defined and being set to 0.0 in labels with no predicted samples. Use `zero_division` parameter to control this behavior.\n",
            "  _warn_prf(average, modifier, msg_start, len(result))\n",
            "/usr/local/lib/python3.10/dist-packages/sklearn/metrics/_classification.py:1344: UndefinedMetricWarning: Precision and F-score are ill-defined and being set to 0.0 in labels with no predicted samples. Use `zero_division` parameter to control this behavior.\n",
            "  _warn_prf(average, modifier, msg_start, len(result))\n",
            "/usr/local/lib/python3.10/dist-packages/sklearn/metrics/_classification.py:1344: UndefinedMetricWarning: Precision and F-score are ill-defined and being set to 0.0 in labels with no predicted samples. Use `zero_division` parameter to control this behavior.\n",
            "  _warn_prf(average, modifier, msg_start, len(result))\n"
          ]
        }
      ]
    },
    {
      "cell_type": "code",
      "source": [
        "# Навчання моделі на даних з SMOTE-Tomek\n",
        "model_smote_tomek = OneVsRestClassifier(LogisticRegression())\n",
        "model_smote_tomek.fit(X_train_smote_tomek, y_train_smote_tomek)\n",
        "\n",
        "# Оцінка на тестових даних\n",
        "y_pred_smote_tomek = model_smote_tomek.predict(X_test)\n",
        "print(\"SMOTE-Tomek:\")\n",
        "print(classification_report(y_test, y_pred_smote_tomek))"
      ],
      "metadata": {
        "colab": {
          "base_uri": "https://localhost:8080/"
        },
        "id": "I3zAruvOC2NT",
        "outputId": "2e9b92a9-4314-4547-eafb-a19d547ed9af"
      },
      "execution_count": 17,
      "outputs": [
        {
          "output_type": "stream",
          "name": "stdout",
          "text": [
            "SMOTE-Tomek:\n",
            "              precision    recall  f1-score   support\n",
            "\n",
            "           A       0.00      0.00      0.00       391\n",
            "           B       0.00      0.00      0.00       369\n",
            "           C       0.33      0.77      0.46       380\n",
            "           D       0.50      0.77      0.60       474\n",
            "\n",
            "    accuracy                           0.41      1614\n",
            "   macro avg       0.21      0.38      0.27      1614\n",
            "weighted avg       0.22      0.41      0.29      1614\n",
            "\n"
          ]
        },
        {
          "output_type": "stream",
          "name": "stderr",
          "text": [
            "/usr/local/lib/python3.10/dist-packages/sklearn/metrics/_classification.py:1344: UndefinedMetricWarning: Precision and F-score are ill-defined and being set to 0.0 in labels with no predicted samples. Use `zero_division` parameter to control this behavior.\n",
            "  _warn_prf(average, modifier, msg_start, len(result))\n",
            "/usr/local/lib/python3.10/dist-packages/sklearn/metrics/_classification.py:1344: UndefinedMetricWarning: Precision and F-score are ill-defined and being set to 0.0 in labels with no predicted samples. Use `zero_division` parameter to control this behavior.\n",
            "  _warn_prf(average, modifier, msg_start, len(result))\n",
            "/usr/local/lib/python3.10/dist-packages/sklearn/metrics/_classification.py:1344: UndefinedMetricWarning: Precision and F-score are ill-defined and being set to 0.0 in labels with no predicted samples. Use `zero_division` parameter to control this behavior.\n",
            "  _warn_prf(average, modifier, msg_start, len(result))\n"
          ]
        }
      ]
    },
    {
      "cell_type": "markdown",
      "source": [
        "Висновки\n",
        "**Original Data**\n",
        "\n",
        "Модель на оригінальних даних показує невисоку точність для класів A і B (точність 0.00), але кращу точність для класів C і D.\n",
        "Загальна точність (accuracy) складає 0.36.\n",
        "Модель добре розпізнає клас D (recall 0.89), але значення f1-score для інших класів невисокі.\n",
        "\n",
        "**SMOTE**\n",
        "\n",
        "Модель з SMOTE значно покращує recall для класу C до 1.00, але це призводить до низької точності для інших класів.\n",
        "Загальна точність (accuracy) знизилася до 0.24.\n",
        "Ця модель не змогла добре розпізнати класи A, B і D (точність і recall 0.00).\n",
        "\n",
        "**SMOTE-Tomek**\n",
        "\n",
        "Модель з SMOTE-Tomek показала кращі результати, ніж SMOTE, особливо для класів C і D.\n",
        "Загальна точність (accuracy) складає 0.41, що є найвищим серед усіх моделей.\n",
        "Значення f1-score для класу D становить 0.60, а для класу C – 0.46.\n",
        "Вибір метрики\n",
        "Для порівняння моделей ми можемо використовувати f1-score, оскільки він враховує як точність (precision), так і повноту (recall), і підходить для нерівномірно розподілених даних.\n",
        "\n",
        "**Отже**, модель, збалансована з SMOTE-Tomek, показала найкращі результати, оскільки вона має найвищу загальну точність (accuracy) 0.41.\n",
        "Значення f1-score для класів C і D є вищими порівняно з іншими моделями.\n",
        "Вона демонструє збалансованіші показники для різних класів.\n",
        "\n",
        "**Гіпотеза**\n",
        "Незважаючи на те, що SMOTE і SMOTE-Tomek зазвичай використовуються для покращення балансу в даних, у цьому випадку SMOTE знизив точність моделей для класів A і B. Це може бути пов'язано з тим, що моделі не отримали достатньої кількості якісних зразків для цих класів. SMOTE-Tomek, з іншого боку, показав кращі результати, оскільки він не тільки додає нові зразки, але й видаляє шумові зразки, що допомагає покращити загальну точність моделі."
      ],
      "metadata": {
        "id": "IaI4gtg6Dv2p"
      }
    }
  ]
}