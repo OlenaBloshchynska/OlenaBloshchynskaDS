{
  "nbformat": 4,
  "nbformat_minor": 0,
  "metadata": {
    "colab": {
      "provenance": []
    },
    "kernelspec": {
      "name": "python3",
      "display_name": "Python 3"
    },
    "language_info": {
      "name": "python"
    }
  },
  "cells": [
    {
      "cell_type": "markdown",
      "source": [
        "В цьому домашньому завданні ми реалізуємо логістичну регресію на `numpy`.\n",
        "Ці завдання допоможуть вам ґрунтовно засвоїти основні концепції логістичної регресії та реалізувати їх на практиці 🔥\n",
        "\n",
        "#### Завдання 1: Реалізація функції сигмоїди\n",
        "1. З використанням `numpy` напишіть функцію `sigmoid(z)` для обчислення значення сигмоїди згідно з формулою:\n",
        "   $$\n",
        "   \\sigma(z) = \\frac{1}{1 + e^{-z}}\n",
        "   $$\n",
        "2. Використовуючи цю функцію, обчисліть значення сигмоїди для наступних даних: $ z = [-2, -1, 0, 1, 2] $. Виведіть результат обчислень.\n"
      ],
      "metadata": {
        "id": "KxRmdyv5CIZe"
      }
    },
    {
      "cell_type": "code",
      "source": [
        "import numpy as np\n",
        "\n",
        "def sigmoid(z):\n",
        "    return 1 / (1 + np.exp(-z))\n",
        "\n",
        "# Задані значення\n",
        "z = np.array([-2, -1, 0, 1, 2])\n",
        "\n",
        "# Обчислення значень сигмоїди\n",
        "sigmoid_values = sigmoid(z)\n",
        "\n",
        "# Виведення результату\n",
        "print(sigmoid_values)"
      ],
      "metadata": {
        "id": "v9ilfXulL2wP",
        "colab": {
          "base_uri": "https://localhost:8080/"
        },
        "outputId": "cc46b9fe-a920-44f6-b6d9-05c4c07ed357"
      },
      "execution_count": 1,
      "outputs": [
        {
          "output_type": "stream",
          "name": "stdout",
          "text": [
            "[0.11920292 0.26894142 0.5        0.73105858 0.88079708]\n"
          ]
        }
      ]
    },
    {
      "cell_type": "markdown",
      "source": [
        "\n",
        "\n",
        "#### Завдання 2: Реалізація функції гіпотези для логістичної регресії\n",
        "1. Напишіть функцію `hypothesis(theta, X)`, яка обчислює гіпотезу для логістичної регресії, використовуючи функцію сигмоїди. Формула гіпотези:\n",
        "   $$\n",
        "   h_\\theta(x) = \\sigma(\\theta^T x) = \\frac{1}{1 + e^{-\\theta^T x}}\n",
        "   $$\n",
        "2. Використайте функцію `hypothesis` для обчислення значень гіпотези для наступних даних:\n",
        "   \n",
        "   $\\theta = [0.5, -0.5]$\n",
        "   \n",
        "   $X = \\begin{bmatrix} 1 & 2 \\\\ 1 & -1 \\\\ 1 & 0 \\\\ 1 & 1 \\end{bmatrix}$\n",
        "\n",
        "  Виведіть результат обчислень.\n"
      ],
      "metadata": {
        "id": "LVd_jCGNCR1F"
      }
    },
    {
      "cell_type": "code",
      "source": [
        "def hypothesis(theta, X):\n",
        "    z = np.dot(X, theta)\n",
        "    return sigmoid(z)\n",
        "\n",
        "# Задані значення\n",
        "theta = np.array([0.5, -0.5])\n",
        "X = np.array([\n",
        "    [1, 2],\n",
        "    [1, -1],\n",
        "    [1, 0],\n",
        "    [1, 1]\n",
        "])\n",
        "\n",
        "# Обчислення значень гіпотези\n",
        "hypothesis_values = hypothesis(theta, X)\n",
        "\n",
        "# Виведення результату\n",
        "print(hypothesis_values)"
      ],
      "metadata": {
        "id": "dKDHv-YtL3TA",
        "colab": {
          "base_uri": "https://localhost:8080/"
        },
        "outputId": "d83ba297-5b75-4815-f879-ca11e9a35036"
      },
      "execution_count": 8,
      "outputs": [
        {
          "output_type": "stream",
          "name": "stdout",
          "text": [
            "[0.37754067 0.73105858 0.62245933 0.5       ]\n"
          ]
        }
      ]
    },
    {
      "cell_type": "markdown",
      "source": [
        "#### Завдання 3: Реалізація функції для підрахунку градієнтів фукнції втрат\n",
        "1. Напишіть функцію `compute_gradient(theta, X, y)`, яка обчислює градієнти функції втрат для логістичної регресії. Формула для обчислення градієнта:\n",
        "   $$\n",
        "   \\frac{\\partial L(\\theta)}{\\partial \\theta_j} = \\frac{1}{m} \\sum_{i=1}^{m} \\left[ (h_\\theta(x^{(i)}) - y^{(i)}) x_j^{(i)} \\right]\n",
        "   $$\n",
        "2. Використайте функцію `compute_gradient` для обчислення градієнтів для наступних даних:\n",
        "\n",
        "  $\\theta = [0.5, -0.5]$\n",
        "\n",
        "  $X = \\begin{bmatrix} 1 & 2 \\\\ 1 & -1 \\\\ 1 & 0 \\\\ 1 & 1 \\end{bmatrix}$\n",
        "\n",
        "  $y = [1, 0, 1, 0]$\n",
        "\n",
        "  Виведіть результат обчислень."
      ],
      "metadata": {
        "id": "MWASH4Z4ClTo"
      }
    },
    {
      "cell_type": "code",
      "source": [
        "def compute_gradient(theta, X, y):\n",
        "    m = len(y)\n",
        "    h = hypothesis(theta, X)\n",
        "    error = h - y\n",
        "    gradient = (1 / m) * np.dot(X.T, error)\n",
        "    return gradient\n",
        "\n",
        "# Задані значення\n",
        "theta = np.array([0.5, -0.5])\n",
        "X = np.array([\n",
        "    [1, 2],\n",
        "    [1, -1],\n",
        "    [1, 0],\n",
        "    [1, 1]\n",
        "])\n",
        "y = np.array([1, 0, 1, 0])\n",
        "\n",
        "# Обчислення градієнтів\n",
        "gradient_values = compute_gradient(theta, X, y)\n",
        "\n",
        "# Виведення результату\n",
        "print(gradient_values)"
      ],
      "metadata": {
        "id": "0DM4xqZCL32i",
        "colab": {
          "base_uri": "https://localhost:8080/"
        },
        "outputId": "b7167fee-bc86-4753-f4c0-2feb850a6b50"
      },
      "execution_count": 9,
      "outputs": [
        {
          "output_type": "stream",
          "name": "stdout",
          "text": [
            "[ 0.05776464 -0.36899431]\n"
          ]
        }
      ]
    },
    {
      "cell_type": "markdown",
      "source": [
        "\n",
        "#### Завдання 4: Реалізація повного батч градієнтного спуску\n",
        "\n",
        "**Задача:**\n",
        "1. Напишіть функцію `full_batch_gradient_descent(X, y, lr=0.1, epochs=100)`, яка реалізує алгоритм Full градієнтного спуску для логістичної регресії. Використовуйте такі формули:\n",
        "   - Гіпотеза: $ h_\\theta(x) = \\sigma(\\theta^T x) $\n",
        "   - Оновлення параметрів: $ \\theta_j := \\theta_j - \\alpha \\frac{\\partial L(\\theta)}{\\partial \\theta_j} $\n",
        "2. Використайте функцію `full_batch_gradient_descent` для обчислення параметрів моделі на наступних даних:\n",
        "\n",
        "  $X = \\begin{bmatrix} 1 & 2 \\\\ 1 & -1 \\\\ 1 & 0 \\\\ 1 & 1 \\end{bmatrix}$\n",
        "\n",
        "  $y = [1, 0, 1, 0]$\n",
        "\n",
        "  Увага! Матриця $X$ вже має стовпець одиниць і передбачається, що це. - стовпець для intercept - параметра зсуву.\n",
        "\n",
        "  Виведіть результат обчислень.\n"
      ],
      "metadata": {
        "id": "nOtJEtdnC1K9"
      }
    },
    {
      "cell_type": "code",
      "source": [
        "def full_batch_gradient_descent(X, y, lr=0.1, epochs=100):\n",
        "    theta = np.zeros(X.shape[1])\n",
        "    for epoch in range(epochs):\n",
        "        gradient = compute_gradient(theta, X, y)\n",
        "        theta = theta - lr * gradient\n",
        "    return theta\n",
        "\n",
        "# Given values\n",
        "X = np.array([\n",
        "    [1, 2],\n",
        "    [1, -1],\n",
        "    [1, 0],\n",
        "    [1, 1]\n",
        "])\n",
        "y = np.array([1, 0, 1, 0])\n",
        "\n",
        "# Calculate final model parameters\n",
        "theta_final = full_batch_gradient_descent(X, y)\n",
        "print(theta_final)"
      ],
      "metadata": {
        "id": "fHtUOTxXL4Yy",
        "colab": {
          "base_uri": "https://localhost:8080/"
        },
        "outputId": "143135e8-fbb5-4aaf-b538-1143f413ab33"
      },
      "execution_count": 10,
      "outputs": [
        {
          "output_type": "stream",
          "name": "stdout",
          "text": [
            "[-0.2893693   0.77655125]\n"
          ]
        }
      ]
    },
    {
      "cell_type": "markdown",
      "source": [
        "#### Завдання 5. Обчислення точності моделі\n",
        "\n",
        "1. Напишіть функцію `predict_proba(theta, X)`, яка використовує знайдені параметри $\\theta$ для обчислення ймовірностей належності поточного прикладу з даних до класу $y=1$ на основі значень $\\sigma(\\theta^T x)$.\n",
        "\n",
        "2. Напишіть функцію `predict(theta, X, threshold=0.5)`, яка обчислює клас з передбаченої імовірності належності екземпляра до класу 1 з порогом 0.5. Тобто якщо ймовірність менше 0.5, то передбачаємо клас 0, інакше клас 1.\n",
        "\n",
        "3. Напишіть функцію `accuracy(y_true, y_pred)`, яка обчислює точність моделі, визначивши частку правильно передбачених класів.\n",
        "\n",
        "  Формула метрики Accuracy:\n",
        "  $$\n",
        "  \\text{Accuracy} = \\frac{\\sum_{i=1}^{m} I(\\hat{{y}^{(i)}} = y^{(i)})}{m}\n",
        "  $$\n",
        "\n",
        "  де $\\hat{{y}^{(i)}}$ - передбачене значення класу, $I$ - індикаторна функція (яка дорівнює 1, якщо умова виконується, і 0 - якщо ні), $m$ - кількість прикладів.\n",
        "\n",
        "4. Обчисліть з використанням даних в завданні 4 $X$, $y$ та обчислених коефіцієнтах $\\theta$ та виведіть на екран:\n",
        "  - передбачені моделлю імовірності належності кожного з екземплярів в матриці `X` до класу 1\n",
        "  - класи кожного екземпляра з матриці `X`\n",
        "  - точність моделі."
      ],
      "metadata": {
        "id": "E4iZV55cE5f3"
      }
    },
    {
      "cell_type": "code",
      "source": [
        "def predict_proba(theta, X):\n",
        "    return sigmoid(np.dot(X, theta))\n",
        "\n",
        "def predict(theta, X, threshold=0.5):\n",
        "    probabilities = predict_proba(theta, X)\n",
        "    return (probabilities >= threshold).astype(int)\n",
        "\n",
        "def accuracy(y_true, y_pred):\n",
        "    return np.mean(y_true == y_pred)\n",
        "\n",
        "# Задані значення\n",
        "X = np.array([\n",
        "    [1, 2],\n",
        "    [1, -1],\n",
        "    [1, 0],\n",
        "    [1, 1]\n",
        "])\n",
        "y = np.array([1, 0, 1, 0])\n",
        "\n",
        "# Використовуємо знайдені раніше параметри theta\n",
        "theta_final = np.array([0.25, 0.18877033])\n",
        "\n",
        "# Обчислення ймовірностей\n",
        "probabilities = predict_proba(theta_final, X)\n",
        "\n",
        "# Передбачення класів\n",
        "predicted_classes = predict(theta_final, X)\n",
        "\n",
        "# Обчислення точності\n",
        "model_accuracy = accuracy(y, predicted_classes)\n",
        "\n",
        "# Виведення результатів\n",
        "print(\"Ймовірності належності до класу 1 для кожного екземпляра в X:\")\n",
        "print(probabilities)\n",
        "\n",
        "print(\"\\nПередбачені класи для кожного екземпляра в X:\")\n",
        "print(predicted_classes)\n",
        "\n",
        "print(\"\\nТочність моделі:\")\n",
        "print(model_accuracy)"
      ],
      "metadata": {
        "id": "qON93-GBL6Hd",
        "colab": {
          "base_uri": "https://localhost:8080/"
        },
        "outputId": "d65da8dd-0e92-40bf-e106-1212f28551b1"
      },
      "execution_count": 11,
      "outputs": [
        {
          "output_type": "stream",
          "name": "stdout",
          "text": [
            "Ймовірності належності до класу 1 для кожного екземпляра в X:\n",
            "[0.65193161 0.51530264 0.5621765  0.60796599]\n",
            "\n",
            "Передбачені класи для кожного екземпляра в X:\n",
            "[1 1 1 1]\n",
            "\n",
            "Точність моделі:\n",
            "0.5\n"
          ]
        }
      ]
    }
  ]
}