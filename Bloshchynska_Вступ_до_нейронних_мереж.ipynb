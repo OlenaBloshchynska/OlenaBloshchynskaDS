{
  "nbformat": 4,
  "nbformat_minor": 0,
  "metadata": {
    "colab": {
      "provenance": []
    },
    "kernelspec": {
      "name": "python3",
      "display_name": "Python 3"
    },
    "language_info": {
      "name": "python"
    }
  },
  "cells": [
    {
      "cell_type": "markdown",
      "source": [
        "**Секція 1. Логістична регресія з нуля.**\n",
        "\n",
        "Будемо крок за кроком будувати модель лог регресії з нуля для передбачення, чи буде врожай більше за 80 яблук (задача подібна до лекційної, але на класифікацію).\n",
        "\n",
        "Давайте нагадаємо основні формули для логістичної регресії.\n",
        "\n",
        "### Функція гіпотези - обчислення передбачення у логістичній регресії:\n",
        "\n",
        "$$\n",
        "\\hat{y} = \\sigma(x W^T + b) = \\frac{1}{1 + e^{-(x W^T + b)}}\n",
        "$$\n",
        "\n",
        "Де:\n",
        "- $ \\hat{y} $ — це ймовірність \"позитивного\" класу.\n",
        "- $ x $ — це вектор (або матриця для набору прикладів) вхідних даних.\n",
        "- $ W $ — це вектор (або матриця) вагових коефіцієнтів моделі.\n",
        "- $ b $ — це зміщення (bias).\n",
        "- $ \\sigma(z) $ — це сигмоїдна функція активації.\n",
        "\n",
        "### Як обчислюється сигмоїдна функція:\n",
        "\n",
        "Сигмоїдна функція $ \\sigma(z) $ має вигляд:\n",
        "\n",
        "$$\n",
        "\\sigma(z) = \\frac{1}{1 + e^{-z}}\n",
        "$$\n",
        "\n",
        "Ця функція перетворює будь-яке дійсне значення $ z $ в інтервал від 0 до 1, що дозволяє інтерпретувати вихід як ймовірність для логістичної регресії.\n",
        "\n",
        "### Формула функції втрат для логістичної регресії (бінарна крос-ентропія):\n",
        "\n",
        "Функція втрат крос-ентропії оцінює, наскільки добре модель передбачає класи, порівнюючи передбачені ймовірності $ \\hat{y} $ із справжніми мітками $ y $. Формула наступна:\n",
        "\n",
        "$$\n",
        "L(y, \\hat{y}) = - \\left[ y \\cdot \\log(\\hat{y}) + (1 - y) \\cdot \\log(1 - \\hat{y}) \\right]\n",
        "$$\n",
        "\n",
        "Де:\n",
        "- $ y $ — це справжнє значення (мітка класу, 0 або 1).\n",
        "- $ \\hat{y} $ — це передбачене значення (ймовірність).\n",
        "\n"
      ],
      "metadata": {
        "id": "lbLHTNfSclli"
      }
    },
    {
      "cell_type": "markdown",
      "source": [
        "1.\n",
        "Тут вже наведений код для ініціювання набору даних в форматі numpy. Перетворіть `inputs`, `targets` на `torch` тензори. Виведіть результат на екран."
      ],
      "metadata": {
        "id": "GtOYB-RHfc_r"
      }
    },
    {
      "cell_type": "code",
      "source": [
        "import torch\n",
        "import numpy as np"
      ],
      "metadata": {
        "id": "3BNXSR-VdYKQ"
      },
      "execution_count": 1,
      "outputs": []
    },
    {
      "cell_type": "code",
      "execution_count": 2,
      "metadata": {
        "id": "QLKZ77x4v_-v"
      },
      "outputs": [],
      "source": [
        "# Вхідні дані (temp, rainfall, humidity)\n",
        "inputs = np.array([[73, 67, 43],\n",
        "                   [91, 88, 64],\n",
        "                   [87, 134, 58],\n",
        "                   [102, 43, 37],\n",
        "                   [69, 96, 70]], dtype='float32')\n",
        "\n",
        "# Таргети (apples > 80)\n",
        "targets = np.array([[0],\n",
        "                    [1],\n",
        "                    [1],\n",
        "                    [0],\n",
        "                    [1]], dtype='float32')"
      ]
    },
    {
      "cell_type": "code",
      "source": [
        "# Перетворення numpy масивів на тензори PyTorch\n",
        "inputs_tensor = torch.from_numpy(inputs)\n",
        "targets_tensor = torch.from_numpy(targets)\n",
        "\n",
        "# Виведення результату\n",
        "print(\"Inputs Tensor:\")\n",
        "print(inputs_tensor)\n",
        "\n",
        "print(\"\\nTargets Tensor:\")\n",
        "print(targets_tensor)"
      ],
      "metadata": {
        "id": "KjoeaDrk6fO7",
        "colab": {
          "base_uri": "https://localhost:8080/"
        },
        "outputId": "c836281f-ba48-46eb-c915-a62825799827"
      },
      "execution_count": 3,
      "outputs": [
        {
          "output_type": "stream",
          "name": "stdout",
          "text": [
            "Inputs Tensor:\n",
            "tensor([[ 73.,  67.,  43.],\n",
            "        [ 91.,  88.,  64.],\n",
            "        [ 87., 134.,  58.],\n",
            "        [102.,  43.,  37.],\n",
            "        [ 69.,  96.,  70.]])\n",
            "\n",
            "Targets Tensor:\n",
            "tensor([[0.],\n",
            "        [1.],\n",
            "        [1.],\n",
            "        [0.],\n",
            "        [1.]])\n"
          ]
        }
      ]
    },
    {
      "cell_type": "markdown",
      "source": [
        "2. Ініціюйте ваги `w`, `b` для моделі логістичної регресії потрібної форми зважаючи на розмірності даних випадковими значеннями з нормального розподілу. Лишаю тут код для фіксації `random_seed`."
      ],
      "metadata": {
        "id": "iKzbJKfOgGV8"
      }
    },
    {
      "cell_type": "code",
      "source": [
        "torch.random.manual_seed(1)"
      ],
      "metadata": {
        "id": "aXhKw6Tdj1-d",
        "colab": {
          "base_uri": "https://localhost:8080/"
        },
        "outputId": "81629187-5366-4d32-f67e-4784bd2bbb79"
      },
      "execution_count": 4,
      "outputs": [
        {
          "output_type": "execute_result",
          "data": {
            "text/plain": [
              "<torch._C.Generator at 0x79ab543acbb0>"
            ]
          },
          "metadata": {},
          "execution_count": 4
        }
      ]
    },
    {
      "cell_type": "code",
      "source": [
        "# Ініціація ваг w і зсуву b\n",
        "w = torch.randn(3, 1)  # Ваги для кожної ознаки (3 ознаки -> розмір 3x1)\n",
        "b = torch.randn(1)     # Зсув (скаляр)\n",
        "\n",
        "# Виведення ініційованих ваг і зсуву\n",
        "print(\"Weights (w):\")\n",
        "print(w)\n",
        "\n",
        "print(\"\\nBias (b):\")\n",
        "print(b)"
      ],
      "metadata": {
        "id": "eApcB7eb6h9o",
        "colab": {
          "base_uri": "https://localhost:8080/"
        },
        "outputId": "910782bb-31c0-4a91-a236-2d0bc3176952"
      },
      "execution_count": 5,
      "outputs": [
        {
          "output_type": "stream",
          "name": "stdout",
          "text": [
            "Weights (w):\n",
            "tensor([[0.6614],\n",
            "        [0.2669],\n",
            "        [0.0617]])\n",
            "\n",
            "Bias (b):\n",
            "tensor([0.6213])\n"
          ]
        }
      ]
    },
    {
      "cell_type": "markdown",
      "source": [
        "3. Напишіть функцію `model`, яка буде обчислювати функцію гіпотези в логістичній регресії і дозволяти робити передбачення на основі введеного рядка даних і коефіцієнтів в змінних `w`, `b`.\n",
        "\n",
        "  **Важливий момент**, що функція `model` робить обчислення на `torch.tensors`, тож для математичних обчислень використовуємо фукнціонал `torch`, наприклад:\n",
        "  - обчсилення $e^x$: `torch.exp(x)`\n",
        "  - обчсилення $log(x)$: `torch.log(x)`\n",
        "  - обчислення середнього значення вектору `x`: `torch.mean(x)`\n",
        "\n",
        "  Використайте функцію `model` для обчислення передбачень з поточними значеннями `w`, `b`.Виведіть результат обчислень на екран.\n",
        "\n",
        "  Проаналізуйте передбачення. Чи не викликають вони у вас підозр? І якщо викликають, то чим це може бути зумовлено?"
      ],
      "metadata": {
        "id": "nYGxNGTaf5s6"
      }
    },
    {
      "cell_type": "code",
      "source": [
        "import torch\n",
        "\n",
        "# Функція сигмоїди для логістичної регресії\n",
        "def sigmoid(x):\n",
        "    return 1 / (1 + torch.exp(-x))\n",
        "\n",
        "# Функція моделі логістичної регресії\n",
        "def model(x, w, b):\n",
        "    # Лінійна комбінація ваг і вхідних даних плюс зсув\n",
        "    z = torch.matmul(x, w) + b\n",
        "    # Обчислення ймовірності за допомогою сигмоїди\n",
        "    return sigmoid(z)\n",
        "\n",
        "# Фіксація random_seed\n",
        "torch.random.manual_seed(1)\n",
        "\n",
        "# Вхідні дані (temp, rainfall, humidity)\n",
        "inputs = np.array([[73, 67, 43],\n",
        "                   [91, 88, 64],\n",
        "                   [87, 134, 58],\n",
        "                   [102, 43, 37],\n",
        "                   [69, 96, 70]], dtype='float32')\n",
        "\n",
        "# Перетворення на тензор\n",
        "inputs_tensor = torch.from_numpy(inputs)\n",
        "\n",
        "# Ініціація ваг w і зсуву b\n",
        "w = torch.randn(3, 1)  # Ваги для кожної ознаки (3 ознаки -> розмір 3x1)\n",
        "b = torch.randn(1)     # Зсув (скаляр)\n",
        "\n",
        "# Використання функції model для обчислення передбачень\n",
        "predictions = model(inputs_tensor, w, b)\n",
        "\n",
        "# Виведення результатів передбачення\n",
        "print(\"Predictions:\")\n",
        "print(predictions)"
      ],
      "metadata": {
        "id": "pSz2j4Fh6jBv",
        "colab": {
          "base_uri": "https://localhost:8080/"
        },
        "outputId": "bbced8a2-d731-4bc8-c83f-07852eeccd68"
      },
      "execution_count": 6,
      "outputs": [
        {
          "output_type": "stream",
          "name": "stdout",
          "text": [
            "Predictions:\n",
            "tensor([[1.],\n",
            "        [1.],\n",
            "        [1.],\n",
            "        [1.],\n",
            "        [1.]])\n"
          ]
        }
      ]
    },
    {
      "cell_type": "markdown",
      "source": [
        "Передбачення, де всі результати дорівнюють 1, викликають підозри, адже логістична регресія повинна повертати ймовірності, що коливаються в діапазоні від 0 до 1. Якщо всі значення рівні 1, це свідчить про те, що модель завжди впевнена, що кожен приклад належить до позитивного класу.\n",
        "\n",
        "Можливі причини такого результату:\n",
        "1) Значні ваги або дуже великі вхідні значення. Якщо ваги w або вхідні значення мають занадто великі значення, тоді лінійна комбінація z = torch.matmul(x, w) + b стає занадто великою, що робить значення сигмоїдної функції близькими до 1 (так як sigmoid(z) прямує до 1 при великих значеннях z).\n",
        "\n",
        "2) Випадкове ініціювання ваг. Оскільки ваги ініційовані випадковими значеннями, вони можуть бути надто великими або надто малими. Це впливає на результат передбачень, які на початку можуть бути некоректними, тому потрібно тренувати модель для коректного налаштування ваг."
      ],
      "metadata": {
        "id": "Q4Kj_aK1-A1J"
      }
    },
    {
      "cell_type": "markdown",
      "source": [
        "4. Напишіть функцію `binary_cross_entropy`, яка приймає на вхід передбачення моделі `predicted_probs` та справжні мітки в даних `true_labels` і обчислює значення втрат (loss)  за формулою бінарної крос-ентропії для кожного екземпляра та вертає середні втрати по всьому набору даних.\n",
        "  Використайте функцію `binary_cross_entropy` для обчислення втрат для поточних передбачень моделі."
      ],
      "metadata": {
        "id": "O2AGM0Mb2yHa"
      }
    },
    {
      "cell_type": "code",
      "source": [
        "# Функція для обчислення бінарної крос-ентропії\n",
        "def binary_cross_entropy(predicted_probs, true_labels):\n",
        "    # Додаємо epsilon до аргументів log для уникнення log(0)\n",
        "    epsilon = 1e-8\n",
        "    predicted_probs = torch.clamp(predicted_probs, epsilon, 1 - epsilon)\n",
        "\n",
        "    # Обчислення бінарної крос-ентропії для кожного екземпляра\n",
        "    loss = - (true_labels * torch.log(predicted_probs) + (1 - true_labels) * torch.log(1 - predicted_probs))\n",
        "\n",
        "    # Повертаємо середнє значення втрат по всьому набору даних\n",
        "    return torch.mean(loss)\n",
        "\n",
        "# Фіксація random_seed\n",
        "torch.random.manual_seed(1)\n",
        "\n",
        "# Вхідні дані (temp, rainfall, humidity)\n",
        "inputs = np.array([[73, 67, 43],\n",
        "                   [91, 88, 64],\n",
        "                   [87, 134, 58],\n",
        "                   [102, 43, 37],\n",
        "                   [69, 96, 70]], dtype='float32')\n",
        "\n",
        "# Таргети (apples > 80)\n",
        "targets = np.array([[0],\n",
        "                    [1],\n",
        "                    [1],\n",
        "                    [0],\n",
        "                    [1]], dtype='float32')\n",
        "\n",
        "# Перетворення на тензор\n",
        "inputs_tensor = torch.from_numpy(inputs)\n",
        "targets_tensor = torch.from_numpy(targets)\n",
        "\n",
        "# Ініціація ваг w і зсуву b\n",
        "w = torch.randn(3, 1)  # Ваги для кожної ознаки (3 ознаки -> розмір 3x1)\n",
        "b = torch.randn(1)     # Зсув (скаляр)\n",
        "\n",
        "# Функція моделі\n",
        "def sigmoid(x):\n",
        "    return 1 / (1 + torch.exp(-x))\n",
        "\n",
        "def model(x, w, b):\n",
        "    z = torch.matmul(x, w) + b\n",
        "    return sigmoid(z)\n",
        "\n",
        "# Обчислення передбачень\n",
        "predictions = model(inputs_tensor, w, b)\n",
        "\n",
        "# Обчислення втрат за допомогою функції binary_cross_entropy\n",
        "loss = binary_cross_entropy(predictions, targets_tensor)\n",
        "\n",
        "# Виведення втрат\n",
        "print(\"Binary Cross-Entropy Loss:\")\n",
        "print(loss)"
      ],
      "metadata": {
        "id": "1bWlovvx6kZS",
        "colab": {
          "base_uri": "https://localhost:8080/"
        },
        "outputId": "a5cb8bee-fa30-4ba5-9685-41fc863df95d"
      },
      "execution_count": 7,
      "outputs": [
        {
          "output_type": "stream",
          "name": "stdout",
          "text": [
            "Binary Cross-Entropy Loss:\n",
            "tensor(nan)\n"
          ]
        }
      ]
    },
    {
      "cell_type": "code",
      "source": [
        "# Функція для обчислення бінарної крос-ентропії\n",
        "def binary_cross_entropy(predicted_probs, true_labels):\n",
        "    # Додаємо epsilon до аргументів log для уникнення log(0)\n",
        "    epsilon = 1e-6  # Збільшуємо epsilon для більшої стабільності\n",
        "    predicted_probs = torch.clamp(predicted_probs, epsilon, 1 - epsilon)\n",
        "\n",
        "    # Обчислення бінарної крос-ентропії для кожного екземпляра\n",
        "    loss = - (true_labels * torch.log(predicted_probs) + (1 - true_labels) * torch.log(1 - predicted_probs))\n",
        "\n",
        "    # Повертаємо середнє значення втрат по всьому набору даних\n",
        "    return torch.mean(loss)\n",
        "\n",
        "# Фіксація random_seed\n",
        "torch.random.manual_seed(1)\n",
        "\n",
        "# Вхідні дані (temp, rainfall, humidity)\n",
        "inputs = np.array([[73, 67, 43],\n",
        "                   [91, 88, 64],\n",
        "                   [87, 134, 58],\n",
        "                   [102, 43, 37],\n",
        "                   [69, 96, 70]], dtype='float32')\n",
        "\n",
        "# Таргети (apples > 80)\n",
        "targets = np.array([[0],\n",
        "                    [1],\n",
        "                    [1],\n",
        "                    [0],\n",
        "                    [1]], dtype='float32')\n",
        "\n",
        "# Перетворення на тензор\n",
        "inputs_tensor = torch.from_numpy(inputs)\n",
        "targets_tensor = torch.from_numpy(targets)\n",
        "\n",
        "# Ініціація ваг w і зсуву b\n",
        "w = torch.randn(3, 1)  # Ваги для кожної ознаки (3 ознаки -> розмір 3x1)\n",
        "b = torch.randn(1)     # Зсув (скаляр)\n",
        "\n",
        "# Функція моделі\n",
        "def sigmoid(x):\n",
        "    return 1 / (1 + torch.exp(-x))\n",
        "\n",
        "def model(x, w, b):\n",
        "    z = torch.matmul(x, w) + b\n",
        "    return sigmoid(z)\n",
        "\n",
        "# Обчислення передбачень\n",
        "predictions = model(inputs_tensor, w, b)\n",
        "\n",
        "# Обчислення втрат за допомогою функції binary_cross_entropy\n",
        "loss = binary_cross_entropy(predictions, targets_tensor)\n",
        "\n",
        "# Виведення втрат\n",
        "print(\"Binary Cross-Entropy Loss:\")\n",
        "print(loss)"
      ],
      "metadata": {
        "colab": {
          "base_uri": "https://localhost:8080/"
        },
        "id": "K6rA1rAG-rYc",
        "outputId": "9ecaeb92-775f-40ed-a3a3-c5f9112bd3c7"
      },
      "execution_count": 8,
      "outputs": [
        {
          "output_type": "stream",
          "name": "stdout",
          "text": [
            "Binary Cross-Entropy Loss:\n",
            "tensor(5.5209)\n"
          ]
        }
      ]
    },
    {
      "cell_type": "markdown",
      "source": [
        "5. Зробіть зворотнє поширення помилки і виведіть градієнти за параметрами `w`, `b`. Проаналізуйте їх значення. Як гадаєте, чому вони саме такі?"
      ],
      "metadata": {
        "id": "ZFKpQxdHi1__"
      }
    },
    {
      "cell_type": "code",
      "source": [
        "import torch\n",
        "\n",
        "# Функція для обчислення бінарної крос-ентропії\n",
        "def binary_cross_entropy(predicted_probs, true_labels):\n",
        "    epsilon = 1e-6  # Щоб уникнути log(0)\n",
        "    predicted_probs = torch.clamp(predicted_probs, epsilon, 1 - epsilon)\n",
        "    loss = - (true_labels * torch.log(predicted_probs) + (1 - true_labels) * torch.log(1 - predicted_probs))\n",
        "    return torch.mean(loss)\n",
        "\n",
        "# Фіксація random_seed\n",
        "torch.random.manual_seed(1)\n",
        "\n",
        "# Вхідні дані (temp, rainfall, humidity)\n",
        "inputs = np.array([[73, 67, 43],\n",
        "                   [91, 88, 64],\n",
        "                   [87, 134, 58],\n",
        "                   [102, 43, 37],\n",
        "                   [69, 96, 70]], dtype='float32')\n",
        "\n",
        "# Таргети (apples > 80)\n",
        "targets = np.array([[0],\n",
        "                    [1],\n",
        "                    [1],\n",
        "                    [0],\n",
        "                    [1]], dtype='float32')\n",
        "\n",
        "# Перетворення на тензор\n",
        "inputs_tensor = torch.from_numpy(inputs)\n",
        "targets_tensor = torch.from_numpy(targets)\n",
        "\n",
        "# Ініціація ваг w і зсуву b з requires_grad=True для автоматичного обчислення градієнтів\n",
        "w = torch.randn(3, 1, requires_grad=True)  # Ваги для кожної ознаки (3 ознаки -> розмір 3x1)\n",
        "b = torch.randn(1, requires_grad=True)     # Зсув (скаляр)\n",
        "\n",
        "# Функція моделі\n",
        "def sigmoid(x):\n",
        "    return 1 / (1 + torch.exp(-x))\n",
        "\n",
        "def model(x, w, b):\n",
        "    z = torch.matmul(x, w) + b\n",
        "    return sigmoid(z)\n",
        "\n",
        "# Обчислення передбачень\n",
        "predictions = model(inputs_tensor, w, b)\n",
        "\n",
        "# Обчислення втрат за допомогою функції binary_cross_entropy\n",
        "loss = binary_cross_entropy(predictions, targets_tensor)\n",
        "\n",
        "# Зворотнє поширення помилки для обчислення градієнтів\n",
        "loss.backward()\n",
        "\n",
        "# Виведення градієнтів для w і b\n",
        "print(\"Gradients for weights (w):\")\n",
        "print(w.grad)\n",
        "\n",
        "print(\"\\nGradient for bias (b):\")\n",
        "print(b.grad)\n"
      ],
      "metadata": {
        "id": "YAbXUNSJ6mCl",
        "colab": {
          "base_uri": "https://localhost:8080/"
        },
        "outputId": "e7bd74cf-ce5f-4493-8469-bbfa15594ae1"
      },
      "execution_count": 10,
      "outputs": [
        {
          "output_type": "stream",
          "name": "stdout",
          "text": [
            "Gradients for weights (w):\n",
            "tensor([[0.],\n",
            "        [0.],\n",
            "        [0.]])\n",
            "\n",
            "Gradient for bias (b):\n",
            "tensor([0.])\n"
          ]
        }
      ]
    },
    {
      "cell_type": "markdown",
      "source": [
        "Градієнти для ваг та зсуву рівні нулю, означають, що під час зворотного поширення помилки не було внесено жодних змін до параметрів. Це проблема, і вона може бути викликана кількома причинами:\n",
        "\n",
        "1) Передбачення занадто близькі до 0 або 1. Якщо всі передбачення моделі надто близькі до 1 (як це було раніше, коли всі значення передбачень були рівні 1), то похідна логістичної функції (сигмоїди) стає дуже малою або навіть рівною нулю. Це викликає проблему з обчисленням градієнтів, оскільки градієнти функції втрат по цих параметрах будуть близькі до нуля або рівні нулю.\n",
        "\n",
        "2) Неправильне обчислення втрат або передбачень. Якщо модель робить дуже погані передбачення або функція втрат обчислена неправильно, це також може призвести до того, що градієнти будуть рівні нулю."
      ],
      "metadata": {
        "id": "_El7F0xh_ICc"
      }
    },
    {
      "cell_type": "markdown",
      "source": [
        "**Що сталось?**\n",
        "\n",
        "В цій задачі, коли ми ініціювали значення випадковими значеннями з нормального розподілу, насправді ці значення не були дуже гарними стартовими значеннями і привели до того, що градієнти стали дуже малими або навіть рівними нулю (це призводить до того, що градієнти \"зникають\"), і відповідно при оновленні ваг у нас не буде нічого змінюватись. Це називається `gradient vanishing`. Це відбувається через **насичення сигмоїдної функції активації.**\n",
        "\n",
        "У нашій задачі ми використовуємо сигмоїдну функцію активації, яка має такий вигляд:\n",
        "\n",
        "   $$\n",
        "   \\sigma(z) = \\frac{1}{1 + e^{-z}}\n",
        "   $$\n",
        "\n",
        "\n",
        "Коли значення $z$ дуже велике або дуже мале, сигмоїдна функція починає \"насичуватись\". Це означає, що для великих позитивних $z$ сигмоїда наближається до 1, а для великих негативних — до 0. В цих діапазонах градієнти починають стрімко зменшуватись і наближаються до нуля (бо градієнт - це похідна, похідна на проміжку функції, де вона паралельна осі ОХ, дорівнює 0), що робить оновлення ваг неможливим.\n",
        "\n",
        "![](https://editor.analyticsvidhya.com/uploads/27889vaegp.png)\n",
        "\n",
        "У логістичній регресії $ z = x \\cdot w + b $. Якщо ваги $w, b$ - великі, значення $z$ також буде великим, і сигмоїда перейде в насичену область, де градієнти дуже малі.\n",
        "\n",
        "Саме це сталося в нашій задачі, де великі випадкові значення ваг викликали насичення сигмоїдної функції. Це в свою чергу призводить до того, що під час зворотного поширення помилки (backpropagation) модель оновлює ваги дуже повільно або зовсім не оновлює. Це називається проблемою **зникнення градієнтів** (gradient vanishing problem).\n",
        "\n",
        "**Що ж робити?**\n",
        "Ініціювати ваги маленькими значеннями навколо нуля. Наприклад ми можемо просто в існуючій ініціалізації ваги розділити на 1000. Можна також використати інший спосіб ініціалізації вагів - інформація про це [тут](https://www.geeksforgeeks.org/initialize-weights-in-pytorch/).\n",
        "\n",
        "Як це робити - показую нижче. **Виконайте код та знову обчисліть передбачення, лосс і виведіть градієнти.**\n",
        "\n",
        "А я пишу пояснення, чому просто не зробити\n",
        "\n",
        "```\n",
        "w = torch.randn(1, 3, requires_grad=True)/1000\n",
        "b = torch.randn(1, requires_grad=True)/1000\n",
        "```\n",
        "\n",
        "Нам потрібно, аби тензори вагів були листовими (leaf tensors).\n",
        "\n",
        "1. **Що таке листовий тензор**\n",
        "Листовий тензор — це тензор, який був створений користувачем безпосередньо і з якого починається обчислювальний граф. Якщо такий тензор має `requires_grad=True`, PyTorch буде відслідковувати всі операції, виконані над ним, щоб правильно обчислювати градієнти під час навчання.\n",
        "\n",
        "2. **Чому ми використовуємо `w.data` замість звичайних операцій**\n",
        "Якщо ми просто виконали б операції, такі як `(w - 0.5) / 100`, ми б отримали **новий тензор**, який вже не був би листовим тензором, оскільки ці операції створюють **новий** тензор, а не модифікують існуючий.\n",
        "\n",
        "  Проте, щоб залишити наші тензори ваги `w` та зміщення `b` листовими і продовжити можливість відстеження градієнтів під час тренування, ми використовуємо атрибут `.data`. Цей атрибут дозволяє **виконувати операції in-place (прямо на існуючому тензорі)** без зміни самого об'єкта тензора. Отже, тензор залишається листовим, і PyTorch може коректно обчислювати його градієнти.\n",
        "\n",
        "3. **Чому важливо залишити тензор листовим**\n",
        "Якщо тензор більше не є листовим (наприклад, через проведення операцій, що створюють нові тензори), ви не зможете отримати градієнти за допомогою `w.grad` чи `b.grad` після виклику `loss.backward()`. Це може призвести до втрати можливості оновлення параметрів під час тренування моделі. В нашому випадку ми хочемо, щоб тензори `w` та `b` накопичували градієнти, тому вони повинні залишатись листовими.\n",
        "\n",
        "**Висновок:**\n",
        "Ми використовуємо `.data`, щоб виконати операції зміни значень на ваги і зміщення **in-place**, залишаючи їх листовими тензорами, які можуть накопичувати градієнти під час навчання. Це дозволяє коректно працювати механізму зворотного поширення помилки (backpropagation) і оновлювати ваги моделі."
      ],
      "metadata": {
        "id": "nDN1t1RujQsK"
      }
    },
    {
      "cell_type": "markdown",
      "source": [
        "5. Виконайте код та знову обчисліть передбачення, лосс і знайдіть градієнти та виведіть всі ці тензори на екран."
      ],
      "metadata": {
        "id": "rOPSQyttpVjO"
      }
    },
    {
      "cell_type": "code",
      "source": [
        "torch.random.manual_seed(1)\n",
        "w = torch.randn(1, 3, requires_grad=True)  # Листовий тензор\n",
        "b = torch.randn(1, requires_grad=True)     # Листовий тензор\n",
        "\n",
        "# in-place операції\n",
        "w.data = w.data / 1000\n",
        "b.data = b.data / 1000"
      ],
      "metadata": {
        "id": "-EBOJ3tsnRaD"
      },
      "execution_count": 11,
      "outputs": []
    },
    {
      "cell_type": "code",
      "source": [
        "def model(x, w, b):\n",
        "    z = torch.matmul(x, w.T) + b  # Транспонуємо w\n",
        "    return sigmoid(z)\n"
      ],
      "metadata": {
        "id": "-JwXiSpX6orh"
      },
      "execution_count": 13,
      "outputs": []
    },
    {
      "cell_type": "code",
      "source": [
        "# Обчислення передбачень\n",
        "predictions = model(inputs_tensor, w, b)\n",
        "\n",
        "# Обчислення втрат\n",
        "loss = binary_cross_entropy(predictions, targets_tensor)\n",
        "\n",
        "# Зворотнє поширення помилки для обчислення градієнтів\n",
        "loss.backward()\n",
        "\n",
        "# Виведення передбачень, втрат і градієнтів\n",
        "print(\"Predictions:\")\n",
        "print(predictions)\n",
        "\n",
        "print(\"\\nLoss:\")\n",
        "print(loss)\n",
        "\n",
        "print(\"\\nGradients for weights (w):\")\n",
        "print(w.grad)\n",
        "\n",
        "print(\"\\nGradient for bias (b):\")\n",
        "print(b.grad)\n"
      ],
      "metadata": {
        "colab": {
          "base_uri": "https://localhost:8080/"
        },
        "id": "bllY4z2ABYU-",
        "outputId": "fa1f7171-c195-4685-92fe-dfc40d123300"
      },
      "execution_count": 14,
      "outputs": [
        {
          "output_type": "stream",
          "name": "stdout",
          "text": [
            "Predictions:\n",
            "tensor([[0.5174],\n",
            "        [0.5220],\n",
            "        [0.5244],\n",
            "        [0.5204],\n",
            "        [0.5190]], grad_fn=<MulBackward0>)\n",
            "\n",
            "Loss:\n",
            "tensor(0.6829, grad_fn=<MeanBackward0>)\n",
            "\n",
            "Gradients for weights (w):\n",
            "tensor([[ -5.4417, -18.9853, -10.0682]])\n",
            "\n",
            "Gradient for bias (b):\n",
            "tensor([-0.0794])\n"
          ]
        }
      ]
    },
    {
      "cell_type": "markdown",
      "source": [
        "6. Напишіть алгоритм градієнтного спуску, який буде навчати модель з використанням написаних раніше функцій і виконуючи оновлення ваг. Алгоритм має включати наступні кроки:\n",
        "\n",
        "  1. Генерація прогнозів\n",
        "  2. Обчислення втрат\n",
        "  3. Обчислення градієнтів (gradients) loss-фукнції відносно ваг і зсувів\n",
        "  4. Налаштування ваг шляхом віднімання невеликої величини, пропорційної градієнту (`learning_rate` домножений на градієнт)\n",
        "  5. Скидання градієнтів на нуль\n",
        "\n",
        "Виконайте градієнтний спуск протягом 1000 епох, обчисліть фінальні передбачення і проаналізуйте, чи вони точні?"
      ],
      "metadata": {
        "id": "RCdi44IT334o"
      }
    },
    {
      "cell_type": "code",
      "source": [
        "# Налаштування параметрів\n",
        "learning_rate = 0.01\n",
        "num_epochs = 1000\n",
        "\n",
        "# Головний цикл навчання\n",
        "for epoch in range(num_epochs):\n",
        "    # Генерація прогнозів\n",
        "    predictions = model(inputs_tensor, w, b)\n",
        "\n",
        "    # Обчислення втрат\n",
        "    loss = binary_cross_entropy(predictions, targets_tensor)\n",
        "\n",
        "    # Обчислення градієнтів\n",
        "    loss.backward()\n",
        "\n",
        "    # Оновлення ваг і зсуву\n",
        "    with torch.no_grad():  # Вимкнення обчислення градієнтів\n",
        "        w -= learning_rate * w.grad\n",
        "        b -= learning_rate * b.grad\n",
        "\n",
        "    # Скидання градієнтів на нуль\n",
        "    w.grad.zero_()\n",
        "    b.grad.zero_()\n",
        "\n",
        "# Обчислення фінальних прогнозів\n",
        "final_predictions = model(inputs_tensor, w, b)\n",
        "\n",
        "# Перетворення ймовірностей на класи (0 або 1)\n",
        "final_predictions_classes = (final_predictions > 0.5).float()\n",
        "\n",
        "# Виведення фінальних прогнозів і втрат\n",
        "print(\"Final Predictions:\")\n",
        "print(final_predictions_classes)\n",
        "\n",
        "print(\"\\nFinal Loss:\")\n",
        "print(loss)\n",
        "\n",
        "# Аналіз точності\n",
        "accuracy = (final_predictions_classes.eq(targets_tensor).sum().item()) / targets_tensor.size(0)\n",
        "print(\"\\nAccuracy:\")\n",
        "print(accuracy)\n"
      ],
      "metadata": {
        "id": "mObHPyE06qsO",
        "colab": {
          "base_uri": "https://localhost:8080/"
        },
        "outputId": "26d258c3-91d9-4d94-eb8d-e479a74e013b"
      },
      "execution_count": 15,
      "outputs": [
        {
          "output_type": "stream",
          "name": "stdout",
          "text": [
            "Final Predictions:\n",
            "tensor([[1.],\n",
            "        [1.],\n",
            "        [1.],\n",
            "        [1.],\n",
            "        [1.]])\n",
            "\n",
            "Final Loss:\n",
            "tensor(5.5209, grad_fn=<MeanBackward0>)\n",
            "\n",
            "Accuracy:\n",
            "0.6\n"
          ]
        }
      ]
    },
    {
      "cell_type": "markdown",
      "source": [
        "Всі передбачення моделі — це 1, що вказує на те, що модель не може правильно розрізнити класи. Це може бути наслідком того, що модель не навчилася відрізняти ознаки класів через недостатнє навчання або невідповідну ініціалізацію ваг.\n",
        "\n",
        "Значення втрат досить високе, що свідчить про те, що модель не може адекватно моделювати дані. Ідеальне значення втрат має бути наближеним до 0.\n",
        "\n",
        "Точність 60% є невисокою, особливо для бінарної класифікації. Це означає, що модель правильно класифікує лише 3 з 5 прикладів, що вказує на те, що модель не є надійною."
      ],
      "metadata": {
        "id": "vpms5hwlBz-F"
      }
    },
    {
      "cell_type": "markdown",
      "source": [
        "**Секція 2. Створення лог регресії з використанням функціоналу `torch.nn`.**\n",
        "\n",
        "Давайте повторно реалізуємо ту ж модель, використовуючи деякі вбудовані функції та класи з PyTorch.\n",
        "\n",
        "Даних у нас буде побільше - тож, визначаємо нові масиви."
      ],
      "metadata": {
        "id": "fuRhlyF9qAia"
      }
    },
    {
      "cell_type": "code",
      "source": [
        "# Вхідні дані (temp, rainfall, humidity)\n",
        "inputs = np.array([[73, 67, 43],\n",
        "                   [91, 88, 64],\n",
        "                   [87, 134, 58],\n",
        "                   [102, 43, 37],\n",
        "                   [69, 96, 70],\n",
        "                   [73, 67, 43],\n",
        "                   [91, 88, 64],\n",
        "                   [87, 134, 58],\n",
        "                   [102, 43, 37],\n",
        "                   [69, 96, 70],\n",
        "                   [73, 67, 43],\n",
        "                   [91, 88, 64],\n",
        "                   [87, 134, 58],\n",
        "                   [102, 43, 37],\n",
        "                   [69, 96, 70]], dtype='float32')\n",
        "\n",
        "# Таргети (apples > 80)\n",
        "targets = np.array([[0],\n",
        "                    [1],\n",
        "                    [1],\n",
        "                    [0],\n",
        "                    [1],\n",
        "                    [0],\n",
        "                    [1],\n",
        "                    [1],\n",
        "                    [0],\n",
        "                    [1],\n",
        "                    [0],\n",
        "                    [1],\n",
        "                    [1],\n",
        "                    [0],\n",
        "                    [1]], dtype='float32')"
      ],
      "metadata": {
        "id": "IX8Bhm74rV4M"
      },
      "execution_count": 16,
      "outputs": []
    },
    {
      "cell_type": "markdown",
      "source": [
        "7. Завантажте вхідні дані та мітки в PyTorch тензори та з них створіть датасет, який поєднує вхідні дані з мітками, використовуючи клас `TensorDataset`. Виведіть перші 3 елементи в датасеті.\n",
        "\n"
      ],
      "metadata": {
        "id": "7X2dV30KtAPu"
      }
    },
    {
      "cell_type": "code",
      "source": [
        "from torch.utils.data import TensorDataset\n",
        "\n",
        "# Перетворення на тензори\n",
        "inputs_tensor = torch.from_numpy(inputs)\n",
        "targets_tensor = torch.from_numpy(targets)\n",
        "\n",
        "# Створення датасету\n",
        "dataset = TensorDataset(inputs_tensor, targets_tensor)\n",
        "\n",
        "# Виведення перших 3 елементів датасету\n",
        "for i in range(3):\n",
        "    print(f'Element {i+1}: {dataset[i]}')"
      ],
      "metadata": {
        "id": "chrvMfBs6vjo",
        "colab": {
          "base_uri": "https://localhost:8080/"
        },
        "outputId": "3226b402-429f-47b1-9516-1d6cb4400031"
      },
      "execution_count": 18,
      "outputs": [
        {
          "output_type": "stream",
          "name": "stdout",
          "text": [
            "Element 1: (tensor([73., 67., 43.]), tensor([0.]))\n",
            "Element 2: (tensor([91., 88., 64.]), tensor([1.]))\n",
            "Element 3: (tensor([ 87., 134.,  58.]), tensor([1.]))\n"
          ]
        }
      ]
    },
    {
      "cell_type": "markdown",
      "source": [
        "8. Визначте data loader з класом **DataLoader** для підготовленого датасету `train_ds`, встановіть розмір батчу на 5 та увімкніть перемішування даних для ефективного навчання моделі. Виведіть перший елемент в дата лоадері."
      ],
      "metadata": {
        "id": "4nMFaa8suOd3"
      }
    },
    {
      "cell_type": "code",
      "source": [
        "import torch\n",
        "from torch.utils.data import DataLoader\n",
        "\n",
        "# Припускаємо, що train_ds - це наш раніше створений датасет\n",
        "# Створення DataLoader\n",
        "batch_size = 5\n",
        "train_loader = DataLoader(dataset, batch_size=batch_size, shuffle=True)\n",
        "\n",
        "# Виведення першого елемента з DataLoader\n",
        "for i, (inputs, targets) in enumerate(train_loader):\n",
        "    print(f'Batch {i + 1}:')\n",
        "    print('Inputs:', inputs)\n",
        "    print('Targets:', targets)\n",
        "    break  # Вийти після першого батчу"
      ],
      "metadata": {
        "id": "ZCsRo5Mx6wEI",
        "colab": {
          "base_uri": "https://localhost:8080/"
        },
        "outputId": "7cd66f5a-a39a-40f9-9587-e8dc0f016b83"
      },
      "execution_count": 19,
      "outputs": [
        {
          "output_type": "stream",
          "name": "stdout",
          "text": [
            "Batch 1:\n",
            "Inputs: tensor([[ 73.,  67.,  43.],\n",
            "        [ 91.,  88.,  64.],\n",
            "        [102.,  43.,  37.],\n",
            "        [ 69.,  96.,  70.],\n",
            "        [102.,  43.,  37.]])\n",
            "Targets: tensor([[0.],\n",
            "        [1.],\n",
            "        [0.],\n",
            "        [1.],\n",
            "        [0.]])\n"
          ]
        }
      ]
    },
    {
      "cell_type": "markdown",
      "source": [
        "9. Створіть клас `LogReg` для логістичної регресії, наслідуючи модуль `torch.nn.Module` за прикладом в лекції (в частині про FeedForward мережі).\n",
        "\n",
        "  У нас модель складається з лінійної комбінації вхідних значень і застосування фукнції сигмоїда. Тож, нейромережа буде складатись з лінійного шару `nn.Linear` і використання активації `nn.Sigmid`. У створеному класі мають бути реалізовані методи `__init__` з ініціалізацією шарів і метод `forward` для виконання прямого проходу моделі через лінійний шар і функцію активації.\n",
        "\n",
        "  Створіть екземпляр класу `LogReg` в змінній `model`."
      ],
      "metadata": {
        "id": "ymcQOo_hum6I"
      }
    },
    {
      "cell_type": "code",
      "source": [
        "import torch\n",
        "import torch.nn as nn\n",
        "\n",
        "# Визначення класу LogReg для логістичної регресії\n",
        "class LogReg(nn.Module):\n",
        "    def __init__(self):\n",
        "        super(LogReg, self).__init__()\n",
        "        # Лінійний шар з 3 входами і 1 виходом\n",
        "        self.linear = nn.Linear(3, 1)\n",
        "        # Функція активації сигмоїд\n",
        "        self.sigmoid = nn.Sigmoid()\n",
        "\n",
        "    def forward(self, x):\n",
        "        # Прямий прохід: лінійний шар + сигмоїд\n",
        "        return self.sigmoid(self.linear(x))\n",
        "\n",
        "# Створення екземпляра класу LogReg\n",
        "model = LogReg()\n",
        "\n",
        "# Виведення структури моделі\n",
        "print(model)\n"
      ],
      "metadata": {
        "id": "EyAwhTBW6xxz",
        "colab": {
          "base_uri": "https://localhost:8080/"
        },
        "outputId": "808068cd-9b2c-4c52-bddb-df5a92ea71ac"
      },
      "execution_count": 20,
      "outputs": [
        {
          "output_type": "stream",
          "name": "stdout",
          "text": [
            "LogReg(\n",
            "  (linear): Linear(in_features=3, out_features=1, bias=True)\n",
            "  (sigmoid): Sigmoid()\n",
            ")\n"
          ]
        }
      ]
    },
    {
      "cell_type": "markdown",
      "source": [
        "10. Задайте оптимізатор `Stockastic Gradient Descent` в змінній `opt` для навчання моделі логістичної регресії. А також визначіть в змінній `loss` функцію втрат `binary_cross_entropy` з модуля `torch.nn.functional` для обчислення втрат моделі. Обчисліть втрати для поточних передбачень і міток, а потім виведіть їх. Зробіть висновок, чи моделі вдалось навчитись?"
      ],
      "metadata": {
        "id": "RflV7xeVyoJy"
      }
    },
    {
      "cell_type": "code",
      "source": [
        "import torch\n",
        "import torch.optim as optim\n",
        "import torch.nn.functional as F\n",
        "\n",
        "# Припускаємо, що inputs_tensor та targets_tensor вже визначені\n",
        "# Створення екземпляра моделі\n",
        "model = LogReg()\n",
        "\n",
        "# Визначення оптимізатора\n",
        "learning_rate = 0.01\n",
        "opt = optim.SGD(model.parameters(), lr=learning_rate)\n",
        "\n",
        "# Обчислення передбачень\n",
        "predictions = model(inputs_tensor)\n",
        "\n",
        "# Обчислення втрат\n",
        "loss = F.binary_cross_entropy(predictions, targets_tensor)\n",
        "\n",
        "# Виведення втрат\n",
        "print('Loss:', loss.item())\n",
        "\n",
        "# Висновок про навчання моделі\n",
        "if loss.item() < 0.5:  # Припустимо, що втрати менше 0.5 свідчать про хорошу модель\n",
        "    print(\"Модель навилась добре.\")\n",
        "else:\n",
        "    print(\"Модель потребує покращення.\")\n"
      ],
      "metadata": {
        "id": "3QCATPU_6yfa",
        "colab": {
          "base_uri": "https://localhost:8080/"
        },
        "outputId": "dd99327d-ba47-4b93-b80d-9587ad481b08"
      },
      "execution_count": 21,
      "outputs": [
        {
          "output_type": "stream",
          "name": "stdout",
          "text": [
            "Loss: 40.0\n",
            "Модель потребує покращення.\n"
          ]
        }
      ]
    },
    {
      "cell_type": "markdown",
      "source": [
        "11. Візьміть з лекції функцію для тренування моделі з відстеженням значень втрат і навчіть щойно визначену модель на 1000 епохах. Виведіть після цього графік зміни loss, фінальні передбачення і значення таргетів."
      ],
      "metadata": {
        "id": "ch-WrYnKzMzq"
      }
    },
    {
      "cell_type": "code",
      "source": [
        "import numpy as np\n",
        "import torch\n",
        "import torch.nn as nn\n",
        "import torch.optim as optim\n",
        "import torch.nn.functional as F\n",
        "from torch.utils.data import DataLoader, TensorDataset\n",
        "import matplotlib.pyplot as plt\n",
        "\n",
        "# Вхідні дані (temp, rainfall, humidity)\n",
        "inputs = np.array([[73, 67, 43],\n",
        "                   [91, 88, 64],\n",
        "                   [87, 134, 58],\n",
        "                   [102, 43, 37],\n",
        "                   [69, 96, 70],\n",
        "                   [73, 67, 43],\n",
        "                   [91, 88, 64],\n",
        "                   [87, 134, 58],\n",
        "                   [102, 43, 37],\n",
        "                   [69, 96, 70],\n",
        "                   [73, 67, 43],\n",
        "                   [91, 88, 64],\n",
        "                   [87, 134, 58],\n",
        "                   [102, 43, 37],\n",
        "                   [69, 96, 70]], dtype='float32')\n",
        "\n",
        "# Таргети (apples > 80)\n",
        "targets = np.array([[0],\n",
        "                    [1],\n",
        "                    [1],\n",
        "                    [0],\n",
        "                    [1],\n",
        "                    [0],\n",
        "                    [1],\n",
        "                    [1],\n",
        "                    [0],\n",
        "                    [1],\n",
        "                    [0],\n",
        "                    [1],\n",
        "                    [1],\n",
        "                    [0],\n",
        "                    [1]], dtype='float32')\n",
        "\n",
        "# Перетворення в тензори PyTorch\n",
        "inputs_tensor = torch.tensor(inputs)\n",
        "targets_tensor = torch.tensor(targets)\n",
        "\n",
        "# Створення датасету\n",
        "train_ds = TensorDataset(inputs_tensor, targets_tensor)\n",
        "\n",
        "# Створення DataLoader\n",
        "train_dl = DataLoader(train_ds, batch_size=5, shuffle=True)\n",
        "\n",
        "# Визначення класу LogReg\n",
        "class LogReg(nn.Module):\n",
        "    def __init__(self):\n",
        "        super(LogReg, self).__init__()\n",
        "        self.linear = nn.Linear(3, 1)\n",
        "        self.sigmoid = nn.Sigmoid()\n",
        "\n",
        "    def forward(self, x):\n",
        "        return self.sigmoid(self.linear(x))\n",
        "\n",
        "# Створення екземпляра моделі\n",
        "model = LogReg()\n",
        "\n",
        "# Визначення оптимізатора\n",
        "learning_rate = 0.01\n",
        "opt = optim.SGD(model.parameters(), lr=learning_rate)\n",
        "\n",
        "# Модифікована функція fit для відстеження втрат\n",
        "def fit_return_loss(num_epochs, model, loss_fn, opt, train_dl):\n",
        "    losses = []\n",
        "    for epoch in range(num_epochs):\n",
        "        total_loss = 0\n",
        "\n",
        "        for xb, yb in train_dl:\n",
        "            # Генеруємо передбачення\n",
        "            pred = model(xb)\n",
        "\n",
        "            # Обчислюємо втрати\n",
        "            loss = loss_fn(pred, yb)\n",
        "\n",
        "            # Виконуємо градієнтний спуск\n",
        "            loss.backward()\n",
        "            opt.step()\n",
        "            opt.zero_grad()\n",
        "\n",
        "            # Накопичуємо втрати\n",
        "            total_loss += loss.item()\n",
        "\n",
        "        # Обчислюємо середні втрати для епохи\n",
        "        avg_loss = total_loss / len(train_dl)\n",
        "        losses.append(avg_loss)\n",
        "\n",
        "        # Виводимо підсумок епохи\n",
        "        if (epoch + 1) % 100 == 0:\n",
        "            print(f'Epoch [{epoch+1}/{num_epochs}], Loss: {avg_loss:.4f}')\n",
        "    return losses\n",
        "\n",
        "# Навчання моделі\n",
        "loss_fn = F.binary_cross_entropy\n",
        "losses = fit_return_loss(1000, model, loss_fn, opt, train_dl)\n",
        "\n",
        "# Візуалізація втрат\n",
        "plt.plot(losses)\n",
        "plt.xlabel('Epoch')\n",
        "plt.ylabel('Loss')\n",
        "plt.title('Training Loss over Epochs')\n",
        "plt.show()\n",
        "\n",
        "# Обчислення фінальних передбачень\n",
        "final_predictions = model(inputs_tensor).detach().numpy()\n",
        "\n",
        "# Виведення фінальних передбачень та таргетів\n",
        "print('Final Predictions:\\n', final_predictions)\n",
        "print('Targets:\\n', targets)\n"
      ],
      "metadata": {
        "colab": {
          "base_uri": "https://localhost:8080/",
          "height": 1000
        },
        "id": "rTWJbvNvD5vB",
        "outputId": "f5ebab04-1cd5-4cb5-81f2-0b6d9ec3473a"
      },
      "execution_count": 23,
      "outputs": [
        {
          "output_type": "stream",
          "name": "stdout",
          "text": [
            "Epoch [100/1000], Loss: 36.6641\n",
            "Epoch [200/1000], Loss: 36.6641\n",
            "Epoch [300/1000], Loss: 36.6641\n",
            "Epoch [400/1000], Loss: 36.6641\n",
            "Epoch [500/1000], Loss: 36.6641\n",
            "Epoch [600/1000], Loss: 36.6641\n",
            "Epoch [700/1000], Loss: 36.6641\n",
            "Epoch [800/1000], Loss: 36.6641\n",
            "Epoch [900/1000], Loss: 36.6641\n",
            "Epoch [1000/1000], Loss: 36.6641\n"
          ]
        },
        {
          "output_type": "display_data",
          "data": {
            "text/plain": [
              "<Figure size 640x480 with 1 Axes>"
            ],
            "image/png": "[encoded data removed]"
          },
          "metadata": {}
        },
        {
          "output_type": "stream",
          "name": "stdout",
          "text": [
            "Final Predictions:\n",
            " [[1.3237716e-19]\n",
            " [2.3892191e-25]\n",
            " [1.0909814e-31]\n",
            " [1.9977295e-18]\n",
            " [9.3086169e-25]\n",
            " [1.3237716e-19]\n",
            " [2.3892191e-25]\n",
            " [1.0909814e-31]\n",
            " [1.9977295e-18]\n",
            " [9.3086169e-25]\n",
            " [1.3237716e-19]\n",
            " [2.3892191e-25]\n",
            " [1.0909814e-31]\n",
            " [1.9977295e-18]\n",
            " [9.3086169e-25]]\n",
            "Targets:\n",
            " [[0.]\n",
            " [1.]\n",
            " [1.]\n",
            " [0.]\n",
            " [1.]\n",
            " [0.]\n",
            " [1.]\n",
            " [1.]\n",
            " [0.]\n",
            " [1.]\n",
            " [0.]\n",
            " [1.]\n",
            " [1.]\n",
            " [0.]\n",
            " [1.]]\n"
          ]
        }
      ]
    }
  ]
}